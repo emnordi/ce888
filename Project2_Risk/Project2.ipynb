{
  "nbformat": 4,
  "nbformat_minor": 0,
  "metadata": {
    "colab": {
      "name": "Copy of Project2.ipynb",
      "provenance": [],
      "collapsed_sections": [],
      "authorship_tag": "ABX9TyObC6LaEPSRaHFgNb/stwsz",
      "include_colab_link": true
    },
    "kernelspec": {
      "name": "python3",
      "display_name": "Python 3"
    }
  },
  "cells": [
    {
      "cell_type": "markdown",
      "metadata": {
        "id": "view-in-github",
        "colab_type": "text"
      },
      "source": [
        "<a href=\"https://colab.research.google.com/github/emnordi/ce888/blob/master/Project2_Risk/Project2.ipynb\" target=\"_parent\"><img src=\"https://colab.research.google.com/assets/colab-badge.svg\" alt=\"Open In Colab\"/></a>"
      ]
    },
    {
      "cell_type": "code",
      "metadata": {
        "id": "BpVmhVOwDruJ",
        "colab_type": "code",
        "colab": {}
      },
      "source": [
        "import pandas as pd\n",
        "import os\n",
        "import io\n",
        "import numpy as np\n",
        "from sklearn.model_selection import StratifiedKFold\n",
        "from sklearn import tree\n",
        "from sklearn.ensemble import RandomForestClassifier\n",
        "from sklearn.model_selection import cross_val_score\n",
        "\n",
        "os.environ['KAGGLE_USERNAME'] = \"emilnordin\" # username from the json file\n",
        "\n",
        "os.environ['KAGGLE_KEY'] = \"fd1ae7405c909d36a1ecffea5cd2749a\" # key from the json file"
      ],
      "execution_count": 0,
      "outputs": []
    },
    {
      "cell_type": "markdown",
      "metadata": {
        "id": "4cTRsaNTmyGq",
        "colab_type": "text"
      },
      "source": [
        "DOWNLOADING AND IMPORTING DATASETS"
      ]
    },
    {
      "cell_type": "code",
      "metadata": {
        "id": "FdNjI4voWCI0",
        "colab_type": "code",
        "colab": {}
      },
      "source": [
        "!kaggle datasets download -d emoneyanalytics/unbalancedrisk"
      ],
      "execution_count": 0,
      "outputs": []
    },
    {
      "cell_type": "code",
      "metadata": {
        "id": "caP8rhXtJzoO",
        "colab_type": "code",
        "colab": {}
      },
      "source": [
        "data_risk = pd.read_csv('unbalancedrisk.zip', compression='zip', header=0, sep=',', quotechar='\"', encoding = \"utf-8\")"
      ],
      "execution_count": 0,
      "outputs": []
    },
    {
      "cell_type": "markdown",
      "metadata": {
        "id": "MBIshC7TnAB7",
        "colab_type": "text"
      },
      "source": [
        "PRINTING DATASETS"
      ]
    },
    {
      "cell_type": "code",
      "metadata": {
        "id": "lemEmSueVAZq",
        "colab_type": "code",
        "colab": {}
      },
      "source": [
        "print(data_risk)"
      ],
      "execution_count": 0,
      "outputs": []
    },
    {
      "cell_type": "markdown",
      "metadata": {
        "id": "5e2pRZQYv665",
        "colab_type": "text"
      },
      "source": [
        "DISPLAY AMOUNT OF ROWS EACH CLASS HAS, AND IMBALANCE OF DATASETS"
      ]
    },
    {
      "cell_type": "code",
      "metadata": {
        "id": "1P3E33JcWflE",
        "colab_type": "code",
        "colab": {}
      },
      "source": [
        "print(data_risk['obj1'].value_counts())\n",
        "print(\"Imbalance:\", data_risk['obj1'].value_counts()[0]/sum(data_risk.obj1.value_counts()))"
      ],
      "execution_count": 0,
      "outputs": []
    },
    {
      "cell_type": "markdown",
      "metadata": {
        "id": "tI0BQSh10bA4",
        "colab_type": "text"
      },
      "source": [
        "BASE RESULTS"
      ]
    },
    {
      "cell_type": "code",
      "metadata": {
        "id": "sd4A-Z4N0kQO",
        "colab_type": "code",
        "colab": {}
      },
      "source": [
        "tree_clf = tree.DecisionTreeClassifier(random_state=0)\n",
        "rf_clf = RandomForestClassifier(max_depth=2, random_state=0)"
      ],
      "execution_count": 0,
      "outputs": []
    },
    {
      "cell_type": "code",
      "metadata": {
        "id": "RFkpdu_r3mqP",
        "colab_type": "code",
        "colab": {}
      },
      "source": [
        "def evaluatePerformance(clf, features, labels):\n",
        "  a = cross_val_score(tree_clf, features, labels, cv=10, scoring='accuracy')\n",
        "  p = cross_val_score(tree_clf, features, labels, cv=10, scoring='precision')\n",
        "  r = cross_val_score(tree_clf, features, labels, cv=10, scoring='recall')\n",
        "  f = cross_val_score(tree_clf, features, labels, cv=10, scoring='f1')\n",
        "\n",
        "  print(\"Accuracy:\", a.mean(), \"+/-\", a.std())\n",
        "  print(\"Precision:\", p.mean(), \"+/-\", p.std())\n",
        "  print(\"Recall:\", r.mean(), \"+/-\", r.std())\n",
        "  print(\"F1-Score:\", f.mean(), \"+/-\", f.std())"
      ],
      "execution_count": 0,
      "outputs": []
    },
    {
      "cell_type": "code",
      "metadata": {
        "id": "FUlPK7xVjSEb",
        "colab_type": "code",
        "colab": {}
      },
      "source": [
        "#Risk dataset base scores DT\n",
        "feat_risk = data_risk.drop('obj1', axis=1)\n",
        "for col in feat_risk.columns:\n",
        "  if feat_risk[col].isnull().any():\n",
        "    feat_risk[col] = feat_risk[col].fillna(feat_risk[col].median())\n",
        "feat_risk = np.array(feat_risk)\n",
        "lab_risk = np.array(data_risk['obj1'])\n",
        "evaluatePerformance(tree_clf, feat_risk, lab_risk)"
      ],
      "execution_count": 0,
      "outputs": []
    },
    {
      "cell_type": "code",
      "metadata": {
        "id": "jc7Qfkn2kMaB",
        "colab_type": "code",
        "colab": {}
      },
      "source": [
        "#Risk dataset base scores RF\n",
        "evaluatePerformance(rf_clf, feat_risk, lab_risk)"
      ],
      "execution_count": 0,
      "outputs": []
    },
    {
      "cell_type": "markdown",
      "metadata": {
        "id": "S-l8E2o2oy7X",
        "colab_type": "text"
      },
      "source": [
        "DOWNSAMPLING THE DATASETS AND RETRIEVING NEW PERFORMANCE RESULTS"
      ]
    },
    {
      "cell_type": "code",
      "metadata": {
        "id": "Bi1CJ8UqtocS",
        "colab_type": "code",
        "colab": {}
      },
      "source": [
        "#Downsample RISK DATASET to get 50%\n",
        "data_risk_ind_ = data_risk[data_risk['obj1'] == 0].index\n",
        "r_to_del = data_risk_ind_[0:int(len(data_risk_ind_)*0.774)]\n",
        "data_risk_test = data_risk.drop(index=r_to_del)\n",
        "\n",
        "print(data_risk_test['obj1'].value_counts())\n",
        "print(\"Imbalance:\", data_risk_test['obj1'].value_counts()[0]/(data_risk_test['obj1'].value_counts()[1]+(data_risk_test['obj1'].value_counts()[0])))"
      ],
      "execution_count": 0,
      "outputs": []
    },
    {
      "cell_type": "code",
      "metadata": {
        "id": "QZRIpRayvdo_",
        "colab_type": "code",
        "colab": {}
      },
      "source": [
        "#Risk dataset downsampled scores DT\n",
        "feat_risk_test = data_risk_test.drop('obj1', axis=1)\n",
        "for col in feat_risk_test.columns:\n",
        "  if feat_risk_test[col].isnull().any():\n",
        "    feat_risk_test[col] = feat_risk_test[col].fillna(feat_risk_test[col].median())\n",
        "\n",
        "lab_risk_test = data_risk_test['obj1']\n",
        "evaluatePerformance(tree_clf, feat_risk_test, lab_risk_test)"
      ],
      "execution_count": 0,
      "outputs": []
    },
    {
      "cell_type": "code",
      "metadata": {
        "id": "O7XEwhRqwd-x",
        "colab_type": "code",
        "colab": {}
      },
      "source": [
        "#Risk dataset downsample scores RF\n",
        "evaluatePerformance(rf_clf, feat_risk_test, lab_risk_test)"
      ],
      "execution_count": 0,
      "outputs": []
    },
    {
      "cell_type": "markdown",
      "metadata": {
        "id": "rzwIpIXSzLOn",
        "colab_type": "text"
      },
      "source": [
        "OVERSAMPLING AND TEST RESULTS"
      ]
    },
    {
      "cell_type": "code",
      "metadata": {
        "id": "015qN7vg1pEx",
        "colab_type": "code",
        "colab": {}
      },
      "source": [
        "#OVERSAMPLING RISK DATASET\n",
        "max_ = data_risk['obj1'].value_counts().max()\n",
        "\n",
        "temp = [data_risk]\n",
        "for class_index, group in data_risk.groupby('obj1'):\n",
        "    temp.append(group.sample(max_-len(group), replace=True))\n",
        "data_risk_over = pd.concat(temp)\n",
        "\n",
        "print(data_risk_over['obj1'].value_counts())\n",
        "print(\"Imbalance:\", data_risk_over['obj1'].value_counts()[0]/(data_risk_over['obj1'].value_counts()[1]+(data_risk_over['obj1'].value_counts()[0])))"
      ],
      "execution_count": 0,
      "outputs": []
    },
    {
      "cell_type": "code",
      "metadata": {
        "id": "wpwTZfoe34EZ",
        "colab_type": "code",
        "colab": {}
      },
      "source": [
        "#Risk dataset oversampled scores DT\n",
        "feat_risk_over = data_risk_over.drop('obj1', axis=1)\n",
        "for col in feat_risk_over.columns:\n",
        "  if feat_risk_over[col].isnull().any():\n",
        "    feat_risk_over[col] = feat_risk_over[col].fillna(feat_risk_over[col].median())\n",
        "\n",
        "lab_risk_over = data_risk_over['obj1']\n",
        "\n",
        "evaluatePerformance(tree_clf, feat_risk_over, lab_risk_over)"
      ],
      "execution_count": 0,
      "outputs": []
    },
    {
      "cell_type": "code",
      "metadata": {
        "id": "_59zBOnt4JBz",
        "colab_type": "code",
        "colab": {}
      },
      "source": [
        "#RISK DATASET oversampling scores RF\n",
        "evaluatePerformance(rf_clf, feat_risk_over, lab_risk_over)"
      ],
      "execution_count": 0,
      "outputs": []
    },
    {
      "cell_type": "markdown",
      "metadata": {
        "id": "SP7gJda2wDDY",
        "colab_type": "text"
      },
      "source": [
        "CREATE 10 FOLDS OF EACH CLASS"
      ]
    },
    {
      "cell_type": "code",
      "metadata": {
        "id": "DzOkILkOET9c",
        "colab_type": "code",
        "colab": {}
      },
      "source": [
        "from sklearn.cluster import KMeans\n",
        "import matplotlib.pyplot as plt\n",
        "from sklearn.metrics import silhouette_score, accuracy_score, precision_score, recall_score, f1_score\n",
        "import utils\n",
        "from sklearn.metrics.cluster import adjusted_rand_score "
      ],
      "execution_count": 0,
      "outputs": []
    },
    {
      "cell_type": "code",
      "metadata": {
        "id": "ALAM6P8Nqe1x",
        "colab_type": "code",
        "colab": {}
      },
      "source": [
        "#RISK DATASET\n",
        "skf = StratifiedKFold(n_splits=10)\n",
        "print(skf)"
      ],
      "execution_count": 0,
      "outputs": []
    },
    {
      "cell_type": "code",
      "metadata": {
        "id": "XrGi0IEIgDDp",
        "colab_type": "code",
        "colab": {
          "base_uri": "https://localhost:8080/",
          "height": 1000
        },
        "outputId": "74d402ab-3135-49b6-ee4c-e802eb135809"
      },
      "source": [
        "random_forest_clf = RandomForestClassifier(max_depth=2, random_state=0)\n",
        "accuracy_scores = []\n",
        "precision_scores = []\n",
        "recall_scores = []\n",
        "f1_scores = []\n",
        "ajd_rand = []\n",
        "\n",
        "for train, test in skf.split(feat_risk, lab_risk):\n",
        "  test_labels = []\n",
        "\n",
        "  #Retrieve the predicted amount of clusters and the best performing KMeans model\n",
        "  n_clusters, final_model = utils.Utils.cluster_and_model(feat_risk[train], lab_risk[train])\n",
        "\n",
        "  #Retrieve the clusters containing missclassified data and the indices of these clusters in the training data\n",
        "  missclassified_cluster_data_index, missclassified_clusters = utils.Utils.find_missclassified_clusters(n_clusters, lab_risk[train], final_model.labels_)\n",
        "  rf_classifiers = [0]*n_clusters\n",
        "  #Go through the clusters with missclassified data and train a random forest classifier for each\n",
        "  for i in missclassified_clusters:\n",
        "    f = feat_risk[train]\n",
        "    f1 = f[missclassified_cluster_data_index[i], :]\n",
        "    l  = lab_risk[train]\n",
        "    l1 = np.take(l, missclassified_cluster_data_index[i])\n",
        "    rf_classifiers[i] = random_forest_clf.fit(f1, l1)\n",
        "  \n",
        "  #For each point in test dataset, give it a cluster\n",
        "  for x in feat_risk[test]:\n",
        "    prediction = final_model.predict(np.array([x]))\n",
        "    if prediction[0] in missclassified_clusters:\n",
        "      test_labels.append(rf_classifiers[prediction[0]].predict(np.array([x])))\n",
        "    else:\n",
        "      test_labels.append(prediction)\n",
        "  accuracy_scores.append(accuracy_score(test_labels, lab_risk[test]))\n",
        "  precision_scores.append(precision_score(test_labels, lab_risk[test]))\n",
        "  recall_scores.append(recall_score(test_labels, lab_risk[test]))\n",
        "  f1_scores.append(f1_score(test_labels, lab_risk[test]))\n",
        "  ajd_rand.append(adjusted_rand_score(np.array(test_labels).flatten(), lab_risk[test]))"
      ],
      "execution_count": 54,
      "outputs": [
        {
          "output_type": "stream",
          "text": [
            "finding clusters\n"
          ],
          "name": "stdout"
        },
        {
          "output_type": "display_data",
          "data": {
            "image/png": "[encoded data removed]",
            "text/plain": [
              "<Figure size 432x288 with 1 Axes>"
            ]
          },
          "metadata": {
            "tags": []
          }
        },
        {
          "output_type": "stream",
          "text": [
            "Silhouette predicted 4 clusters. Please enter elbow results: \n",
            "4\n"
          ],
          "name": "stdout"
        },
        {
          "output_type": "stream",
          "text": [
            "/usr/local/lib/python3.6/dist-packages/sklearn/metrics/_classification.py:1272: UndefinedMetricWarning: Precision is ill-defined and being set to 0.0 in labels with no predicted samples. Use `zero_division` parameter to control this behavior.\n",
            "  _warn_prf(average, modifier, msg_start, len(result))\n"
          ],
          "name": "stderr"
        },
        {
          "output_type": "stream",
          "text": [
            "K value with best performance: 4\n"
          ],
          "name": "stdout"
        },
        {
          "output_type": "stream",
          "text": [
            "/usr/local/lib/python3.6/dist-packages/sklearn/metrics/_classification.py:1272: UndefinedMetricWarning: Recall is ill-defined and being set to 0.0 due to no true samples. Use `zero_division` parameter to control this behavior.\n",
            "  _warn_prf(average, modifier, msg_start, len(result))\n"
          ],
          "name": "stderr"
        },
        {
          "output_type": "stream",
          "text": [
            "finding clusters\n"
          ],
          "name": "stdout"
        },
        {
          "output_type": "display_data",
          "data": {
            "image/png": "[encoded data removed]",
            "text/plain": [
              "<Figure size 432x288 with 1 Axes>"
            ]
          },
          "metadata": {
            "tags": []
          }
        },
        {
          "output_type": "stream",
          "text": [
            "Silhouette predicted 4 clusters. Please enter elbow results: \n",
            "4\n"
          ],
          "name": "stdout"
        },
        {
          "output_type": "stream",
          "text": [
            "/usr/local/lib/python3.6/dist-packages/sklearn/metrics/_classification.py:1272: UndefinedMetricWarning: Precision is ill-defined and being set to 0.0 in labels with no predicted samples. Use `zero_division` parameter to control this behavior.\n",
            "  _warn_prf(average, modifier, msg_start, len(result))\n"
          ],
          "name": "stderr"
        },
        {
          "output_type": "stream",
          "text": [
            "K value with best performance: 4\n"
          ],
          "name": "stdout"
        },
        {
          "output_type": "stream",
          "text": [
            "/usr/local/lib/python3.6/dist-packages/sklearn/metrics/_classification.py:1272: UndefinedMetricWarning: Recall is ill-defined and being set to 0.0 due to no true samples. Use `zero_division` parameter to control this behavior.\n",
            "  _warn_prf(average, modifier, msg_start, len(result))\n"
          ],
          "name": "stderr"
        },
        {
          "output_type": "stream",
          "text": [
            "finding clusters\n"
          ],
          "name": "stdout"
        },
        {
          "output_type": "display_data",
          "data": {
            "image/png": "[encoded data removed]",
            "text/plain": [
              "<Figure size 432x288 with 1 Axes>"
            ]
          },
          "metadata": {
            "tags": []
          }
        },
        {
          "output_type": "stream",
          "text": [
            "Silhouette predicted 5 clusters. Please enter elbow results: \n",
            "5\n"
          ],
          "name": "stdout"
        },
        {
          "output_type": "stream",
          "text": [
            "/usr/local/lib/python3.6/dist-packages/sklearn/metrics/_classification.py:1272: UndefinedMetricWarning: Precision is ill-defined and being set to 0.0 in labels with no predicted samples. Use `zero_division` parameter to control this behavior.\n",
            "  _warn_prf(average, modifier, msg_start, len(result))\n"
          ],
          "name": "stderr"
        },
        {
          "output_type": "stream",
          "text": [
            "K value with best performance: 5\n"
          ],
          "name": "stdout"
        },
        {
          "output_type": "stream",
          "text": [
            "/usr/local/lib/python3.6/dist-packages/sklearn/metrics/_classification.py:1272: UndefinedMetricWarning: Recall is ill-defined and being set to 0.0 due to no true samples. Use `zero_division` parameter to control this behavior.\n",
            "  _warn_prf(average, modifier, msg_start, len(result))\n"
          ],
          "name": "stderr"
        },
        {
          "output_type": "stream",
          "text": [
            "finding clusters\n"
          ],
          "name": "stdout"
        },
        {
          "output_type": "display_data",
          "data": {
            "image/png": "[encoded data removed]",
            "text/plain": [
              "<Figure size 432x288 with 1 Axes>"
            ]
          },
          "metadata": {
            "tags": []
          }
        },
        {
          "output_type": "stream",
          "text": [
            "Silhouette predicted 2 clusters. Please enter elbow results: \n",
            "2\n",
            "K value with best performance: 2\n"
          ],
          "name": "stdout"
        },
        {
          "output_type": "stream",
          "text": [
            "/usr/local/lib/python3.6/dist-packages/sklearn/metrics/_classification.py:1272: UndefinedMetricWarning: Recall is ill-defined and being set to 0.0 due to no true samples. Use `zero_division` parameter to control this behavior.\n",
            "  _warn_prf(average, modifier, msg_start, len(result))\n"
          ],
          "name": "stderr"
        },
        {
          "output_type": "stream",
          "text": [
            "finding clusters\n"
          ],
          "name": "stdout"
        },
        {
          "output_type": "display_data",
          "data": {
            "image/png": "[encoded data removed]",
            "text/plain": [
              "<Figure size 432x288 with 1 Axes>"
            ]
          },
          "metadata": {
            "tags": []
          }
        },
        {
          "output_type": "stream",
          "text": [
            "Silhouette predicted 4 clusters. Please enter elbow results: \n",
            "4\n"
          ],
          "name": "stdout"
        },
        {
          "output_type": "stream",
          "text": [
            "/usr/local/lib/python3.6/dist-packages/sklearn/metrics/_classification.py:1272: UndefinedMetricWarning: Precision is ill-defined and being set to 0.0 in labels with no predicted samples. Use `zero_division` parameter to control this behavior.\n",
            "  _warn_prf(average, modifier, msg_start, len(result))\n"
          ],
          "name": "stderr"
        },
        {
          "output_type": "stream",
          "text": [
            "K value with best performance: 4\n"
          ],
          "name": "stdout"
        },
        {
          "output_type": "stream",
          "text": [
            "/usr/local/lib/python3.6/dist-packages/sklearn/metrics/_classification.py:1272: UndefinedMetricWarning: Recall is ill-defined and being set to 0.0 due to no true samples. Use `zero_division` parameter to control this behavior.\n",
            "  _warn_prf(average, modifier, msg_start, len(result))\n"
          ],
          "name": "stderr"
        },
        {
          "output_type": "stream",
          "text": [
            "finding clusters\n"
          ],
          "name": "stdout"
        },
        {
          "output_type": "display_data",
          "data": {
            "image/png": "[encoded data removed]",
            "text/plain": [
              "<Figure size 432x288 with 1 Axes>"
            ]
          },
          "metadata": {
            "tags": []
          }
        },
        {
          "output_type": "stream",
          "text": [
            "Silhouette predicted 4 clusters. Please enter elbow results: \n",
            "4\n"
          ],
          "name": "stdout"
        },
        {
          "output_type": "stream",
          "text": [
            "/usr/local/lib/python3.6/dist-packages/sklearn/metrics/_classification.py:1272: UndefinedMetricWarning: Precision is ill-defined and being set to 0.0 in labels with no predicted samples. Use `zero_division` parameter to control this behavior.\n",
            "  _warn_prf(average, modifier, msg_start, len(result))\n"
          ],
          "name": "stderr"
        },
        {
          "output_type": "stream",
          "text": [
            "K value with best performance: 4\n"
          ],
          "name": "stdout"
        },
        {
          "output_type": "stream",
          "text": [
            "/usr/local/lib/python3.6/dist-packages/sklearn/metrics/_classification.py:1272: UndefinedMetricWarning: Recall is ill-defined and being set to 0.0 due to no true samples. Use `zero_division` parameter to control this behavior.\n",
            "  _warn_prf(average, modifier, msg_start, len(result))\n"
          ],
          "name": "stderr"
        },
        {
          "output_type": "stream",
          "text": [
            "finding clusters\n"
          ],
          "name": "stdout"
        },
        {
          "output_type": "display_data",
          "data": {
            "image/png": "[encoded data removed]",
            "text/plain": [
              "<Figure size 432x288 with 1 Axes>"
            ]
          },
          "metadata": {
            "tags": []
          }
        },
        {
          "output_type": "stream",
          "text": [
            "Silhouette predicted 3 clusters. Please enter elbow results: \n",
            "3\n"
          ],
          "name": "stdout"
        },
        {
          "output_type": "stream",
          "text": [
            "/usr/local/lib/python3.6/dist-packages/sklearn/metrics/_classification.py:1272: UndefinedMetricWarning: Precision is ill-defined and being set to 0.0 in labels with no predicted samples. Use `zero_division` parameter to control this behavior.\n",
            "  _warn_prf(average, modifier, msg_start, len(result))\n"
          ],
          "name": "stderr"
        },
        {
          "output_type": "stream",
          "text": [
            "K value with best performance: 3\n"
          ],
          "name": "stdout"
        },
        {
          "output_type": "stream",
          "text": [
            "/usr/local/lib/python3.6/dist-packages/sklearn/metrics/_classification.py:1272: UndefinedMetricWarning: Recall is ill-defined and being set to 0.0 due to no true samples. Use `zero_division` parameter to control this behavior.\n",
            "  _warn_prf(average, modifier, msg_start, len(result))\n"
          ],
          "name": "stderr"
        },
        {
          "output_type": "stream",
          "text": [
            "finding clusters\n"
          ],
          "name": "stdout"
        },
        {
          "output_type": "display_data",
          "data": {
            "image/png": "[encoded data removed]",
            "text/plain": [
              "<Figure size 432x288 with 1 Axes>"
            ]
          },
          "metadata": {
            "tags": []
          }
        },
        {
          "output_type": "stream",
          "text": [
            "Silhouette predicted 5 clusters. Please enter elbow results: \n",
            "5\n"
          ],
          "name": "stdout"
        },
        {
          "output_type": "stream",
          "text": [
            "/usr/local/lib/python3.6/dist-packages/sklearn/metrics/_classification.py:1272: UndefinedMetricWarning: Precision is ill-defined and being set to 0.0 in labels with no predicted samples. Use `zero_division` parameter to control this behavior.\n",
            "  _warn_prf(average, modifier, msg_start, len(result))\n"
          ],
          "name": "stderr"
        },
        {
          "output_type": "stream",
          "text": [
            "K value with best performance: 5\n"
          ],
          "name": "stdout"
        },
        {
          "output_type": "stream",
          "text": [
            "/usr/local/lib/python3.6/dist-packages/sklearn/metrics/_classification.py:1272: UndefinedMetricWarning: Recall is ill-defined and being set to 0.0 due to no true samples. Use `zero_division` parameter to control this behavior.\n",
            "  _warn_prf(average, modifier, msg_start, len(result))\n"
          ],
          "name": "stderr"
        },
        {
          "output_type": "stream",
          "text": [
            "finding clusters\n"
          ],
          "name": "stdout"
        },
        {
          "output_type": "display_data",
          "data": {
            "image/png": "[encoded data removed]",
            "text/plain": [
              "<Figure size 432x288 with 1 Axes>"
            ]
          },
          "metadata": {
            "tags": []
          }
        },
        {
          "output_type": "stream",
          "text": [
            "Silhouette predicted 3 clusters. Please enter elbow results: \n",
            "3\n"
          ],
          "name": "stdout"
        },
        {
          "output_type": "stream",
          "text": [
            "/usr/local/lib/python3.6/dist-packages/sklearn/metrics/_classification.py:1272: UndefinedMetricWarning: Precision is ill-defined and being set to 0.0 in labels with no predicted samples. Use `zero_division` parameter to control this behavior.\n",
            "  _warn_prf(average, modifier, msg_start, len(result))\n"
          ],
          "name": "stderr"
        },
        {
          "output_type": "stream",
          "text": [
            "K value with best performance: 3\n"
          ],
          "name": "stdout"
        },
        {
          "output_type": "stream",
          "text": [
            "/usr/local/lib/python3.6/dist-packages/sklearn/metrics/_classification.py:1272: UndefinedMetricWarning: Recall is ill-defined and being set to 0.0 due to no true samples. Use `zero_division` parameter to control this behavior.\n",
            "  _warn_prf(average, modifier, msg_start, len(result))\n"
          ],
          "name": "stderr"
        },
        {
          "output_type": "stream",
          "text": [
            "finding clusters\n"
          ],
          "name": "stdout"
        },
        {
          "output_type": "display_data",
          "data": {
            "image/png": "[encoded data removed]",
            "text/plain": [
              "<Figure size 432x288 with 1 Axes>"
            ]
          },
          "metadata": {
            "tags": []
          }
        },
        {
          "output_type": "stream",
          "text": [
            "Silhouette predicted 4 clusters. Please enter elbow results: \n",
            "4\n"
          ],
          "name": "stdout"
        },
        {
          "output_type": "stream",
          "text": [
            "/usr/local/lib/python3.6/dist-packages/sklearn/metrics/_classification.py:1272: UndefinedMetricWarning: Precision is ill-defined and being set to 0.0 in labels with no predicted samples. Use `zero_division` parameter to control this behavior.\n",
            "  _warn_prf(average, modifier, msg_start, len(result))\n"
          ],
          "name": "stderr"
        },
        {
          "output_type": "stream",
          "text": [
            "K value with best performance: 4\n"
          ],
          "name": "stdout"
        }
      ]
    },
    {
      "cell_type": "code",
      "metadata": {
        "id": "MBV0xfW3sX3v",
        "colab_type": "code",
        "outputId": "4da37d76-63ff-4ff5-ba88-a291473afd10",
        "colab": {
          "base_uri": "https://localhost:8080/",
          "height": 98
        }
      },
      "source": [
        "print(\"Accuracy:\", np.mean(accuracy_scores), \"+/-\", np.std(accuracy_scores))\n",
        "print(\"Precision:\", np.mean(precision_scores), \"+/-\", np.std(precision_scores))\n",
        "print(\"Recall:\", np.mean(recall_scores), \"+/-\", np.std(recall_scores))\n",
        "print(\"F1-Score:\", np.mean(f1_scores), \"+/-\", np.std(f1_scores))\n",
        "print(\"adjusted rand-Score:\", np.mean(ajd_rand), \"+/-\", np.std(ajd_rand))"
      ],
      "execution_count": 55,
      "outputs": [
        {
          "output_type": "stream",
          "text": [
            "Accuracy: 0.8127156224970209 +/- 0.009161523857219295\n",
            "Precision: 0.0012048192771084338 +/- 0.0036144578313253013\n",
            "Recall: 0.00625 +/- 0.018750000000000003\n",
            "F1-Score: 0.00202020202020202 +/- 0.0060606060606060615\n",
            "adjusted rand-Score: -0.003065891278087293 +/- 0.00919767383426188\n"
          ],
          "name": "stdout"
        }
      ]
    },
    {
      "cell_type": "code",
      "metadata": {
        "id": "TTGWN01QQVOw",
        "colab_type": "code",
        "colab": {}
      },
      "source": [
        ""
      ],
      "execution_count": 0,
      "outputs": []
    }
  ]
}