{
  "nbformat": 4,
  "nbformat_minor": 0,
  "metadata": {
    "colab": {
      "name": "Exercise4.ipynb",
      "provenance": [],
      "authorship_tag": "ABX9TyPsl8MMEyoktHyneBbEpZuD",
      "include_colab_link": true
    },
    "kernelspec": {
      "name": "python3",
      "display_name": "Python 3"
    }
  },
  "cells": [
    {
      "cell_type": "markdown",
      "metadata": {
        "id": "view-in-github",
        "colab_type": "text"
      },
      "source": [
        "<a href=\"https://colab.research.google.com/github/emnordi/ce888/blob/master/Lab7/Exercise4.ipynb\" target=\"_parent\"><img src=\"https://colab.research.google.com/assets/colab-badge.svg\" alt=\"Open In Colab\"/></a>"
      ]
    },
    {
      "cell_type": "code",
      "metadata": {
        "id": "l5WuKihlkDlC",
        "colab_type": "code",
        "colab": {
          "base_uri": "https://localhost:8080/",
          "height": 80
        },
        "outputId": "6b296c79-2378-4410-b571-464f7d72c0fb"
      },
      "source": [
        "import os\n",
        "from zipfile import ZipFile\n",
        "import shutil\n",
        "from keras import layers\n",
        "from keras import models\n",
        "from keras import optimizers\n",
        "from keras.preprocessing.image import ImageDataGenerator\n",
        "os.environ['KAGGLE_USERNAME'] = \"emilnordin\" # username from the json file\n",
        "\n",
        "os.environ['KAGGLE_KEY'] = \"fd1ae7405c909d36a1ecffea5cd2749a\" # key from the json file"
      ],
      "execution_count": 1,
      "outputs": [
        {
          "output_type": "stream",
          "text": [
            "Using TensorFlow backend.\n"
          ],
          "name": "stderr"
        },
        {
          "output_type": "display_data",
          "data": {
            "text/html": [
              "<p style=\"color: red;\">\n",
              "The default version of TensorFlow in Colab will soon switch to TensorFlow 2.x.<br>\n",
              "We recommend you <a href=\"https://www.tensorflow.org/guide/migrate\" target=\"_blank\">upgrade</a> now \n",
              "or ensure your notebook will continue to use TensorFlow 1.x via the <code>%tensorflow_version 1.x</code> magic:\n",
              "<a href=\"https://colab.research.google.com/notebooks/tensorflow_version.ipynb\" target=\"_blank\">more info</a>.</p>\n"
            ],
            "text/plain": [
              "<IPython.core.display.HTML object>"
            ]
          },
          "metadata": {
            "tags": []
          }
        }
      ]
    },
    {
      "cell_type": "code",
      "metadata": {
        "id": "mP29f_bXkJsb",
        "colab_type": "code",
        "colab": {
          "base_uri": "https://localhost:8080/",
          "height": 68
        },
        "outputId": "0626908b-7349-44fc-c3a0-c1e30dfa126b"
      },
      "source": [
        "!kaggle datasets download -d mbkinaci/fruit-images-for-object-detection"
      ],
      "execution_count": 2,
      "outputs": [
        {
          "output_type": "stream",
          "text": [
            "Downloading fruit-images-for-object-detection.zip to /content\n",
            " 95% 27.0M/28.4M [00:00<00:00, 58.1MB/s]\n",
            "100% 28.4M/28.4M [00:00<00:00, 113MB/s] \n"
          ],
          "name": "stdout"
        }
      ]
    },
    {
      "cell_type": "code",
      "metadata": {
        "id": "sw8ASDH0kUNa",
        "colab_type": "code",
        "colab": {
          "base_uri": "https://localhost:8080/",
          "height": 34
        },
        "outputId": "8cf0cdf0-17d6-4f08-d44d-01bf6ecc4a58"
      },
      "source": [
        "file_name = \"/content/fruit-images-for-object-detection.zip\"\n",
        "\n",
        "with ZipFile(file_name, 'r') as zip:\n",
        "  zip.extractall()\n",
        "  print('done')"
      ],
      "execution_count": 3,
      "outputs": [
        {
          "output_type": "stream",
          "text": [
            "done\n"
          ],
          "name": "stdout"
        }
      ]
    },
    {
      "cell_type": "code",
      "metadata": {
        "id": "B4r5K5t-kljW",
        "colab_type": "code",
        "colab": {
          "base_uri": "https://localhost:8080/",
          "height": 51
        },
        "outputId": "cbb0792a-6c19-4356-f6cc-408c0a112e98"
      },
      "source": [
        "data_dir_list = os.listdir('/content/train_zip')\n",
        "print(data_dir_list)\n",
        "path, dirs, files = next(os.walk(\"/content/train_zip/train\"))\n",
        "file_count = len(files)\n",
        "print(file_count)"
      ],
      "execution_count": 20,
      "outputs": [
        {
          "output_type": "stream",
          "text": [
            "['train']\n",
            "480\n"
          ],
          "name": "stdout"
        }
      ]
    },
    {
      "cell_type": "code",
      "metadata": {
        "id": "3husGStFlsiN",
        "colab_type": "code",
        "colab": {
          "base_uri": "https://localhost:8080/",
          "height": 51
        },
        "outputId": "c17a516f-78d8-43c7-c636-a81e29b822f6"
      },
      "source": [
        "data_dir_list = os.listdir('/content/test_zip')\n",
        "print(data_dir_list)\n",
        "path_t, dirs_t, files_t = next(os.walk(\"/content/test_zip/test\"))\n",
        "file_count = len(files_t)\n",
        "print(file_count)"
      ],
      "execution_count": 19,
      "outputs": [
        {
          "output_type": "stream",
          "text": [
            "['test']\n",
            "120\n"
          ],
          "name": "stdout"
        }
      ]
    },
    {
      "cell_type": "code",
      "metadata": {
        "id": "tbQf2_W4k2J9",
        "colab_type": "code",
        "colab": {}
      },
      "source": [
        "original_dataset_dir = '/content/train'\n",
        "base_dir = '/content/apples_dataset'\n",
        "os.mkdir(base_dir)"
      ],
      "execution_count": 0,
      "outputs": []
    },
    {
      "cell_type": "code",
      "metadata": {
        "id": "36mnfsRGrPXp",
        "colab_type": "code",
        "colab": {}
      },
      "source": [
        "train_dir = os.path.join(base_dir, 'train')\n",
        "os.mkdir(train_dir)\n",
        "\n",
        "validation_dir = os.path.join(base_dir, 'validation')\n",
        "os.mkdir(validation_dir)\n",
        "\n",
        "test_dir = os.path.join(base_dir, 'test')\n",
        "os.mkdir(test_dir)\n",
        "\n",
        "train_apples_dir = os.path.join(train_dir, 'apples')\n",
        "os.mkdir(train_apples_dir)\n",
        "\n",
        "train_banana_dir = os.path.join(train_dir, 'banana')\n",
        "os.mkdir(train_banana_dir)\n",
        "\n",
        "train_mixed_dir = os.path.join(train_dir, 'mixed')\n",
        "os.mkdir(train_mixed_dir)\n",
        "\n",
        "train_orange_dir = os.path.join(train_dir, 'orange')\n",
        "os.mkdir(train_orange_dir)\n",
        "\n",
        "validation_apples_dir = os.path.join(validation_dir, 'apples')\n",
        "os.mkdir(validation_apples_dir)\n",
        "\n",
        "validation_banana_dir = os.path.join(validation_dir, 'banana')\n",
        "os.mkdir(validation_banana_dir)\n",
        "\n",
        "validation_mixed_dir = os.path.join(validation_dir, 'mixed')\n",
        "os.mkdir(validation_mixed_dir)\n",
        "\n",
        "validation_orange_dir = os.path.join(validation_dir, 'orange')\n",
        "os.mkdir(validation_orange_dir)\n",
        "\n",
        "test_apples_dir = os.path.join(test_dir, 'apples')\n",
        "os.mkdir(test_apples_dir)\n",
        "\n",
        "test_banana_dir = os.path.join(test_dir, 'banana')\n",
        "os.mkdir(test_banana_dir)\n",
        "\n",
        "test_mixed_dir = os.path.join(test_dir, 'mixed')\n",
        "os.mkdir(test_mixed_dir)\n",
        "\n",
        "test_orange_dir = os.path.join(test_dir, 'orange')\n",
        "os.mkdir(test_orange_dir)"
      ],
      "execution_count": 0,
      "outputs": []
    },
    {
      "cell_type": "code",
      "metadata": {
        "id": "PDcfsb3hswJv",
        "colab_type": "code",
        "colab": {}
      },
      "source": [
        "fnames = ['apple{}.jpg'.format(i) for i in range(480)]\n",
        "for fname in fnames:\n",
        "    src = os.path.join(original_dataset_dir, fname)\n",
        "    dst = os.path.join(train_apples_dir, fname)\n",
        "    #print(src,dst)\n",
        "    shutil.copyfile(src, dst)\n",
        "    \n",
        "fnames = ['banana{}.jpg'.format(i) for i in range(1000, 1500)]\n",
        "for fname in fnames:\n",
        "    src = os.path.join(original_dataset_dir, fname)\n",
        "    dst = os.path.join(validation_banana_dir, fname)\n",
        "    shutil.copyfile(src, dst)\n",
        "\n",
        "    fnames = ['mixed{}.jpg'.format(i) for i in range(1000)]\n",
        "for fname in fnames:\n",
        "    src = os.path.join(original_dataset_dir, fname)\n",
        "    dst = os.path.join(train_mixed_dir, fname)\n",
        "    #print(src,dst)\n",
        "    shutil.copyfile(src, dst)\n",
        "    \n",
        "fnames = ['orange{}.jpg'.format(i) for i in range(1000, 1500)]\n",
        "for fname in fnames:\n",
        "    src = os.path.join(original_dataset_dir, fname)\n",
        "    dst = os.path.join(validation_orange_dir, fname)\n",
        "    shutil.copyfile(src, dst)\n",
        "\n",
        "fnames = ['cat.{}.jpg'.format(i) for i in range(1500, 2000)]\n",
        "for fname in fnames:\n",
        "    src = os.path.join(original_dataset_dir, fname)\n",
        "    dst = os.path.join(test_cats_dir, fname)\n",
        "    shutil.copyfile(src, dst)\n",
        "    \n",
        "fnames = ['dog.{}.jpg'.format(i) for i in range(1000)]\n",
        "for fname in fnames:\n",
        "    src = os.path.join(original_dataset_dir, fname)\n",
        "    dst = os.path.join(train_dogs_dir, fname)\n",
        "    shutil.copyfile(src, dst)\n",
        "\n",
        "fnames = ['dog.{}.jpg'.format(i) for i in range(1000, 1500)]\n",
        "for fname in fnames:\n",
        "    src = os.path.join(original_dataset_dir, fname)\n",
        "    dst = os.path.join(validation_dogs_dir, fname)\n",
        "    shutil.copyfile(src, dst)\n",
        "\n",
        "fnames = ['dog.{}.jpg'.format(i) for i in range(1500, 2000)]\n",
        "for fname in fnames:\n",
        "    src = os.path.join(original_dataset_dir, fname)\n",
        "    dst = os.path.join(test_dogs_dir, fname)\n",
        "    shutil.copyfile(src, dst)"
      ],
      "execution_count": 0,
      "outputs": []
    }
  ]
}