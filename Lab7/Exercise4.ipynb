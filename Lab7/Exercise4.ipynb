{
  "nbformat": 4,
  "nbformat_minor": 0,
  "metadata": {
    "colab": {
      "name": "Exercise4.ipynb",
      "provenance": [],
      "collapsed_sections": [],
      "authorship_tag": "ABX9TyOprwrm/kZdmthlNCkreQnw",
      "include_colab_link": true
    },
    "kernelspec": {
      "name": "python3",
      "display_name": "Python 3"
    },
    "accelerator": "GPU"
  },
  "cells": [
    {
      "cell_type": "markdown",
      "metadata": {
        "id": "view-in-github",
        "colab_type": "text"
      },
      "source": [
        "<a href=\"https://colab.research.google.com/github/emnordi/ce888/blob/master/Lab7/Exercise4.ipynb\" target=\"_parent\"><img src=\"https://colab.research.google.com/assets/colab-badge.svg\" alt=\"Open In Colab\"/></a>"
      ]
    },
    {
      "cell_type": "code",
      "metadata": {
        "id": "l5WuKihlkDlC",
        "colab_type": "code",
        "colab": {
          "base_uri": "https://localhost:8080/",
          "height": 80
        },
        "outputId": "484b787a-4ccc-4b11-d898-0acda33f698b"
      },
      "source": [
        "import os\n",
        "from zipfile import ZipFile\n",
        "import shutil\n",
        "from keras import layers\n",
        "from keras import models\n",
        "from keras import optimizers\n",
        "from keras.preprocessing.image import ImageDataGenerator\n",
        "os.environ['KAGGLE_USERNAME'] = \"emilnordin\" # username from the json file\n",
        "\n",
        "os.environ['KAGGLE_KEY'] = \"fd1ae7405c909d36a1ecffea5cd2749a\" # key from the json file"
      ],
      "execution_count": 1,
      "outputs": [
        {
          "output_type": "stream",
          "text": [
            "Using TensorFlow backend.\n"
          ],
          "name": "stderr"
        },
        {
          "output_type": "display_data",
          "data": {
            "text/html": [
              "<p style=\"color: red;\">\n",
              "The default version of TensorFlow in Colab will soon switch to TensorFlow 2.x.<br>\n",
              "We recommend you <a href=\"https://www.tensorflow.org/guide/migrate\" target=\"_blank\">upgrade</a> now \n",
              "or ensure your notebook will continue to use TensorFlow 1.x via the <code>%tensorflow_version 1.x</code> magic:\n",
              "<a href=\"https://colab.research.google.com/notebooks/tensorflow_version.ipynb\" target=\"_blank\">more info</a>.</p>\n"
            ],
            "text/plain": [
              "<IPython.core.display.HTML object>"
            ]
          },
          "metadata": {
            "tags": []
          }
        }
      ]
    },
    {
      "cell_type": "markdown",
      "metadata": {
        "id": "ocWM52-Tr7XB",
        "colab_type": "text"
      },
      "source": [
        "https://www.kaggle.com/mbkinaci/fruit-images-for-object-detection#apple_12.jpg\n",
        "Fruit images dataset"
      ]
    },
    {
      "cell_type": "code",
      "metadata": {
        "id": "mP29f_bXkJsb",
        "colab_type": "code",
        "outputId": "59bd7446-0f09-43b3-ff75-57b0e8a071ef",
        "colab": {
          "base_uri": "https://localhost:8080/",
          "height": 68
        }
      },
      "source": [
        "!kaggle datasets download -d mbkinaci/fruit-images-for-object-detection"
      ],
      "execution_count": 2,
      "outputs": [
        {
          "output_type": "stream",
          "text": [
            "Downloading fruit-images-for-object-detection.zip to /content\n",
            "\r  0% 0.00/28.4M [00:00<?, ?B/s]\r 18% 5.00M/28.4M [00:00<00:00, 36.9MB/s]\n",
            "\r100% 28.4M/28.4M [00:00<00:00, 112MB/s] \n"
          ],
          "name": "stdout"
        }
      ]
    },
    {
      "cell_type": "code",
      "metadata": {
        "id": "sw8ASDH0kUNa",
        "colab_type": "code",
        "outputId": "bdad097b-e4f5-4399-c231-74167740d5a8",
        "colab": {
          "base_uri": "https://localhost:8080/",
          "height": 34
        }
      },
      "source": [
        "file_name = \"/content/fruit-images-for-object-detection.zip\"\n",
        "\n",
        "with ZipFile(file_name, 'r') as zip:\n",
        "  zip.extractall()\n",
        "  print('done')"
      ],
      "execution_count": 3,
      "outputs": [
        {
          "output_type": "stream",
          "text": [
            "done\n"
          ],
          "name": "stdout"
        }
      ]
    },
    {
      "cell_type": "code",
      "metadata": {
        "id": "B4r5K5t-kljW",
        "colab_type": "code",
        "outputId": "22d8a309-726e-4dc5-c179-de4da2184aa0",
        "colab": {
          "base_uri": "https://localhost:8080/",
          "height": 51
        }
      },
      "source": [
        "data_dir_list = os.listdir('/content/train_zip')\n",
        "print(data_dir_list)\n",
        "path, dirs, files = next(os.walk(\"/content/train_zip/train\"))\n",
        "file_count = len(files)\n",
        "print(file_count)"
      ],
      "execution_count": 4,
      "outputs": [
        {
          "output_type": "stream",
          "text": [
            "['train']\n",
            "480\n"
          ],
          "name": "stdout"
        }
      ]
    },
    {
      "cell_type": "code",
      "metadata": {
        "id": "3husGStFlsiN",
        "colab_type": "code",
        "outputId": "4a50a908-c093-463c-e9c8-2538c4fdec04",
        "colab": {
          "base_uri": "https://localhost:8080/",
          "height": 51
        }
      },
      "source": [
        "data_dir_list = os.listdir('/content/test_zip')\n",
        "print(data_dir_list)\n",
        "path_t, dirs_t, files_t = next(os.walk(\"/content/test_zip/test\"))\n",
        "file_count = len(files_t)\n",
        "print(file_count)"
      ],
      "execution_count": 5,
      "outputs": [
        {
          "output_type": "stream",
          "text": [
            "['test']\n",
            "120\n"
          ],
          "name": "stdout"
        }
      ]
    },
    {
      "cell_type": "code",
      "metadata": {
        "id": "lOno9rLNJYyn",
        "colab_type": "code",
        "outputId": "7a33d7b7-22ca-4fe6-b3d8-bd7d197e9894",
        "colab": {
          "base_uri": "https://localhost:8080/",
          "height": 34
        }
      },
      "source": [
        "print(os.listdir('/content/'))"
      ],
      "execution_count": 6,
      "outputs": [
        {
          "output_type": "stream",
          "text": [
            "['.config', 'fruit-images-for-object-detection.zip', 'train_zip', 'test_zip', 'sample_data']\n"
          ],
          "name": "stdout"
        }
      ]
    },
    {
      "cell_type": "code",
      "metadata": {
        "id": "tbQf2_W4k2J9",
        "colab_type": "code",
        "colab": {}
      },
      "source": [
        "original_dataset_dir = '/content/train_zip/train'\n",
        "test_dataset_dir = '/content/test_zip/test'\n",
        "base_dir = '/content/apples_dataset'\n",
        "os.mkdir(base_dir)"
      ],
      "execution_count": 0,
      "outputs": []
    },
    {
      "cell_type": "code",
      "metadata": {
        "id": "36mnfsRGrPXp",
        "colab_type": "code",
        "colab": {}
      },
      "source": [
        "train_dir = os.path.join(base_dir, 'train')\n",
        "os.mkdir(train_dir)\n",
        "\n",
        "validation_dir = os.path.join(base_dir, 'validation')\n",
        "os.mkdir(validation_dir)\n",
        "\n",
        "test_dir = os.path.join(base_dir, 'test')\n",
        "os.mkdir(test_dir)\n",
        "\n",
        "train_apples_dir = os.path.join(train_dir, 'apples')\n",
        "os.mkdir(train_apples_dir)\n",
        "\n",
        "train_banana_dir = os.path.join(train_dir, 'banana')\n",
        "os.mkdir(train_banana_dir)\n",
        "\n",
        "train_orange_dir = os.path.join(train_dir, 'orange')\n",
        "os.mkdir(train_orange_dir)\n",
        "\n",
        "validation_apples_dir = os.path.join(validation_dir, 'apples')\n",
        "os.mkdir(validation_apples_dir)\n",
        "\n",
        "validation_banana_dir = os.path.join(validation_dir, 'banana')\n",
        "os.mkdir(validation_banana_dir)\n",
        "\n",
        "validation_orange_dir = os.path.join(validation_dir, 'orange')\n",
        "os.mkdir(validation_orange_dir)\n",
        "\n",
        "test_apples_dir = os.path.join(test_dir, 'apples')\n",
        "os.mkdir(test_apples_dir)\n",
        "\n",
        "test_banana_dir = os.path.join(test_dir, 'banana')\n",
        "os.mkdir(test_banana_dir)\n",
        "\n",
        "test_orange_dir = os.path.join(test_dir, 'orange')\n",
        "os.mkdir(test_orange_dir)"
      ],
      "execution_count": 0,
      "outputs": []
    },
    {
      "cell_type": "code",
      "metadata": {
        "id": "PDcfsb3hswJv",
        "colab_type": "code",
        "colab": {}
      },
      "source": [
        "fnames = ['apple_{}.jpg'.format(i) for i in range(1, 60)]\n",
        "for fname in fnames:\n",
        "    if fname != 'apple_34.jpg':\n",
        "      src = os.path.join(original_dataset_dir, fname)\n",
        "      dst = os.path.join(train_apples_dir, fname)\n",
        "      #print(src,dst)\n",
        "      shutil.copyfile(src, dst)\n",
        "    \n",
        "fnames = ['banana_{}.jpg'.format(i) for i in range(1, 60)]\n",
        "for fname in fnames:\n",
        "  if fname not in ['banana_15.jpg', 'banana_18.jpg', 'banana_19.jpg']:\n",
        "    src = os.path.join(original_dataset_dir, fname)\n",
        "    dst = os.path.join(train_banana_dir, fname)\n",
        "    shutil.copyfile(src, dst)\n",
        "\n",
        "fnames = ['orange_{}.jpg'.format(i) for i in range(1, 60)]\n",
        "for fname in fnames:\n",
        "  if fname not in ['orange_39.jpg', 'orange_45.jpg']:\n",
        "    src = os.path.join(original_dataset_dir, fname)\n",
        "    dst = os.path.join(train_orange_dir, fname)\n",
        "    shutil.copyfile(src, dst)\n",
        "\n",
        "fnames = ['apple_{}.jpg'.format(i) for i in range(60, 76)]\n",
        "for fname in fnames:\n",
        "    src = os.path.join(original_dataset_dir, fname)\n",
        "    dst = os.path.join(test_apples_dir, fname)\n",
        "    shutil.copyfile(src, dst)\n",
        "    \n",
        "fnames = ['banana_{}.jpg'.format(i) for i in range(60, 76)]\n",
        "for fname in fnames:\n",
        "    src = os.path.join(original_dataset_dir, fname)\n",
        "    dst = os.path.join(test_banana_dir, fname)\n",
        "    shutil.copyfile(src, dst)\n",
        "\n",
        "fnames = ['orange_{}.jpg'.format(i) for i in range(60, 76)]\n",
        "for fname in fnames:\n",
        "  if fname not in ['orange_65.jpg', 'orange_66.jpg']:\n",
        "    src = os.path.join(original_dataset_dir, fname)\n",
        "    dst = os.path.join(test_orange_dir, fname)\n",
        "    shutil.copyfile(src, dst)\n",
        "\n",
        "fnames = ['apple_{}.jpg'.format(i) for i in range(77, 95)]\n",
        "for fname in fnames:\n",
        "    src = os.path.join(test_dataset_dir, fname)\n",
        "    dst = os.path.join(validation_apples_dir, fname)\n",
        "    shutil.copyfile(src, dst)\n",
        "    \n",
        "fnames = ['banana_{}.jpg'.format(i) for i in range(77, 95)]\n",
        "for fname in fnames:\n",
        "    src = os.path.join(test_dataset_dir, fname)\n",
        "    dst = os.path.join(validation_banana_dir, fname)\n",
        "    shutil.copyfile(src, dst)\n",
        "\n",
        "fnames = ['orange_{}.jpg'.format(i) for i in range(77, 95)]\n",
        "for fname in fnames:\n",
        "  if fname not in ['orange_88.jpg']:\n",
        "    src = os.path.join(test_dataset_dir, fname)\n",
        "    dst = os.path.join(validation_orange_dir, fname)\n",
        "    shutil.copyfile(src, dst)"
      ],
      "execution_count": 0,
      "outputs": []
    },
    {
      "cell_type": "code",
      "metadata": {
        "id": "-mdE0UWbJpM9",
        "colab_type": "code",
        "outputId": "28e2a76f-f60d-40cd-ab23-55abc8639723",
        "colab": {
          "base_uri": "https://localhost:8080/",
          "height": 170
        }
      },
      "source": [
        "print('total training apple images:', len(os.listdir(train_apples_dir)))\n",
        "print('total training banana images:', len(os.listdir(train_banana_dir)))\n",
        "print('total training orange images:', len(os.listdir(train_orange_dir)))\n",
        "\n",
        "print('total validation apple images:', len(os.listdir(validation_apples_dir)))\n",
        "print('total validation banana images:', len(os.listdir(validation_banana_dir)))\n",
        "print('total validation orange images:', len(os.listdir(validation_orange_dir)))\n",
        "\n",
        "print('total test apple images:', len(os.listdir(test_apples_dir)))\n",
        "print('total test banana images:', len(os.listdir(test_banana_dir)))\n",
        "print('total test orange images:', len(os.listdir(test_orange_dir)))"
      ],
      "execution_count": 10,
      "outputs": [
        {
          "output_type": "stream",
          "text": [
            "total training apple images: 58\n",
            "total training banana images: 56\n",
            "total training orange images: 57\n",
            "total validation apple images: 18\n",
            "total validation banana images: 18\n",
            "total validation orange images: 17\n",
            "total test apple images: 16\n",
            "total test banana images: 16\n",
            "total test orange images: 14\n"
          ],
          "name": "stdout"
        }
      ]
    },
    {
      "cell_type": "code",
      "metadata": {
        "id": "foDJz8A9QFS3",
        "colab_type": "code",
        "outputId": "dee7d0d7-9b2f-4ec2-9eff-d35729facc46",
        "colab": {
          "base_uri": "https://localhost:8080/",
          "height": 663
        }
      },
      "source": [
        "model = models.Sequential()\n",
        "model.add(layers.Conv2D(32, (3, 3), activation='relu', input_shape=(150, 150, 3)))\n",
        "model.add(layers.MaxPooling2D((2, 2)))\n",
        "model.add(layers.Conv2D(64, (3, 3), activation='relu'))\n",
        "model.add(layers.MaxPooling2D((2, 2)))\n",
        "model.add(layers.Conv2D(128, (3, 3), activation='relu'))\n",
        "model.add(layers.MaxPooling2D((2, 2)))\n",
        "model.add(layers.Conv2D(128, (3, 3), activation='relu'))\n",
        "model.add(layers.MaxPooling2D((2, 2)))\n",
        "model.add(layers.Flatten())\n",
        "model.add(layers.Dense(512, activation='relu'))\n",
        "model.add(layers.Dense(1, activation='sigmoid'))\n",
        "model.summary()"
      ],
      "execution_count": 11,
      "outputs": [
        {
          "output_type": "stream",
          "text": [
            "WARNING:tensorflow:From /usr/local/lib/python3.6/dist-packages/keras/backend/tensorflow_backend.py:66: The name tf.get_default_graph is deprecated. Please use tf.compat.v1.get_default_graph instead.\n",
            "\n",
            "WARNING:tensorflow:From /usr/local/lib/python3.6/dist-packages/keras/backend/tensorflow_backend.py:541: The name tf.placeholder is deprecated. Please use tf.compat.v1.placeholder instead.\n",
            "\n",
            "WARNING:tensorflow:From /usr/local/lib/python3.6/dist-packages/keras/backend/tensorflow_backend.py:4432: The name tf.random_uniform is deprecated. Please use tf.random.uniform instead.\n",
            "\n",
            "WARNING:tensorflow:From /usr/local/lib/python3.6/dist-packages/keras/backend/tensorflow_backend.py:4267: The name tf.nn.max_pool is deprecated. Please use tf.nn.max_pool2d instead.\n",
            "\n",
            "Model: \"sequential_1\"\n",
            "_________________________________________________________________\n",
            "Layer (type)                 Output Shape              Param #   \n",
            "=================================================================\n",
            "conv2d_1 (Conv2D)            (None, 148, 148, 32)      896       \n",
            "_________________________________________________________________\n",
            "max_pooling2d_1 (MaxPooling2 (None, 74, 74, 32)        0         \n",
            "_________________________________________________________________\n",
            "conv2d_2 (Conv2D)            (None, 72, 72, 64)        18496     \n",
            "_________________________________________________________________\n",
            "max_pooling2d_2 (MaxPooling2 (None, 36, 36, 64)        0         \n",
            "_________________________________________________________________\n",
            "conv2d_3 (Conv2D)            (None, 34, 34, 128)       73856     \n",
            "_________________________________________________________________\n",
            "max_pooling2d_3 (MaxPooling2 (None, 17, 17, 128)       0         \n",
            "_________________________________________________________________\n",
            "conv2d_4 (Conv2D)            (None, 15, 15, 128)       147584    \n",
            "_________________________________________________________________\n",
            "max_pooling2d_4 (MaxPooling2 (None, 7, 7, 128)         0         \n",
            "_________________________________________________________________\n",
            "flatten_1 (Flatten)          (None, 6272)              0         \n",
            "_________________________________________________________________\n",
            "dense_1 (Dense)              (None, 512)               3211776   \n",
            "_________________________________________________________________\n",
            "dense_2 (Dense)              (None, 1)                 513       \n",
            "=================================================================\n",
            "Total params: 3,453,121\n",
            "Trainable params: 3,453,121\n",
            "Non-trainable params: 0\n",
            "_________________________________________________________________\n"
          ],
          "name": "stdout"
        }
      ]
    },
    {
      "cell_type": "code",
      "metadata": {
        "id": "muq2fzshRz21",
        "colab_type": "code",
        "outputId": "a2ed53ae-a02c-4c1d-8320-ef89a5515795",
        "colab": {
          "base_uri": "https://localhost:8080/",
          "height": 136
        }
      },
      "source": [
        "model.compile(loss='binary_crossentropy', \n",
        "              optimizer=optimizers.RMSprop(lr=1e-4),\n",
        "              metrics=['acc'])"
      ],
      "execution_count": 12,
      "outputs": [
        {
          "output_type": "stream",
          "text": [
            "WARNING:tensorflow:From /usr/local/lib/python3.6/dist-packages/keras/optimizers.py:793: The name tf.train.Optimizer is deprecated. Please use tf.compat.v1.train.Optimizer instead.\n",
            "\n",
            "WARNING:tensorflow:From /usr/local/lib/python3.6/dist-packages/keras/backend/tensorflow_backend.py:3657: The name tf.log is deprecated. Please use tf.math.log instead.\n",
            "\n",
            "WARNING:tensorflow:From /usr/local/lib/python3.6/dist-packages/tensorflow_core/python/ops/nn_impl.py:183: where (from tensorflow.python.ops.array_ops) is deprecated and will be removed in a future version.\n",
            "Instructions for updating:\n",
            "Use tf.where in 2.0, which has the same broadcast rule as np.where\n"
          ],
          "name": "stdout"
        }
      ]
    },
    {
      "cell_type": "code",
      "metadata": {
        "id": "tmeIx3Y8R4Ms",
        "colab_type": "code",
        "outputId": "209974f1-714e-4890-dde4-b54dc7df695f",
        "colab": {
          "base_uri": "https://localhost:8080/",
          "height": 51
        }
      },
      "source": [
        "train_datagen = ImageDataGenerator(rescale=1./255)\n",
        "test_datagen = ImageDataGenerator(rescale=1./255)\n",
        "\n",
        "train_generator = train_datagen.flow_from_directory(train_dir,\n",
        "                                                    target_size=(150, 150), \n",
        "                                                    batch_size=20,\n",
        "                                                    class_mode='binary')\n",
        "\n",
        "validation_generator = test_datagen.flow_from_directory(validation_dir,\n",
        "                                                        target_size=(150, 150),\n",
        "                                                        batch_size=20,\n",
        "                                                        class_mode='binary')"
      ],
      "execution_count": 13,
      "outputs": [
        {
          "output_type": "stream",
          "text": [
            "Found 171 images belonging to 3 classes.\n",
            "Found 53 images belonging to 3 classes.\n"
          ],
          "name": "stdout"
        }
      ]
    },
    {
      "cell_type": "code",
      "metadata": {
        "id": "Aby9mTAZWE03",
        "colab_type": "code",
        "colab": {
          "base_uri": "https://localhost:8080/",
          "height": 1000
        },
        "outputId": "cb4b9256-c7db-45f3-f48b-94a53de5e5f8"
      },
      "source": [
        "history = model.fit_generator(train_generator,\n",
        "                              steps_per_epoch=100,\n",
        "                              epochs=30,\n",
        "                              validation_data=validation_generator,\n",
        "                              validation_steps=10)"
      ],
      "execution_count": 14,
      "outputs": [
        {
          "output_type": "stream",
          "text": [
            "WARNING:tensorflow:From /usr/local/lib/python3.6/dist-packages/keras/backend/tensorflow_backend.py:1033: The name tf.assign_add is deprecated. Please use tf.compat.v1.assign_add instead.\n",
            "\n",
            "WARNING:tensorflow:From /usr/local/lib/python3.6/dist-packages/keras/backend/tensorflow_backend.py:1020: The name tf.assign is deprecated. Please use tf.compat.v1.assign instead.\n",
            "\n",
            "WARNING:tensorflow:From /usr/local/lib/python3.6/dist-packages/keras/backend/tensorflow_backend.py:3005: The name tf.Session is deprecated. Please use tf.compat.v1.Session instead.\n",
            "\n",
            "Epoch 1/30\n",
            "WARNING:tensorflow:From /usr/local/lib/python3.6/dist-packages/keras/backend/tensorflow_backend.py:190: The name tf.get_default_session is deprecated. Please use tf.compat.v1.get_default_session instead.\n",
            "\n",
            "WARNING:tensorflow:From /usr/local/lib/python3.6/dist-packages/keras/backend/tensorflow_backend.py:197: The name tf.ConfigProto is deprecated. Please use tf.compat.v1.ConfigProto instead.\n",
            "\n"
          ],
          "name": "stdout"
        },
        {
          "output_type": "stream",
          "text": [
            "/usr/local/lib/python3.6/dist-packages/PIL/Image.py:989: UserWarning: Palette images with Transparency expressed in bytes should be converted to RGBA images\n",
            "  \"Palette images with Transparency expressed in bytes should be \"\n"
          ],
          "name": "stderr"
        },
        {
          "output_type": "stream",
          "text": [
            "WARNING:tensorflow:From /usr/local/lib/python3.6/dist-packages/keras/backend/tensorflow_backend.py:207: The name tf.global_variables is deprecated. Please use tf.compat.v1.global_variables instead.\n",
            "\n",
            "WARNING:tensorflow:From /usr/local/lib/python3.6/dist-packages/keras/backend/tensorflow_backend.py:216: The name tf.is_variable_initialized is deprecated. Please use tf.compat.v1.is_variable_initialized instead.\n",
            "\n",
            "WARNING:tensorflow:From /usr/local/lib/python3.6/dist-packages/keras/backend/tensorflow_backend.py:223: The name tf.variables_initializer is deprecated. Please use tf.compat.v1.variables_initializer instead.\n",
            "\n",
            "100/100 [==============================] - 39s 386ms/step - loss: -2.9644 - acc: 0.4688 - val_loss: -4.7344 - val_acc: 0.5642\n",
            "Epoch 2/30\n",
            "100/100 [==============================] - 24s 242ms/step - loss: -5.0479 - acc: 0.6235 - val_loss: -4.6070 - val_acc: 0.6704\n",
            "Epoch 3/30\n",
            "100/100 [==============================] - 24s 241ms/step - loss: -5.1816 - acc: 0.6621 - val_loss: -4.9372 - val_acc: 0.6512\n",
            "Epoch 4/30\n",
            "100/100 [==============================] - 24s 236ms/step - loss: -5.2424 - acc: 0.6662 - val_loss: -4.6968 - val_acc: 0.6592\n",
            "Epoch 5/30\n",
            "100/100 [==============================] - 24s 241ms/step - loss: -5.2853 - acc: 0.6671 - val_loss: -4.9386 - val_acc: 0.6480\n",
            "Epoch 6/30\n",
            "100/100 [==============================] - 24s 244ms/step - loss: -5.3196 - acc: 0.6663 - val_loss: -4.5759 - val_acc: 0.6744\n",
            "Epoch 7/30\n",
            "100/100 [==============================] - 24s 245ms/step - loss: -5.3081 - acc: 0.6654 - val_loss: -4.7155 - val_acc: 0.6704\n",
            "Epoch 8/30\n",
            "100/100 [==============================] - 25s 245ms/step - loss: -5.2397 - acc: 0.6713 - val_loss: -4.6762 - val_acc: 0.6592\n",
            "Epoch 9/30\n",
            "100/100 [==============================] - 25s 251ms/step - loss: -5.3117 - acc: 0.6661 - val_loss: -5.0007 - val_acc: 0.6512\n",
            "Epoch 10/30\n",
            "100/100 [==============================] - 24s 237ms/step - loss: -5.2729 - acc: 0.6693 - val_loss: -4.7173 - val_acc: 0.6704\n",
            "Epoch 11/30\n",
            "100/100 [==============================] - 24s 242ms/step - loss: -5.3484 - acc: 0.6634 - val_loss: -4.7134 - val_acc: 0.6592\n",
            "Epoch 12/30\n",
            "100/100 [==============================] - 24s 241ms/step - loss: -5.2959 - acc: 0.6678 - val_loss: -4.9856 - val_acc: 0.6512\n",
            "Epoch 13/30\n",
            "100/100 [==============================] - 24s 244ms/step - loss: -5.3241 - acc: 0.6660 - val_loss: -4.8955 - val_acc: 0.6592\n",
            "Epoch 14/30\n",
            "100/100 [==============================] - 24s 241ms/step - loss: -5.3328 - acc: 0.6646 - val_loss: -4.9743 - val_acc: 0.6425\n",
            "Epoch 15/30\n",
            "100/100 [==============================] - 25s 247ms/step - loss: -5.3872 - acc: 0.6621 - val_loss: -4.5385 - val_acc: 0.6802\n",
            "Epoch 16/30\n",
            "100/100 [==============================] - 24s 242ms/step - loss: -5.2849 - acc: 0.6685 - val_loss: -4.7164 - val_acc: 0.6592\n",
            "Epoch 17/30\n",
            "100/100 [==============================] - 25s 248ms/step - loss: -5.2990 - acc: 0.6663 - val_loss: -4.9812 - val_acc: 0.6648\n",
            "Epoch 18/30\n",
            "100/100 [==============================] - 26s 260ms/step - loss: -5.2823 - acc: 0.6687 - val_loss: -4.7222 - val_acc: 0.6570\n",
            "Epoch 19/30\n",
            "100/100 [==============================] - 24s 235ms/step - loss: -5.3127 - acc: 0.6668 - val_loss: -4.6274 - val_acc: 0.6648\n",
            "Epoch 20/30\n",
            "100/100 [==============================] - 25s 249ms/step - loss: -5.2683 - acc: 0.6695 - val_loss: -4.9846 - val_acc: 0.6536\n",
            "Epoch 21/30\n",
            "100/100 [==============================] - 24s 242ms/step - loss: -5.3568 - acc: 0.6640 - val_loss: -4.8167 - val_acc: 0.6628\n",
            "Epoch 22/30\n",
            "100/100 [==============================] - 24s 242ms/step - loss: -5.3515 - acc: 0.6643 - val_loss: -4.7174 - val_acc: 0.6704\n",
            "Epoch 23/30\n",
            "100/100 [==============================] - 24s 244ms/step - loss: -5.3017 - acc: 0.6674 - val_loss: -4.8946 - val_acc: 0.6480\n",
            "Epoch 24/30\n",
            "100/100 [==============================] - 25s 246ms/step - loss: -5.3650 - acc: 0.6635 - val_loss: -4.8167 - val_acc: 0.6628\n",
            "Epoch 25/30\n",
            "100/100 [==============================] - 25s 247ms/step - loss: -5.3036 - acc: 0.6673 - val_loss: -4.8055 - val_acc: 0.6536\n",
            "Epoch 26/30\n",
            "100/100 [==============================] - 24s 244ms/step - loss: -5.3435 - acc: 0.6648 - val_loss: -4.5393 - val_acc: 0.6816\n",
            "Epoch 27/30\n",
            "100/100 [==============================] - 26s 260ms/step - loss: -5.2843 - acc: 0.6685 - val_loss: -5.0948 - val_acc: 0.6453\n",
            "Epoch 28/30\n",
            "100/100 [==============================] - 24s 241ms/step - loss: -5.2907 - acc: 0.6681 - val_loss: -4.8956 - val_acc: 0.6592\n",
            "Epoch 29/30\n",
            "100/100 [==============================] - 24s 238ms/step - loss: -5.3560 - acc: 0.6640 - val_loss: -4.7174 - val_acc: 0.6704\n",
            "Epoch 30/30\n",
            "100/100 [==============================] - 24s 244ms/step - loss: -5.2599 - acc: 0.6701 - val_loss: -4.8157 - val_acc: 0.6512\n"
          ],
          "name": "stdout"
        }
      ]
    },
    {
      "cell_type": "code",
      "metadata": {
        "id": "CNVYbibOX6h7",
        "colab_type": "code",
        "colab": {
          "base_uri": "https://localhost:8080/",
          "height": 545
        },
        "outputId": "b382f15c-7530-4efa-ef9e-7066f62a7aa5"
      },
      "source": [
        "model.save('fruit_classification1.h5')\n",
        "\n",
        "import matplotlib.pyplot as plt\n",
        "\n",
        "acc = history.history['acc']\n",
        "val_acc = history.history['val_acc']\n",
        "loss = history.history['loss']\n",
        "val_loss = history.history['val_loss']\n",
        "\n",
        "epochs = range(1, len(acc) + 1)\n",
        "\n",
        "plt.plot(epochs, acc, 'bo', label='Training acc')\n",
        "plt.plot(epochs, val_acc, 'b', label='Validation acc')\n",
        "plt.title('Training and validation accuracy')\n",
        "plt.legend()\n",
        "\n",
        "plt.figure()\n",
        "\n",
        "plt.plot(epochs, loss, 'bo', label='Training loss')\n",
        "plt.plot(epochs, val_loss, 'b', label='Validation loss')\n",
        "plt.title('Training and validation loss')\n",
        "plt.legend()\n",
        "\n",
        "plt.show()"
      ],
      "execution_count": 15,
      "outputs": [
        {
          "output_type": "display_data",
          "data": {
            "image/png": "[encoded data removed]",
            "text/plain": [
              "<Figure size 432x288 with 1 Axes>"
            ]
          },
          "metadata": {
            "tags": []
          }
        },
        {
          "output_type": "display_data",
          "data": {
            "image/png": "[encoded data removed]",
            "text/plain": [
              "<Figure size 432x288 with 1 Axes>"
            ]
          },
          "metadata": {
            "tags": []
          }
        }
      ]
    },
    {
      "cell_type": "code",
      "metadata": {
        "id": "jPLbNOXhn1AT",
        "colab_type": "code",
        "colab": {
          "base_uri": "https://localhost:8080/",
          "height": 102
        },
        "outputId": "44883a46-2cc4-4cf1-edad-3d0daae4f876"
      },
      "source": [
        "model = models.Sequential()\n",
        "model.add(layers.Conv2D(32, (3, 3), activation='relu',\n",
        "input_shape=(150, 150, 3)))\n",
        "model.add(layers.MaxPooling2D((2, 2)))\n",
        "model.add(layers.Conv2D(64, (3, 3), activation='relu'))\n",
        "model.add(layers.MaxPooling2D((2, 2)))\n",
        "model.add(layers.Conv2D(128, (3, 3), activation='relu'))\n",
        "model.add(layers.MaxPooling2D((2, 2)))\n",
        "model.add(layers.Conv2D(128, (3, 3), activation='relu'))\n",
        "model.add(layers.MaxPooling2D((2, 2)))\n",
        "model.add(layers.Flatten())\n",
        "model.add(layers.Dropout(0.5))\n",
        "model.add(layers.Dense(512, activation='relu'))\n",
        "model.add(layers.Dense(1, activation='sigmoid'))\n",
        "\n",
        "model.compile(loss='binary_crossentropy',\n",
        "              optimizer=optimizers.RMSprop(lr=1e-4),\n",
        "              metrics=['acc'])"
      ],
      "execution_count": 16,
      "outputs": [
        {
          "output_type": "stream",
          "text": [
            "WARNING:tensorflow:From /usr/local/lib/python3.6/dist-packages/keras/backend/tensorflow_backend.py:148: The name tf.placeholder_with_default is deprecated. Please use tf.compat.v1.placeholder_with_default instead.\n",
            "\n",
            "WARNING:tensorflow:From /usr/local/lib/python3.6/dist-packages/keras/backend/tensorflow_backend.py:3733: calling dropout (from tensorflow.python.ops.nn_ops) with keep_prob is deprecated and will be removed in a future version.\n",
            "Instructions for updating:\n",
            "Please use `rate` instead of `keep_prob`. Rate should be set to `rate = 1 - keep_prob`.\n"
          ],
          "name": "stdout"
        }
      ]
    },
    {
      "cell_type": "code",
      "metadata": {
        "colab_type": "code",
        "outputId": "e8eb8ce9-506a-4b88-b015-945929575b37",
        "id": "DURcZYdUpJ-Q",
        "colab": {
          "base_uri": "https://localhost:8080/",
          "height": 1000
        }
      },
      "source": [
        "history = model.fit_generator(train_generator,\n",
        "                              steps_per_epoch=100,\n",
        "                              epochs=30,\n",
        "                              validation_data=validation_generator,\n",
        "                              validation_steps=10)"
      ],
      "execution_count": 17,
      "outputs": [
        {
          "output_type": "stream",
          "text": [
            "Epoch 1/30\n"
          ],
          "name": "stdout"
        },
        {
          "output_type": "stream",
          "text": [
            "/usr/local/lib/python3.6/dist-packages/PIL/Image.py:989: UserWarning: Palette images with Transparency expressed in bytes should be converted to RGBA images\n",
            "  \"Palette images with Transparency expressed in bytes should be \"\n"
          ],
          "name": "stderr"
        },
        {
          "output_type": "stream",
          "text": [
            "100/100 [==============================] - 27s 268ms/step - loss: -2.9596 - acc: 0.4439 - val_loss: -4.2292 - val_acc: 0.5475\n",
            "Epoch 2/30\n",
            "100/100 [==============================] - 25s 251ms/step - loss: -4.9458 - acc: 0.6269 - val_loss: -4.7032 - val_acc: 0.6313\n",
            "Epoch 3/30\n",
            "100/100 [==============================] - 25s 249ms/step - loss: -5.2121 - acc: 0.6507 - val_loss: -4.5600 - val_acc: 0.6628\n",
            "Epoch 4/30\n",
            "100/100 [==============================] - 25s 251ms/step - loss: -5.2834 - acc: 0.6641 - val_loss: -4.5404 - val_acc: 0.6648\n",
            "Epoch 5/30\n",
            "100/100 [==============================] - 25s 247ms/step - loss: -5.2627 - acc: 0.6682 - val_loss: -4.3829 - val_acc: 0.6592\n",
            "Epoch 6/30\n",
            "100/100 [==============================] - 25s 249ms/step - loss: -5.3385 - acc: 0.6628 - val_loss: -4.6930 - val_acc: 0.6395\n",
            "Epoch 7/30\n",
            "100/100 [==============================] - 25s 252ms/step - loss: -5.2736 - acc: 0.6688 - val_loss: -4.7336 - val_acc: 0.6425\n",
            "Epoch 8/30\n",
            "100/100 [==============================] - 25s 250ms/step - loss: -5.2887 - acc: 0.6653 - val_loss: -4.5390 - val_acc: 0.6480\n",
            "Epoch 9/30\n",
            "100/100 [==============================] - 27s 267ms/step - loss: -5.3017 - acc: 0.6674 - val_loss: -4.8946 - val_acc: 0.6337\n",
            "Epoch 10/30\n",
            "100/100 [==============================] - 24s 242ms/step - loss: -5.3662 - acc: 0.6627 - val_loss: -4.4858 - val_acc: 0.6704\n",
            "Epoch 11/30\n",
            "100/100 [==============================] - 25s 248ms/step - loss: -5.2701 - acc: 0.6694 - val_loss: -4.8899 - val_acc: 0.6592\n",
            "Epoch 12/30\n",
            "100/100 [==============================] - 25s 247ms/step - loss: -5.3901 - acc: 0.6608 - val_loss: -4.9226 - val_acc: 0.6279\n",
            "Epoch 13/30\n",
            "100/100 [==============================] - 24s 245ms/step - loss: -5.2913 - acc: 0.6681 - val_loss: -4.8878 - val_acc: 0.6592\n",
            "Epoch 14/30\n",
            "100/100 [==============================] - 25s 248ms/step - loss: -5.3534 - acc: 0.6642 - val_loss: -4.8838 - val_acc: 0.6425\n",
            "Epoch 15/30\n",
            "100/100 [==============================] - 25s 248ms/step - loss: -5.2987 - acc: 0.6649 - val_loss: -4.6110 - val_acc: 0.6628\n",
            "Epoch 16/30\n",
            "100/100 [==============================] - 25s 248ms/step - loss: -5.2888 - acc: 0.6683 - val_loss: -4.8909 - val_acc: 0.6592\n",
            "Epoch 17/30\n",
            "100/100 [==============================] - 25s 248ms/step - loss: -5.3377 - acc: 0.6652 - val_loss: -4.7139 - val_acc: 0.6592\n",
            "Epoch 18/30\n",
            "100/100 [==============================] - 26s 262ms/step - loss: -5.2279 - acc: 0.6714 - val_loss: -4.7856 - val_acc: 0.6453\n",
            "Epoch 19/30\n",
            "100/100 [==============================] - 24s 244ms/step - loss: -5.3401 - acc: 0.6650 - val_loss: -4.6107 - val_acc: 0.6592\n",
            "Epoch 20/30\n",
            "100/100 [==============================] - 25s 247ms/step - loss: -5.2883 - acc: 0.6683 - val_loss: -4.6264 - val_acc: 0.6648\n",
            "Epoch 21/30\n",
            "100/100 [==============================] - 25s 246ms/step - loss: -5.2678 - acc: 0.6684 - val_loss: -5.1457 - val_acc: 0.6221\n",
            "Epoch 22/30\n",
            "100/100 [==============================] - 24s 242ms/step - loss: -5.3394 - acc: 0.6651 - val_loss: -5.1342 - val_acc: 0.6257\n",
            "Epoch 23/30\n",
            "100/100 [==============================] - 24s 242ms/step - loss: -5.2987 - acc: 0.6676 - val_loss: -4.4459 - val_acc: 0.6760\n",
            "Epoch 24/30\n",
            "100/100 [==============================] - 24s 243ms/step - loss: -5.2759 - acc: 0.6691 - val_loss: -4.8146 - val_acc: 0.6628\n",
            "Epoch 25/30\n",
            "100/100 [==============================] - 24s 238ms/step - loss: -5.3510 - acc: 0.6644 - val_loss: -4.4532 - val_acc: 0.6704\n",
            "Epoch 26/30\n",
            "100/100 [==============================] - 25s 247ms/step - loss: -5.2888 - acc: 0.6683 - val_loss: -4.7088 - val_acc: 0.6536\n",
            "Epoch 27/30\n",
            "100/100 [==============================] - 25s 252ms/step - loss: -5.3306 - acc: 0.6656 - val_loss: -4.8897 - val_acc: 0.6395\n",
            "Epoch 28/30\n",
            "100/100 [==============================] - 24s 238ms/step - loss: -5.3469 - acc: 0.6646 - val_loss: -4.8739 - val_acc: 0.6480\n",
            "Epoch 29/30\n",
            "100/100 [==============================] - 24s 243ms/step - loss: -5.3036 - acc: 0.6673 - val_loss: -4.7103 - val_acc: 0.6704\n",
            "Epoch 30/30\n",
            "100/100 [==============================] - 24s 240ms/step - loss: -5.3530 - acc: 0.6642 - val_loss: -4.8143 - val_acc: 0.6628\n"
          ],
          "name": "stdout"
        }
      ]
    },
    {
      "cell_type": "code",
      "metadata": {
        "id": "sC3YlYvmpNQu",
        "colab_type": "code",
        "colab": {
          "base_uri": "https://localhost:8080/",
          "height": 545
        },
        "outputId": "d13cf8fc-4d2f-45df-c0e2-fc9d6ed458e7"
      },
      "source": [
        "model.save('fruit_classification_dropout.h5')\n",
        "\n",
        "import matplotlib.pyplot as plt\n",
        "\n",
        "acc = history.history['acc']\n",
        "val_acc = history.history['val_acc']\n",
        "loss = history.history['loss']\n",
        "val_loss = history.history['val_loss']\n",
        "\n",
        "epochs = range(1, len(acc) + 1)\n",
        "\n",
        "plt.plot(epochs, acc, 'bo', label='Training acc')\n",
        "plt.plot(epochs, val_acc, 'b', label='Validation acc')\n",
        "plt.title('Training and validation accuracy')\n",
        "plt.legend()\n",
        "\n",
        "plt.figure()\n",
        "\n",
        "plt.plot(epochs, loss, 'bo', label='Training loss')\n",
        "plt.plot(epochs, val_loss, 'b', label='Validation loss')\n",
        "plt.title('Training and validation loss')\n",
        "plt.legend()\n",
        "\n",
        "plt.show()"
      ],
      "execution_count": 18,
      "outputs": [
        {
          "output_type": "display_data",
          "data": {
            "image/png": "[encoded data removed]",
            "text/plain": [
              "<Figure size 432x288 with 1 Axes>"
            ]
          },
          "metadata": {
            "tags": []
          }
        },
        {
          "output_type": "display_data",
          "data": {
            "image/png": "[encoded data removed]",
            "text/plain": [
              "<Figure size 432x288 with 1 Axes>"
            ]
          },
          "metadata": {
            "tags": []
          }
        }
      ]
    },
    {
      "cell_type": "code",
      "metadata": {
        "id": "xgSbdpQXsLGd",
        "colab_type": "code",
        "colab": {}
      },
      "source": [
        ""
      ],
      "execution_count": 0,
      "outputs": []
    }
  ]
}