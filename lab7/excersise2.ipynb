{
  "nbformat": 4,
  "nbformat_minor": 0,
  "metadata": {
    "colab": {
      "name": "lab7_excersize2.ipynb",
      "provenance": [],
      "authorship_tag": "ABX9TyOmwagmCS7qgRX0Kw+ks3XY",
      "include_colab_link": true
    },
    "kernelspec": {
      "name": "python3",
      "display_name": "Python 3"
    },
    "accelerator": "GPU"
  },
  "cells": [
    {
      "cell_type": "markdown",
      "metadata": {
        "id": "view-in-github",
        "colab_type": "text"
      },
      "source": [
        "<a href=\"https://colab.research.google.com/github/emnordi/ce888/blob/master/lab7/excersise2.ipynb\" target=\"_parent\"><img src=\"https://colab.research.google.com/assets/colab-badge.svg\" alt=\"Open In Colab\"/></a>"
      ]
    },
    {
      "cell_type": "code",
      "metadata": {
        "id": "mqvOKX1fDWf2",
        "colab_type": "code",
        "colab": {}
      },
      "source": [
        "import os\n",
        "from zipfile import ZipFile\n",
        "import shutil\n",
        "from keras import layers\n",
        "from keras import models\n",
        "from keras import optimizers\n",
        "from keras.preprocessing.image import ImageDataGenerator\n",
        "os.environ['KAGGLE_USERNAME'] = \"emilnordin\" # username from the json file\n",
        "\n",
        "os.environ['KAGGLE_KEY'] = \"fd1ae7405c909d36a1ecffea5cd2749a\" # key from the json file"
      ],
      "execution_count": 0,
      "outputs": []
    },
    {
      "cell_type": "code",
      "metadata": {
        "id": "eSfmGZ5UD363",
        "colab_type": "code",
        "colab": {
          "base_uri": "https://localhost:8080/",
          "height": 187
        },
        "outputId": "43b70a81-22ca-4290-dfc7-e94c43a4f9ac"
      },
      "source": [
        "!kaggle competitions download -c dogs-vs-cats # api copied from kaggle"
      ],
      "execution_count": 5,
      "outputs": [
        {
          "output_type": "stream",
          "text": [
            "Warning: Looks like you're using an outdated API Version, please consider updating (server 1.5.6 / client 1.5.4)\n",
            "Downloading sampleSubmission.csv to /content\n",
            "  0% 0.00/86.8k [00:00<?, ?B/s]\n",
            "100% 86.8k/86.8k [00:00<00:00, 39.5MB/s]\n",
            "Downloading test1.zip to /content\n",
            " 98% 265M/271M [00:02<00:00, 171MB/s]\n",
            "100% 271M/271M [00:02<00:00, 137MB/s]\n",
            "Downloading train.zip to /content\n",
            " 96% 523M/543M [00:03<00:00, 123MB/s]\n",
            "100% 543M/543M [00:03<00:00, 145MB/s]\n"
          ],
          "name": "stdout"
        }
      ]
    },
    {
      "cell_type": "code",
      "metadata": {
        "id": "MOvcgsJlEuuU",
        "colab_type": "code",
        "colab": {
          "base_uri": "https://localhost:8080/",
          "height": 34
        },
        "outputId": "edf07443-b279-41b2-d99f-8a72f50fbc8d"
      },
      "source": [
        "file_name = \"/content/train.zip\"\n",
        "\n",
        "with ZipFile(file_name, 'r') as zip:\n",
        "  zip.extractall()\n",
        "  print('done')"
      ],
      "execution_count": 6,
      "outputs": [
        {
          "output_type": "stream",
          "text": [
            "done\n"
          ],
          "name": "stdout"
        }
      ]
    },
    {
      "cell_type": "code",
      "metadata": {
        "id": "lu3aCG4KG4mD",
        "colab_type": "code",
        "colab": {
          "base_uri": "https://localhost:8080/",
          "height": 34
        },
        "outputId": "f42a8721-9ae8-4f27-cfa3-9fd3c0da5ecc"
      },
      "source": [
        "data_dir_list = os.listdir('/content/train')\n",
        "#print(data_dir_list)\n",
        "\n",
        "path, dirs, files = next(os.walk(\"/content/train\"))\n",
        "file_count = len(files)\n",
        "print(file_count)"
      ],
      "execution_count": 7,
      "outputs": [
        {
          "output_type": "stream",
          "text": [
            "25000\n"
          ],
          "name": "stdout"
        }
      ]
    },
    {
      "cell_type": "code",
      "metadata": {
        "id": "p0XyoDmgG-w7",
        "colab_type": "code",
        "colab": {}
      },
      "source": [
        "original_dataset_dir = '/content/train'\n",
        "base_dir = '/content/cats_and_dogs_small'\n",
        "os.mkdir(base_dir)"
      ],
      "execution_count": 0,
      "outputs": []
    },
    {
      "cell_type": "code",
      "metadata": {
        "id": "LSH3vI3tHUUy",
        "colab_type": "code",
        "colab": {}
      },
      "source": [
        "\n",
        "train_dir = os.path.join(base_dir, 'train')\n",
        "os.mkdir(train_dir)\n",
        "\n",
        "validation_dir = os.path.join(base_dir, 'validation')\n",
        "os.mkdir(validation_dir)\n",
        "\n",
        "test_dir = os.path.join(base_dir, 'test')\n",
        "os.mkdir(test_dir)\n",
        "\n",
        "train_cats_dir = os.path.join(train_dir, 'cats')\n",
        "os.mkdir(train_cats_dir)\n",
        "\n",
        "train_dogs_dir = os.path.join(train_dir, 'dogs')\n",
        "os.mkdir(train_dogs_dir)\n",
        "\n",
        "validation_cats_dir = os.path.join(validation_dir, 'cats')\n",
        "os.mkdir(validation_cats_dir)\n",
        "\n",
        "validation_dogs_dir = os.path.join(validation_dir, 'dogs')\n",
        "os.mkdir(validation_dogs_dir)\n",
        "\n",
        "test_cats_dir = os.path.join(test_dir, 'cats')\n",
        "os.mkdir(test_cats_dir)\n",
        "\n",
        "test_dogs_dir = os.path.join(test_dir, 'dogs')\n",
        "os.mkdir(test_dogs_dir)"
      ],
      "execution_count": 0,
      "outputs": []
    },
    {
      "cell_type": "code",
      "metadata": {
        "id": "zhmrlgMOHaQt",
        "colab_type": "code",
        "colab": {}
      },
      "source": [
        "fnames = ['cat.{}.jpg'.format(i) for i in range(1000)]\n",
        "for fname in fnames:\n",
        "    src = os.path.join(original_dataset_dir, fname)\n",
        "    dst = os.path.join(train_cats_dir, fname)\n",
        "    #print(src,dst)\n",
        "    shutil.copyfile(src, dst)\n",
        "    \n",
        "fnames = ['cat.{}.jpg'.format(i) for i in range(1000, 1500)]\n",
        "for fname in fnames:\n",
        "    src = os.path.join(original_dataset_dir, fname)\n",
        "    dst = os.path.join(validation_cats_dir, fname)\n",
        "    shutil.copyfile(src, dst)\n",
        "\n",
        "fnames = ['cat.{}.jpg'.format(i) for i in range(1500, 2000)]\n",
        "for fname in fnames:\n",
        "    src = os.path.join(original_dataset_dir, fname)\n",
        "    dst = os.path.join(test_cats_dir, fname)\n",
        "    shutil.copyfile(src, dst)\n",
        "    \n",
        "fnames = ['dog.{}.jpg'.format(i) for i in range(1000)]\n",
        "for fname in fnames:\n",
        "    src = os.path.join(original_dataset_dir, fname)\n",
        "    dst = os.path.join(train_dogs_dir, fname)\n",
        "    shutil.copyfile(src, dst)\n",
        "\n",
        "fnames = ['dog.{}.jpg'.format(i) for i in range(1000, 1500)]\n",
        "for fname in fnames:\n",
        "    src = os.path.join(original_dataset_dir, fname)\n",
        "    dst = os.path.join(validation_dogs_dir, fname)\n",
        "    shutil.copyfile(src, dst)\n",
        "\n",
        "fnames = ['dog.{}.jpg'.format(i) for i in range(1500, 2000)]\n",
        "for fname in fnames:\n",
        "    src = os.path.join(original_dataset_dir, fname)\n",
        "    dst = os.path.join(test_dogs_dir, fname)\n",
        "    shutil.copyfile(src, dst)"
      ],
      "execution_count": 0,
      "outputs": []
    },
    {
      "cell_type": "code",
      "metadata": {
        "id": "dJPvJgaBIL5V",
        "colab_type": "code",
        "colab": {
          "base_uri": "https://localhost:8080/",
          "height": 119
        },
        "outputId": "46fad157-eaed-4b61-94d1-f8b1319d29e4"
      },
      "source": [
        "print('total training cat images:', len(os.listdir(train_cats_dir)))\n",
        "print('total training dog images:', len(os.listdir(train_dogs_dir)))\n",
        "print('total validation cat images:', len(os.listdir(validation_cats_dir)))\n",
        "\n",
        "print('total validation dog images:', len(os.listdir(validation_dogs_dir)))\n",
        "print('total test cat images:', len(os.listdir(test_cats_dir)))\n",
        "print('total test dog images:', len(os.listdir(test_dogs_dir)))"
      ],
      "execution_count": 11,
      "outputs": [
        {
          "output_type": "stream",
          "text": [
            "total training cat images: 1000\n",
            "total training dog images: 1000\n",
            "total validation cat images: 500\n",
            "total validation dog images: 500\n",
            "total test cat images: 500\n",
            "total test dog images: 500\n"
          ],
          "name": "stdout"
        }
      ]
    },
    {
      "cell_type": "code",
      "metadata": {
        "id": "Zt38qlJZIwpG",
        "colab_type": "code",
        "colab": {
          "base_uri": "https://localhost:8080/",
          "height": 663
        },
        "outputId": "4f169ea0-2cad-4c71-c06e-8da5f0929aa0"
      },
      "source": [
        "model = models.Sequential()\n",
        "model.add(layers.Conv2D(32, (3, 3), activation='relu', input_shape=(150, 150, 3)))\n",
        "model.add(layers.MaxPooling2D((2, 2)))\n",
        "model.add(layers.Conv2D(64, (3, 3), activation='relu'))\n",
        "model.add(layers.MaxPooling2D((2, 2)))\n",
        "model.add(layers.Conv2D(128, (3, 3), activation='relu'))\n",
        "model.add(layers.MaxPooling2D((2, 2)))\n",
        "model.add(layers.Conv2D(128, (3, 3), activation='relu'))\n",
        "model.add(layers.MaxPooling2D((2, 2)))\n",
        "model.add(layers.Flatten())\n",
        "model.add(layers.Dense(512, activation='relu'))\n",
        "model.add(layers.Dense(1, activation='sigmoid'))\n",
        "model.summary()"
      ],
      "execution_count": 12,
      "outputs": [
        {
          "output_type": "stream",
          "text": [
            "WARNING:tensorflow:From /usr/local/lib/python3.6/dist-packages/keras/backend/tensorflow_backend.py:66: The name tf.get_default_graph is deprecated. Please use tf.compat.v1.get_default_graph instead.\n",
            "\n",
            "WARNING:tensorflow:From /usr/local/lib/python3.6/dist-packages/keras/backend/tensorflow_backend.py:541: The name tf.placeholder is deprecated. Please use tf.compat.v1.placeholder instead.\n",
            "\n",
            "WARNING:tensorflow:From /usr/local/lib/python3.6/dist-packages/keras/backend/tensorflow_backend.py:4432: The name tf.random_uniform is deprecated. Please use tf.random.uniform instead.\n",
            "\n",
            "WARNING:tensorflow:From /usr/local/lib/python3.6/dist-packages/keras/backend/tensorflow_backend.py:4267: The name tf.nn.max_pool is deprecated. Please use tf.nn.max_pool2d instead.\n",
            "\n",
            "Model: \"sequential_1\"\n",
            "_________________________________________________________________\n",
            "Layer (type)                 Output Shape              Param #   \n",
            "=================================================================\n",
            "conv2d_1 (Conv2D)            (None, 148, 148, 32)      896       \n",
            "_________________________________________________________________\n",
            "max_pooling2d_1 (MaxPooling2 (None, 74, 74, 32)        0         \n",
            "_________________________________________________________________\n",
            "conv2d_2 (Conv2D)            (None, 72, 72, 64)        18496     \n",
            "_________________________________________________________________\n",
            "max_pooling2d_2 (MaxPooling2 (None, 36, 36, 64)        0         \n",
            "_________________________________________________________________\n",
            "conv2d_3 (Conv2D)            (None, 34, 34, 128)       73856     \n",
            "_________________________________________________________________\n",
            "max_pooling2d_3 (MaxPooling2 (None, 17, 17, 128)       0         \n",
            "_________________________________________________________________\n",
            "conv2d_4 (Conv2D)            (None, 15, 15, 128)       147584    \n",
            "_________________________________________________________________\n",
            "max_pooling2d_4 (MaxPooling2 (None, 7, 7, 128)         0         \n",
            "_________________________________________________________________\n",
            "flatten_1 (Flatten)          (None, 6272)              0         \n",
            "_________________________________________________________________\n",
            "dense_1 (Dense)              (None, 512)               3211776   \n",
            "_________________________________________________________________\n",
            "dense_2 (Dense)              (None, 1)                 513       \n",
            "=================================================================\n",
            "Total params: 3,453,121\n",
            "Trainable params: 3,453,121\n",
            "Non-trainable params: 0\n",
            "_________________________________________________________________\n"
          ],
          "name": "stdout"
        }
      ]
    },
    {
      "cell_type": "code",
      "metadata": {
        "id": "Gu0bRW6aJC1d",
        "colab_type": "code",
        "colab": {
          "base_uri": "https://localhost:8080/",
          "height": 136
        },
        "outputId": "150dfd73-371b-42bc-be97-8ebe95e5aab7"
      },
      "source": [
        "model.compile(loss='binary_crossentropy', \n",
        "              optimizer=optimizers.RMSprop(lr=1e-4),\n",
        "              metrics=['acc'])"
      ],
      "execution_count": 13,
      "outputs": [
        {
          "output_type": "stream",
          "text": [
            "WARNING:tensorflow:From /usr/local/lib/python3.6/dist-packages/keras/optimizers.py:793: The name tf.train.Optimizer is deprecated. Please use tf.compat.v1.train.Optimizer instead.\n",
            "\n",
            "WARNING:tensorflow:From /usr/local/lib/python3.6/dist-packages/keras/backend/tensorflow_backend.py:3657: The name tf.log is deprecated. Please use tf.math.log instead.\n",
            "\n",
            "WARNING:tensorflow:From /usr/local/lib/python3.6/dist-packages/tensorflow_core/python/ops/nn_impl.py:183: where (from tensorflow.python.ops.array_ops) is deprecated and will be removed in a future version.\n",
            "Instructions for updating:\n",
            "Use tf.where in 2.0, which has the same broadcast rule as np.where\n"
          ],
          "name": "stdout"
        }
      ]
    },
    {
      "cell_type": "code",
      "metadata": {
        "id": "kcuREAKZNH-7",
        "colab_type": "code",
        "colab": {
          "base_uri": "https://localhost:8080/",
          "height": 51
        },
        "outputId": "9a6296ff-1607-4e35-d5fb-06915ca93fbe"
      },
      "source": [
        "train_datagen = ImageDataGenerator(rescale=1./255)\n",
        "test_datagen = ImageDataGenerator(rescale=1./255)\n",
        "\n",
        "train_generator = train_datagen.flow_from_directory(train_dir,\n",
        "                                                    target_size=(150, 150), \n",
        "                                                    batch_size=20,\n",
        "                                                    class_mode='binary')\n",
        "\n",
        "validation_generator = test_datagen.flow_from_directory(validation_dir,\n",
        "                                                        target_size=(150, 150),\n",
        "                                                        batch_size=20,\n",
        "                                                        class_mode='binary')"
      ],
      "execution_count": 15,
      "outputs": [
        {
          "output_type": "stream",
          "text": [
            "Found 2000 images belonging to 2 classes.\n",
            "Found 1000 images belonging to 2 classes.\n"
          ],
          "name": "stdout"
        }
      ]
    },
    {
      "cell_type": "code",
      "metadata": {
        "id": "aUJi5YzaRWp1",
        "colab_type": "code",
        "colab": {
          "base_uri": "https://localhost:8080/",
          "height": 1000
        },
        "outputId": "16159030-8d90-4db1-b7ae-58e9e23e4af8"
      },
      "source": [
        "history = model.fit_generator(train_generator,\n",
        "                              steps_per_epoch=100,\n",
        "                              epochs=30,\n",
        "                              validation_data=validation_generator,\n",
        "                              validation_steps=10)"
      ],
      "execution_count": 16,
      "outputs": [
        {
          "output_type": "stream",
          "text": [
            "WARNING:tensorflow:From /usr/local/lib/python3.6/dist-packages/keras/backend/tensorflow_backend.py:1033: The name tf.assign_add is deprecated. Please use tf.compat.v1.assign_add instead.\n",
            "\n",
            "WARNING:tensorflow:From /usr/local/lib/python3.6/dist-packages/keras/backend/tensorflow_backend.py:1020: The name tf.assign is deprecated. Please use tf.compat.v1.assign instead.\n",
            "\n",
            "WARNING:tensorflow:From /usr/local/lib/python3.6/dist-packages/keras/backend/tensorflow_backend.py:3005: The name tf.Session is deprecated. Please use tf.compat.v1.Session instead.\n",
            "\n",
            "Epoch 1/30\n",
            "WARNING:tensorflow:From /usr/local/lib/python3.6/dist-packages/keras/backend/tensorflow_backend.py:190: The name tf.get_default_session is deprecated. Please use tf.compat.v1.get_default_session instead.\n",
            "\n",
            "WARNING:tensorflow:From /usr/local/lib/python3.6/dist-packages/keras/backend/tensorflow_backend.py:197: The name tf.ConfigProto is deprecated. Please use tf.compat.v1.ConfigProto instead.\n",
            "\n",
            "WARNING:tensorflow:From /usr/local/lib/python3.6/dist-packages/keras/backend/tensorflow_backend.py:207: The name tf.global_variables is deprecated. Please use tf.compat.v1.global_variables instead.\n",
            "\n",
            "WARNING:tensorflow:From /usr/local/lib/python3.6/dist-packages/keras/backend/tensorflow_backend.py:216: The name tf.is_variable_initialized is deprecated. Please use tf.compat.v1.is_variable_initialized instead.\n",
            "\n",
            "WARNING:tensorflow:From /usr/local/lib/python3.6/dist-packages/keras/backend/tensorflow_backend.py:223: The name tf.variables_initializer is deprecated. Please use tf.compat.v1.variables_initializer instead.\n",
            "\n",
            "100/100 [==============================] - 21s 207ms/step - loss: 0.6864 - acc: 0.5320 - val_loss: 0.6778 - val_acc: 0.5900\n",
            "Epoch 2/30\n",
            "100/100 [==============================] - 8s 79ms/step - loss: 0.6470 - acc: 0.6300 - val_loss: 0.6315 - val_acc: 0.6200\n",
            "Epoch 3/30\n",
            "100/100 [==============================] - 8s 79ms/step - loss: 0.5933 - acc: 0.6805 - val_loss: 0.6042 - val_acc: 0.6400\n",
            "Epoch 4/30\n",
            "100/100 [==============================] - 8s 78ms/step - loss: 0.5622 - acc: 0.7045 - val_loss: 0.5445 - val_acc: 0.7150\n",
            "Epoch 5/30\n",
            "100/100 [==============================] - 8s 77ms/step - loss: 0.5344 - acc: 0.7335 - val_loss: 0.5762 - val_acc: 0.6700\n",
            "Epoch 6/30\n",
            "100/100 [==============================] - 8s 79ms/step - loss: 0.5166 - acc: 0.7400 - val_loss: 0.5800 - val_acc: 0.6700\n",
            "Epoch 7/30\n",
            "100/100 [==============================] - 8s 79ms/step - loss: 0.4982 - acc: 0.7500 - val_loss: 0.6244 - val_acc: 0.6900\n",
            "Epoch 8/30\n",
            "100/100 [==============================] - 8s 77ms/step - loss: 0.4757 - acc: 0.7680 - val_loss: 0.5791 - val_acc: 0.6450\n",
            "Epoch 9/30\n",
            "100/100 [==============================] - 8s 77ms/step - loss: 0.4501 - acc: 0.7935 - val_loss: 0.5410 - val_acc: 0.7350\n",
            "Epoch 10/30\n",
            "100/100 [==============================] - 8s 77ms/step - loss: 0.4322 - acc: 0.8045 - val_loss: 0.5891 - val_acc: 0.6950\n",
            "Epoch 11/30\n",
            "100/100 [==============================] - 8s 78ms/step - loss: 0.4049 - acc: 0.8050 - val_loss: 0.5888 - val_acc: 0.6900\n",
            "Epoch 12/30\n",
            "100/100 [==============================] - 8s 77ms/step - loss: 0.3812 - acc: 0.8275 - val_loss: 0.5814 - val_acc: 0.7400\n",
            "Epoch 13/30\n",
            "100/100 [==============================] - 8s 78ms/step - loss: 0.3653 - acc: 0.8435 - val_loss: 0.5565 - val_acc: 0.7200\n",
            "Epoch 14/30\n",
            "100/100 [==============================] - 8s 77ms/step - loss: 0.3469 - acc: 0.8525 - val_loss: 0.5141 - val_acc: 0.7400\n",
            "Epoch 15/30\n",
            "100/100 [==============================] - 8s 77ms/step - loss: 0.3268 - acc: 0.8590 - val_loss: 0.5897 - val_acc: 0.7250\n",
            "Epoch 16/30\n",
            "100/100 [==============================] - 8s 78ms/step - loss: 0.3056 - acc: 0.8775 - val_loss: 0.5498 - val_acc: 0.7600\n",
            "Epoch 17/30\n",
            "100/100 [==============================] - 8s 77ms/step - loss: 0.2842 - acc: 0.8765 - val_loss: 0.5729 - val_acc: 0.7200\n",
            "Epoch 18/30\n",
            "100/100 [==============================] - 8s 77ms/step - loss: 0.2693 - acc: 0.8930 - val_loss: 0.4722 - val_acc: 0.7600\n",
            "Epoch 19/30\n",
            "100/100 [==============================] - 8s 77ms/step - loss: 0.2475 - acc: 0.9040 - val_loss: 0.5977 - val_acc: 0.7650\n",
            "Epoch 20/30\n",
            "100/100 [==============================] - 8s 77ms/step - loss: 0.2230 - acc: 0.9175 - val_loss: 0.6432 - val_acc: 0.7100\n",
            "Epoch 21/30\n",
            "100/100 [==============================] - 8s 78ms/step - loss: 0.2067 - acc: 0.9220 - val_loss: 0.6351 - val_acc: 0.7100\n",
            "Epoch 22/30\n",
            "100/100 [==============================] - 8s 78ms/step - loss: 0.1956 - acc: 0.9280 - val_loss: 0.6471 - val_acc: 0.7100\n",
            "Epoch 23/30\n",
            "100/100 [==============================] - 8s 77ms/step - loss: 0.1813 - acc: 0.9335 - val_loss: 0.6601 - val_acc: 0.7200\n",
            "Epoch 24/30\n",
            "100/100 [==============================] - 8s 77ms/step - loss: 0.1542 - acc: 0.9460 - val_loss: 0.5448 - val_acc: 0.7850\n",
            "Epoch 25/30\n",
            "100/100 [==============================] - 8s 78ms/step - loss: 0.1398 - acc: 0.9515 - val_loss: 0.9428 - val_acc: 0.7050\n",
            "Epoch 26/30\n",
            "100/100 [==============================] - 8s 78ms/step - loss: 0.1268 - acc: 0.9570 - val_loss: 0.7624 - val_acc: 0.7100\n",
            "Epoch 27/30\n",
            "100/100 [==============================] - 8s 77ms/step - loss: 0.1131 - acc: 0.9630 - val_loss: 0.7533 - val_acc: 0.7600\n",
            "Epoch 28/30\n",
            "100/100 [==============================] - 8s 77ms/step - loss: 0.1003 - acc: 0.9690 - val_loss: 0.6474 - val_acc: 0.7450\n",
            "Epoch 29/30\n",
            "100/100 [==============================] - 8s 76ms/step - loss: 0.0870 - acc: 0.9735 - val_loss: 0.7450 - val_acc: 0.7250\n",
            "Epoch 30/30\n",
            "100/100 [==============================] - 8s 77ms/step - loss: 0.0760 - acc: 0.9760 - val_loss: 1.0371 - val_acc: 0.6950\n"
          ],
          "name": "stdout"
        }
      ]
    },
    {
      "cell_type": "code",
      "metadata": {
        "id": "64TNadHES6xr",
        "colab_type": "code",
        "colab": {
          "base_uri": "https://localhost:8080/",
          "height": 545
        },
        "outputId": "5b6a8b59-1528-49e0-ec96-c9aac5cc749c"
      },
      "source": [
        "model.save('cats_and_dogs_small_1.h5')\n",
        "\n",
        "import matplotlib.pyplot as plt\n",
        "\n",
        "acc = history.history['acc']\n",
        "val_acc = history.history['val_acc']\n",
        "loss = history.history['loss']\n",
        "val_loss = history.history['val_loss']\n",
        "\n",
        "epochs = range(1, len(acc) + 1)\n",
        "\n",
        "plt.plot(epochs, acc, 'bo', label='Training acc')\n",
        "plt.plot(epochs, val_acc, 'b', label='Validation acc')\n",
        "plt.title('Training and validation accuracy')\n",
        "plt.legend()\n",
        "\n",
        "plt.figure()\n",
        "\n",
        "plt.plot(epochs, loss, 'bo', label='Training loss')\n",
        "plt.plot(epochs, val_loss, 'b', label='Validation loss')\n",
        "plt.title('Training and validation loss')\n",
        "plt.legend()\n",
        "\n",
        "plt.show()"
      ],
      "execution_count": 17,
      "outputs": [
        {
          "output_type": "display_data",
          "data": {
            "image/png": "[encoded data removed]",
            "text/plain": [
              "<Figure size 432x288 with 1 Axes>"
            ]
          },
          "metadata": {
            "tags": []
          }
        },
        {
          "output_type": "display_data",
          "data": {
            "image/png": "[encoded data removed]",
            "text/plain": [
              "<Figure size 432x288 with 1 Axes>"
            ]
          },
          "metadata": {
            "tags": []
          }
        }
      ]
    },
    {
      "cell_type": "code",
      "metadata": {
        "id": "lUxKw7f_T30l",
        "colab_type": "code",
        "colab": {
          "base_uri": "https://localhost:8080/",
          "height": 102
        },
        "outputId": "3e36d970-e4de-4709-b183-d157d462be35"
      },
      "source": [
        "model = models.Sequential()\n",
        "model.add(layers.Conv2D(32, (3, 3), activation='relu',\n",
        "input_shape=(150, 150, 3)))\n",
        "model.add(layers.MaxPooling2D((2, 2)))\n",
        "model.add(layers.Conv2D(64, (3, 3), activation='relu'))\n",
        "model.add(layers.MaxPooling2D((2, 2)))\n",
        "model.add(layers.Conv2D(128, (3, 3), activation='relu'))\n",
        "model.add(layers.MaxPooling2D((2, 2)))\n",
        "model.add(layers.Conv2D(128, (3, 3), activation='relu'))\n",
        "model.add(layers.MaxPooling2D((2, 2)))\n",
        "model.add(layers.Flatten())\n",
        "model.add(layers.Dropout(0.5))\n",
        "model.add(layers.Dense(512, activation='relu'))\n",
        "model.add(layers.Dense(1, activation='sigmoid'))\n",
        "\n",
        "model.compile(loss='binary_crossentropy',\n",
        "              optimizer=optimizers.RMSprop(lr=1e-4),\n",
        "              metrics=['acc'])"
      ],
      "execution_count": 18,
      "outputs": [
        {
          "output_type": "stream",
          "text": [
            "WARNING:tensorflow:From /usr/local/lib/python3.6/dist-packages/keras/backend/tensorflow_backend.py:148: The name tf.placeholder_with_default is deprecated. Please use tf.compat.v1.placeholder_with_default instead.\n",
            "\n",
            "WARNING:tensorflow:From /usr/local/lib/python3.6/dist-packages/keras/backend/tensorflow_backend.py:3733: calling dropout (from tensorflow.python.ops.nn_ops) with keep_prob is deprecated and will be removed in a future version.\n",
            "Instructions for updating:\n",
            "Please use `rate` instead of `keep_prob`. Rate should be set to `rate = 1 - keep_prob`.\n"
          ],
          "name": "stdout"
        }
      ]
    },
    {
      "cell_type": "code",
      "metadata": {
        "id": "t1dqeuZAUNHX",
        "colab_type": "code",
        "colab": {
          "base_uri": "https://localhost:8080/",
          "height": 731
        },
        "outputId": "98f1c660-51f3-4501-a8cc-ba3cdde25c16"
      },
      "source": [
        "\n",
        "train_datagen = ImageDataGenerator(rescale=1./255,\n",
        "                                   rotation_range=40,\n",
        "                                   width_shift_range=0.2,\n",
        "                                   height_shift_range=0.2,\n",
        "                                   shear_range=0.2,\n",
        "                                   zoom_range=0.2,\n",
        "                                   horizontal_flip=True,)\n",
        "\n",
        "test_datagen = ImageDataGenerator(rescale=1./255)\n",
        "\n",
        "train_generator = train_datagen.flow_from_directory(train_dir,\n",
        "                                                    target_size=(150, 150),\n",
        "                                                    batch_size=32,\n",
        "                                                    class_mode='binary')\n",
        "\n",
        "validation_generator = test_datagen.flow_from_directory(validation_dir,\n",
        "                                                        target_size=(150, 150),\n",
        "                                                        batch_size=32,\n",
        "                                                        class_mode='binary')\n",
        "\n",
        "history = model.fit_generator(train_generator,\n",
        "                              steps_per_epoch=100,\n",
        "                              epochs=20,\n",
        "                              validation_data=validation_generator,\n",
        "                              validation_steps=50)"
      ],
      "execution_count": 19,
      "outputs": [
        {
          "output_type": "stream",
          "text": [
            "Found 2000 images belonging to 2 classes.\n",
            "Found 1000 images belonging to 2 classes.\n",
            "Epoch 1/20\n",
            "100/100 [==============================] - 33s 333ms/step - loss: 0.6917 - acc: 0.5284 - val_loss: 0.6727 - val_acc: 0.6079\n",
            "Epoch 2/20\n",
            "100/100 [==============================] - 30s 302ms/step - loss: 0.6816 - acc: 0.5578 - val_loss: 0.6632 - val_acc: 0.5857\n",
            "Epoch 3/20\n",
            "100/100 [==============================] - 30s 296ms/step - loss: 0.6649 - acc: 0.5909 - val_loss: 0.6580 - val_acc: 0.5926\n",
            "Epoch 4/20\n",
            "100/100 [==============================] - 30s 303ms/step - loss: 0.6435 - acc: 0.6350 - val_loss: 0.6210 - val_acc: 0.6334\n",
            "Epoch 5/20\n",
            "100/100 [==============================] - 29s 287ms/step - loss: 0.6255 - acc: 0.6475 - val_loss: 0.5883 - val_acc: 0.6764\n",
            "Epoch 6/20\n",
            "100/100 [==============================] - 32s 319ms/step - loss: 0.6076 - acc: 0.6775 - val_loss: 0.5945 - val_acc: 0.6624\n",
            "Epoch 7/20\n",
            "100/100 [==============================] - 30s 299ms/step - loss: 0.5986 - acc: 0.6722 - val_loss: 0.6451 - val_acc: 0.6402\n",
            "Epoch 8/20\n",
            "100/100 [==============================] - 30s 299ms/step - loss: 0.5929 - acc: 0.6847 - val_loss: 0.6322 - val_acc: 0.6546\n",
            "Epoch 9/20\n",
            "100/100 [==============================] - 30s 298ms/step - loss: 0.5810 - acc: 0.6916 - val_loss: 0.5658 - val_acc: 0.6952\n",
            "Epoch 10/20\n",
            "100/100 [==============================] - 30s 295ms/step - loss: 0.5729 - acc: 0.7041 - val_loss: 0.5925 - val_acc: 0.6815\n",
            "Epoch 11/20\n",
            "100/100 [==============================] - 30s 304ms/step - loss: 0.5750 - acc: 0.6891 - val_loss: 0.5561 - val_acc: 0.7043\n",
            "Epoch 12/20\n",
            "100/100 [==============================] - 30s 299ms/step - loss: 0.5716 - acc: 0.7044 - val_loss: 0.5387 - val_acc: 0.7265\n",
            "Epoch 13/20\n",
            "100/100 [==============================] - 30s 299ms/step - loss: 0.5544 - acc: 0.7141 - val_loss: 0.5550 - val_acc: 0.7068\n",
            "Epoch 14/20\n",
            "100/100 [==============================] - 30s 298ms/step - loss: 0.5531 - acc: 0.7078 - val_loss: 0.5390 - val_acc: 0.7011\n",
            "Epoch 15/20\n",
            "100/100 [==============================] - 31s 306ms/step - loss: 0.5567 - acc: 0.7125 - val_loss: 0.5618 - val_acc: 0.6965\n",
            "Epoch 16/20\n",
            "100/100 [==============================] - 30s 298ms/step - loss: 0.5432 - acc: 0.7247 - val_loss: 0.5888 - val_acc: 0.7043\n",
            "Epoch 17/20\n",
            "100/100 [==============================] - 28s 281ms/step - loss: 0.5370 - acc: 0.7206 - val_loss: 0.5226 - val_acc: 0.7373\n",
            "Epoch 18/20\n",
            "100/100 [==============================] - 33s 326ms/step - loss: 0.5345 - acc: 0.7372 - val_loss: 0.5214 - val_acc: 0.7326\n",
            "Epoch 19/20\n",
            "100/100 [==============================] - 30s 298ms/step - loss: 0.5312 - acc: 0.7278 - val_loss: 0.5192 - val_acc: 0.7386\n",
            "Epoch 20/20\n",
            "100/100 [==============================] - 30s 299ms/step - loss: 0.5283 - acc: 0.7262 - val_loss: 0.5282 - val_acc: 0.7255\n"
          ],
          "name": "stdout"
        }
      ]
    },
    {
      "cell_type": "code",
      "metadata": {
        "id": "hLxmUrnOVZSR",
        "colab_type": "code",
        "colab": {
          "base_uri": "https://localhost:8080/",
          "height": 545
        },
        "outputId": "3f0d6c6c-de88-472e-fca8-d7c636a32471"
      },
      "source": [
        "model.save('cats_and_dogs_small_1.h5_v2')\n",
        "\n",
        "import matplotlib.pyplot as plt\n",
        "\n",
        "acc = history.history['acc']\n",
        "val_acc = history.history['val_acc']\n",
        "loss = history.history['loss']\n",
        "val_loss = history.history['val_loss']\n",
        "\n",
        "epochs = range(1, len(acc) + 1)\n",
        "\n",
        "plt.plot(epochs, acc, 'bo', label='Training acc')\n",
        "plt.plot(epochs, val_acc, 'b', label='Validation acc')\n",
        "plt.title('Training and validation accuracy')\n",
        "plt.legend()\n",
        "\n",
        "plt.figure()\n",
        "\n",
        "plt.plot(epochs, loss, 'bo', label='Training loss')\n",
        "plt.plot(epochs, val_loss, 'b', label='Validation loss')\n",
        "plt.title('Training and validation loss')\n",
        "plt.legend()\n",
        "\n",
        "plt.show()"
      ],
      "execution_count": 20,
      "outputs": [
        {
          "output_type": "display_data",
          "data": {
            "image/png": "[encoded data removed]",
            "text/plain": [
              "<Figure size 432x288 with 1 Axes>"
            ]
          },
          "metadata": {
            "tags": []
          }
        },
        {
          "output_type": "display_data",
          "data": {
            "image/png": "[encoded data removed]",
            "text/plain": [
              "<Figure size 432x288 with 1 Axes>"
            ]
          },
          "metadata": {
            "tags": []
          }
        }
      ]
    },
    {
      "cell_type": "code",
      "metadata": {
        "id": "ASusizEmX2zc",
        "colab_type": "code",
        "colab": {}
      },
      "source": [
        ""
      ],
      "execution_count": 0,
      "outputs": []
    }
  ]
}