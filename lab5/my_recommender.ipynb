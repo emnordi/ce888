{
  "nbformat": 4,
  "nbformat_minor": 0,
  "metadata": {
    "colab": {
      "name": "my_recommender.ipynb",
      "provenance": [],
      "collapsed_sections": [],
      "authorship_tag": "ABX9TyOUOH9Lj4gqcZUCfZtnlCPx",
      "include_colab_link": true
    },
    "kernelspec": {
      "name": "python3",
      "display_name": "Python 3"
    },
    "accelerator": "GPU"
  },
  "cells": [
    {
      "cell_type": "markdown",
      "metadata": {
        "id": "view-in-github",
        "colab_type": "text"
      },
      "source": [
        "<a href=\"https://colab.research.google.com/github/emnordi/ce888/blob/master/lab5/my_recommender.ipynb\" target=\"_parent\"><img src=\"https://colab.research.google.com/assets/colab-badge.svg\" alt=\"Open In Colab\"/></a>"
      ]
    },
    {
      "cell_type": "code",
      "metadata": {
        "id": "SO8dGfxD6urm",
        "colab_type": "code",
        "colab": {}
      },
      "source": [
        "import pandas as pd\n",
        "from sklearn.model_selection import train_test_split\n",
        "import numpy as np\n",
        "from IPython.display import Image\n",
        "np.set_printoptions(precision = 3)"
      ],
      "execution_count": 0,
      "outputs": []
    },
    {
      "cell_type": "code",
      "metadata": {
        "id": "9vOPXqHD7GIY",
        "colab_type": "code",
        "colab": {}
      },
      "source": [
        "data = pd.read_csv(\"https://raw.githubusercontent.com/albanda/CE888/master/lab5-recommender/jester-data-1.csv\", header=None)\n",
        "data = data.drop(data.columns[0], axis=1)"
      ],
      "execution_count": 0,
      "outputs": []
    },
    {
      "cell_type": "code",
      "metadata": {
        "id": "k5R7UQ2u8VN6",
        "colab_type": "code",
        "colab": {}
      },
      "source": [
        "def replace(orig, percentage=0.1):\n",
        "  \"\"\"\n",
        "  Replaces 'percentage'% of the original values in 'orig' with 99's\n",
        "  :param orig: original data array\n",
        "  :param percentage: percentage of values to replace (0<percentage<1)\n",
        "  \"\"\"\n",
        "  new_data = orig.copy()\n",
        "  rated = np.where(arr!=99)\n",
        "  n_rated = len(rated[0])\n",
        "  idx = np.random.choice(n_rated, size=int(percentage*n_rated), replace=False)\n",
        "  new_data[rated[0][idx], rated[1][idx]] = 99\n",
        "  return new_data, (rated[0][idx], rated[1][idx])"
      ],
      "execution_count": 0,
      "outputs": []
    },
    {
      "cell_type": "code",
      "metadata": {
        "id": "R59vNzXK8WQG",
        "colab_type": "code",
        "colab": {}
      },
      "source": [
        "arr = data.values\n",
        "rated = np.where(arr!=99)\n",
        "newdata, tup = replace(data.values)"
      ],
      "execution_count": 0,
      "outputs": []
    },
    {
      "cell_type": "code",
      "metadata": {
        "id": "7fDSji6_8vye",
        "colab_type": "code",
        "colab": {}
      },
      "source": [
        "x, y = tup"
      ],
      "execution_count": 0,
      "outputs": []
    },
    {
      "cell_type": "code",
      "metadata": {
        "id": "8MIGLJ4k_dEm",
        "colab_type": "code",
        "colab": {}
      },
      "source": [
        "#LATENT FACTOR"
      ],
      "execution_count": 0,
      "outputs": []
    },
    {
      "cell_type": "code",
      "metadata": {
        "id": "GOpnttLCAazW",
        "colab_type": "code",
        "colab": {}
      },
      "source": [
        "n_latent_factors = 6\n",
        "\n",
        "user_ratings = newdata\n",
        "# Initialise as random values\n",
        "latent_user_preferences = np.random.random((user_ratings.shape[0], n_latent_factors))\n",
        "latent_item_features = np.random.random((user_ratings.shape[1], n_latent_factors))"
      ],
      "execution_count": 0,
      "outputs": []
    },
    {
      "cell_type": "code",
      "metadata": {
        "id": "T7Q5WcyZAg2j",
        "colab_type": "code",
        "colab": {}
      },
      "source": [
        "\n",
        "def predict_rating(joke_id, rating_id):\n",
        "    \"\"\" Predict a rating given a joke_id and an rating_id.\n",
        "    \"\"\"\n",
        "    user_preference = latent_user_preferences[joke_id]\n",
        "    item_preference = latent_item_features[rating_id]\n",
        "    return user_preference.dot(item_preference)\n",
        "\n",
        "\n",
        "def train(joke_id, rating_id, rating, alpha=0.0001):\n",
        "    \n",
        "    #print rating_id\n",
        "    prediction_rating = predict_rating(joke_id, rating_id)\n",
        "    err =  prediction_rating - rating\n",
        "    #print err\n",
        "    user_pref_values = latent_user_preferences[joke_id][:]\n",
        "    latent_user_preferences[joke_id] -= alpha * err * latent_item_features[rating_id]\n",
        "    latent_item_features[rating_id] -= alpha * err * user_pref_values\n",
        "    return err\n",
        "    \n",
        "\n",
        "def sgd(iterations=50):\n",
        "    \"\"\" Iterate over all jokes and all ratings and train for \n",
        "        a certain number of iterations\n",
        "    \"\"\"\n",
        "    for iteration in range(iterations):\n",
        "        error = []\n",
        "        for joke_id in range(latent_user_preferences.shape[0]):\n",
        "            for rating_id in range(latent_item_features.shape[0]):\n",
        "                rating = user_ratings[joke_id][rating_id]\n",
        "                if rating != 99:\n",
        "                    err = train(joke_id, rating_id, rating)\n",
        "                    error.append(err)\n",
        "        mse = (np.array(error) ** 2).mean()   \n",
        "        if (iteration % 10) == 0:\n",
        "            print(mse)"
      ],
      "execution_count": 0,
      "outputs": []
    },
    {
      "cell_type": "code",
      "metadata": {
        "id": "ddCg-fpNDOei",
        "colab_type": "code",
        "colab": {
          "base_uri": "https://localhost:8080/",
          "height": 102
        },
        "outputId": "e54ca965-d764-465b-9090-480a13d86ce2"
      },
      "source": [
        "sgd()"
      ],
      "execution_count": 9,
      "outputs": [
        {
          "output_type": "stream",
          "text": [
            "25.572119530396208\n",
            "24.206648932556515\n",
            "21.54373842800415\n",
            "17.927381281465355\n",
            "17.494832892131342\n"
          ],
          "name": "stdout"
        }
      ]
    },
    {
      "cell_type": "code",
      "metadata": {
        "id": "JYBUSXxeFYhy",
        "colab_type": "code",
        "colab": {}
      },
      "source": [
        "predictions = latent_user_preferences.dot(latent_item_features.T)"
      ],
      "execution_count": 0,
      "outputs": []
    },
    {
      "cell_type": "code",
      "metadata": {
        "id": "r2_RNRCqMF47",
        "colab_type": "code",
        "colab": {}
      },
      "source": [
        "error = 0"
      ],
      "execution_count": 0,
      "outputs": []
    },
    {
      "cell_type": "code",
      "metadata": {
        "id": "oIvKwxNxJxa-",
        "colab_type": "code",
        "colab": {}
      },
      "source": [
        "for val in range(len(x)):\n",
        "  error += (data.values[x[val], y[val]] - predictions[x[val], y[val]])**2\n"
      ],
      "execution_count": 0,
      "outputs": []
    },
    {
      "cell_type": "code",
      "metadata": {
        "id": "UPm6ImamYYm-",
        "colab_type": "code",
        "colab": {
          "base_uri": "https://localhost:8080/",
          "height": 34
        },
        "outputId": "db5b7f9b-03c6-4572-e7bc-f61bffc4b02d"
      },
      "source": [
        "print(\"MSE 50 iter, alpha=0.0001, latent = 2:\", error/len(x))"
      ],
      "execution_count": 157,
      "outputs": [
        {
          "output_type": "stream",
          "text": [
            "MSE: 18.17020494399254\n"
          ],
          "name": "stdout"
        }
      ]
    },
    {
      "cell_type": "code",
      "metadata": {
        "id": "RvDkCOd-Nrat",
        "colab_type": "code",
        "colab": {
          "base_uri": "https://localhost:8080/",
          "height": 34
        },
        "outputId": "124ac0b3-15c9-4dc7-a45b-4ee451905f5f"
      },
      "source": [
        "print(\"MSE 70 iter, alpha=0.0001, latent = 2:\", error/len(x))"
      ],
      "execution_count": 189,
      "outputs": [
        {
          "output_type": "stream",
          "text": [
            "MSE 70 iter, alpha=0.0001: 18.299726039034176\n"
          ],
          "name": "stdout"
        }
      ]
    },
    {
      "cell_type": "code",
      "metadata": {
        "id": "X9QlWTdzcYDY",
        "colab_type": "code",
        "colab": {
          "base_uri": "https://localhost:8080/",
          "height": 34
        },
        "outputId": "9efc60d2-7754-4bd0-93bd-07eb8c67de6b"
      },
      "source": [
        "print(\"MSE 50 iter, alpha=0.00001, latent = 2:\", error/len(x))"
      ],
      "execution_count": 41,
      "outputs": [
        {
          "output_type": "stream",
          "text": [
            "MSE 50 iter, alpha=0.00001: 24.554725415725215\n"
          ],
          "name": "stdout"
        }
      ]
    },
    {
      "cell_type": "code",
      "metadata": {
        "id": "OSSroEQs9eDM",
        "colab_type": "code",
        "colab": {
          "base_uri": "https://localhost:8080/",
          "height": 34
        },
        "outputId": "e2796464-8c1f-433c-c0c9-bb9eff69faa7"
      },
      "source": [
        "print(\"MSE 50 iter, alpha=0.0001, latent = 3:\", error/len(x))"
      ],
      "execution_count": 52,
      "outputs": [
        {
          "output_type": "stream",
          "text": [
            "MSE 50 iter, alpha=0.0001, latent = 3: 18.014014935812405\n"
          ],
          "name": "stdout"
        }
      ]
    },
    {
      "cell_type": "code",
      "metadata": {
        "id": "9O0QDsuJBSbg",
        "colab_type": "code",
        "colab": {
          "base_uri": "https://localhost:8080/",
          "height": 34
        },
        "outputId": "eeaec0c3-5e3e-4bb8-d390-11e5fc34ee94"
      },
      "source": [
        "print(\"MSE 50 iter, alpha=0.0001, latent = 4:\", error/len(x))"
      ],
      "execution_count": 59,
      "outputs": [
        {
          "output_type": "stream",
          "text": [
            "MSE 50 iter, alpha=0.0001, latent = 4: 17.975855481689663\n"
          ],
          "name": "stdout"
        }
      ]
    },
    {
      "cell_type": "code",
      "metadata": {
        "id": "rx19cqfIEwYc",
        "colab_type": "code",
        "colab": {
          "base_uri": "https://localhost:8080/",
          "height": 34
        },
        "outputId": "89deadba-36da-4f3d-8186-ba13a5e406c9"
      },
      "source": [
        "print(\"MSE 50 iter, alpha=0.0001, latent = 5:\", error/len(x))"
      ],
      "execution_count": 77,
      "outputs": [
        {
          "output_type": "stream",
          "text": [
            "MSE 50 iter, alpha=0.0001, latent = 5: 17.248999747688927\n"
          ],
          "name": "stdout"
        }
      ]
    },
    {
      "cell_type": "code",
      "metadata": {
        "id": "d-mAjnaFImkt",
        "colab_type": "code",
        "colab": {
          "base_uri": "https://localhost:8080/",
          "height": 34
        },
        "outputId": "0acab895-6776-4875-ff50-a2eab95afdce"
      },
      "source": [
        "print(\"MSE 50 iter, alpha=0.0001, latent = 6:\", error/len(x))"
      ],
      "execution_count": 16,
      "outputs": [
        {
          "output_type": "stream",
          "text": [
            "MSE 50 iter, alpha=0.0001, latent = 6: 18.06304370488036\n"
          ],
          "name": "stdout"
        }
      ]
    },
    {
      "cell_type": "code",
      "metadata": {
        "id": "5qD0oLJ-RKxp",
        "colab_type": "code",
        "colab": {}
      },
      "source": [
        ""
      ],
      "execution_count": 0,
      "outputs": []
    }
  ]
}