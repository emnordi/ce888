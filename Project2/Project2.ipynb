{
  "nbformat": 4,
  "nbformat_minor": 0,
  "metadata": {
    "colab": {
      "name": "Project2.ipynb",
      "provenance": [],
      "collapsed_sections": [],
      "authorship_tag": "ABX9TyO17zv/zNrO797NvWJG2Y6e",
      "include_colab_link": true
    },
    "kernelspec": {
      "name": "python3",
      "display_name": "Python 3"
    }
  },
  "cells": [
    {
      "cell_type": "markdown",
      "metadata": {
        "id": "view-in-github",
        "colab_type": "text"
      },
      "source": [
        "<a href=\"https://colab.research.google.com/github/emnordi/ce888/blob/master/Project2/Project2.ipynb\" target=\"_parent\"><img src=\"https://colab.research.google.com/assets/colab-badge.svg\" alt=\"Open In Colab\"/></a>"
      ]
    },
    {
      "cell_type": "code",
      "metadata": {
        "id": "BpVmhVOwDruJ",
        "colab_type": "code",
        "colab": {}
      },
      "source": [
        "import pandas as pd\n",
        "import os\n",
        "import io\n",
        "import numpy as np\n",
        "from sklearn.model_selection import StratifiedKFold\n",
        "from sklearn import tree\n",
        "from sklearn.model_selection import cross_val_score\n",
        "\n",
        "os.environ['KAGGLE_USERNAME'] = \"emilnordin\" # username from the json file\n",
        "\n",
        "os.environ['KAGGLE_KEY'] = \"3f9baf0776ca705fb3dbe29ef5e7caab\" # key from the json file"
      ],
      "execution_count": 0,
      "outputs": []
    },
    {
      "cell_type": "markdown",
      "metadata": {
        "id": "4cTRsaNTmyGq",
        "colab_type": "text"
      },
      "source": [
        "DOWNLOADING AND IMPORTING DATASETS"
      ]
    },
    {
      "cell_type": "code",
      "metadata": {
        "id": "JLl_nw4RPhqD",
        "colab_type": "code",
        "colab": {
          "base_uri": "https://localhost:8080/",
          "height": 68
        },
        "outputId": "65dc605c-1158-4a95-9220-9f18754ccef0"
      },
      "source": [
        "!kaggle datasets download -d uciml/mushroom-classification"
      ],
      "execution_count": 3,
      "outputs": [
        {
          "output_type": "stream",
          "text": [
            "Downloading mushroom-classification.zip to /content\n",
            "\r  0% 0.00/34.2k [00:00<?, ?B/s]\n",
            "\r100% 34.2k/34.2k [00:00<00:00, 32.7MB/s]\n"
          ],
          "name": "stdout"
        }
      ]
    },
    {
      "cell_type": "code",
      "metadata": {
        "id": "FdNjI4voWCI0",
        "colab_type": "code",
        "outputId": "b6748bea-4e20-4408-d8bc-c9f752396f05",
        "colab": {
          "base_uri": "https://localhost:8080/",
          "height": 68
        }
      },
      "source": [
        "!kaggle datasets download -d emoneyanalytics/unbalancedrisk"
      ],
      "execution_count": 4,
      "outputs": [
        {
          "output_type": "stream",
          "text": [
            "Downloading unbalancedrisk.zip to /content\n",
            "\r  0% 0.00/115k [00:00<?, ?B/s]\n",
            "\r100% 115k/115k [00:00<00:00, 42.1MB/s]\n"
          ],
          "name": "stdout"
        }
      ]
    },
    {
      "cell_type": "code",
      "metadata": {
        "id": "Eycbby419_NH",
        "colab_type": "code",
        "colab": {
          "base_uri": "https://localhost:8080/",
          "height": 68
        },
        "outputId": "5df5fd7f-106c-4e39-a618-ed80b290c1a9"
      },
      "source": [
        "!kaggle datasets download -d subediaarjun/unbalanced-fraud-detection-dataset"
      ],
      "execution_count": 5,
      "outputs": [
        {
          "output_type": "stream",
          "text": [
            "Downloading unbalanced-fraud-detection-dataset.zip to /content\n",
            "\r  0% 0.00/2.57M [00:00<?, ?B/s]\n",
            "\r100% 2.57M/2.57M [00:00<00:00, 85.0MB/s]\n"
          ],
          "name": "stdout"
        }
      ]
    },
    {
      "cell_type": "code",
      "metadata": {
        "id": "z4qrA3Rl-EsI",
        "colab_type": "code",
        "colab": {
          "base_uri": "https://localhost:8080/",
          "height": 51
        },
        "outputId": "ca6ee95b-7c2d-47f9-ea9c-a7993b39ae6d"
      },
      "source": [
        "#This dataset happened to be in excel format requiring some extra steps\n",
        "!unzip unbalanced-fraud-detection-dataset.zip"
      ],
      "execution_count": 6,
      "outputs": [
        {
          "output_type": "stream",
          "text": [
            "Archive:  unbalanced-fraud-detection-dataset.zip\n",
            "  inflating: Fraud Detection Sample data.xlsx  \n"
          ],
          "name": "stdout"
        }
      ]
    },
    {
      "cell_type": "code",
      "metadata": {
        "id": "xQJNiiqePmIU",
        "colab_type": "code",
        "colab": {}
      },
      "source": [
        "data_mush = pd.read_csv('mushroom-classification.zip', compression='zip', header=0, sep=',', quotechar='\"', encoding = \"utf-8\")"
      ],
      "execution_count": 0,
      "outputs": []
    },
    {
      "cell_type": "code",
      "metadata": {
        "id": "eok4jlGQPrqx",
        "colab_type": "code",
        "colab": {}
      },
      "source": [
        "#Downsample to get 65% imbalance\n",
        "mush_p_ind = data_mush[data_mush['class'] == 'p'].index\n",
        "to_del = mush_p_ind[0:int(len(mush_p_ind)*0.43)]\n",
        "data_mush_imbalanced = data_mush.drop(index=to_del)\n",
        "\n",
        "#Convert string data to ints\n",
        "data_mush_imbalanced_ = pd.get_dummies(data_mush_imbalanced)\n",
        "data_mush_imbalanced_ = data_mush_imbalanced_.drop('class_e', axis=1)"
      ],
      "execution_count": 0,
      "outputs": []
    },
    {
      "cell_type": "code",
      "metadata": {
        "id": "caP8rhXtJzoO",
        "colab_type": "code",
        "colab": {}
      },
      "source": [
        "data_risk = pd.read_csv('unbalancedrisk.zip', compression='zip', header=0, sep=',', quotechar='\"', encoding = \"utf-8\")"
      ],
      "execution_count": 0,
      "outputs": []
    },
    {
      "cell_type": "code",
      "metadata": {
        "id": "OFmerDEA_N_V",
        "colab_type": "code",
        "colab": {}
      },
      "source": [
        "data_fraud = pd.read_excel(\"Fraud Detection Sample data.xlsx\", sheet_name = 'credit_card_fraud_sample', header = 0)"
      ],
      "execution_count": 0,
      "outputs": []
    },
    {
      "cell_type": "markdown",
      "metadata": {
        "id": "MBIshC7TnAB7",
        "colab_type": "text"
      },
      "source": [
        "PRINTING DATASETS"
      ]
    },
    {
      "cell_type": "code",
      "metadata": {
        "id": "lemEmSueVAZq",
        "colab_type": "code",
        "outputId": "4d0a3824-a2e1-42a7-a20e-b9cec4b30ced",
        "colab": {
          "base_uri": "https://localhost:8080/",
          "height": 255
        }
      },
      "source": [
        "print(data_risk)"
      ],
      "execution_count": 23,
      "outputs": [
        {
          "output_type": "stream",
          "text": [
            "        id  f1        f2  f3   f4  ...   f31         f32    f33      f34  obj1\n",
            "0        1   1   17.2131   1  1.0  ...  13.0   32.766370    NaN      NaN     0\n",
            "1        2  35    0.1747   1  1.0  ...  23.0  210.567669    NaN      NaN     0\n",
            "2        3   1   35.3943   1  NaN  ...  16.0    0.000111    NaN      NaN     1\n",
            "3        4   1    4.4873   1  1.0  ...   7.0    9.380889    NaN      NaN     0\n",
            "4        5   1       NaN   1  NaN  ...  20.0   28.089135    NaN      NaN     0\n",
            "...    ...  ..       ...  ..  ...  ...   ...         ...    ...      ...   ...\n",
            "4523  4524  29    5.7576   1  1.0  ...  32.0  236.170700    NaN  63.0541     0\n",
            "4524  4525   2  107.7430   1  1.0  ...  27.0    2.799800    NaN      NaN     1\n",
            "4525  4526   1    1.9364   1  1.0  ...   NaN  205.806400    NaN  15.9357     1\n",
            "4526  4527   1    7.6795   1  3.0  ...  10.0    1.658700  533.0      NaN     0\n",
            "4527  4528   1   80.0871   1  1.0  ...   NaN    2.980200    NaN      NaN     1\n",
            "\n",
            "[4528 rows x 36 columns]\n"
          ],
          "name": "stdout"
        }
      ]
    },
    {
      "cell_type": "code",
      "metadata": {
        "id": "jqIBIbQMAfbW",
        "colab_type": "code",
        "colab": {
          "base_uri": "https://localhost:8080/",
          "height": 255
        },
        "outputId": "e3c6bb3f-eef5-48da-a672-8c11fa3205c2"
      },
      "source": [
        "print(data_fraud)"
      ],
      "execution_count": 24,
      "outputs": [
        {
          "output_type": "stream",
          "text": [
            "          ID        V1        V2        V3  ...       V27       V28  Amount  Class\n",
            "0     221547 -1.191668  0.428409  1.640028  ... -0.319964 -0.017444   27.44      0\n",
            "1     184524  1.966614 -0.450087 -1.228586  ... -0.039155 -0.071314   35.95      0\n",
            "2      91201  1.528452 -1.296191 -0.890677  ...  0.042997  0.025853   28.40      0\n",
            "3      26115 -0.774614  1.100916  0.679080  ...  0.282940  0.123856   43.20      0\n",
            "4     201292 -1.075860  1.361160  1.496972  ...  0.951130  0.158996    0.83      1\n",
            "...      ...       ...       ...       ...  ...       ...       ...     ...    ...\n",
            "7295   96789 -3.593476  0.781442 -1.822448  ... -1.478767  0.722673  101.50      1\n",
            "7296   18809  0.923764  0.344048 -2.880004  ...  0.489035 -0.049729   30.30      1\n",
            "7297  197586 -0.361428  1.133472 -2.971360  ... -0.001250 -0.182751  480.72      1\n",
            "7298  184379 -1.141559  1.927650 -3.905356  ... -0.146102  0.076211   25.00      1\n",
            "7299  145800 -0.419820 -1.155978 -2.092516  ... -0.021363  0.129096  451.27      1\n",
            "\n",
            "[7300 rows x 31 columns]\n"
          ],
          "name": "stdout"
        }
      ]
    },
    {
      "cell_type": "code",
      "metadata": {
        "id": "OEgIIyCjnmLv",
        "colab_type": "code",
        "colab": {
          "base_uri": "https://localhost:8080/",
          "height": 255
        },
        "outputId": "4a3fb10a-2b8b-4e1c-9aa3-3c3d6f25bc63"
      },
      "source": [
        "print(data_mush_imbalanced_)"
      ],
      "execution_count": 25,
      "outputs": [
        {
          "output_type": "stream",
          "text": [
            "      class_p  cap-shape_b  cap-shape_c  ...  habitat_p  habitat_u  habitat_w\n",
            "1           0            0            0  ...          0          0          0\n",
            "2           0            1            0  ...          0          0          0\n",
            "4           0            0            0  ...          0          0          0\n",
            "5           0            0            0  ...          0          0          0\n",
            "6           0            1            0  ...          0          0          0\n",
            "...       ...          ...          ...  ...        ...        ...        ...\n",
            "8119        0            0            0  ...          0          0          0\n",
            "8120        0            0            0  ...          0          0          0\n",
            "8121        0            0            0  ...          0          0          0\n",
            "8122        1            0            0  ...          0          0          0\n",
            "8123        0            0            0  ...          0          0          0\n",
            "\n",
            "[6441 rows x 116 columns]\n"
          ],
          "name": "stdout"
        }
      ]
    },
    {
      "cell_type": "markdown",
      "metadata": {
        "id": "5e2pRZQYv665",
        "colab_type": "text"
      },
      "source": [
        "DISPLAY AMOUNT OF ROWS EACH CLASS HAS, AND IMBALANCE OF DATASETS"
      ]
    },
    {
      "cell_type": "code",
      "metadata": {
        "id": "bSuipLkXbxYi",
        "colab_type": "code",
        "colab": {
          "base_uri": "https://localhost:8080/",
          "height": 85
        },
        "outputId": "cedf0f41-7334-48ab-f7e4-af6531fd7579"
      },
      "source": [
        "print(data_mush_imbalanced_['class_p'].value_counts())\n",
        "print(\"Imbalance:\", data_mush_imbalanced_['class_p'].value_counts()[0]/(data_mush_imbalanced_['class_p'].value_counts()[1]+(data_mush_imbalanced_['class_p'].value_counts()[0])))"
      ],
      "execution_count": 26,
      "outputs": [
        {
          "output_type": "stream",
          "text": [
            "0    4208\n",
            "1    2233\n",
            "Name: class_p, dtype: int64\n",
            "Imbalance: 0.6533147026859183\n"
          ],
          "name": "stdout"
        }
      ]
    },
    {
      "cell_type": "code",
      "metadata": {
        "id": "1P3E33JcWflE",
        "colab_type": "code",
        "outputId": "879dc9b0-0bf8-4317-9603-1235b32e9862",
        "colab": {
          "base_uri": "https://localhost:8080/",
          "height": 85
        }
      },
      "source": [
        "print(data_risk['obj1'].value_counts())\n",
        "print(\"Imbalance:\", data_risk['obj1'].value_counts()[0]/(data_risk['obj1'].value_counts()[1]+(data_risk['obj1'].value_counts()[0])))"
      ],
      "execution_count": 127,
      "outputs": [
        {
          "output_type": "stream",
          "text": [
            "0    3694\n",
            "1     834\n",
            "Name: obj1, dtype: int64\n",
            "Imbalance: 0.8158127208480566\n"
          ],
          "name": "stdout"
        }
      ]
    },
    {
      "cell_type": "code",
      "metadata": {
        "id": "V9ndFI4WAp6X",
        "colab_type": "code",
        "colab": {
          "base_uri": "https://localhost:8080/",
          "height": 85
        },
        "outputId": "5116c41d-7a80-45b2-89b8-b052b25104e2"
      },
      "source": [
        "print(data_fraud['Class'].value_counts())\n",
        "print(\"Imbalance:\", data_fraud['Class'].value_counts()[0]/(data_fraud['Class'].value_counts()[1]+(data_fraud['Class'].value_counts()[0])))"
      ],
      "execution_count": 128,
      "outputs": [
        {
          "output_type": "stream",
          "text": [
            "0    6972\n",
            "1     328\n",
            "Name: Class, dtype: int64\n",
            "Imbalance: 0.955068493150685\n"
          ],
          "name": "stdout"
        }
      ]
    },
    {
      "cell_type": "markdown",
      "metadata": {
        "id": "tI0BQSh10bA4",
        "colab_type": "text"
      },
      "source": [
        "BASE RESULTS"
      ]
    },
    {
      "cell_type": "code",
      "metadata": {
        "id": "sd4A-Z4N0kQO",
        "colab_type": "code",
        "colab": {}
      },
      "source": [
        "tree_clf = tree.DecisionTreeClassifier(random_state=0)"
      ],
      "execution_count": 0,
      "outputs": []
    },
    {
      "cell_type": "code",
      "metadata": {
        "id": "EVgUOH82g3vG",
        "colab_type": "code",
        "colab": {
          "base_uri": "https://localhost:8080/",
          "height": 85
        },
        "outputId": "9161557d-cbb2-46ab-f26c-8ff71eb24387"
      },
      "source": [
        "#Mushroom dataset base scores\n",
        "feat_mush = data_mush_imbalanced_.drop('class_p', axis=1)\n",
        "lab_mush = data_mush_imbalanced_['class_p']\n",
        "\n",
        "print(\"Accuracy:\", cross_val_score(tree_clf, feat_mush, lab_mush, cv=10, scoring='accuracy').mean())\n",
        "print(\"Precision:\", cross_val_score(tree_clf, feat_mush, lab_mush, cv=10, scoring='precision').mean())\n",
        "print(\"Recall:\", cross_val_score(tree_clf, feat_mush, lab_mush, cv=10, scoring='recall').mean())\n",
        "print(\"F1-Score:\", cross_val_score(tree_clf, feat_mush, lab_mush, cv=10, scoring='f1').mean())"
      ],
      "execution_count": 32,
      "outputs": [
        {
          "output_type": "stream",
          "text": [
            "Accuracy: 0.9996899224806202\n",
            "Precision: 1.0\n",
            "Recall: 0.9991071428571429\n",
            "F1-Score: 0.9995515695067265\n"
          ],
          "name": "stdout"
        }
      ]
    },
    {
      "cell_type": "code",
      "metadata": {
        "id": "FUlPK7xVjSEb",
        "colab_type": "code",
        "colab": {
          "base_uri": "https://localhost:8080/",
          "height": 85
        },
        "outputId": "2a808422-c268-4b80-9dd0-2a2c25662fa4"
      },
      "source": [
        "#Risk dataset base scores\n",
        "feat_risk = data_risk.drop('obj1', axis=1)\n",
        "for col in feat_risk.columns:\n",
        "  if feat_risk[col].isnull().any():\n",
        "    feat_risk[col] = feat_risk[col].fillna(feat_risk[col].median())\n",
        "\n",
        "lab_risk = data_risk['obj1']\n",
        "\n",
        "print(\"Accuracy:\", cross_val_score(tree_clf, feat_risk, lab_risk, cv=10, scoring='accuracy').mean())\n",
        "print(\"Precision:\", cross_val_score(tree_clf, feat_risk, lab_risk, cv=10, scoring='precision').mean())\n",
        "print(\"Recall:\", cross_val_score(tree_clf, feat_risk, lab_risk, cv=10, scoring='recall').mean())\n",
        "print(\"F1-Score:\", cross_val_score(tree_clf, feat_risk, lab_risk, cv=10, scoring='f1').mean())\n"
      ],
      "execution_count": 39,
      "outputs": [
        {
          "output_type": "stream",
          "text": [
            "Accuracy: 0.5392003164742425\n",
            "Precision: 0.16305450371332567\n",
            "Recall: 0.32172977624784854\n",
            "F1-Score: 0.1982397011891827\n"
          ],
          "name": "stdout"
        }
      ]
    },
    {
      "cell_type": "code",
      "metadata": {
        "id": "lUQZn1Iau9fm",
        "colab_type": "code",
        "colab": {
          "base_uri": "https://localhost:8080/",
          "height": 85
        },
        "outputId": "f47a0130-5b46-410b-af84-a8733e05deda"
      },
      "source": [
        "#Fraud dataset base scores\n",
        "feat_fraud = data_fraud.drop('Class', axis=1)\n",
        "for col in feat_fraud.columns:\n",
        "  if feat_fraud[col].isnull().any():\n",
        "    feat_fraud[col] = feat_fraud[col].fillna(feat_fraud[col].median())\n",
        "\n",
        "lab_fraud = data_fraud['Class']\n",
        "\n",
        "print(\"Accuracy:\", cross_val_score(tree_clf, feat_fraud, lab_fraud, cv=10, scoring='accuracy').mean())\n",
        "print(\"Precision:\", cross_val_score(tree_clf, feat_fraud, lab_fraud, cv=10, scoring='precision').mean())\n",
        "print(\"Recall:\", cross_val_score(tree_clf, feat_fraud, lab_fraud, cv=10, scoring='recall').mean())\n",
        "print(\"F1-Score:\", cross_val_score(tree_clf, feat_fraud, lab_fraud, cv=10, scoring='f1').mean())"
      ],
      "execution_count": 41,
      "outputs": [
        {
          "output_type": "stream",
          "text": [
            "Accuracy: 0.9784931506849315\n",
            "Precision: 0.7837433451305875\n",
            "Recall: 0.7607007575757576\n",
            "F1-Score: 0.7430508668262178\n"
          ],
          "name": "stdout"
        }
      ]
    },
    {
      "cell_type": "markdown",
      "metadata": {
        "id": "SP7gJda2wDDY",
        "colab_type": "text"
      },
      "source": [
        "CREATE 10 FOLDS OF EACH CLASS"
      ]
    },
    {
      "cell_type": "code",
      "metadata": {
        "id": "Gz_RXGcozSb-",
        "colab_type": "code",
        "colab": {
          "base_uri": "https://localhost:8080/",
          "height": 34
        },
        "outputId": "b4fa74ac-e3f5-4319-dbf3-cef3ba2525cd"
      },
      "source": [
        "#MUSHROOM DATASET\n",
        "skf = StratifiedKFold(n_splits=10)\n",
        "skf.get_n_splits(feat_mush, lab_mush)\n",
        "print(skf)"
      ],
      "execution_count": 30,
      "outputs": [
        {
          "output_type": "stream",
          "text": [
            "StratifiedKFold(n_splits=10, random_state=None, shuffle=False)\n"
          ],
          "name": "stdout"
        }
      ]
    },
    {
      "cell_type": "code",
      "metadata": {
        "id": "JymWM6L70NdB",
        "colab_type": "code",
        "colab": {}
      },
      "source": [
        "for x_ind, y_ind in skf.split(feat_mush, lab_mush):\n",
        "  #print(feat_risk.loc[x_ind])\n",
        "  #print(lab_risk.loc[y_ind])\n",
        "  pass"
      ],
      "execution_count": 0,
      "outputs": []
    },
    {
      "cell_type": "code",
      "metadata": {
        "id": "ALAM6P8Nqe1x",
        "colab_type": "code",
        "colab": {
          "base_uri": "https://localhost:8080/",
          "height": 34
        },
        "outputId": "8694b6fa-92ad-42cc-910f-ad0d461e4425"
      },
      "source": [
        "#RISK DATASET\n",
        "skf1 = StratifiedKFold(n_splits=10)\n",
        "skf1.get_n_splits(feat_risk, lab_risk)\n",
        "print(skf1)"
      ],
      "execution_count": 134,
      "outputs": [
        {
          "output_type": "stream",
          "text": [
            "StratifiedKFold(n_splits=10, random_state=None, shuffle=False)\n"
          ],
          "name": "stdout"
        }
      ]
    },
    {
      "cell_type": "code",
      "metadata": {
        "id": "XrGi0IEIgDDp",
        "colab_type": "code",
        "colab": {}
      },
      "source": [
        "for x_ind, y_ind in skf1.split(feat_risk, lab_risk):\n",
        "  #print(feat_risk.loc[x_ind])\n",
        "  #print(lab_risk.loc[y_ind])\n",
        "  pass"
      ],
      "execution_count": 0,
      "outputs": []
    },
    {
      "cell_type": "code",
      "metadata": {
        "id": "7HYU7sthxIkd",
        "colab_type": "code",
        "colab": {
          "base_uri": "https://localhost:8080/",
          "height": 34
        },
        "outputId": "a3a859a5-6aef-49f2-b165-72d6ab564a78"
      },
      "source": [
        "#FRAUD DATASET\n",
        "skf2 = StratifiedKFold(n_splits=10)\n",
        "skf2.get_n_splits(feat_fraud, lab_fraud)\n",
        "print(skf2)"
      ],
      "execution_count": 136,
      "outputs": [
        {
          "output_type": "stream",
          "text": [
            "StratifiedKFold(n_splits=10, random_state=None, shuffle=False)\n"
          ],
          "name": "stdout"
        }
      ]
    },
    {
      "cell_type": "code",
      "metadata": {
        "id": "Wj0V-Nr1iuzX",
        "colab_type": "code",
        "colab": {}
      },
      "source": [
        "for x_ind, y_ind in skf2.split(feat_fraud, lab_fraud):\n",
        "  #print(feat_fraud.loc[x_ind])\n",
        "  #print(lab_fraud.loc[y_ind])\n",
        "  pass"
      ],
      "execution_count": 0,
      "outputs": []
    },
    {
      "cell_type": "code",
      "metadata": {
        "id": "HE84T6DrzPj-",
        "colab_type": "code",
        "colab": {}
      },
      "source": [
        ""
      ],
      "execution_count": 0,
      "outputs": []
    }
  ]
}