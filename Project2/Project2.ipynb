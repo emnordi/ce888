{
  "nbformat": 4,
  "nbformat_minor": 0,
  "metadata": {
    "colab": {
      "name": "Project2.ipynb",
      "provenance": [],
      "collapsed_sections": [],
      "authorship_tag": "ABX9TyN9wH4rs5t1hOjFtUYUPaqo",
      "include_colab_link": true
    },
    "kernelspec": {
      "name": "python3",
      "display_name": "Python 3"
    }
  },
  "cells": [
    {
      "cell_type": "markdown",
      "metadata": {
        "id": "view-in-github",
        "colab_type": "text"
      },
      "source": [
        "<a href=\"https://colab.research.google.com/github/emnordi/ce888/blob/master/Project2/Project2.ipynb\" target=\"_parent\"><img src=\"https://colab.research.google.com/assets/colab-badge.svg\" alt=\"Open In Colab\"/></a>"
      ]
    },
    {
      "cell_type": "code",
      "metadata": {
        "id": "BpVmhVOwDruJ",
        "colab_type": "code",
        "colab": {}
      },
      "source": [
        "import pandas as pd\n",
        "import os\n",
        "import io\n",
        "import numpy as np\n",
        "from sklearn.model_selection import StratifiedKFold\n",
        "from sklearn import tree\n",
        "from sklearn.ensemble import RandomForestClassifier\n",
        "from sklearn.model_selection import cross_val_score\n",
        "\n",
        "os.environ['KAGGLE_USERNAME'] = \"emilnordin\" # username from the json file\n",
        "\n",
        "os.environ['KAGGLE_KEY'] = \"3f9baf0776ca705fb3dbe29ef5e7caab\" # key from the json file"
      ],
      "execution_count": 0,
      "outputs": []
    },
    {
      "cell_type": "markdown",
      "metadata": {
        "id": "4cTRsaNTmyGq",
        "colab_type": "text"
      },
      "source": [
        "DOWNLOADING AND IMPORTING DATASETS"
      ]
    },
    {
      "cell_type": "code",
      "metadata": {
        "id": "JLl_nw4RPhqD",
        "colab_type": "code",
        "colab": {
          "base_uri": "https://localhost:8080/",
          "height": 68
        },
        "outputId": "e38f332d-1c22-448b-a129-0507739d0c40"
      },
      "source": [
        "!kaggle datasets download -d uciml/mushroom-classification"
      ],
      "execution_count": 2,
      "outputs": [
        {
          "output_type": "stream",
          "text": [
            "Downloading mushroom-classification.zip to /content\n",
            "\r  0% 0.00/34.2k [00:00<?, ?B/s]\n",
            "\r100% 34.2k/34.2k [00:00<00:00, 27.0MB/s]\n"
          ],
          "name": "stdout"
        }
      ]
    },
    {
      "cell_type": "code",
      "metadata": {
        "id": "FdNjI4voWCI0",
        "colab_type": "code",
        "outputId": "a021037f-dcd8-4929-c062-9730cbe4ae5e",
        "colab": {
          "base_uri": "https://localhost:8080/",
          "height": 68
        }
      },
      "source": [
        "!kaggle datasets download -d emoneyanalytics/unbalancedrisk"
      ],
      "execution_count": 3,
      "outputs": [
        {
          "output_type": "stream",
          "text": [
            "Downloading unbalancedrisk.zip to /content\n",
            "\r  0% 0.00/115k [00:00<?, ?B/s]\n",
            "\r100% 115k/115k [00:00<00:00, 52.0MB/s]\n"
          ],
          "name": "stdout"
        }
      ]
    },
    {
      "cell_type": "code",
      "metadata": {
        "id": "Eycbby419_NH",
        "colab_type": "code",
        "colab": {
          "base_uri": "https://localhost:8080/",
          "height": 68
        },
        "outputId": "cee2e2b0-7f09-4107-c94e-3c9cd77be8e0"
      },
      "source": [
        "!kaggle datasets download -d subediaarjun/unbalanced-fraud-detection-dataset"
      ],
      "execution_count": 4,
      "outputs": [
        {
          "output_type": "stream",
          "text": [
            "Downloading unbalanced-fraud-detection-dataset.zip to /content\n",
            "\r  0% 0.00/2.57M [00:00<?, ?B/s]\n",
            "\r100% 2.57M/2.57M [00:00<00:00, 83.5MB/s]\n"
          ],
          "name": "stdout"
        }
      ]
    },
    {
      "cell_type": "code",
      "metadata": {
        "id": "z4qrA3Rl-EsI",
        "colab_type": "code",
        "colab": {
          "base_uri": "https://localhost:8080/",
          "height": 51
        },
        "outputId": "b1d7819a-a329-41fb-ee9e-3a80aab5696a"
      },
      "source": [
        "#This dataset happened to be in excel format requiring some extra steps\n",
        "!unzip unbalanced-fraud-detection-dataset.zip"
      ],
      "execution_count": 5,
      "outputs": [
        {
          "output_type": "stream",
          "text": [
            "Archive:  unbalanced-fraud-detection-dataset.zip\n",
            "  inflating: Fraud Detection Sample data.xlsx  \n"
          ],
          "name": "stdout"
        }
      ]
    },
    {
      "cell_type": "code",
      "metadata": {
        "id": "xQJNiiqePmIU",
        "colab_type": "code",
        "colab": {}
      },
      "source": [
        "data_mush = pd.read_csv('mushroom-classification.zip', compression='zip', header=0, sep=',', quotechar='\"', encoding = \"utf-8\")"
      ],
      "execution_count": 0,
      "outputs": []
    },
    {
      "cell_type": "code",
      "metadata": {
        "id": "eok4jlGQPrqx",
        "colab_type": "code",
        "colab": {}
      },
      "source": [
        "#Downsample to get 65% imbalance\n",
        "mush_p_ind = data_mush[data_mush['class'] == 'p'].index\n",
        "to_del = mush_p_ind[0:int(len(mush_p_ind)*0.43)]\n",
        "data_mush_imbalanced = data_mush.drop(index=to_del)\n",
        "\n",
        "#Convert string data to ints\n",
        "data_mush_imbalanced_ = pd.get_dummies(data_mush_imbalanced)\n",
        "data_mush_imbalanced_ = data_mush_imbalanced_.drop('class_e', axis=1)"
      ],
      "execution_count": 0,
      "outputs": []
    },
    {
      "cell_type": "code",
      "metadata": {
        "id": "caP8rhXtJzoO",
        "colab_type": "code",
        "colab": {}
      },
      "source": [
        "data_risk = pd.read_csv('unbalancedrisk.zip', compression='zip', header=0, sep=',', quotechar='\"', encoding = \"utf-8\")"
      ],
      "execution_count": 0,
      "outputs": []
    },
    {
      "cell_type": "code",
      "metadata": {
        "id": "OFmerDEA_N_V",
        "colab_type": "code",
        "colab": {}
      },
      "source": [
        "data_fraud = pd.read_excel(\"Fraud Detection Sample data.xlsx\", sheet_name = 'credit_card_fraud_sample', header = 0)"
      ],
      "execution_count": 0,
      "outputs": []
    },
    {
      "cell_type": "markdown",
      "metadata": {
        "id": "MBIshC7TnAB7",
        "colab_type": "text"
      },
      "source": [
        "PRINTING DATASETS"
      ]
    },
    {
      "cell_type": "code",
      "metadata": {
        "id": "lemEmSueVAZq",
        "colab_type": "code",
        "outputId": "96fcf94e-64bf-4d1c-b72f-2bcab5a8f51c",
        "colab": {
          "base_uri": "https://localhost:8080/",
          "height": 255
        }
      },
      "source": [
        "print(data_risk)"
      ],
      "execution_count": 10,
      "outputs": [
        {
          "output_type": "stream",
          "text": [
            "        id  f1        f2  f3   f4  ...   f31         f32    f33      f34  obj1\n",
            "0        1   1   17.2131   1  1.0  ...  13.0   32.766370    NaN      NaN     0\n",
            "1        2  35    0.1747   1  1.0  ...  23.0  210.567669    NaN      NaN     0\n",
            "2        3   1   35.3943   1  NaN  ...  16.0    0.000111    NaN      NaN     1\n",
            "3        4   1    4.4873   1  1.0  ...   7.0    9.380889    NaN      NaN     0\n",
            "4        5   1       NaN   1  NaN  ...  20.0   28.089135    NaN      NaN     0\n",
            "...    ...  ..       ...  ..  ...  ...   ...         ...    ...      ...   ...\n",
            "4523  4524  29    5.7576   1  1.0  ...  32.0  236.170700    NaN  63.0541     0\n",
            "4524  4525   2  107.7430   1  1.0  ...  27.0    2.799800    NaN      NaN     1\n",
            "4525  4526   1    1.9364   1  1.0  ...   NaN  205.806400    NaN  15.9357     1\n",
            "4526  4527   1    7.6795   1  3.0  ...  10.0    1.658700  533.0      NaN     0\n",
            "4527  4528   1   80.0871   1  1.0  ...   NaN    2.980200    NaN      NaN     1\n",
            "\n",
            "[4528 rows x 36 columns]\n"
          ],
          "name": "stdout"
        }
      ]
    },
    {
      "cell_type": "code",
      "metadata": {
        "id": "jqIBIbQMAfbW",
        "colab_type": "code",
        "colab": {
          "base_uri": "https://localhost:8080/",
          "height": 255
        },
        "outputId": "6107daed-06d1-44b0-cc93-06b36d569438"
      },
      "source": [
        "print(data_fraud)"
      ],
      "execution_count": 11,
      "outputs": [
        {
          "output_type": "stream",
          "text": [
            "          ID        V1        V2        V3  ...       V27       V28  Amount  Class\n",
            "0     221547 -1.191668  0.428409  1.640028  ... -0.319964 -0.017444   27.44      0\n",
            "1     184524  1.966614 -0.450087 -1.228586  ... -0.039155 -0.071314   35.95      0\n",
            "2      91201  1.528452 -1.296191 -0.890677  ...  0.042997  0.025853   28.40      0\n",
            "3      26115 -0.774614  1.100916  0.679080  ...  0.282940  0.123856   43.20      0\n",
            "4     201292 -1.075860  1.361160  1.496972  ...  0.951130  0.158996    0.83      1\n",
            "...      ...       ...       ...       ...  ...       ...       ...     ...    ...\n",
            "7295   96789 -3.593476  0.781442 -1.822448  ... -1.478767  0.722673  101.50      1\n",
            "7296   18809  0.923764  0.344048 -2.880004  ...  0.489035 -0.049729   30.30      1\n",
            "7297  197586 -0.361428  1.133472 -2.971360  ... -0.001250 -0.182751  480.72      1\n",
            "7298  184379 -1.141559  1.927650 -3.905356  ... -0.146102  0.076211   25.00      1\n",
            "7299  145800 -0.419820 -1.155978 -2.092516  ... -0.021363  0.129096  451.27      1\n",
            "\n",
            "[7300 rows x 31 columns]\n"
          ],
          "name": "stdout"
        }
      ]
    },
    {
      "cell_type": "code",
      "metadata": {
        "id": "OEgIIyCjnmLv",
        "colab_type": "code",
        "colab": {
          "base_uri": "https://localhost:8080/",
          "height": 255
        },
        "outputId": "e95a4b64-0aa6-4e74-e29a-b4878b7d03b2"
      },
      "source": [
        "print(data_mush_imbalanced_)"
      ],
      "execution_count": 12,
      "outputs": [
        {
          "output_type": "stream",
          "text": [
            "      class_p  cap-shape_b  cap-shape_c  ...  habitat_p  habitat_u  habitat_w\n",
            "1           0            0            0  ...          0          0          0\n",
            "2           0            1            0  ...          0          0          0\n",
            "4           0            0            0  ...          0          0          0\n",
            "5           0            0            0  ...          0          0          0\n",
            "6           0            1            0  ...          0          0          0\n",
            "...       ...          ...          ...  ...        ...        ...        ...\n",
            "8119        0            0            0  ...          0          0          0\n",
            "8120        0            0            0  ...          0          0          0\n",
            "8121        0            0            0  ...          0          0          0\n",
            "8122        1            0            0  ...          0          0          0\n",
            "8123        0            0            0  ...          0          0          0\n",
            "\n",
            "[6441 rows x 116 columns]\n"
          ],
          "name": "stdout"
        }
      ]
    },
    {
      "cell_type": "markdown",
      "metadata": {
        "id": "5e2pRZQYv665",
        "colab_type": "text"
      },
      "source": [
        "DISPLAY AMOUNT OF ROWS EACH CLASS HAS, AND IMBALANCE OF DATASETS"
      ]
    },
    {
      "cell_type": "code",
      "metadata": {
        "id": "bSuipLkXbxYi",
        "colab_type": "code",
        "colab": {
          "base_uri": "https://localhost:8080/",
          "height": 85
        },
        "outputId": "7b72ea9b-fca8-4bc0-c748-73d078052506"
      },
      "source": [
        "print(data_mush_imbalanced_['class_p'].value_counts())\n",
        "print(\"Imbalance:\", data_mush_imbalanced_['class_p'].value_counts()[0]/(data_mush_imbalanced_['class_p'].value_counts()[1]+(data_mush_imbalanced_['class_p'].value_counts()[0])))"
      ],
      "execution_count": 13,
      "outputs": [
        {
          "output_type": "stream",
          "text": [
            "0    4208\n",
            "1    2233\n",
            "Name: class_p, dtype: int64\n",
            "Imbalance: 0.6533147026859183\n"
          ],
          "name": "stdout"
        }
      ]
    },
    {
      "cell_type": "code",
      "metadata": {
        "id": "1P3E33JcWflE",
        "colab_type": "code",
        "outputId": "ce859cd9-c108-4d82-d71f-6bb100d58b5b",
        "colab": {
          "base_uri": "https://localhost:8080/",
          "height": 85
        }
      },
      "source": [
        "print(data_risk['obj1'].value_counts())\n",
        "print(\"Imbalance:\", data_risk['obj1'].value_counts()[0]/(data_risk['obj1'].value_counts()[1]+(data_risk['obj1'].value_counts()[0])))"
      ],
      "execution_count": 14,
      "outputs": [
        {
          "output_type": "stream",
          "text": [
            "0    3694\n",
            "1     834\n",
            "Name: obj1, dtype: int64\n",
            "Imbalance: 0.8158127208480566\n"
          ],
          "name": "stdout"
        }
      ]
    },
    {
      "cell_type": "code",
      "metadata": {
        "id": "V9ndFI4WAp6X",
        "colab_type": "code",
        "colab": {
          "base_uri": "https://localhost:8080/",
          "height": 85
        },
        "outputId": "5ea59c5e-87df-4eae-e63c-21eabab0960d"
      },
      "source": [
        "print(data_fraud['Class'].value_counts())\n",
        "print(\"Imbalance:\", data_fraud['Class'].value_counts()[0]/(data_fraud['Class'].value_counts()[1]+(data_fraud['Class'].value_counts()[0])))"
      ],
      "execution_count": 15,
      "outputs": [
        {
          "output_type": "stream",
          "text": [
            "0    6972\n",
            "1     328\n",
            "Name: Class, dtype: int64\n",
            "Imbalance: 0.955068493150685\n"
          ],
          "name": "stdout"
        }
      ]
    },
    {
      "cell_type": "markdown",
      "metadata": {
        "id": "tI0BQSh10bA4",
        "colab_type": "text"
      },
      "source": [
        "BASE RESULTS"
      ]
    },
    {
      "cell_type": "code",
      "metadata": {
        "id": "sd4A-Z4N0kQO",
        "colab_type": "code",
        "colab": {}
      },
      "source": [
        "tree_clf = tree.DecisionTreeClassifier(random_state=0)\n",
        "rf_clf = RandomForestClassifier(max_depth=2, random_state=0)"
      ],
      "execution_count": 0,
      "outputs": []
    },
    {
      "cell_type": "code",
      "metadata": {
        "id": "EVgUOH82g3vG",
        "colab_type": "code",
        "colab": {
          "base_uri": "https://localhost:8080/",
          "height": 85
        },
        "outputId": "6f354ace-8405-46c2-ac60-a8ce12afab8d"
      },
      "source": [
        "#Mushroom dataset base scores DT\n",
        "feat_mush = data_mush_imbalanced_.drop('class_p', axis=1)\n",
        "lab_mush = data_mush_imbalanced_['class_p']\n",
        "\n",
        "print(\"Accuracy:\", cross_val_score(tree_clf, feat_mush, lab_mush, cv=10, scoring='accuracy').mean())\n",
        "print(\"Precision:\", cross_val_score(tree_clf, feat_mush, lab_mush, cv=10, scoring='precision').mean())\n",
        "print(\"Recall:\", cross_val_score(tree_clf, feat_mush, lab_mush, cv=10, scoring='recall').mean())\n",
        "print(\"F1-Score:\", cross_val_score(tree_clf, feat_mush, lab_mush, cv=10, scoring='f1').mean())"
      ],
      "execution_count": 17,
      "outputs": [
        {
          "output_type": "stream",
          "text": [
            "Accuracy: 0.9996899224806202\n",
            "Precision: 1.0\n",
            "Recall: 0.9991071428571429\n",
            "F1-Score: 0.9995515695067265\n"
          ],
          "name": "stdout"
        }
      ]
    },
    {
      "cell_type": "code",
      "metadata": {
        "id": "kaP4T49vhl-i",
        "colab_type": "code",
        "colab": {
          "base_uri": "https://localhost:8080/",
          "height": 85
        },
        "outputId": "4cc64cd8-13de-4b9e-84b1-50e186d556c0"
      },
      "source": [
        "#Mushroom dataset base scores RF\n",
        "print(\"Accuracy:\", cross_val_score(rf_clf, feat_mush, lab_mush, cv=10, scoring='accuracy').mean())\n",
        "print(\"Precision:\", cross_val_score(rf_clf, feat_mush, lab_mush, cv=10, scoring='precision').mean())\n",
        "print(\"Recall:\", cross_val_score(rf_clf, feat_mush, lab_mush, cv=10, scoring='recall').mean())\n",
        "print(\"F1-Score:\", cross_val_score(rf_clf, feat_mush, lab_mush, cv=10, scoring='f1').mean())"
      ],
      "execution_count": 24,
      "outputs": [
        {
          "output_type": "stream",
          "text": [
            "Accuracy: 0.9394662718474649\n",
            "Precision: 0.9823529411764707\n",
            "Recall: 0.8455557335041641\n",
            "F1-Score: 0.8938599999924101\n"
          ],
          "name": "stdout"
        }
      ]
    },
    {
      "cell_type": "code",
      "metadata": {
        "id": "FUlPK7xVjSEb",
        "colab_type": "code",
        "colab": {
          "base_uri": "https://localhost:8080/",
          "height": 85
        },
        "outputId": "0de180a7-d4c2-4389-9d20-89629ad5ba0a"
      },
      "source": [
        "#Risk dataset base scores DT\n",
        "feat_risk = data_risk.drop('obj1', axis=1)\n",
        "for col in feat_risk.columns:\n",
        "  if feat_risk[col].isnull().any():\n",
        "    feat_risk[col] = feat_risk[col].fillna(feat_risk[col].median())\n",
        "\n",
        "lab_risk = data_risk['obj1']\n",
        "\n",
        "print(\"Accuracy:\", cross_val_score(tree_clf, feat_risk, lab_risk, cv=10, scoring='accuracy').mean())\n",
        "print(\"Precision:\", cross_val_score(tree_clf, feat_risk, lab_risk, cv=10, scoring='precision').mean())\n",
        "print(\"Recall:\", cross_val_score(tree_clf, feat_risk, lab_risk, cv=10, scoring='recall').mean())\n",
        "print(\"F1-Score:\", cross_val_score(tree_clf, feat_risk, lab_risk, cv=10, scoring='f1').mean())\n"
      ],
      "execution_count": 19,
      "outputs": [
        {
          "output_type": "stream",
          "text": [
            "Accuracy: 0.5392003164742425\n",
            "Precision: 0.16305450371332567\n",
            "Recall: 0.32172977624784854\n",
            "F1-Score: 0.1982397011891827\n"
          ],
          "name": "stdout"
        }
      ]
    },
    {
      "cell_type": "code",
      "metadata": {
        "id": "jc7Qfkn2kMaB",
        "colab_type": "code",
        "colab": {
          "base_uri": "https://localhost:8080/",
          "height": 411
        },
        "outputId": "5baffe9e-b0ac-458b-df1f-9608d2e83114"
      },
      "source": [
        "#Risk dataset base scores RF\n",
        "print(\"Accuracy:\", cross_val_score(rf_clf, feat_risk, lab_risk, cv=10, scoring='accuracy').mean())\n",
        "print(\"Precision:\", cross_val_score(rf_clf, feat_risk, lab_risk, cv=10, scoring='precision').mean())\n",
        "print(\"Recall:\", cross_val_score(rf_clf, feat_risk, lab_risk, cv=10, scoring='recall').mean())\n",
        "print(\"F1-Score:\", cross_val_score(rf_clf, feat_risk, lab_risk, cv=10, scoring='f1').mean())"
      ],
      "execution_count": 28,
      "outputs": [
        {
          "output_type": "stream",
          "text": [
            "Accuracy: 0.8087333216120651\n"
          ],
          "name": "stdout"
        },
        {
          "output_type": "stream",
          "text": [
            "/usr/local/lib/python3.6/dist-packages/sklearn/metrics/_classification.py:1272: UndefinedMetricWarning: Precision is ill-defined and being set to 0.0 due to no predicted samples. Use `zero_division` parameter to control this behavior.\n",
            "  _warn_prf(average, modifier, msg_start, len(result))\n",
            "/usr/local/lib/python3.6/dist-packages/sklearn/metrics/_classification.py:1272: UndefinedMetricWarning: Precision is ill-defined and being set to 0.0 due to no predicted samples. Use `zero_division` parameter to control this behavior.\n",
            "  _warn_prf(average, modifier, msg_start, len(result))\n",
            "/usr/local/lib/python3.6/dist-packages/sklearn/metrics/_classification.py:1272: UndefinedMetricWarning: Precision is ill-defined and being set to 0.0 due to no predicted samples. Use `zero_division` parameter to control this behavior.\n",
            "  _warn_prf(average, modifier, msg_start, len(result))\n",
            "/usr/local/lib/python3.6/dist-packages/sklearn/metrics/_classification.py:1272: UndefinedMetricWarning: Precision is ill-defined and being set to 0.0 due to no predicted samples. Use `zero_division` parameter to control this behavior.\n",
            "  _warn_prf(average, modifier, msg_start, len(result))\n",
            "/usr/local/lib/python3.6/dist-packages/sklearn/metrics/_classification.py:1272: UndefinedMetricWarning: Precision is ill-defined and being set to 0.0 due to no predicted samples. Use `zero_division` parameter to control this behavior.\n",
            "  _warn_prf(average, modifier, msg_start, len(result))\n",
            "/usr/local/lib/python3.6/dist-packages/sklearn/metrics/_classification.py:1272: UndefinedMetricWarning: Precision is ill-defined and being set to 0.0 due to no predicted samples. Use `zero_division` parameter to control this behavior.\n",
            "  _warn_prf(average, modifier, msg_start, len(result))\n",
            "/usr/local/lib/python3.6/dist-packages/sklearn/metrics/_classification.py:1272: UndefinedMetricWarning: Precision is ill-defined and being set to 0.0 due to no predicted samples. Use `zero_division` parameter to control this behavior.\n",
            "  _warn_prf(average, modifier, msg_start, len(result))\n",
            "/usr/local/lib/python3.6/dist-packages/sklearn/metrics/_classification.py:1272: UndefinedMetricWarning: Precision is ill-defined and being set to 0.0 due to no predicted samples. Use `zero_division` parameter to control this behavior.\n",
            "  _warn_prf(average, modifier, msg_start, len(result))\n",
            "/usr/local/lib/python3.6/dist-packages/sklearn/metrics/_classification.py:1272: UndefinedMetricWarning: Precision is ill-defined and being set to 0.0 due to no predicted samples. Use `zero_division` parameter to control this behavior.\n",
            "  _warn_prf(average, modifier, msg_start, len(result))\n"
          ],
          "name": "stderr"
        },
        {
          "output_type": "stream",
          "text": [
            "Precision: 0.013636363636363636\n",
            "Recall: 0.007228915662650602\n",
            "F1-Score: 0.009448818897637793\n"
          ],
          "name": "stdout"
        }
      ]
    },
    {
      "cell_type": "code",
      "metadata": {
        "id": "lUQZn1Iau9fm",
        "colab_type": "code",
        "colab": {
          "base_uri": "https://localhost:8080/",
          "height": 85
        },
        "outputId": "d8cbf84b-52db-4869-c88e-f46d1309e3c9"
      },
      "source": [
        "#Fraud dataset base scores DT\n",
        "feat_fraud = data_fraud.drop('Class', axis=1)\n",
        "lab_fraud = data_fraud['Class']\n",
        "\n",
        "print(\"Accuracy:\", cross_val_score(tree_clf, feat_fraud, lab_fraud, cv=10, scoring='accuracy').mean())\n",
        "print(\"Precision:\", cross_val_score(tree_clf, feat_fraud, lab_fraud, cv=10, scoring='precision').mean())\n",
        "print(\"Recall:\", cross_val_score(tree_clf, feat_fraud, lab_fraud, cv=10, scoring='recall').mean())\n",
        "print(\"F1-Score:\", cross_val_score(tree_clf, feat_fraud, lab_fraud, cv=10, scoring='f1').mean())"
      ],
      "execution_count": 20,
      "outputs": [
        {
          "output_type": "stream",
          "text": [
            "Accuracy: 0.9784931506849315\n",
            "Precision: 0.7837433451305875\n",
            "Recall: 0.7607007575757576\n",
            "F1-Score: 0.7430508668262178\n"
          ],
          "name": "stdout"
        }
      ]
    },
    {
      "cell_type": "code",
      "metadata": {
        "id": "XmKwidfymbGH",
        "colab_type": "code",
        "colab": {
          "base_uri": "https://localhost:8080/",
          "height": 85
        },
        "outputId": "0fd87a88-0032-47ab-ded5-f4d608749aad"
      },
      "source": [
        "#Fraud dataset base scores RD\n",
        "print(\"Accuracy:\", cross_val_score(rf_clf, feat_fraud, lab_fraud, cv=10, scoring='accuracy').mean())\n",
        "print(\"Precision:\", cross_val_score(rf_clf, feat_fraud, lab_fraud, cv=10, scoring='precision').mean())\n",
        "print(\"Recall:\", cross_val_score(rf_clf, feat_fraud, lab_fraud, cv=10, scoring='recall').mean())\n",
        "print(\"F1-Score:\", cross_val_score(rf_clf, feat_fraud, lab_fraud, cv=10, scoring='f1').mean())"
      ],
      "execution_count": 29,
      "outputs": [
        {
          "output_type": "stream",
          "text": [
            "Accuracy: 0.9864383561643836\n",
            "Precision: 0.9960000000000001\n",
            "Recall: 0.6997159090909092\n",
            "F1-Score: 0.7979241651083359\n"
          ],
          "name": "stdout"
        }
      ]
    },
    {
      "cell_type": "markdown",
      "metadata": {
        "id": "S-l8E2o2oy7X",
        "colab_type": "text"
      },
      "source": [
        "DOWNSAMPLING THE DATASETS AND RETRIEVING NEW PERFORMANCE RESULTS"
      ]
    },
    {
      "cell_type": "code",
      "metadata": {
        "id": "nE6CrvwPo70I",
        "colab_type": "code",
        "colab": {
          "base_uri": "https://localhost:8080/",
          "height": 85
        },
        "outputId": "9e88c85f-3993-4cf7-aeab-c6ecd903db1c"
      },
      "source": [
        "#Downsample MUSHROOM DATASET to get 50%\n",
        "mush_p_ind_ = data_mush_imbalanced_[data_mush_imbalanced_['class_p'] == 0].index\n",
        "to_del = mush_p_ind_[0:int(len(mush_p_ind_)*0.46)]\n",
        "data_mush_imbalanced_test = data_mush_imbalanced_.drop(index=to_del)\n",
        "\n",
        "print(data_mush_imbalanced_test['class_p'].value_counts())\n",
        "print(\"Imbalance:\", data_mush_imbalanced_test['class_p'].value_counts()[0]/(data_mush_imbalanced_test['class_p'].value_counts()[1]+(data_mush_imbalanced_test['class_p'].value_counts()[0])))"
      ],
      "execution_count": 40,
      "outputs": [
        {
          "output_type": "stream",
          "text": [
            "0    2273\n",
            "1    2233\n",
            "Name: class_p, dtype: int64\n",
            "Imbalance: 0.5044385264092321\n"
          ],
          "name": "stdout"
        }
      ]
    },
    {
      "cell_type": "code",
      "metadata": {
        "id": "Ym9OWuS_r0KS",
        "colab_type": "code",
        "colab": {
          "base_uri": "https://localhost:8080/",
          "height": 85
        },
        "outputId": "e0251c78-1d87-498c-9543-bb4486ce9190"
      },
      "source": [
        "#MUSHROOM DATASET downsampling scores DT\n",
        "feat_mush_test = data_mush_imbalanced_test.drop('class_p', axis=1)\n",
        "lab_mush_test = data_mush_imbalanced_test['class_p']\n",
        "\n",
        "print(\"Accuracy:\", cross_val_score(tree_clf, feat_mush_test, lab_mush_test, cv=10, scoring='accuracy').mean())\n",
        "print(\"Precision:\", cross_val_score(tree_clf, feat_mush_test, lab_mush_test, cv=10, scoring='precision').mean())\n",
        "print(\"Recall:\", cross_val_score(tree_clf, feat_mush_test, lab_mush_test, cv=10, scoring='recall').mean())\n",
        "print(\"F1-Score:\", cross_val_score(tree_clf, feat_mush_test, lab_mush_test, cv=10, scoring='f1').mean())"
      ],
      "execution_count": 41,
      "outputs": [
        {
          "output_type": "stream",
          "text": [
            "Accuracy: 0.9995565410199557\n",
            "Precision: 1.0\n",
            "Recall: 0.9991031390134528\n",
            "F1-Score: 0.9995495495495496\n"
          ],
          "name": "stdout"
        }
      ]
    },
    {
      "cell_type": "code",
      "metadata": {
        "id": "nKnEto6vsPkg",
        "colab_type": "code",
        "colab": {
          "base_uri": "https://localhost:8080/",
          "height": 85
        },
        "outputId": "633e3d30-98d0-4c00-c8e9-decd1524ab60"
      },
      "source": [
        "#MUSHROOM DATASET downsampling scores RF\n",
        "print(\"Accuracy:\", cross_val_score(rf_clf, feat_mush_test, lab_mush_test, cv=10, scoring='accuracy').mean())\n",
        "print(\"Precision:\", cross_val_score(rf_clf, feat_mush_test, lab_mush_test, cv=10, scoring='precision').mean())\n",
        "print(\"Recall:\", cross_val_score(rf_clf, feat_mush_test, lab_mush_test, cv=10, scoring='recall').mean())\n",
        "print(\"F1-Score:\", cross_val_score(rf_clf, feat_mush_test, lab_mush_test, cv=10, scoring='f1').mean())"
      ],
      "execution_count": 42,
      "outputs": [
        {
          "output_type": "stream",
          "text": [
            "Accuracy: 0.9640517368810052\n",
            "Precision: 0.9780786764002677\n",
            "Recall: 0.952017937219731\n",
            "F1-Score: 0.9623570737843696\n"
          ],
          "name": "stdout"
        }
      ]
    },
    {
      "cell_type": "code",
      "metadata": {
        "id": "Bi1CJ8UqtocS",
        "colab_type": "code",
        "colab": {
          "base_uri": "https://localhost:8080/",
          "height": 85
        },
        "outputId": "e1d7082f-b318-4c91-9d89-52ddbfa16afa"
      },
      "source": [
        "#Downsample RISK DATASET to get 50%\n",
        "data_risk_ind_ = data_risk[data_risk['obj1'] == 0].index\n",
        "r_to_del = data_risk_ind_[0:int(len(data_risk_ind_)*0.774)]\n",
        "data_risk_test = data_risk.drop(index=r_to_del)\n",
        "\n",
        "print(data_risk_test['obj1'].value_counts())\n",
        "print(\"Imbalance:\", data_risk_test['obj1'].value_counts()[0]/(data_risk_test['obj1'].value_counts()[1]+(data_risk_test['obj1'].value_counts()[0])))"
      ],
      "execution_count": 54,
      "outputs": [
        {
          "output_type": "stream",
          "text": [
            "0    835\n",
            "1    834\n",
            "Name: obj1, dtype: int64\n",
            "Imbalance: 0.5002995805871779\n"
          ],
          "name": "stdout"
        }
      ]
    },
    {
      "cell_type": "code",
      "metadata": {
        "id": "QZRIpRayvdo_",
        "colab_type": "code",
        "colab": {
          "base_uri": "https://localhost:8080/",
          "height": 139
        },
        "outputId": "44c25da1-50e1-4e58-8f92-96a120a78471"
      },
      "source": [
        "#Risk dataset downsampled scores DT\n",
        "feat_risk_test = data_risk_test.drop('obj1', axis=1)\n",
        "for col in feat_risk_test.columns:\n",
        "  if feat_risk_test[col].isnull().any():\n",
        "    feat_risk_test[col] = feat_risk_test[col].fillna(feat_risk_test[col].median())\n",
        "\n",
        "lab_risk_test = data_risk_test['obj1']\n",
        "\n",
        "print(\"Accuracy:\", cross_val_score(tree_clf, feat_risk_test, lab_risk_test, cv=10, scoring='accuracy').mean())\n",
        "print(\"Precision:\", cross_val_score(tree_clf, feat_risk_test, lab_risk_test, cv=10, scoring='precision').mean())\n",
        "print(\"Recall:\", cross_val_score(tree_clf, feat_risk_test, lab_risk_test, cv=10, scoring='recall').mean())\n",
        "print(\"F1-Score:\", cross_val_score(tree_clf, feat_risk_test, lab_risk_test, cv=10, scoring='f1').mean())"
      ],
      "execution_count": 55,
      "outputs": [
        {
          "output_type": "stream",
          "text": [
            "Accuracy: 0.6110778443113772\n",
            "Precision: 0.4910334294672273\n"
          ],
          "name": "stdout"
        },
        {
          "output_type": "stream",
          "text": [
            "/usr/local/lib/python3.6/dist-packages/sklearn/metrics/_classification.py:1272: UndefinedMetricWarning: Precision is ill-defined and being set to 0.0 due to no predicted samples. Use `zero_division` parameter to control this behavior.\n",
            "  _warn_prf(average, modifier, msg_start, len(result))\n"
          ],
          "name": "stderr"
        },
        {
          "output_type": "stream",
          "text": [
            "Recall: 0.7060240963855422\n",
            "F1-Score: 0.5732171901186317\n"
          ],
          "name": "stdout"
        }
      ]
    },
    {
      "cell_type": "code",
      "metadata": {
        "id": "O7XEwhRqwd-x",
        "colab_type": "code",
        "colab": {
          "base_uri": "https://localhost:8080/",
          "height": 85
        },
        "outputId": "14e8291b-4151-468d-bc78-26f35ad7d973"
      },
      "source": [
        "#Risk dataset downsample scores RF\n",
        "print(\"Accuracy:\", cross_val_score(rf_clf, feat_risk_test, lab_risk_test, cv=10, scoring='accuracy').mean())\n",
        "print(\"Precision:\", cross_val_score(rf_clf, feat_risk_test, lab_risk_test, cv=10, scoring='precision').mean())\n",
        "print(\"Recall:\", cross_val_score(rf_clf, feat_risk_test, lab_risk_test, cv=10, scoring='recall').mean())\n",
        "print(\"F1-Score:\", cross_val_score(rf_clf, feat_risk_test, lab_risk_test, cv=10, scoring='f1').mean())"
      ],
      "execution_count": 56,
      "outputs": [
        {
          "output_type": "stream",
          "text": [
            "Accuracy: 0.7697713007719501\n",
            "Precision: 0.8020669323477445\n",
            "Recall: 0.7228915662650602\n",
            "F1-Score: 0.6687959031965699\n"
          ],
          "name": "stdout"
        }
      ]
    },
    {
      "cell_type": "code",
      "metadata": {
        "id": "LxACUmx5ycFh",
        "colab_type": "code",
        "colab": {}
      },
      "source": [
        "#Downsample FRAUD DATASET to get 50%\n",
        "data_fraud_ind_ = data_fraud[data_fraud['Class'] == 0].index\n",
        "f_to_del = data_fraud_ind_[0:int(len(data_fraud_ind_)*0.952)]\n",
        "data_fraud_test = data_fraud.drop(index=f_to_del)\n",
        "\n",
        "print(data_fraud_test['Class'].value_counts())\n",
        "print(\"Imbalance:\", data_fraud_test['Class'].value_counts()[0]/(data_fraud_test['Class'].value_counts()[1]+(data_fraud_test['Class'].value_counts()[0])))"
      ],
      "execution_count": 0,
      "outputs": []
    },
    {
      "cell_type": "code",
      "metadata": {
        "id": "2wHvSBxhxEm9",
        "colab_type": "code",
        "colab": {
          "base_uri": "https://localhost:8080/",
          "height": 85
        },
        "outputId": "31c560cc-249e-4fd1-9072-fb156c51f1ba"
      },
      "source": [
        "#Fraud dataset base scores DT\n",
        "feat_fraud_test = data_fraud_test.drop('Class', axis=1)\n",
        "lab_fraud_test = data_fraud_test['Class']\n",
        "\n",
        "print(\"Accuracy:\", cross_val_score(tree_clf, feat_fraud_test, lab_fraud_test, cv=10, scoring='accuracy').mean())\n",
        "print(\"Precision:\", cross_val_score(tree_clf, feat_fraud_test, lab_fraud_test, cv=10, scoring='precision').mean())\n",
        "print(\"Recall:\", cross_val_score(tree_clf, feat_fraud_test, lab_fraud_test, cv=10, scoring='recall').mean())\n",
        "print(\"F1-Score:\", cross_val_score(tree_clf, feat_fraud_test, lab_fraud_test, cv=10, scoring='f1').mean())"
      ],
      "execution_count": 62,
      "outputs": [
        {
          "output_type": "stream",
          "text": [
            "Accuracy: 0.8630936227951154\n",
            "Precision: 0.8746967474541003\n",
            "Recall: 0.8481060606060605\n",
            "F1-Score: 0.8452735455304451\n"
          ],
          "name": "stdout"
        }
      ]
    },
    {
      "cell_type": "code",
      "metadata": {
        "id": "InxoGJ8ryoZ0",
        "colab_type": "code",
        "colab": {
          "base_uri": "https://localhost:8080/",
          "height": 85
        },
        "outputId": "85164d1b-6367-465e-9486-2bc5ebc5c797"
      },
      "source": [
        "#Fraud dataset base scores RD\n",
        "print(\"Accuracy:\", cross_val_score(rf_clf, feat_fraud_test, lab_fraud_test, cv=10, scoring='accuracy').mean())\n",
        "print(\"Precision:\", cross_val_score(rf_clf, feat_fraud_test, lab_fraud_test, cv=10, scoring='precision').mean())\n",
        "print(\"Recall:\", cross_val_score(rf_clf, feat_fraud_test, lab_fraud_test, cv=10, scoring='recall').mean())\n",
        "print(\"F1-Score:\", cross_val_score(rf_clf, feat_fraud_test, lab_fraud_test, cv=10, scoring='f1').mean())"
      ],
      "execution_count": 63,
      "outputs": [
        {
          "output_type": "stream",
          "text": [
            "Accuracy: 0.8948213478064224\n",
            "Precision: 0.990073145245559\n",
            "Recall: 0.7964962121212121\n",
            "F1-Score: 0.859661349183995\n"
          ],
          "name": "stdout"
        }
      ]
    },
    {
      "cell_type": "markdown",
      "metadata": {
        "id": "rzwIpIXSzLOn",
        "colab_type": "text"
      },
      "source": [
        "OVERSAMPLING AND TEST RESULTS"
      ]
    },
    {
      "cell_type": "code",
      "metadata": {
        "id": "IFzZ-KLKzT2b",
        "colab_type": "code",
        "colab": {
          "base_uri": "https://localhost:8080/",
          "height": 85
        },
        "outputId": "0debce1a-9559-4554-861c-598611f723fb"
      },
      "source": [
        "#OVERSAMPLING MUSHROOM DATASET\n",
        "max_ = data_mush_imbalanced_['class_p'].value_counts().max()\n",
        "\n",
        "temp = [data_mush_imbalanced_]\n",
        "for class_index, group in data_mush_imbalanced_.groupby('class_p'):\n",
        "    temp.append(group.sample(max_-len(group), replace=True))\n",
        "data_mush_over = pd.concat(temp)\n",
        "\n",
        "print(data_mush_over['class_p'].value_counts())\n",
        "print(\"Imbalance:\", data_mush_over['class_p'].value_counts()[0]/(data_mush_over['class_p'].value_counts()[1]+(data_mush_over['class_p'].value_counts()[0])))"
      ],
      "execution_count": 70,
      "outputs": [
        {
          "output_type": "stream",
          "text": [
            "1    4208\n",
            "0    4208\n",
            "Name: class_p, dtype: int64\n",
            "Imbalance: 0.5\n"
          ],
          "name": "stdout"
        }
      ]
    },
    {
      "cell_type": "code",
      "metadata": {
        "id": "iDp1M1fo2v0C",
        "colab_type": "code",
        "colab": {
          "base_uri": "https://localhost:8080/",
          "height": 85
        },
        "outputId": "7f748ef9-4333-4c0d-9500-289d57aec6a2"
      },
      "source": [
        "#MUSHROOM DATASET oversampling scores DT\n",
        "feat_mush_over = data_mush_over.drop('class_p', axis=1)\n",
        "lab_mush_over = data_mush_over['class_p']\n",
        "\n",
        "print(\"Accuracy:\", cross_val_score(tree_clf, feat_mush_over, lab_mush_over, cv=10, scoring='accuracy').mean())\n",
        "print(\"Precision:\", cross_val_score(tree_clf, feat_mush_over, lab_mush_over, cv=10, scoring='precision').mean())\n",
        "print(\"Recall:\", cross_val_score(tree_clf, feat_mush_over, lab_mush_over, cv=10, scoring='recall').mean())\n",
        "print(\"F1-Score:\", cross_val_score(tree_clf, feat_mush_over, lab_mush_over, cv=10, scoring='f1').mean())"
      ],
      "execution_count": 73,
      "outputs": [
        {
          "output_type": "stream",
          "text": [
            "Accuracy: 1.0\n",
            "Precision: 1.0\n",
            "Recall: 1.0\n",
            "F1-Score: 1.0\n"
          ],
          "name": "stdout"
        }
      ]
    },
    {
      "cell_type": "code",
      "metadata": {
        "id": "m5DZUEvr3HtD",
        "colab_type": "code",
        "colab": {
          "base_uri": "https://localhost:8080/",
          "height": 85
        },
        "outputId": "7d924be2-e237-4cf1-ed92-c9e67555b5e5"
      },
      "source": [
        "#MUSHROOM DATASET downsampling scores RF\n",
        "print(\"Accuracy:\", cross_val_score(rf_clf, feat_mush_over, lab_mush_over, cv=10, scoring='accuracy').mean())\n",
        "print(\"Precision:\", cross_val_score(rf_clf, feat_mush_over, lab_mush_over, cv=10, scoring='precision').mean())\n",
        "print(\"Recall:\", cross_val_score(rf_clf, feat_mush_over, lab_mush_over, cv=10, scoring='recall').mean())\n",
        "print(\"F1-Score:\", cross_val_score(rf_clf, feat_mush_over, lab_mush_over, cv=10, scoring='f1').mean())"
      ],
      "execution_count": 74,
      "outputs": [
        {
          "output_type": "stream",
          "text": [
            "Accuracy: 0.9396327186558249\n",
            "Precision: 0.9804210526315789\n",
            "Recall: 0.9013827621309808\n",
            "F1-Score: 0.9358573084322905\n"
          ],
          "name": "stdout"
        }
      ]
    },
    {
      "cell_type": "code",
      "metadata": {
        "id": "015qN7vg1pEx",
        "colab_type": "code",
        "colab": {
          "base_uri": "https://localhost:8080/",
          "height": 85
        },
        "outputId": "572b4568-1205-46b8-dd97-3f0ceec4f5bb"
      },
      "source": [
        "#OVERSAMPLING RISK DATASET\n",
        "max_ = data_risk['obj1'].value_counts().max()\n",
        "\n",
        "temp = [data_risk]\n",
        "for class_index, group in data_risk.groupby('obj1'):\n",
        "    temp.append(group.sample(max_-len(group), replace=True))\n",
        "data_risk_over = pd.concat(temp)\n",
        "\n",
        "print(data_risk_over['obj1'].value_counts())\n",
        "print(\"Imbalance:\", data_risk_over['obj1'].value_counts()[0]/(data_risk_over['obj1'].value_counts()[1]+(data_risk_over['obj1'].value_counts()[0])))"
      ],
      "execution_count": 71,
      "outputs": [
        {
          "output_type": "stream",
          "text": [
            "1    3694\n",
            "0    3694\n",
            "Name: obj1, dtype: int64\n",
            "Imbalance: 0.5\n"
          ],
          "name": "stdout"
        }
      ]
    },
    {
      "cell_type": "code",
      "metadata": {
        "id": "wpwTZfoe34EZ",
        "colab_type": "code",
        "colab": {
          "base_uri": "https://localhost:8080/",
          "height": 85
        },
        "outputId": "e4a6982f-9219-4d6f-be00-c32417de8158"
      },
      "source": [
        "#Risk dataset oversampled scores DT\n",
        "feat_risk_over = data_risk_over.drop('obj1', axis=1)\n",
        "for col in feat_risk_over.columns:\n",
        "  if feat_risk_over[col].isnull().any():\n",
        "    feat_risk_over[col] = feat_risk_over[col].fillna(feat_risk_over[col].median())\n",
        "\n",
        "lab_risk_over = data_risk_over['obj1']\n",
        "\n",
        "print(\"Accuracy:\", cross_val_score(tree_clf, feat_risk_over, lab_risk_over, cv=10, scoring='accuracy').mean())\n",
        "print(\"Precision:\", cross_val_score(tree_clf, feat_risk_over, lab_risk_over, cv=10, scoring='precision').mean())\n",
        "print(\"Recall:\", cross_val_score(tree_clf, feat_risk_over, lab_risk_over, cv=10, scoring='recall').mean())\n",
        "print(\"F1-Score:\", cross_val_score(tree_clf, feat_risk_over, lab_risk_over, cv=10, scoring='f1').mean())"
      ],
      "execution_count": 75,
      "outputs": [
        {
          "output_type": "stream",
          "text": [
            "Accuracy: 0.5692835480452233\n",
            "Precision: 0.5419794462150709\n",
            "Recall: 0.9937669376693767\n",
            "F1-Score: 0.6999812426287944\n"
          ],
          "name": "stdout"
        }
      ]
    },
    {
      "cell_type": "code",
      "metadata": {
        "id": "_59zBOnt4JBz",
        "colab_type": "code",
        "colab": {
          "base_uri": "https://localhost:8080/",
          "height": 85
        },
        "outputId": "5c6247e9-a3a1-46ba-b707-1689fcc0c350"
      },
      "source": [
        "#RISK DATASET oversampling scores RF\n",
        "print(\"Accuracy:\", cross_val_score(rf_clf, feat_risk_over, lab_risk_over, cv=10, scoring='accuracy').mean())\n",
        "print(\"Precision:\", cross_val_score(rf_clf, feat_risk_over, lab_risk_over, cv=10, scoring='precision').mean())\n",
        "print(\"Recall:\", cross_val_score(rf_clf, feat_risk_over, lab_risk_over, cv=10, scoring='recall').mean())\n",
        "print(\"F1-Score:\", cross_val_score(rf_clf, feat_risk_over, lab_risk_over, cv=10, scoring='f1').mean())"
      ],
      "execution_count": 76,
      "outputs": [
        {
          "output_type": "stream",
          "text": [
            "Accuracy: 0.40643603932656375\n",
            "Precision: 0.43695322804157116\n",
            "Recall: 0.5684911741009302\n",
            "F1-Score: 0.4917442664733766\n"
          ],
          "name": "stdout"
        }
      ]
    },
    {
      "cell_type": "code",
      "metadata": {
        "id": "ppLsgmeF1tGk",
        "colab_type": "code",
        "colab": {
          "base_uri": "https://localhost:8080/",
          "height": 85
        },
        "outputId": "338177a0-6aa8-4769-a350-154254d742aa"
      },
      "source": [
        "#OVERSAMPLING FRAUD DATASET\n",
        "max_ = data_fraud['Class'].value_counts().max()\n",
        "\n",
        "temp = [data_fraud]\n",
        "for class_index, group in data_fraud.groupby('Class'):\n",
        "    temp.append(group.sample(max_-len(group), replace=True))\n",
        "data_fraud_over = pd.concat(temp)\n",
        "\n",
        "print(data_fraud_over['Class'].value_counts())\n",
        "print(\"Imbalance:\", data_fraud_over['Class'].value_counts()[0]/(data_fraud_over['Class'].value_counts()[1]+(data_fraud_over['Class'].value_counts()[0])))"
      ],
      "execution_count": 72,
      "outputs": [
        {
          "output_type": "stream",
          "text": [
            "1    6972\n",
            "0    6972\n",
            "Name: Class, dtype: int64\n",
            "Imbalance: 0.5\n"
          ],
          "name": "stdout"
        }
      ]
    },
    {
      "cell_type": "code",
      "metadata": {
        "id": "AHmXfB084tRT",
        "colab_type": "code",
        "colab": {
          "base_uri": "https://localhost:8080/",
          "height": 85
        },
        "outputId": "e24d2003-4059-4597-e7ed-497f4aba2dd2"
      },
      "source": [
        "#Fraud dataset oversampling scores DT\n",
        "feat_fraud_over = data_fraud_over.drop('Class', axis=1)\n",
        "lab_fraud_over = data_fraud_over['Class']\n",
        "\n",
        "print(\"Accuracy:\", cross_val_score(tree_clf, feat_fraud_over, lab_fraud_over, cv=10, scoring='accuracy').mean())\n",
        "print(\"Precision:\", cross_val_score(tree_clf, feat_fraud_over, lab_fraud_over, cv=10, scoring='precision').mean())\n",
        "print(\"Recall:\", cross_val_score(tree_clf, feat_fraud_over, lab_fraud_over, cv=10, scoring='recall').mean())\n",
        "print(\"F1-Score:\", cross_val_score(tree_clf, feat_fraud_over, lab_fraud_over, cv=10, scoring='f1').mean())"
      ],
      "execution_count": 77,
      "outputs": [
        {
          "output_type": "stream",
          "text": [
            "Accuracy: 0.9944060823909947\n",
            "Precision: 0.9889488840732987\n",
            "Recall: 1.0\n",
            "F1-Score: 0.9944405666464208\n"
          ],
          "name": "stdout"
        }
      ]
    },
    {
      "cell_type": "code",
      "metadata": {
        "id": "2kexo1dd45gp",
        "colab_type": "code",
        "colab": {
          "base_uri": "https://localhost:8080/",
          "height": 85
        },
        "outputId": "f2698a94-7607-4985-c529-a41253cd1865"
      },
      "source": [
        "#Fraud dataset oversampling scores RF\n",
        "print(\"Accuracy:\", cross_val_score(rf_clf, feat_fraud_over, lab_fraud_over, cv=10, scoring='accuracy').mean())\n",
        "print(\"Precision:\", cross_val_score(rf_clf, feat_fraud_over, lab_fraud_over, cv=10, scoring='precision').mean())\n",
        "print(\"Recall:\", cross_val_score(rf_clf, feat_fraud_over, lab_fraud_over, cv=10, scoring='recall').mean())\n",
        "print(\"F1-Score:\", cross_val_score(rf_clf, feat_fraud_over, lab_fraud_over, cv=10, scoring='f1').mean())"
      ],
      "execution_count": 78,
      "outputs": [
        {
          "output_type": "stream",
          "text": [
            "Accuracy: 0.8916370723479531\n",
            "Precision: 0.9913714215462047\n",
            "Recall: 0.7901643556297354\n",
            "F1-Score: 0.8793354174840052\n"
          ],
          "name": "stdout"
        }
      ]
    },
    {
      "cell_type": "markdown",
      "metadata": {
        "id": "SP7gJda2wDDY",
        "colab_type": "text"
      },
      "source": [
        "CREATE 10 FOLDS OF EACH CLASS"
      ]
    },
    {
      "cell_type": "code",
      "metadata": {
        "id": "Gz_RXGcozSb-",
        "colab_type": "code",
        "colab": {
          "base_uri": "https://localhost:8080/",
          "height": 34
        },
        "outputId": "b4fa74ac-e3f5-4319-dbf3-cef3ba2525cd"
      },
      "source": [
        "#MUSHROOM DATASET\n",
        "skf = StratifiedKFold(n_splits=10)\n",
        "skf.get_n_splits(feat_mush, lab_mush)\n",
        "print(skf)"
      ],
      "execution_count": 30,
      "outputs": [
        {
          "output_type": "stream",
          "text": [
            "StratifiedKFold(n_splits=10, random_state=None, shuffle=False)\n"
          ],
          "name": "stdout"
        }
      ]
    },
    {
      "cell_type": "code",
      "metadata": {
        "id": "JymWM6L70NdB",
        "colab_type": "code",
        "colab": {}
      },
      "source": [
        "for x_ind, y_ind in skf.split(feat_mush, lab_mush):\n",
        "  #print(feat_risk.loc[x_ind])\n",
        "  #print(lab_risk.loc[y_ind])\n",
        "  pass"
      ],
      "execution_count": 0,
      "outputs": []
    },
    {
      "cell_type": "code",
      "metadata": {
        "id": "ALAM6P8Nqe1x",
        "colab_type": "code",
        "colab": {
          "base_uri": "https://localhost:8080/",
          "height": 34
        },
        "outputId": "8694b6fa-92ad-42cc-910f-ad0d461e4425"
      },
      "source": [
        "#RISK DATASET\n",
        "skf1 = StratifiedKFold(n_splits=10)\n",
        "skf1.get_n_splits(feat_risk, lab_risk)\n",
        "print(skf1)"
      ],
      "execution_count": 134,
      "outputs": [
        {
          "output_type": "stream",
          "text": [
            "StratifiedKFold(n_splits=10, random_state=None, shuffle=False)\n"
          ],
          "name": "stdout"
        }
      ]
    },
    {
      "cell_type": "code",
      "metadata": {
        "id": "XrGi0IEIgDDp",
        "colab_type": "code",
        "colab": {}
      },
      "source": [
        "for x_ind, y_ind in skf1.split(feat_risk, lab_risk):\n",
        "  #print(feat_risk.loc[x_ind])\n",
        "  #print(lab_risk.loc[y_ind])\n",
        "  pass"
      ],
      "execution_count": 0,
      "outputs": []
    },
    {
      "cell_type": "code",
      "metadata": {
        "id": "7HYU7sthxIkd",
        "colab_type": "code",
        "colab": {
          "base_uri": "https://localhost:8080/",
          "height": 34
        },
        "outputId": "a3a859a5-6aef-49f2-b165-72d6ab564a78"
      },
      "source": [
        "#FRAUD DATASET\n",
        "skf2 = StratifiedKFold(n_splits=10)\n",
        "skf2.get_n_splits(feat_fraud, lab_fraud)\n",
        "print(skf2)"
      ],
      "execution_count": 136,
      "outputs": [
        {
          "output_type": "stream",
          "text": [
            "StratifiedKFold(n_splits=10, random_state=None, shuffle=False)\n"
          ],
          "name": "stdout"
        }
      ]
    },
    {
      "cell_type": "code",
      "metadata": {
        "id": "Wj0V-Nr1iuzX",
        "colab_type": "code",
        "colab": {}
      },
      "source": [
        "for x_ind, y_ind in skf2.split(feat_fraud, lab_fraud):\n",
        "  #print(feat_fraud.loc[x_ind])\n",
        "  #print(lab_fraud.loc[y_ind])\n",
        "  pass"
      ],
      "execution_count": 0,
      "outputs": []
    },
    {
      "cell_type": "code",
      "metadata": {
        "id": "HE84T6DrzPj-",
        "colab_type": "code",
        "colab": {}
      },
      "source": [
        ""
      ],
      "execution_count": 0,
      "outputs": []
    }
  ]
}