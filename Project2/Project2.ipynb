{
  "nbformat": 4,
  "nbformat_minor": 0,
  "metadata": {
    "colab": {
      "name": "Copy of Project2.ipynb",
      "provenance": [],
      "collapsed_sections": [],
      "authorship_tag": "ABX9TyO0GxEV1x112/My0oy8ghsD",
      "include_colab_link": true
    },
    "kernelspec": {
      "name": "python3",
      "display_name": "Python 3"
    }
  },
  "cells": [
    {
      "cell_type": "markdown",
      "metadata": {
        "id": "view-in-github",
        "colab_type": "text"
      },
      "source": [
        "<a href=\"https://colab.research.google.com/github/emnordi/ce888/blob/master/Project2/Project2.ipynb\" target=\"_parent\"><img src=\"https://colab.research.google.com/assets/colab-badge.svg\" alt=\"Open In Colab\"/></a>"
      ]
    },
    {
      "cell_type": "code",
      "metadata": {
        "id": "BpVmhVOwDruJ",
        "colab_type": "code",
        "colab": {}
      },
      "source": [
        "import pandas as pd\n",
        "import os\n",
        "import io\n",
        "import numpy as np\n",
        "from sklearn.model_selection import StratifiedKFold\n",
        "from sklearn import tree\n",
        "from sklearn.ensemble import RandomForestClassifier\n",
        "from sklearn.model_selection import cross_val_score\n",
        "\n",
        "os.environ['KAGGLE_USERNAME'] = \"emilnordin\" # username from the json file\n",
        "\n",
        "os.environ['KAGGLE_KEY'] = \"3f9baf0776ca705fb3dbe29ef5e7caab\" # key from the json file"
      ],
      "execution_count": 0,
      "outputs": []
    },
    {
      "cell_type": "markdown",
      "metadata": {
        "id": "4cTRsaNTmyGq",
        "colab_type": "text"
      },
      "source": [
        "DOWNLOADING AND IMPORTING DATASETS"
      ]
    },
    {
      "cell_type": "code",
      "metadata": {
        "id": "JLl_nw4RPhqD",
        "colab_type": "code",
        "outputId": "63416213-6036-4473-bb62-9cdda738ce96",
        "colab": {
          "base_uri": "https://localhost:8080/",
          "height": 68
        }
      },
      "source": [
        "!kaggle datasets download -d uciml/mushroom-classification"
      ],
      "execution_count": 0,
      "outputs": [
        {
          "output_type": "stream",
          "text": [
            "Downloading mushroom-classification.zip to /content\n",
            "\r  0% 0.00/34.2k [00:00<?, ?B/s]\n",
            "\r100% 34.2k/34.2k [00:00<00:00, 14.4MB/s]\n"
          ],
          "name": "stdout"
        }
      ]
    },
    {
      "cell_type": "code",
      "metadata": {
        "id": "FdNjI4voWCI0",
        "colab_type": "code",
        "outputId": "297bb9f3-0228-43a6-98e9-f017488c83d4",
        "colab": {
          "base_uri": "https://localhost:8080/",
          "height": 68
        }
      },
      "source": [
        "!kaggle datasets download -d emoneyanalytics/unbalancedrisk"
      ],
      "execution_count": 0,
      "outputs": [
        {
          "output_type": "stream",
          "text": [
            "Downloading unbalancedrisk.zip to /content\n",
            "\r  0% 0.00/115k [00:00<?, ?B/s]\n",
            "\r100% 115k/115k [00:00<00:00, 33.9MB/s]\n"
          ],
          "name": "stdout"
        }
      ]
    },
    {
      "cell_type": "code",
      "metadata": {
        "id": "Eycbby419_NH",
        "colab_type": "code",
        "outputId": "9463ceca-416e-49c0-b3ef-f32284895b2c",
        "colab": {
          "base_uri": "https://localhost:8080/",
          "height": 68
        }
      },
      "source": [
        "!kaggle datasets download -d subediaarjun/unbalanced-fraud-detection-dataset"
      ],
      "execution_count": 0,
      "outputs": [
        {
          "output_type": "stream",
          "text": [
            "Downloading unbalanced-fraud-detection-dataset.zip to /content\n",
            "\r  0% 0.00/2.57M [00:00<?, ?B/s]\n",
            "\r100% 2.57M/2.57M [00:00<00:00, 84.2MB/s]\n"
          ],
          "name": "stdout"
        }
      ]
    },
    {
      "cell_type": "code",
      "metadata": {
        "id": "z4qrA3Rl-EsI",
        "colab_type": "code",
        "outputId": "a452b22a-d626-4ea2-e28e-fa1d6b48c8bb",
        "colab": {
          "base_uri": "https://localhost:8080/",
          "height": 51
        }
      },
      "source": [
        "#This dataset happened to be in excel format requiring some extra steps\n",
        "!unzip unbalanced-fraud-detection-dataset.zip"
      ],
      "execution_count": 0,
      "outputs": [
        {
          "output_type": "stream",
          "text": [
            "Archive:  unbalanced-fraud-detection-dataset.zip\n",
            "  inflating: Fraud Detection Sample data.xlsx  \n"
          ],
          "name": "stdout"
        }
      ]
    },
    {
      "cell_type": "code",
      "metadata": {
        "id": "xQJNiiqePmIU",
        "colab_type": "code",
        "colab": {}
      },
      "source": [
        "data_mush = pd.read_csv('mushroom-classification.zip', compression='zip', header=0, sep=',', quotechar='\"', encoding = \"utf-8\")"
      ],
      "execution_count": 0,
      "outputs": []
    },
    {
      "cell_type": "code",
      "metadata": {
        "id": "eok4jlGQPrqx",
        "colab_type": "code",
        "colab": {}
      },
      "source": [
        "#Downsample to get 65% imbalance\n",
        "mush_p_ind = data_mush[data_mush['class'] == 'p'].index\n",
        "to_del = mush_p_ind[0:int(len(mush_p_ind)*0.43)]\n",
        "data_mush_imbalanced = data_mush.drop(index=to_del)\n",
        "\n",
        "#Convert string data to ints\n",
        "data_mush_imbalanced_ = pd.get_dummies(data_mush_imbalanced)\n",
        "data_mush_imbalanced_ = data_mush_imbalanced_.drop('class_e', axis=1)"
      ],
      "execution_count": 0,
      "outputs": []
    },
    {
      "cell_type": "code",
      "metadata": {
        "id": "caP8rhXtJzoO",
        "colab_type": "code",
        "colab": {}
      },
      "source": [
        "data_risk = pd.read_csv('unbalancedrisk.zip', compression='zip', header=0, sep=',', quotechar='\"', encoding = \"utf-8\")"
      ],
      "execution_count": 0,
      "outputs": []
    },
    {
      "cell_type": "code",
      "metadata": {
        "id": "OFmerDEA_N_V",
        "colab_type": "code",
        "colab": {}
      },
      "source": [
        "data_fraud = pd.read_excel(\"Fraud Detection Sample data.xlsx\", sheet_name = 'credit_card_fraud_sample', header = 0)"
      ],
      "execution_count": 0,
      "outputs": []
    },
    {
      "cell_type": "markdown",
      "metadata": {
        "id": "MBIshC7TnAB7",
        "colab_type": "text"
      },
      "source": [
        "PRINTING DATASETS"
      ]
    },
    {
      "cell_type": "code",
      "metadata": {
        "id": "lemEmSueVAZq",
        "colab_type": "code",
        "outputId": "eda57332-5495-4363-ca00-b88293c1cc47",
        "colab": {
          "base_uri": "https://localhost:8080/",
          "height": 255
        }
      },
      "source": [
        "print(data_risk)"
      ],
      "execution_count": 0,
      "outputs": [
        {
          "output_type": "stream",
          "text": [
            "        id  f1        f2  f3   f4  ...   f31         f32    f33      f34  obj1\n",
            "0        1   1   17.2131   1  1.0  ...  13.0   32.766370    NaN      NaN     0\n",
            "1        2  35    0.1747   1  1.0  ...  23.0  210.567669    NaN      NaN     0\n",
            "2        3   1   35.3943   1  NaN  ...  16.0    0.000111    NaN      NaN     1\n",
            "3        4   1    4.4873   1  1.0  ...   7.0    9.380889    NaN      NaN     0\n",
            "4        5   1       NaN   1  NaN  ...  20.0   28.089135    NaN      NaN     0\n",
            "...    ...  ..       ...  ..  ...  ...   ...         ...    ...      ...   ...\n",
            "4523  4524  29    5.7576   1  1.0  ...  32.0  236.170700    NaN  63.0541     0\n",
            "4524  4525   2  107.7430   1  1.0  ...  27.0    2.799800    NaN      NaN     1\n",
            "4525  4526   1    1.9364   1  1.0  ...   NaN  205.806400    NaN  15.9357     1\n",
            "4526  4527   1    7.6795   1  3.0  ...  10.0    1.658700  533.0      NaN     0\n",
            "4527  4528   1   80.0871   1  1.0  ...   NaN    2.980200    NaN      NaN     1\n",
            "\n",
            "[4528 rows x 36 columns]\n"
          ],
          "name": "stdout"
        }
      ]
    },
    {
      "cell_type": "code",
      "metadata": {
        "id": "jqIBIbQMAfbW",
        "colab_type": "code",
        "outputId": "a442be4e-d602-4b7c-d998-5b40a7e7a762",
        "colab": {
          "base_uri": "https://localhost:8080/",
          "height": 255
        }
      },
      "source": [
        "print(data_fraud)"
      ],
      "execution_count": 0,
      "outputs": [
        {
          "output_type": "stream",
          "text": [
            "          ID        V1        V2        V3  ...       V27       V28  Amount  Class\n",
            "0     221547 -1.191668  0.428409  1.640028  ... -0.319964 -0.017444   27.44      0\n",
            "1     184524  1.966614 -0.450087 -1.228586  ... -0.039155 -0.071314   35.95      0\n",
            "2      91201  1.528452 -1.296191 -0.890677  ...  0.042997  0.025853   28.40      0\n",
            "3      26115 -0.774614  1.100916  0.679080  ...  0.282940  0.123856   43.20      0\n",
            "4     201292 -1.075860  1.361160  1.496972  ...  0.951130  0.158996    0.83      1\n",
            "...      ...       ...       ...       ...  ...       ...       ...     ...    ...\n",
            "7295   96789 -3.593476  0.781442 -1.822448  ... -1.478767  0.722673  101.50      1\n",
            "7296   18809  0.923764  0.344048 -2.880004  ...  0.489035 -0.049729   30.30      1\n",
            "7297  197586 -0.361428  1.133472 -2.971360  ... -0.001250 -0.182751  480.72      1\n",
            "7298  184379 -1.141559  1.927650 -3.905356  ... -0.146102  0.076211   25.00      1\n",
            "7299  145800 -0.419820 -1.155978 -2.092516  ... -0.021363  0.129096  451.27      1\n",
            "\n",
            "[7300 rows x 31 columns]\n"
          ],
          "name": "stdout"
        }
      ]
    },
    {
      "cell_type": "code",
      "metadata": {
        "id": "OEgIIyCjnmLv",
        "colab_type": "code",
        "outputId": "078be0b8-bb67-4aa3-8ab8-dfd497fe03af",
        "colab": {
          "base_uri": "https://localhost:8080/",
          "height": 255
        }
      },
      "source": [
        "print(data_mush_imbalanced_)"
      ],
      "execution_count": 0,
      "outputs": [
        {
          "output_type": "stream",
          "text": [
            "      class_p  cap-shape_b  cap-shape_c  ...  habitat_p  habitat_u  habitat_w\n",
            "1           0            0            0  ...          0          0          0\n",
            "2           0            1            0  ...          0          0          0\n",
            "4           0            0            0  ...          0          0          0\n",
            "5           0            0            0  ...          0          0          0\n",
            "6           0            1            0  ...          0          0          0\n",
            "...       ...          ...          ...  ...        ...        ...        ...\n",
            "8119        0            0            0  ...          0          0          0\n",
            "8120        0            0            0  ...          0          0          0\n",
            "8121        0            0            0  ...          0          0          0\n",
            "8122        1            0            0  ...          0          0          0\n",
            "8123        0            0            0  ...          0          0          0\n",
            "\n",
            "[6441 rows x 116 columns]\n"
          ],
          "name": "stdout"
        }
      ]
    },
    {
      "cell_type": "markdown",
      "metadata": {
        "id": "5e2pRZQYv665",
        "colab_type": "text"
      },
      "source": [
        "DISPLAY AMOUNT OF ROWS EACH CLASS HAS, AND IMBALANCE OF DATASETS"
      ]
    },
    {
      "cell_type": "code",
      "metadata": {
        "id": "bSuipLkXbxYi",
        "colab_type": "code",
        "outputId": "8b40e895-f84a-432c-b463-06d1e6a31e99",
        "colab": {
          "base_uri": "https://localhost:8080/",
          "height": 85
        }
      },
      "source": [
        "print(data_mush_imbalanced_['class_p'].value_counts())\n",
        "print(\"Imbalance:\", data_mush_imbalanced_['class_p'].value_counts()[0]/sum(data_mush_imbalanced_.class_p.value_counts()))"
      ],
      "execution_count": 0,
      "outputs": [
        {
          "output_type": "stream",
          "text": [
            "0    4208\n",
            "1    2233\n",
            "Name: class_p, dtype: int64\n",
            "Imbalance: 0.6533147026859183\n"
          ],
          "name": "stdout"
        }
      ]
    },
    {
      "cell_type": "code",
      "metadata": {
        "id": "1P3E33JcWflE",
        "colab_type": "code",
        "outputId": "7904c48c-34ce-4067-a1b4-a8a344aea378",
        "colab": {
          "base_uri": "https://localhost:8080/",
          "height": 85
        }
      },
      "source": [
        "print(data_risk['obj1'].value_counts())\n",
        "print(\"Imbalance:\", data_risk['obj1'].value_counts()[0]/sum(data_risk.obj1.value_counts()))"
      ],
      "execution_count": 0,
      "outputs": [
        {
          "output_type": "stream",
          "text": [
            "0    3694\n",
            "1     834\n",
            "Name: obj1, dtype: int64\n",
            "Imbalance: 0.8158127208480566\n"
          ],
          "name": "stdout"
        }
      ]
    },
    {
      "cell_type": "code",
      "metadata": {
        "id": "V9ndFI4WAp6X",
        "colab_type": "code",
        "outputId": "f643e774-fffc-498a-dec1-72247b024c86",
        "colab": {
          "base_uri": "https://localhost:8080/",
          "height": 85
        }
      },
      "source": [
        "print(data_fraud['Class'].value_counts())\n",
        "print(\"Imbalance:\", data_fraud['Class'].value_counts()[0]/sum(data_fraud.Class.value_counts()))"
      ],
      "execution_count": 0,
      "outputs": [
        {
          "output_type": "stream",
          "text": [
            "0    6972\n",
            "1     328\n",
            "Name: Class, dtype: int64\n",
            "Imbalance: 0.955068493150685\n"
          ],
          "name": "stdout"
        }
      ]
    },
    {
      "cell_type": "markdown",
      "metadata": {
        "id": "tI0BQSh10bA4",
        "colab_type": "text"
      },
      "source": [
        "BASE RESULTS"
      ]
    },
    {
      "cell_type": "code",
      "metadata": {
        "id": "sd4A-Z4N0kQO",
        "colab_type": "code",
        "colab": {}
      },
      "source": [
        "tree_clf = tree.DecisionTreeClassifier(random_state=0)\n",
        "rf_clf = RandomForestClassifier(max_depth=2, random_state=0)"
      ],
      "execution_count": 0,
      "outputs": []
    },
    {
      "cell_type": "code",
      "metadata": {
        "id": "RFkpdu_r3mqP",
        "colab_type": "code",
        "colab": {}
      },
      "source": [
        "def evaluatePerformance(clf, features, labels):\n",
        "  a = cross_val_score(tree_clf, features, labels, cv=10, scoring='accuracy')\n",
        "  p = cross_val_score(tree_clf, features, labels, cv=10, scoring='precision')\n",
        "  r = cross_val_score(tree_clf, features, labels, cv=10, scoring='recall')\n",
        "  f = cross_val_score(tree_clf, features, labels, cv=10, scoring='f1')\n",
        "\n",
        "  print(\"Accuracy:\", a.mean(), \"+/-\", a.std())\n",
        "  print(\"Precision:\", p.mean(), \"+/-\", p.std())\n",
        "  print(\"Recall:\", r.mean(), \"+/-\", r.std())\n",
        "  print(\"F1-Score:\", f.mean(), \"+/-\", f.std())"
      ],
      "execution_count": 0,
      "outputs": []
    },
    {
      "cell_type": "code",
      "metadata": {
        "id": "EVgUOH82g3vG",
        "colab_type": "code",
        "outputId": "0a60169b-3c93-48f3-d360-b521f029a747",
        "colab": {
          "base_uri": "https://localhost:8080/",
          "height": 85
        }
      },
      "source": [
        "#Mushroom dataset base scores DT\n",
        "feat_mush = data_mush_imbalanced_.drop('class_p', axis=1)\n",
        "lab_mush = data_mush_imbalanced_['class_p']\n",
        "\n",
        "evaluatePerformance(tree_clf, feat_mush, lab_mush)"
      ],
      "execution_count": 0,
      "outputs": [
        {
          "output_type": "stream",
          "text": [
            "Accuracy: 0.9996899224806202 +/- 0.0009302325581395434\n",
            "Precision: 1.0 +/- 0.0\n",
            "Recall: 0.9991071428571429 +/- 0.0026785714285714195\n",
            "F1-Score: 0.9995515695067265 +/- 0.0013452914798206318\n"
          ],
          "name": "stdout"
        }
      ]
    },
    {
      "cell_type": "code",
      "metadata": {
        "id": "kaP4T49vhl-i",
        "colab_type": "code",
        "outputId": "9de8cf9a-222d-4942-98e5-650f76ba6d02",
        "colab": {
          "base_uri": "https://localhost:8080/",
          "height": 85
        }
      },
      "source": [
        "#Mushroom dataset base scores RF\n",
        "evaluatePerformance(rf_clf, feat_mush, lab_mush)"
      ],
      "execution_count": 0,
      "outputs": [
        {
          "output_type": "stream",
          "text": [
            "Accuracy: 0.9996899224806202 +/- 0.0009302325581395434\n",
            "Precision: 1.0 +/- 0.0\n",
            "Recall: 0.9991071428571429 +/- 0.0026785714285714195\n",
            "F1-Score: 0.9995515695067265 +/- 0.0013452914798206318\n"
          ],
          "name": "stdout"
        }
      ]
    },
    {
      "cell_type": "code",
      "metadata": {
        "id": "FUlPK7xVjSEb",
        "colab_type": "code",
        "outputId": "d8354eb1-26ab-4151-e91a-110d8d18973e",
        "colab": {
          "base_uri": "https://localhost:8080/",
          "height": 85
        }
      },
      "source": [
        "#Risk dataset base scores DT\n",
        "feat_risk = data_risk.drop('obj1', axis=1)\n",
        "for col in feat_risk.columns:\n",
        "  if feat_risk[col].isnull().any():\n",
        "    feat_risk[col] = feat_risk[col].fillna(feat_risk[col].median())\n",
        "\n",
        "lab_risk = data_risk['obj1']\n",
        "evaluatePerformance(tree_clf, feat_risk, lab_risk)"
      ],
      "execution_count": 0,
      "outputs": [
        {
          "output_type": "stream",
          "text": [
            "Accuracy: 0.5392003164742425 +/- 0.18049456780350026\n",
            "Precision: 0.16305450371332567 +/- 0.04869932183168757\n",
            "Recall: 0.32172977624784854 +/- 0.2300489757520311\n",
            "F1-Score: 0.1982397011891827 +/- 0.05041986856758319\n"
          ],
          "name": "stdout"
        }
      ]
    },
    {
      "cell_type": "code",
      "metadata": {
        "id": "jc7Qfkn2kMaB",
        "colab_type": "code",
        "outputId": "39d0d8d1-2a32-41f7-f31e-9b6c450d205c",
        "colab": {
          "base_uri": "https://localhost:8080/",
          "height": 85
        }
      },
      "source": [
        "#Risk dataset base scores RF\n",
        "evaluatePerformance(rf_clf, feat_risk, lab_risk)"
      ],
      "execution_count": 0,
      "outputs": [
        {
          "output_type": "stream",
          "text": [
            "Accuracy: 0.5392003164742425 +/- 0.18049456780350026\n",
            "Precision: 0.16305450371332567 +/- 0.04869932183168757\n",
            "Recall: 0.32172977624784854 +/- 0.2300489757520311\n",
            "F1-Score: 0.1982397011891827 +/- 0.05041986856758319\n"
          ],
          "name": "stdout"
        }
      ]
    },
    {
      "cell_type": "code",
      "metadata": {
        "id": "lUQZn1Iau9fm",
        "colab_type": "code",
        "outputId": "5ecc11b4-d54c-4b2b-8be6-6423cb740157",
        "colab": {
          "base_uri": "https://localhost:8080/",
          "height": 85
        }
      },
      "source": [
        "#Fraud dataset base scores DT\n",
        "feat_fraud = data_fraud.drop('Class', axis=1)\n",
        "lab_fraud = data_fraud['Class']\n",
        "\n",
        "evaluatePerformance(rf_clf, feat_fraud, lab_fraud)"
      ],
      "execution_count": 0,
      "outputs": [
        {
          "output_type": "stream",
          "text": [
            "Accuracy: 0.9784931506849315 +/- 0.005649750856794877\n",
            "Precision: 0.7837433451305875 +/- 0.08872218614627476\n",
            "Recall: 0.7607007575757576 +/- 0.19600033267626282\n",
            "F1-Score: 0.7430508668262178 +/- 0.1341771381777081\n"
          ],
          "name": "stdout"
        }
      ]
    },
    {
      "cell_type": "code",
      "metadata": {
        "id": "XmKwidfymbGH",
        "colab_type": "code",
        "outputId": "9b65a67a-df2d-4afb-f856-a2017e9de10f",
        "colab": {
          "base_uri": "https://localhost:8080/",
          "height": 85
        }
      },
      "source": [
        "#Fraud dataset base scores RF\n",
        "evaluatePerformance(rf_clf, feat_fraud, lab_fraud)"
      ],
      "execution_count": 0,
      "outputs": [
        {
          "output_type": "stream",
          "text": [
            "Accuracy: 0.9784931506849315 +/- 0.005649750856794877\n",
            "Precision: 0.7837433451305875 +/- 0.08872218614627476\n",
            "Recall: 0.7607007575757576 +/- 0.19600033267626282\n",
            "F1-Score: 0.7430508668262178 +/- 0.1341771381777081\n"
          ],
          "name": "stdout"
        }
      ]
    },
    {
      "cell_type": "markdown",
      "metadata": {
        "id": "S-l8E2o2oy7X",
        "colab_type": "text"
      },
      "source": [
        "DOWNSAMPLING THE DATASETS AND RETRIEVING NEW PERFORMANCE RESULTS"
      ]
    },
    {
      "cell_type": "code",
      "metadata": {
        "id": "nE6CrvwPo70I",
        "colab_type": "code",
        "outputId": "f34591d1-31fc-4671-cdfa-b5143859fc44",
        "colab": {
          "base_uri": "https://localhost:8080/",
          "height": 85
        }
      },
      "source": [
        "#Downsample MUSHROOM DATASET to get 50%\n",
        "mush_p_ind_ = data_mush_imbalanced_[data_mush_imbalanced_['class_p'] == 0].index\n",
        "to_del = mush_p_ind_[0:int(len(mush_p_ind_)*0.46)]\n",
        "data_mush_imbalanced_test = data_mush_imbalanced_.drop(index=to_del)\n",
        "\n",
        "print(data_mush_imbalanced_test['class_p'].value_counts())\n",
        "print(\"Imbalance:\", data_mush_imbalanced_test['class_p'].value_counts()[0]/(data_mush_imbalanced_test['class_p'].value_counts()[1]+(data_mush_imbalanced_test['class_p'].value_counts()[0])))"
      ],
      "execution_count": 0,
      "outputs": [
        {
          "output_type": "stream",
          "text": [
            "0    2273\n",
            "1    2233\n",
            "Name: class_p, dtype: int64\n",
            "Imbalance: 0.5044385264092321\n"
          ],
          "name": "stdout"
        }
      ]
    },
    {
      "cell_type": "code",
      "metadata": {
        "id": "Ym9OWuS_r0KS",
        "colab_type": "code",
        "outputId": "aad8f4aa-52ee-4696-bfeb-b3c0b4886481",
        "colab": {
          "base_uri": "https://localhost:8080/",
          "height": 85
        }
      },
      "source": [
        "#MUSHROOM DATASET downsampling scores DT\n",
        "feat_mush_test = data_mush_imbalanced_test.drop('class_p', axis=1)\n",
        "lab_mush_test = data_mush_imbalanced_test['class_p']\n",
        "\n",
        "evaluatePerformance(tree_clf, feat_mush_test, lab_mush_test)"
      ],
      "execution_count": 0,
      "outputs": [
        {
          "output_type": "stream",
          "text": [
            "Accuracy: 0.9995565410199557 +/- 0.0013303769401330269\n",
            "Precision: 1.0 +/- 0.0\n",
            "Recall: 0.9991031390134528 +/- 0.002690582959641263\n",
            "F1-Score: 0.9995495495495496 +/- 0.001351351351351371\n"
          ],
          "name": "stdout"
        }
      ]
    },
    {
      "cell_type": "code",
      "metadata": {
        "id": "nKnEto6vsPkg",
        "colab_type": "code",
        "outputId": "65164bbc-6238-4171-d6d6-2fba1ecb4b08",
        "colab": {
          "base_uri": "https://localhost:8080/",
          "height": 85
        }
      },
      "source": [
        "#MUSHROOM DATASET downsampling scores RF\n",
        "evaluatePerformance(rf_clf, feat_mush_test, lab_mush_test)"
      ],
      "execution_count": 0,
      "outputs": [
        {
          "output_type": "stream",
          "text": [
            "Accuracy: 0.9995565410199557 +/- 0.0013303769401330269\n",
            "Precision: 1.0 +/- 0.0\n",
            "Recall: 0.9991031390134528 +/- 0.002690582959641263\n",
            "F1-Score: 0.9995495495495496 +/- 0.001351351351351371\n"
          ],
          "name": "stdout"
        }
      ]
    },
    {
      "cell_type": "code",
      "metadata": {
        "id": "Bi1CJ8UqtocS",
        "colab_type": "code",
        "outputId": "8eba3094-8404-4658-a997-e33cdb3bc7af",
        "colab": {
          "base_uri": "https://localhost:8080/",
          "height": 85
        }
      },
      "source": [
        "#Downsample RISK DATASET to get 50%\n",
        "data_risk_ind_ = data_risk[data_risk['obj1'] == 0].index\n",
        "r_to_del = data_risk_ind_[0:int(len(data_risk_ind_)*0.774)]\n",
        "data_risk_test = data_risk.drop(index=r_to_del)\n",
        "\n",
        "print(data_risk_test['obj1'].value_counts())\n",
        "print(\"Imbalance:\", data_risk_test['obj1'].value_counts()[0]/(data_risk_test['obj1'].value_counts()[1]+(data_risk_test['obj1'].value_counts()[0])))"
      ],
      "execution_count": 0,
      "outputs": [
        {
          "output_type": "stream",
          "text": [
            "0    835\n",
            "1    834\n",
            "Name: obj1, dtype: int64\n",
            "Imbalance: 0.5002995805871779\n"
          ],
          "name": "stdout"
        }
      ]
    },
    {
      "cell_type": "code",
      "metadata": {
        "id": "QZRIpRayvdo_",
        "colab_type": "code",
        "outputId": "e10e714a-b9f9-4c3e-d472-400f897e9762",
        "colab": {
          "base_uri": "https://localhost:8080/",
          "height": 139
        }
      },
      "source": [
        "#Risk dataset downsampled scores DT\n",
        "feat_risk_test = data_risk_test.drop('obj1', axis=1)\n",
        "for col in feat_risk_test.columns:\n",
        "  if feat_risk_test[col].isnull().any():\n",
        "    feat_risk_test[col] = feat_risk_test[col].fillna(feat_risk_test[col].median())\n",
        "\n",
        "lab_risk_test = data_risk_test['obj1']\n",
        "evaluatePerformance(tree_clf, feat_risk_test, lab_risk_test)"
      ],
      "execution_count": 0,
      "outputs": [
        {
          "output_type": "stream",
          "text": [
            "/usr/local/lib/python3.6/dist-packages/sklearn/metrics/_classification.py:1272: UndefinedMetricWarning: Precision is ill-defined and being set to 0.0 due to no predicted samples. Use `zero_division` parameter to control this behavior.\n",
            "  _warn_prf(average, modifier, msg_start, len(result))\n"
          ],
          "name": "stderr"
        },
        {
          "output_type": "stream",
          "text": [
            "Accuracy: 0.6110778443113772 +/- 0.25920069686437014\n",
            "Precision: 0.4910334294672273 +/- 0.3035462663641486\n",
            "Recall: 0.7060240963855422 +/- 0.4493249077177913\n",
            "F1-Score: 0.5732171901186317 +/- 0.36217572746245136\n"
          ],
          "name": "stdout"
        }
      ]
    },
    {
      "cell_type": "code",
      "metadata": {
        "id": "O7XEwhRqwd-x",
        "colab_type": "code",
        "outputId": "16a2a10f-6dfa-4b55-dfa1-2291f7bda495",
        "colab": {
          "base_uri": "https://localhost:8080/",
          "height": 139
        }
      },
      "source": [
        "#Risk dataset downsample scores RF\n",
        "evaluatePerformance(rf_clf, feat_risk_test, lab_risk_test)"
      ],
      "execution_count": 0,
      "outputs": [
        {
          "output_type": "stream",
          "text": [
            "/usr/local/lib/python3.6/dist-packages/sklearn/metrics/_classification.py:1272: UndefinedMetricWarning: Precision is ill-defined and being set to 0.0 due to no predicted samples. Use `zero_division` parameter to control this behavior.\n",
            "  _warn_prf(average, modifier, msg_start, len(result))\n"
          ],
          "name": "stderr"
        },
        {
          "output_type": "stream",
          "text": [
            "Accuracy: 0.6110778443113772 +/- 0.25920069686437014\n",
            "Precision: 0.4910334294672273 +/- 0.3035462663641486\n",
            "Recall: 0.7060240963855422 +/- 0.4493249077177913\n",
            "F1-Score: 0.5732171901186317 +/- 0.36217572746245136\n"
          ],
          "name": "stdout"
        }
      ]
    },
    {
      "cell_type": "code",
      "metadata": {
        "id": "LxACUmx5ycFh",
        "colab_type": "code",
        "outputId": "8c4bf33f-5cc2-4a5f-d843-0eb82b4ad16c",
        "colab": {
          "base_uri": "https://localhost:8080/",
          "height": 85
        }
      },
      "source": [
        "#Downsample FRAUD DATASET to get 50%\n",
        "data_fraud_ind_ = data_fraud[data_fraud['Class'] == 0].index\n",
        "f_to_del = data_fraud_ind_[0:int(len(data_fraud_ind_)*0.952)]\n",
        "data_fraud_test = data_fraud.drop(index=f_to_del)\n",
        "\n",
        "print(data_fraud_test['Class'].value_counts())\n",
        "print(\"Imbalance:\", data_fraud_test['Class'].value_counts()[0]/(data_fraud_test['Class'].value_counts()[1]+(data_fraud_test['Class'].value_counts()[0])))"
      ],
      "execution_count": 0,
      "outputs": [
        {
          "output_type": "stream",
          "text": [
            "0    335\n",
            "1    328\n",
            "Name: Class, dtype: int64\n",
            "Imbalance: 0.5052790346907994\n"
          ],
          "name": "stdout"
        }
      ]
    },
    {
      "cell_type": "code",
      "metadata": {
        "id": "2wHvSBxhxEm9",
        "colab_type": "code",
        "outputId": "d75f4734-5031-45b1-dee3-0c711dcf878b",
        "colab": {
          "base_uri": "https://localhost:8080/",
          "height": 85
        }
      },
      "source": [
        "#Fraud dataset downsample scores DT\n",
        "feat_fraud_test = data_fraud_test.drop('Class', axis=1)\n",
        "lab_fraud_test = data_fraud_test['Class']\n",
        "\n",
        "evaluatePerformance(tree_clf, feat_fraud_test, lab_fraud_test)"
      ],
      "execution_count": 0,
      "outputs": [
        {
          "output_type": "stream",
          "text": [
            "Accuracy: 0.8630936227951154 +/- 0.08513958333321879\n",
            "Precision: 0.8746967474541003 +/- 0.04662622126324715\n",
            "Recall: 0.8481060606060605 +/- 0.18909265809335843\n",
            "F1-Score: 0.8452735455304451 +/- 0.13710989687909192\n"
          ],
          "name": "stdout"
        }
      ]
    },
    {
      "cell_type": "code",
      "metadata": {
        "id": "InxoGJ8ryoZ0",
        "colab_type": "code",
        "outputId": "36d34c0d-c1a0-45f5-dc0b-d4b5408b40c5",
        "colab": {
          "base_uri": "https://localhost:8080/",
          "height": 85
        }
      },
      "source": [
        "#Fraud dataset downsample scores RF\n",
        "evaluatePerformance(rf_clf, feat_fraud_test, lab_fraud_test)"
      ],
      "execution_count": 0,
      "outputs": [
        {
          "output_type": "stream",
          "text": [
            "Accuracy: 0.8630936227951154 +/- 0.08513958333321879\n",
            "Precision: 0.8746967474541003 +/- 0.04662622126324715\n",
            "Recall: 0.8481060606060605 +/- 0.18909265809335843\n",
            "F1-Score: 0.8452735455304451 +/- 0.13710989687909192\n"
          ],
          "name": "stdout"
        }
      ]
    },
    {
      "cell_type": "markdown",
      "metadata": {
        "id": "rzwIpIXSzLOn",
        "colab_type": "text"
      },
      "source": [
        "OVERSAMPLING AND TEST RESULTS"
      ]
    },
    {
      "cell_type": "code",
      "metadata": {
        "id": "IFzZ-KLKzT2b",
        "colab_type": "code",
        "outputId": "fe8d6f27-aac6-42ed-ab04-45fced49462e",
        "colab": {
          "base_uri": "https://localhost:8080/",
          "height": 85
        }
      },
      "source": [
        "#OVERSAMPLING MUSHROOM DATASET\n",
        "max_ = data_mush_imbalanced_['class_p'].value_counts().max()\n",
        "\n",
        "temp = [data_mush_imbalanced_]\n",
        "for class_index, group in data_mush_imbalanced_.groupby('class_p'):\n",
        "    temp.append(group.sample(max_-len(group), replace=True))\n",
        "data_mush_over = pd.concat(temp)\n",
        "\n",
        "print(data_mush_over['class_p'].value_counts())\n",
        "print(\"Imbalance:\", data_mush_over['class_p'].value_counts()[0]/(data_mush_over['class_p'].value_counts()[1]+(data_mush_over['class_p'].value_counts()[0])))"
      ],
      "execution_count": 0,
      "outputs": [
        {
          "output_type": "stream",
          "text": [
            "1    4208\n",
            "0    4208\n",
            "Name: class_p, dtype: int64\n",
            "Imbalance: 0.5\n"
          ],
          "name": "stdout"
        }
      ]
    },
    {
      "cell_type": "code",
      "metadata": {
        "id": "iDp1M1fo2v0C",
        "colab_type": "code",
        "outputId": "b088a445-11f0-4317-c9d2-ec260e4f2c5f",
        "colab": {
          "base_uri": "https://localhost:8080/",
          "height": 85
        }
      },
      "source": [
        "#MUSHROOM DATASET oversampling scores DT\n",
        "feat_mush_over = data_mush_over.drop('class_p', axis=1)\n",
        "lab_mush_over = data_mush_over['class_p']\n",
        "\n",
        "evaluatePerformance(tree_clf, feat_mush_over, lab_mush_over)"
      ],
      "execution_count": 0,
      "outputs": [
        {
          "output_type": "stream",
          "text": [
            "Accuracy: 1.0 +/- 0.0\n",
            "Precision: 1.0 +/- 0.0\n",
            "Recall: 1.0 +/- 0.0\n",
            "F1-Score: 1.0 +/- 0.0\n"
          ],
          "name": "stdout"
        }
      ]
    },
    {
      "cell_type": "code",
      "metadata": {
        "id": "m5DZUEvr3HtD",
        "colab_type": "code",
        "outputId": "c93f4a70-6408-485d-f4df-589d48ba4542",
        "colab": {
          "base_uri": "https://localhost:8080/",
          "height": 85
        }
      },
      "source": [
        "#MUSHROOM DATASET oversampling scores RF\n",
        "evaluatePerformance(rf_clf, feat_mush_over, lab_mush_over)"
      ],
      "execution_count": 0,
      "outputs": [
        {
          "output_type": "stream",
          "text": [
            "Accuracy: 1.0 +/- 0.0\n",
            "Precision: 1.0 +/- 0.0\n",
            "Recall: 1.0 +/- 0.0\n",
            "F1-Score: 1.0 +/- 0.0\n"
          ],
          "name": "stdout"
        }
      ]
    },
    {
      "cell_type": "code",
      "metadata": {
        "id": "015qN7vg1pEx",
        "colab_type": "code",
        "outputId": "1be88faa-059c-41b0-9065-cc4e64de46c1",
        "colab": {
          "base_uri": "https://localhost:8080/",
          "height": 85
        }
      },
      "source": [
        "#OVERSAMPLING RISK DATASET\n",
        "max_ = data_risk['obj1'].value_counts().max()\n",
        "\n",
        "temp = [data_risk]\n",
        "for class_index, group in data_risk.groupby('obj1'):\n",
        "    temp.append(group.sample(max_-len(group), replace=True))\n",
        "data_risk_over = pd.concat(temp)\n",
        "\n",
        "print(data_risk_over['obj1'].value_counts())\n",
        "print(\"Imbalance:\", data_risk_over['obj1'].value_counts()[0]/(data_risk_over['obj1'].value_counts()[1]+(data_risk_over['obj1'].value_counts()[0])))"
      ],
      "execution_count": 0,
      "outputs": [
        {
          "output_type": "stream",
          "text": [
            "1    3694\n",
            "0    3694\n",
            "Name: obj1, dtype: int64\n",
            "Imbalance: 0.5\n"
          ],
          "name": "stdout"
        }
      ]
    },
    {
      "cell_type": "code",
      "metadata": {
        "id": "wpwTZfoe34EZ",
        "colab_type": "code",
        "outputId": "0e95aba2-a935-464a-c0fa-a3b06272764c",
        "colab": {
          "base_uri": "https://localhost:8080/",
          "height": 85
        }
      },
      "source": [
        "#Risk dataset oversampled scores DT\n",
        "feat_risk_over = data_risk_over.drop('obj1', axis=1)\n",
        "for col in feat_risk_over.columns:\n",
        "  if feat_risk_over[col].isnull().any():\n",
        "    feat_risk_over[col] = feat_risk_over[col].fillna(feat_risk_over[col].median())\n",
        "\n",
        "lab_risk_over = data_risk_over['obj1']\n",
        "\n",
        "evaluatePerformance(tree_clf, feat_risk_over, lab_risk_over)"
      ],
      "execution_count": 0,
      "outputs": [
        {
          "output_type": "stream",
          "text": [
            "Accuracy: 0.5495271204403519 +/- 0.07538807231223811\n",
            "Precision: 0.5301978489568265 +/- 0.049103105754774626\n",
            "Recall: 0.9921409214092141 +/- 0.013465862600330456\n",
            "F1-Score: 0.6897786592586492 +/- 0.03954631874370219\n"
          ],
          "name": "stdout"
        }
      ]
    },
    {
      "cell_type": "code",
      "metadata": {
        "id": "_59zBOnt4JBz",
        "colab_type": "code",
        "outputId": "06f1be08-065a-4b94-a03f-99df7c79142a",
        "colab": {
          "base_uri": "https://localhost:8080/",
          "height": 85
        }
      },
      "source": [
        "#RISK DATASET oversampling scores RF\n",
        "evaluatePerformance(rf_clf, feat_risk_over, lab_risk_over)"
      ],
      "execution_count": 0,
      "outputs": [
        {
          "output_type": "stream",
          "text": [
            "Accuracy: 0.5495271204403519 +/- 0.07538807231223811\n",
            "Precision: 0.5301978489568265 +/- 0.049103105754774626\n",
            "Recall: 0.9921409214092141 +/- 0.013465862600330456\n",
            "F1-Score: 0.6897786592586492 +/- 0.03954631874370219\n"
          ],
          "name": "stdout"
        }
      ]
    },
    {
      "cell_type": "code",
      "metadata": {
        "id": "ppLsgmeF1tGk",
        "colab_type": "code",
        "outputId": "8dda2cea-2ff0-450b-c9b6-daa85502bb8e",
        "colab": {
          "base_uri": "https://localhost:8080/",
          "height": 85
        }
      },
      "source": [
        "#OVERSAMPLING FRAUD DATASET\n",
        "max_ = data_fraud['Class'].value_counts().max()\n",
        "\n",
        "temp = [data_fraud]\n",
        "for class_index, group in data_fraud.groupby('Class'):\n",
        "    temp.append(group.sample(max_-len(group), replace=True))\n",
        "data_fraud_over = pd.concat(temp)\n",
        "\n",
        "print(data_fraud_over['Class'].value_counts())\n",
        "print(\"Imbalance:\", data_fraud_over['Class'].value_counts()[0]/(data_fraud_over['Class'].value_counts()[1]+(data_fraud_over['Class'].value_counts()[0])))"
      ],
      "execution_count": 0,
      "outputs": [
        {
          "output_type": "stream",
          "text": [
            "1    6972\n",
            "0    6972\n",
            "Name: Class, dtype: int64\n",
            "Imbalance: 0.5\n"
          ],
          "name": "stdout"
        }
      ]
    },
    {
      "cell_type": "code",
      "metadata": {
        "id": "AHmXfB084tRT",
        "colab_type": "code",
        "outputId": "3a9e559b-d07a-4ba4-fd6b-41456366d5e7",
        "colab": {
          "base_uri": "https://localhost:8080/",
          "height": 85
        }
      },
      "source": [
        "#Fraud dataset oversampling scores DT\n",
        "feat_fraud_over = data_fraud_over.drop('Class', axis=1)\n",
        "lab_fraud_over = data_fraud_over['Class']\n",
        "evaluatePerformance(tree_clf, feat_fraud_over, lab_fraud_over)"
      ],
      "execution_count": 0,
      "outputs": [
        {
          "output_type": "stream",
          "text": [
            "Accuracy: 0.9932586661729996 +/- 0.0012916044204471055\n",
            "Precision: 0.9867029103362066 +/- 0.0025165308504912854\n",
            "Recall: 1.0 +/- 0.0\n",
            "F1-Score: 0.9933053411326158 +/- 0.0012750072273575031\n"
          ],
          "name": "stdout"
        }
      ]
    },
    {
      "cell_type": "code",
      "metadata": {
        "id": "2kexo1dd45gp",
        "colab_type": "code",
        "outputId": "cabd0264-325d-4a41-bc8d-ce6733734571",
        "colab": {
          "base_uri": "https://localhost:8080/",
          "height": 85
        }
      },
      "source": [
        "#Fraud dataset oversampling scores RF\n",
        "evaluatePerformance(rf_clf, feat_fraud_over, lab_fraud_over)"
      ],
      "execution_count": 0,
      "outputs": [
        {
          "output_type": "stream",
          "text": [
            "Accuracy: 0.9932586661729996 +/- 0.0012916044204471055\n",
            "Precision: 0.9867029103362066 +/- 0.0025165308504912854\n",
            "Recall: 1.0 +/- 0.0\n",
            "F1-Score: 0.9933053411326158 +/- 0.0012750072273575031\n"
          ],
          "name": "stdout"
        }
      ]
    },
    {
      "cell_type": "markdown",
      "metadata": {
        "id": "SP7gJda2wDDY",
        "colab_type": "text"
      },
      "source": [
        "CREATE 10 FOLDS OF EACH CLASS"
      ]
    },
    {
      "cell_type": "code",
      "metadata": {
        "id": "Gz_RXGcozSb-",
        "colab_type": "code",
        "outputId": "1f283e5d-0157-4a4e-bcc7-1ccc42248647",
        "colab": {
          "base_uri": "https://localhost:8080/",
          "height": 34
        }
      },
      "source": [
        "#MUSHROOM DATASET\n",
        "skf = StratifiedKFold(n_splits=10)\n",
        "skf.get_n_splits(feat_mush, lab_mush)\n",
        "print(skf)"
      ],
      "execution_count": 0,
      "outputs": [
        {
          "output_type": "stream",
          "text": [
            "StratifiedKFold(n_splits=10, random_state=None, shuffle=False)\n"
          ],
          "name": "stdout"
        }
      ]
    },
    {
      "cell_type": "code",
      "metadata": {
        "id": "JymWM6L70NdB",
        "colab_type": "code",
        "colab": {}
      },
      "source": [
        "for x_ind, y_ind in skf.split(feat_mush, lab_mush):\n",
        "  #print(feat_risk.loc[x_ind])\n",
        "  #print(lab_risk.loc[y_ind])\n",
        "  pass"
      ],
      "execution_count": 0,
      "outputs": []
    },
    {
      "cell_type": "code",
      "metadata": {
        "id": "ALAM6P8Nqe1x",
        "colab_type": "code",
        "outputId": "b4cdce6e-6198-4da4-fc77-a7c73d2c6e9e",
        "colab": {
          "base_uri": "https://localhost:8080/",
          "height": 34
        }
      },
      "source": [
        "#RISK DATASET\n",
        "skf1 = StratifiedKFold(n_splits=10)\n",
        "skf1.get_n_splits(feat_risk, lab_risk)\n",
        "print(skf1)"
      ],
      "execution_count": 0,
      "outputs": [
        {
          "output_type": "stream",
          "text": [
            "StratifiedKFold(n_splits=10, random_state=None, shuffle=False)\n"
          ],
          "name": "stdout"
        }
      ]
    },
    {
      "cell_type": "code",
      "metadata": {
        "id": "XrGi0IEIgDDp",
        "colab_type": "code",
        "colab": {}
      },
      "source": [
        "for x_ind, y_ind in skf1.split(feat_risk, lab_risk):\n",
        "  #print(feat_risk.loc[x_ind])\n",
        "  #print(lab_risk.loc[y_ind])\n",
        "  pass"
      ],
      "execution_count": 0,
      "outputs": []
    },
    {
      "cell_type": "code",
      "metadata": {
        "id": "7HYU7sthxIkd",
        "colab_type": "code",
        "outputId": "039a24a3-9648-492c-fe97-324850a0a2b0",
        "colab": {
          "base_uri": "https://localhost:8080/",
          "height": 34
        }
      },
      "source": [
        "#FRAUD DATASET\n",
        "skf2 = StratifiedKFold(n_splits=10)\n",
        "skf2.get_n_splits(feat_fraud, lab_fraud)\n",
        "print(skf2)"
      ],
      "execution_count": 0,
      "outputs": [
        {
          "output_type": "stream",
          "text": [
            "StratifiedKFold(n_splits=10, random_state=None, shuffle=False)\n"
          ],
          "name": "stdout"
        }
      ]
    },
    {
      "cell_type": "code",
      "metadata": {
        "id": "Wj0V-Nr1iuzX",
        "colab_type": "code",
        "colab": {}
      },
      "source": [
        "for x_ind, y_ind in skf2.split(feat_fraud, lab_fraud):\n",
        "  #print(feat_fraud.loc[x_ind])\n",
        "  #print(lab_fraud.loc[y_ind])\n",
        "  pass"
      ],
      "execution_count": 0,
      "outputs": []
    },
    {
      "cell_type": "code",
      "metadata": {
        "id": "HE84T6DrzPj-",
        "colab_type": "code",
        "colab": {}
      },
      "source": [
        ""
      ],
      "execution_count": 0,
      "outputs": []
    }
  ]
}