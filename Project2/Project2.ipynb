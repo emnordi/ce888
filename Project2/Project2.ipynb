{
  "nbformat": 4,
  "nbformat_minor": 0,
  "metadata": {
    "colab": {
      "name": "Project2.ipynb",
      "provenance": [],
      "collapsed_sections": [],
      "authorship_tag": "ABX9TyP8k93/ND1YG1Pwygw0NvtH",
      "include_colab_link": true
    },
    "kernelspec": {
      "name": "python3",
      "display_name": "Python 3"
    }
  },
  "cells": [
    {
      "cell_type": "markdown",
      "metadata": {
        "id": "view-in-github",
        "colab_type": "text"
      },
      "source": [
        "<a href=\"https://colab.research.google.com/github/emnordi/ce888/blob/master/Project2/Project2.ipynb\" target=\"_parent\"><img src=\"https://colab.research.google.com/assets/colab-badge.svg\" alt=\"Open In Colab\"/></a>"
      ]
    },
    {
      "cell_type": "code",
      "metadata": {
        "id": "BpVmhVOwDruJ",
        "colab_type": "code",
        "colab": {}
      },
      "source": [
        "import pandas as pd\n",
        "import os\n",
        "\n",
        "os.environ['KAGGLE_USERNAME'] = \"emilnordin\" # username from the json file\n",
        "\n",
        "os.environ['KAGGLE_KEY'] = \"3f9baf0776ca705fb3dbe29ef5e7caab\" # key from the json file"
      ],
      "execution_count": 0,
      "outputs": []
    },
    {
      "cell_type": "code",
      "metadata": {
        "id": "FdNjI4voWCI0",
        "colab_type": "code",
        "outputId": "11ea4915-e2d5-45e7-ac3c-c79d9943d35e",
        "colab": {
          "base_uri": "https://localhost:8080/",
          "height": 68
        }
      },
      "source": [
        "!kaggle datasets download -d jmolitoris/adoptable-dogs"
      ],
      "execution_count": 0,
      "outputs": [
        {
          "output_type": "stream",
          "text": [
            "Downloading adoptable-dogs.zip to /content\n",
            "\r  0% 0.00/65.7k [00:00<?, ?B/s]\n",
            "\r100% 65.7k/65.7k [00:00<00:00, 25.1MB/s]\n"
          ],
          "name": "stdout"
        }
      ]
    },
    {
      "cell_type": "code",
      "metadata": {
        "id": "XD0gy-IpTXEQ",
        "colab_type": "code",
        "colab": {}
      },
      "source": [
        "dog_data = pd.read_csv('adoptable-dogs.zip', compression='zip', header=0, sep=',', quotechar='\"', encoding = \"utf-8\")"
      ],
      "execution_count": 0,
      "outputs": []
    },
    {
      "cell_type": "code",
      "metadata": {
        "id": "lemEmSueVAZq",
        "colab_type": "code",
        "outputId": "4750ecaf-51a8-4997-a9b3-ee0f01e8078e",
        "colab": {
          "base_uri": "https://localhost:8080/",
          "height": 255
        }
      },
      "source": [
        "print(data)"
      ],
      "execution_count": 0,
      "outputs": [
        {
          "output_type": "stream",
          "text": [
            "         ID            name  ...  get_along_cats               keep_in\n",
            "0     23807            Gida  ...             NaN                   NaN\n",
            "1       533  Frida És Ricsi  ...             yes                   NaN\n",
            "2     23793             NaN  ...             NaN                   NaN\n",
            "3     23795             NaN  ...             NaN                   NaN\n",
            "4     23806             Amy  ...             NaN                   NaN\n",
            "...     ...             ...  ...             ...                   ...\n",
            "2932    118           Fodri  ...              no                garden\n",
            "2933    262           Csibi  ...             NaN                   NaN\n",
            "2934      4          Konrád  ...             NaN                   NaN\n",
            "2935    141           Kölni  ...             NaN                   NaN\n",
            "2936    248          Kedves  ...             NaN  both flat and garden\n",
            "\n",
            "[2937 rows x 19 columns]\n"
          ],
          "name": "stdout"
        }
      ]
    },
    {
      "cell_type": "code",
      "metadata": {
        "id": "1P3E33JcWflE",
        "colab_type": "code",
        "outputId": "802f1030-a561-420d-9892-47fcc813f8a9",
        "colab": {
          "base_uri": "https://localhost:8080/",
          "height": 85
        }
      },
      "source": [
        "print(data['size'].value_counts())"
      ],
      "execution_count": 0,
      "outputs": [
        {
          "output_type": "stream",
          "text": [
            "medium    1944\n",
            "large      519\n",
            "small      474\n",
            "Name: size, dtype: int64\n"
          ],
          "name": "stdout"
        }
      ]
    },
    {
      "cell_type": "code",
      "metadata": {
        "id": "_xO3qQPiargq",
        "colab_type": "code",
        "colab": {}
      },
      "source": [
        ""
      ],
      "execution_count": 0,
      "outputs": []
    }
  ]
}