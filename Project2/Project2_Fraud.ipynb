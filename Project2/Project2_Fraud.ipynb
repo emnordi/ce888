{
  "nbformat": 4,
  "nbformat_minor": 0,
  "metadata": {
    "colab": {
      "name": "Copy of Project2.ipynb",
      "provenance": [],
      "collapsed_sections": [],
      "authorship_tag": "ABX9TyPA5U2vhD1UWzXARSxFZgG5",
      "include_colab_link": true
    },
    "kernelspec": {
      "name": "python3",
      "display_name": "Python 3"
    }
  },
  "cells": [
    {
      "cell_type": "markdown",
      "metadata": {
        "id": "view-in-github",
        "colab_type": "text"
      },
      "source": [
        "<a href=\"https://colab.research.google.com/github/emnordi/ce888/blob/master/Project2/Project2_Fraud.ipynb\" target=\"_parent\"><img src=\"https://colab.research.google.com/assets/colab-badge.svg\" alt=\"Open In Colab\"/></a>"
      ]
    },
    {
      "cell_type": "code",
      "metadata": {
        "id": "BpVmhVOwDruJ",
        "colab_type": "code",
        "colab": {}
      },
      "source": [
        "import pandas as pd\n",
        "import os\n",
        "import io\n",
        "import numpy as np\n",
        "from sklearn.model_selection import StratifiedKFold\n",
        "from sklearn import tree\n",
        "from sklearn.ensemble import RandomForestClassifier\n",
        "from sklearn.model_selection import cross_val_score\n",
        "\n",
        "os.environ['KAGGLE_USERNAME'] = \"emilnordin\" # username from the json file\n",
        "\n",
        "os.environ['KAGGLE_KEY'] = \"fd1ae7405c909d36a1ecffea5cd2749a\" # key from the json file"
      ],
      "execution_count": 0,
      "outputs": []
    },
    {
      "cell_type": "markdown",
      "metadata": {
        "id": "4cTRsaNTmyGq",
        "colab_type": "text"
      },
      "source": [
        "DOWNLOADING AND IMPORTING DATASET"
      ]
    },
    {
      "cell_type": "code",
      "metadata": {
        "id": "Eycbby419_NH",
        "colab_type": "code",
        "outputId": "83d93712-adfd-49a3-8eca-b6d73fee3ad7",
        "colab": {
          "base_uri": "https://localhost:8080/",
          "height": 33
        }
      },
      "source": [
        "!kaggle datasets download -d subediaarjun/unbalanced-fraud-detection-dataset"
      ],
      "execution_count": 28,
      "outputs": [
        {
          "output_type": "stream",
          "text": [
            "unbalanced-fraud-detection-dataset.zip: Skipping, found more recently modified local copy (use --force to force download)\n"
          ],
          "name": "stdout"
        }
      ]
    },
    {
      "cell_type": "code",
      "metadata": {
        "id": "z4qrA3Rl-EsI",
        "colab_type": "code",
        "outputId": "b4b5f925-abf0-4389-d189-e500fde64b83",
        "colab": {
          "base_uri": "https://localhost:8080/",
          "height": 63
        }
      },
      "source": [
        "#This dataset happened to be in excel format requiring some extra steps\n",
        "!unzip unbalanced-fraud-detection-dataset.zip"
      ],
      "execution_count": 0,
      "outputs": [
        {
          "output_type": "stream",
          "text": [
            "Archive:  unbalanced-fraud-detection-dataset.zip\n",
            "replace Fraud Detection Sample data.xlsx? [y]es, [n]o, [A]ll, [N]one, [r]ename: "
          ],
          "name": "stdout"
        }
      ]
    },
    {
      "cell_type": "code",
      "metadata": {
        "id": "OFmerDEA_N_V",
        "colab_type": "code",
        "colab": {}
      },
      "source": [
        "data_fraud = pd.read_excel(\"Fraud Detection Sample data.xlsx\", sheet_name = 'credit_card_fraud_sample', header = 0)"
      ],
      "execution_count": 0,
      "outputs": []
    },
    {
      "cell_type": "markdown",
      "metadata": {
        "id": "MBIshC7TnAB7",
        "colab_type": "text"
      },
      "source": [
        "PRINTING DATASETS"
      ]
    },
    {
      "cell_type": "code",
      "metadata": {
        "id": "jqIBIbQMAfbW",
        "colab_type": "code",
        "colab": {}
      },
      "source": [
        "print(data_fraud)"
      ],
      "execution_count": 0,
      "outputs": []
    },
    {
      "cell_type": "markdown",
      "metadata": {
        "id": "5e2pRZQYv665",
        "colab_type": "text"
      },
      "source": [
        "DISPLAY AMOUNT OF ROWS EACH CLASS HAS, AND IMBALANCE OF DATASETS"
      ]
    },
    {
      "cell_type": "code",
      "metadata": {
        "id": "V9ndFI4WAp6X",
        "colab_type": "code",
        "colab": {}
      },
      "source": [
        "print(data_fraud['Class'].value_counts())\n",
        "print(\"Imbalance:\", data_fraud['Class'].value_counts()[0]/sum(data_fraud.Class.value_counts()))"
      ],
      "execution_count": 0,
      "outputs": []
    },
    {
      "cell_type": "markdown",
      "metadata": {
        "id": "tI0BQSh10bA4",
        "colab_type": "text"
      },
      "source": [
        "BASE RESULTS"
      ]
    },
    {
      "cell_type": "code",
      "metadata": {
        "id": "sd4A-Z4N0kQO",
        "colab_type": "code",
        "colab": {}
      },
      "source": [
        "#Create decision tree and random forest classifiers\n",
        "tree_clf = tree.DecisionTreeClassifier(random_state=0)\n",
        "rf_clf = RandomForestClassifier(max_depth=2, random_state=0)"
      ],
      "execution_count": 0,
      "outputs": []
    },
    {
      "cell_type": "code",
      "metadata": {
        "id": "RFkpdu_r3mqP",
        "colab_type": "code",
        "colab": {}
      },
      "source": [
        "#Retrieves a classifier, features and labels to perform cross-validation and display results\n",
        "def evaluatePerformance(clf, features, labels):\n",
        "  a = cross_val_score(tree_clf, features, labels, cv=10, scoring='accuracy')\n",
        "  p = cross_val_score(tree_clf, features, labels, cv=10, scoring='precision')\n",
        "  r = cross_val_score(tree_clf, features, labels, cv=10, scoring='recall')\n",
        "  f = cross_val_score(tree_clf, features, labels, cv=10, scoring='f1')\n",
        "\n",
        "  print(\"Accuracy:\", a.mean(), \"+/-\", a.std())\n",
        "  print(\"Precision:\", p.mean(), \"+/-\", p.std())\n",
        "  print(\"Recall:\", r.mean(), \"+/-\", r.std())\n",
        "  print(\"F1-Score:\", f.mean(), \"+/-\", f.std())\n",
        "  return f"
      ],
      "execution_count": 0,
      "outputs": []
    },
    {
      "cell_type": "code",
      "metadata": {
        "id": "lUQZn1Iau9fm",
        "colab_type": "code",
        "colab": {}
      },
      "source": [
        "#Fraud dataset base scores DT\n",
        "feat_fraud = data_fraud.drop('Class', axis=1)\n",
        "lab_fraud = data_fraud['Class']\n",
        "\n",
        "base = evaluatePerformance(rf_clf, feat_fraud, lab_fraud)"
      ],
      "execution_count": 0,
      "outputs": []
    },
    {
      "cell_type": "code",
      "metadata": {
        "id": "XmKwidfymbGH",
        "colab_type": "code",
        "colab": {}
      },
      "source": [
        "#Fraud dataset base scores RF\n",
        "evaluatePerformance(rf_clf, feat_fraud, lab_fraud);"
      ],
      "execution_count": 0,
      "outputs": []
    },
    {
      "cell_type": "markdown",
      "metadata": {
        "id": "S-l8E2o2oy7X",
        "colab_type": "text"
      },
      "source": [
        "DOWNSAMPLING THE DATASETS AND RETRIEVING NEW PERFORMANCE RESULTS"
      ]
    },
    {
      "cell_type": "code",
      "metadata": {
        "id": "LxACUmx5ycFh",
        "colab_type": "code",
        "colab": {}
      },
      "source": [
        "#Downsample FRAUD DATASET to get 50%\n",
        "data_fraud_ind_ = data_fraud[data_fraud['Class'] == 0].index\n",
        "f_to_del = data_fraud_ind_[0:int(len(data_fraud_ind_)*0.952)]\n",
        "data_fraud_test = data_fraud.drop(index=f_to_del)\n",
        "\n",
        "print(data_fraud_test['Class'].value_counts())\n",
        "print(\"Imbalance:\", data_fraud_test['Class'].value_counts()[0]/(data_fraud_test['Class'].value_counts()[1]+(data_fraud_test['Class'].value_counts()[0])))"
      ],
      "execution_count": 0,
      "outputs": []
    },
    {
      "cell_type": "code",
      "metadata": {
        "id": "2wHvSBxhxEm9",
        "colab_type": "code",
        "colab": {}
      },
      "source": [
        "#Fraud dataset downsample scores DT\n",
        "feat_fraud_test = data_fraud_test.drop('Class', axis=1)\n",
        "lab_fraud_test = data_fraud_test['Class']\n",
        "\n",
        "downsampled = evaluatePerformance(tree_clf, feat_fraud_test, lab_fraud_test)"
      ],
      "execution_count": 0,
      "outputs": []
    },
    {
      "cell_type": "code",
      "metadata": {
        "id": "InxoGJ8ryoZ0",
        "colab_type": "code",
        "colab": {}
      },
      "source": [
        "#Fraud dataset downsample scores RF\n",
        "evaluatePerformance(rf_clf, feat_fraud_test, lab_fraud_test);"
      ],
      "execution_count": 0,
      "outputs": []
    },
    {
      "cell_type": "markdown",
      "metadata": {
        "id": "rzwIpIXSzLOn",
        "colab_type": "text"
      },
      "source": [
        "OVERSAMPLING AND TEST RESULTS"
      ]
    },
    {
      "cell_type": "code",
      "metadata": {
        "id": "ppLsgmeF1tGk",
        "colab_type": "code",
        "colab": {}
      },
      "source": [
        "#OVERSAMPLING FRAUD DATASET\n",
        "max_ = data_fraud['Class'].value_counts().max()\n",
        "\n",
        "temp = [data_fraud]\n",
        "for class_index, group in data_fraud.groupby('Class'):\n",
        "    temp.append(group.sample(max_-len(group), replace=True))\n",
        "data_fraud_over = pd.concat(temp)\n",
        "\n",
        "print(data_fraud_over['Class'].value_counts())\n",
        "print(\"Imbalance:\", data_fraud_over['Class'].value_counts()[0]/(data_fraud_over['Class'].value_counts()[1]+(data_fraud_over['Class'].value_counts()[0])))"
      ],
      "execution_count": 0,
      "outputs": []
    },
    {
      "cell_type": "code",
      "metadata": {
        "id": "AHmXfB084tRT",
        "colab_type": "code",
        "outputId": "b25c318a-614c-44a0-f5e2-a084005598b1",
        "colab": {
          "base_uri": "https://localhost:8080/",
          "height": 82
        }
      },
      "source": [
        "#Fraud dataset oversampling scores DT\n",
        "feat_fraud_over = data_fraud_over.drop('Class', axis=1)\n",
        "lab_fraud_over = data_fraud_over['Class']\n",
        "oversampled = evaluatePerformance(tree_clf, feat_fraud_over, lab_fraud_over)"
      ],
      "execution_count": 15,
      "outputs": [
        {
          "output_type": "stream",
          "text": [
            "Accuracy: 0.9948364470361971 +/- 0.0016601790148007515\n",
            "Precision: 0.9897881456629459 +/- 0.0032533354091046855\n",
            "Recall: 1.0 +/- 0.0\n",
            "F1-Score: 0.9948651805424811 +/- 0.001644023694489272\n"
          ],
          "name": "stdout"
        }
      ]
    },
    {
      "cell_type": "code",
      "metadata": {
        "id": "2kexo1dd45gp",
        "colab_type": "code",
        "outputId": "b7fd4645-551a-441d-f4b6-73766c93ca30",
        "colab": {
          "base_uri": "https://localhost:8080/",
          "height": 82
        }
      },
      "source": [
        "#Fraud dataset oversampling scores RF\n",
        "evaluatePerformance(rf_clf, feat_fraud_over, lab_fraud_over);"
      ],
      "execution_count": 16,
      "outputs": [
        {
          "output_type": "stream",
          "text": [
            "Accuracy: 0.9948364470361971 +/- 0.0016601790148007515\n",
            "Precision: 0.9897881456629459 +/- 0.0032533354091046855\n",
            "Recall: 1.0 +/- 0.0\n",
            "F1-Score: 0.9948651805424811 +/- 0.001644023694489272\n"
          ],
          "name": "stdout"
        }
      ]
    },
    {
      "cell_type": "markdown",
      "metadata": {
        "id": "SP7gJda2wDDY",
        "colab_type": "text"
      },
      "source": [
        "CREATE 10 FOLDS OF EACH CLASS"
      ]
    },
    {
      "cell_type": "code",
      "metadata": {
        "id": "DzOkILkOET9c",
        "colab_type": "code",
        "colab": {}
      },
      "source": [
        "from sklearn.cluster import KMeans\n",
        "import matplotlib.pyplot as plt\n",
        "from sklearn.metrics import silhouette_score, accuracy_score, precision_score, recall_score, f1_score\n",
        "import utils\n",
        "from sklearn.metrics.cluster import adjusted_rand_score "
      ],
      "execution_count": 0,
      "outputs": []
    },
    {
      "cell_type": "code",
      "metadata": {
        "id": "7HYU7sthxIkd",
        "colab_type": "code",
        "colab": {}
      },
      "source": [
        "#FRAUD DATASET\n",
        "skf = StratifiedKFold(n_splits=10)\n",
        "feat_fraud = np.array(feat_fraud)\n",
        "lab_fraud = np.array(lab_fraud)"
      ],
      "execution_count": 0,
      "outputs": []
    },
    {
      "cell_type": "code",
      "metadata": {
        "id": "PMhMqTVi2luE",
        "colab_type": "code",
        "colab": {}
      },
      "source": [
        "random_forest_clf = RandomForestClassifier(max_depth=2, random_state=0)\n",
        "rf_classifiers = []\n",
        "accuracy_scores = []\n",
        "precision_scores = []\n",
        "recall_scores = []\n",
        "f1_scores = []"
      ],
      "execution_count": 0,
      "outputs": []
    },
    {
      "cell_type": "code",
      "metadata": {
        "id": "Wj0V-Nr1iuzX",
        "colab_type": "code",
        "outputId": "e7bb8e74-cf83-40b9-f956-a3f4623aadc2",
        "colab": {
          "base_uri": "https://localhost:8080/",
          "height": 1000
        }
      },
      "source": [
        "for train, test in skf.split(feat_fraud, lab_fraud):\n",
        "  test_labels = []\n",
        "\n",
        "  #Retrieve the predicted amount of clusters and the best performing KMeans model\n",
        "  n_clusters, final_model = utils.Utils.cluster_and_model(feat_fraud[train], lab_fraud[train])\n",
        "\n",
        "  #Retrieve the clusters containing missclassified data and the indices of these clusters in the training data\n",
        "  missclassified_cluster_data_index, missclassified_clusters = utils.Utils.find_missclassified_clusters(n_clusters, lab_fraud[train], final_model.labels_)\n",
        "  rf_classifiers = [0]*n_clusters\n",
        "  #Go through the clusters with missclassified data and train a random forest classifier for each\n",
        "  for i in missclassified_clusters:\n",
        "    f = feat_fraud[train]\n",
        "    f1 = f[missclassified_cluster_data_index[i], :]\n",
        "    l  = lab_fraud[train]\n",
        "    l1 = np.take(l, missclassified_cluster_data_index[i])\n",
        "    rf_classifiers[i] = random_forest_clf.fit(f1, l1)\n",
        "  \n",
        "  #For each point in test dataset, give it a cluster\n",
        "  for x in feat_fraud[test]:\n",
        "    prediction = final_model.predict(np.array([x]))\n",
        "    if prediction in missclassified_clusters:\n",
        "      test_labels.append(rf_classifiers[prediction[0]].predict(np.array([x])))\n",
        "    else:\n",
        "      test_labels.append(prediction)\n",
        "  accuracy_scores.append(accuracy_score(test_labels, lab_fraud[test]))\n",
        "  precision_scores.append(precision_score(test_labels, lab_fraud[test]))\n",
        "  recall_scores.append(recall_score(test_labels, lab_fraud[test]))\n",
        "  f1_scores.append(f1_score(test_labels, lab_fraud[test]))"
      ],
      "execution_count": 20,
      "outputs": [
        {
          "output_type": "stream",
          "text": [
            "finding clusters\n"
          ],
          "name": "stdout"
        },
        {
          "output_type": "display_data",
          "data": {
            "image/png": "[encoded data removed]",
            "text/plain": [
              "<Figure size 432x288 with 1 Axes>"
            ]
          },
          "metadata": {
            "tags": []
          }
        },
        {
          "output_type": "stream",
          "text": [
            "Silhouette predicted 2 clusters. Please enter elbow results:\n",
            "3\n"
          ],
          "name": "stdout"
        },
        {
          "output_type": "stream",
          "text": [
            "/usr/local/lib/python3.6/dist-packages/sklearn/metrics/_classification.py:1272: UndefinedMetricWarning: Precision is ill-defined and being set to 0.0 in labels with no predicted samples. Use `zero_division` parameter to control this behavior.\n",
            "  _warn_prf(average, modifier, msg_start, len(result))\n"
          ],
          "name": "stderr"
        },
        {
          "output_type": "stream",
          "text": [
            "K value with best performance: 2\n",
            "finding clusters\n"
          ],
          "name": "stdout"
        },
        {
          "output_type": "display_data",
          "data": {
            "image/png": "[encoded data removed]",
            "text/plain": [
              "<Figure size 432x288 with 1 Axes>"
            ]
          },
          "metadata": {
            "tags": []
          }
        },
        {
          "output_type": "stream",
          "text": [
            "Silhouette predicted 2 clusters. Please enter elbow results:\n",
            "2\n",
            "K value with best performance: 2\n",
            "finding clusters\n"
          ],
          "name": "stdout"
        },
        {
          "output_type": "display_data",
          "data": {
            "image/png": "[encoded data removed]",
            "text/plain": [
              "<Figure size 432x288 with 1 Axes>"
            ]
          },
          "metadata": {
            "tags": []
          }
        },
        {
          "output_type": "stream",
          "text": [
            "Silhouette predicted 2 clusters. Please enter elbow results:\n",
            "3\n"
          ],
          "name": "stdout"
        },
        {
          "output_type": "stream",
          "text": [
            "/usr/local/lib/python3.6/dist-packages/sklearn/metrics/_classification.py:1272: UndefinedMetricWarning: Precision is ill-defined and being set to 0.0 in labels with no predicted samples. Use `zero_division` parameter to control this behavior.\n",
            "  _warn_prf(average, modifier, msg_start, len(result))\n"
          ],
          "name": "stderr"
        },
        {
          "output_type": "stream",
          "text": [
            "K value with best performance: 2\n",
            "finding clusters\n"
          ],
          "name": "stdout"
        },
        {
          "output_type": "display_data",
          "data": {
            "image/png": "[encoded data removed]",
            "text/plain": [
              "<Figure size 432x288 with 1 Axes>"
            ]
          },
          "metadata": {
            "tags": []
          }
        },
        {
          "output_type": "stream",
          "text": [
            "Silhouette predicted 2 clusters. Please enter elbow results:\n",
            "3\n"
          ],
          "name": "stdout"
        },
        {
          "output_type": "stream",
          "text": [
            "/usr/local/lib/python3.6/dist-packages/sklearn/metrics/_classification.py:1272: UndefinedMetricWarning: Precision is ill-defined and being set to 0.0 in labels with no predicted samples. Use `zero_division` parameter to control this behavior.\n",
            "  _warn_prf(average, modifier, msg_start, len(result))\n"
          ],
          "name": "stderr"
        },
        {
          "output_type": "stream",
          "text": [
            "K value with best performance: 2\n",
            "finding clusters\n"
          ],
          "name": "stdout"
        },
        {
          "output_type": "display_data",
          "data": {
            "image/png": "[encoded data removed]",
            "text/plain": [
              "<Figure size 432x288 with 1 Axes>"
            ]
          },
          "metadata": {
            "tags": []
          }
        },
        {
          "output_type": "stream",
          "text": [
            "Silhouette predicted 2 clusters. Please enter elbow results:\n",
            "3\n"
          ],
          "name": "stdout"
        },
        {
          "output_type": "stream",
          "text": [
            "/usr/local/lib/python3.6/dist-packages/sklearn/metrics/_classification.py:1272: UndefinedMetricWarning: Precision is ill-defined and being set to 0.0 in labels with no predicted samples. Use `zero_division` parameter to control this behavior.\n",
            "  _warn_prf(average, modifier, msg_start, len(result))\n"
          ],
          "name": "stderr"
        },
        {
          "output_type": "stream",
          "text": [
            "K value with best performance: 2\n",
            "finding clusters\n"
          ],
          "name": "stdout"
        },
        {
          "output_type": "display_data",
          "data": {
            "image/png": "[encoded data removed]",
            "text/plain": [
              "<Figure size 432x288 with 1 Axes>"
            ]
          },
          "metadata": {
            "tags": []
          }
        },
        {
          "output_type": "stream",
          "text": [
            "Silhouette predicted 2 clusters. Please enter elbow results:\n",
            "3\n"
          ],
          "name": "stdout"
        },
        {
          "output_type": "stream",
          "text": [
            "/usr/local/lib/python3.6/dist-packages/sklearn/metrics/_classification.py:1272: UndefinedMetricWarning: Precision is ill-defined and being set to 0.0 in labels with no predicted samples. Use `zero_division` parameter to control this behavior.\n",
            "  _warn_prf(average, modifier, msg_start, len(result))\n"
          ],
          "name": "stderr"
        },
        {
          "output_type": "stream",
          "text": [
            "K value with best performance: 2\n",
            "finding clusters\n"
          ],
          "name": "stdout"
        },
        {
          "output_type": "display_data",
          "data": {
            "image/png": "[encoded data removed]",
            "text/plain": [
              "<Figure size 432x288 with 1 Axes>"
            ]
          },
          "metadata": {
            "tags": []
          }
        },
        {
          "output_type": "stream",
          "text": [
            "Silhouette predicted 2 clusters. Please enter elbow results:\n",
            "3\n"
          ],
          "name": "stdout"
        },
        {
          "output_type": "stream",
          "text": [
            "/usr/local/lib/python3.6/dist-packages/sklearn/metrics/_classification.py:1272: UndefinedMetricWarning: Precision is ill-defined and being set to 0.0 in labels with no predicted samples. Use `zero_division` parameter to control this behavior.\n",
            "  _warn_prf(average, modifier, msg_start, len(result))\n"
          ],
          "name": "stderr"
        },
        {
          "output_type": "stream",
          "text": [
            "K value with best performance: 2\n",
            "finding clusters\n"
          ],
          "name": "stdout"
        },
        {
          "output_type": "display_data",
          "data": {
            "image/png": "[encoded data removed]",
            "text/plain": [
              "<Figure size 432x288 with 1 Axes>"
            ]
          },
          "metadata": {
            "tags": []
          }
        },
        {
          "output_type": "stream",
          "text": [
            "Silhouette predicted 2 clusters. Please enter elbow results:\n",
            "3\n"
          ],
          "name": "stdout"
        },
        {
          "output_type": "stream",
          "text": [
            "/usr/local/lib/python3.6/dist-packages/sklearn/metrics/_classification.py:1272: UndefinedMetricWarning: Precision is ill-defined and being set to 0.0 in labels with no predicted samples. Use `zero_division` parameter to control this behavior.\n",
            "  _warn_prf(average, modifier, msg_start, len(result))\n"
          ],
          "name": "stderr"
        },
        {
          "output_type": "stream",
          "text": [
            "K value with best performance: 2\n",
            "finding clusters\n"
          ],
          "name": "stdout"
        },
        {
          "output_type": "display_data",
          "data": {
            "image/png": "[encoded data removed]",
            "text/plain": [
              "<Figure size 432x288 with 1 Axes>"
            ]
          },
          "metadata": {
            "tags": []
          }
        },
        {
          "output_type": "stream",
          "text": [
            "Silhouette predicted 2 clusters. Please enter elbow results:\n",
            "3\n"
          ],
          "name": "stdout"
        },
        {
          "output_type": "stream",
          "text": [
            "/usr/local/lib/python3.6/dist-packages/sklearn/metrics/_classification.py:1272: UndefinedMetricWarning: Precision is ill-defined and being set to 0.0 in labels with no predicted samples. Use `zero_division` parameter to control this behavior.\n",
            "  _warn_prf(average, modifier, msg_start, len(result))\n"
          ],
          "name": "stderr"
        },
        {
          "output_type": "stream",
          "text": [
            "K value with best performance: 2\n",
            "finding clusters\n"
          ],
          "name": "stdout"
        },
        {
          "output_type": "display_data",
          "data": {
            "image/png": "[encoded data removed]",
            "text/plain": [
              "<Figure size 432x288 with 1 Axes>"
            ]
          },
          "metadata": {
            "tags": []
          }
        },
        {
          "output_type": "stream",
          "text": [
            "Silhouette predicted 2 clusters. Please enter elbow results:\n",
            "3\n"
          ],
          "name": "stdout"
        },
        {
          "output_type": "stream",
          "text": [
            "/usr/local/lib/python3.6/dist-packages/sklearn/metrics/_classification.py:1272: UndefinedMetricWarning: Precision is ill-defined and being set to 0.0 in labels with no predicted samples. Use `zero_division` parameter to control this behavior.\n",
            "  _warn_prf(average, modifier, msg_start, len(result))\n"
          ],
          "name": "stderr"
        },
        {
          "output_type": "stream",
          "text": [
            "K value with best performance: 2\n"
          ],
          "name": "stdout"
        }
      ]
    },
    {
      "cell_type": "markdown",
      "metadata": {
        "id": "7oyTj19KERPn",
        "colab_type": "text"
      },
      "source": [
        "EVALUATING RESULTS FROM PROPOSED ALGORITHM"
      ]
    },
    {
      "cell_type": "code",
      "metadata": {
        "id": "HE84T6DrzPj-",
        "colab_type": "code",
        "outputId": "ef389f21-4be1-44a9-b65f-4522eaa10d7c",
        "colab": {
          "base_uri": "https://localhost:8080/",
          "height": 82
        }
      },
      "source": [
        "print(\"Accuracy:\", np.mean(accuracy_scores), \"+/-\", np.std(accuracy_scores))\n",
        "print(\"Precision:\", np.mean(precision_scores), \"+/-\", np.std(precision_scores))\n",
        "print(\"Recall:\", np.mean(recall_scores), \"+/-\", np.std(recall_scores))\n",
        "print(\"F1-Score:\", np.mean(f1_scores), \"+/-\", np.std(f1_scores))"
      ],
      "execution_count": 21,
      "outputs": [
        {
          "output_type": "stream",
          "text": [
            "Accuracy: 0.9858904109589041 +/- 0.008836412834449376\n",
            "Precision: 0.690625 +/- 0.20318008894847495\n",
            "Recall: 0.9918060200668897 +/- 0.0164263082816201\n",
            "F1-Score: 0.7905677795146173 +/- 0.19640748068628855\n"
          ],
          "name": "stdout"
        }
      ]
    },
    {
      "cell_type": "markdown",
      "metadata": {
        "id": "3H5_N6Q4EM_p",
        "colab_type": "text"
      },
      "source": [
        "APPLYING SMOTE SAMPLING"
      ]
    },
    {
      "cell_type": "code",
      "metadata": {
        "id": "3oej2tSR3pk2",
        "colab_type": "code",
        "outputId": "e8ff4924-f809-4b10-8c57-296c98e05d2b",
        "colab": {
          "base_uri": "https://localhost:8080/",
          "height": 102
        }
      },
      "source": [
        "from imblearn.over_sampling import SMOTE\n",
        "sm = SMOTE(random_state=0)"
      ],
      "execution_count": 22,
      "outputs": [
        {
          "output_type": "stream",
          "text": [
            "/usr/local/lib/python3.6/dist-packages/sklearn/externals/six.py:31: FutureWarning: The module is deprecated in version 0.21 and will be removed in version 0.23 since we've dropped support for Python 2.7. Please rely on the official version of six (https://pypi.org/project/six/).\n",
            "  \"(https://pypi.org/project/six/).\", FutureWarning)\n",
            "/usr/local/lib/python3.6/dist-packages/sklearn/utils/deprecation.py:144: FutureWarning: The sklearn.neighbors.base module is  deprecated in version 0.22 and will be removed in version 0.24. The corresponding classes / functions should instead be imported from sklearn.neighbors. Anything that cannot be imported from sklearn.neighbors is now part of the private API.\n",
            "  warnings.warn(message, FutureWarning)\n"
          ],
          "name": "stderr"
        }
      ]
    },
    {
      "cell_type": "code",
      "metadata": {
        "id": "ZH2HAhNp3rbi",
        "colab_type": "code",
        "outputId": "c6b58fa0-4462-4a67-a59c-78325b075dac",
        "colab": {
          "base_uri": "https://localhost:8080/",
          "height": 50
        }
      },
      "source": [
        "smote_feat, smote_lab = sm.fit_resample(feat_fraud, lab_fraud)"
      ],
      "execution_count": 23,
      "outputs": [
        {
          "output_type": "stream",
          "text": [
            "/usr/local/lib/python3.6/dist-packages/sklearn/utils/deprecation.py:87: FutureWarning: Function safe_indexing is deprecated; safe_indexing is deprecated in version 0.22 and will be removed in version 0.24.\n",
            "  warnings.warn(msg, category=FutureWarning)\n"
          ],
          "name": "stderr"
        }
      ]
    },
    {
      "cell_type": "markdown",
      "metadata": {
        "id": "2a6mOzy9EJUk",
        "colab_type": "text"
      },
      "source": [
        "EVALUATING RESULTS FROM SMOTE"
      ]
    },
    {
      "cell_type": "code",
      "metadata": {
        "id": "Ls_WrGax3tEh",
        "colab_type": "code",
        "outputId": "0d285cf3-130f-49ae-eb48-56d4bf506b6b",
        "colab": {
          "base_uri": "https://localhost:8080/",
          "height": 82
        }
      },
      "source": [
        "#Evaluate using decision tree\n",
        "smote = evaluatePerformance(tree_clf, smote_feat, smote_lab)"
      ],
      "execution_count": 24,
      "outputs": [
        {
          "output_type": "stream",
          "text": [
            "Accuracy: 0.9731069663637812 +/- 0.004896048964116521\n",
            "Precision: 0.9669345489589501 +/- 0.006987978081900309\n",
            "Recall: 0.9797745557094876 +/- 0.007579782979086342\n",
            "F1-Score: 0.9732819379105632 +/- 0.0048960693508108685\n"
          ],
          "name": "stdout"
        }
      ]
    },
    {
      "cell_type": "code",
      "metadata": {
        "id": "S4WGtGKH3ugc",
        "colab_type": "code",
        "outputId": "9d9edd64-1d63-4457-b8dc-5c5d6be5ad8d",
        "colab": {
          "base_uri": "https://localhost:8080/",
          "height": 82
        }
      },
      "source": [
        "#Evaluate using random forest\n",
        "evaluatePerformance(rf_clf, smote_feat, smote_lab);"
      ],
      "execution_count": 25,
      "outputs": [
        {
          "output_type": "stream",
          "text": [
            "Accuracy: 0.9731069663637812 +/- 0.004896048964116521\n",
            "Precision: 0.9669345489589501 +/- 0.006987978081900309\n",
            "Recall: 0.9797745557094876 +/- 0.007579782979086342\n",
            "F1-Score: 0.9732819379105632 +/- 0.0048960693508108685\n"
          ],
          "name": "stdout"
        }
      ]
    },
    {
      "cell_type": "code",
      "metadata": {
        "id": "xvjlDmCz-6ok",
        "colab_type": "code",
        "colab": {
          "base_uri": "https://localhost:8080/",
          "height": 338
        },
        "outputId": "318736e2-f679-401b-df3c-a094f73f3f84"
      },
      "source": [
        "utils.Utils.boxplots(\"Fraud dataset\", base, oversampled, downsampled, f1_scores, smote)"
      ],
      "execution_count": 26,
      "outputs": [
        {
          "output_type": "display_data",
          "data": {
            "image/png": "[encoded data removed]",
            "text/plain": [
              "<Figure size 432x288 with 1 Axes>"
            ]
          },
          "metadata": {
            "tags": []
          }
        }
      ]
    },
    {
      "cell_type": "code",
      "metadata": {
        "id": "XuKSGBIk3BzT",
        "colab_type": "code",
        "colab": {}
      },
      "source": [
        ""
      ],
      "execution_count": 0,
      "outputs": []
    }
  ]
}