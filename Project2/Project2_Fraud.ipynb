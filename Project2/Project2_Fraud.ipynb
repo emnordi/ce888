{
  "nbformat": 4,
  "nbformat_minor": 0,
  "metadata": {
    "colab": {
      "name": "Copy of Project2.ipynb",
      "provenance": [],
      "collapsed_sections": [],
      "authorship_tag": "ABX9TyOOZUtNzysnLiMX95O+PQdV",
      "include_colab_link": true
    },
    "kernelspec": {
      "name": "python3",
      "display_name": "Python 3"
    }
  },
  "cells": [
    {
      "cell_type": "markdown",
      "metadata": {
        "id": "view-in-github",
        "colab_type": "text"
      },
      "source": [
        "<a href=\"https://colab.research.google.com/github/emnordi/ce888/blob/master/Project2/Project2_Fraud.ipynb\" target=\"_parent\"><img src=\"https://colab.research.google.com/assets/colab-badge.svg\" alt=\"Open In Colab\"/></a>"
      ]
    },
    {
      "cell_type": "code",
      "metadata": {
        "id": "BpVmhVOwDruJ",
        "colab_type": "code",
        "colab": {}
      },
      "source": [
        "import pandas as pd\n",
        "import os\n",
        "import io\n",
        "import numpy as np\n",
        "from sklearn.model_selection import StratifiedKFold\n",
        "from sklearn import tree\n",
        "from sklearn.ensemble import RandomForestClassifier\n",
        "from sklearn.model_selection import cross_val_score\n",
        "\n",
        "os.environ['KAGGLE_USERNAME'] = \"emilnordin\" # username from the json file\n",
        "\n",
        "os.environ['KAGGLE_KEY'] = \"fd1ae7405c909d36a1ecffea5cd2749a\" # key from the json file"
      ],
      "execution_count": 0,
      "outputs": []
    },
    {
      "cell_type": "markdown",
      "metadata": {
        "id": "4cTRsaNTmyGq",
        "colab_type": "text"
      },
      "source": [
        "DOWNLOADING AND IMPORTING DATASET"
      ]
    },
    {
      "cell_type": "code",
      "metadata": {
        "id": "Eycbby419_NH",
        "colab_type": "code",
        "outputId": "62ef1bd2-cd2e-4a7b-a183-7390339fe890",
        "colab": {
          "base_uri": "https://localhost:8080/",
          "height": 33
        }
      },
      "source": [
        "!kaggle datasets download -d subediaarjun/unbalanced-fraud-detection-dataset"
      ],
      "execution_count": 0,
      "outputs": [
        {
          "output_type": "stream",
          "text": [
            "unbalanced-fraud-detection-dataset.zip: Skipping, found more recently modified local copy (use --force to force download)\n"
          ],
          "name": "stdout"
        }
      ]
    },
    {
      "cell_type": "code",
      "metadata": {
        "id": "z4qrA3Rl-EsI",
        "colab_type": "code",
        "outputId": "58e504e7-eb81-4b06-c048-c64825370d2a",
        "colab": {
          "base_uri": "https://localhost:8080/",
          "height": 50
        }
      },
      "source": [
        "#This dataset happened to be in excel format requiring some extra steps\n",
        "!unzip unbalanced-fraud-detection-dataset.zip"
      ],
      "execution_count": 0,
      "outputs": [
        {
          "output_type": "stream",
          "text": [
            "Archive:  unbalanced-fraud-detection-dataset.zip\n",
            "replace Fraud Detection Sample data.xlsx? [y]es, [n]o, [A]ll, [N]one, [r]ename: n\n"
          ],
          "name": "stdout"
        }
      ]
    },
    {
      "cell_type": "code",
      "metadata": {
        "id": "OFmerDEA_N_V",
        "colab_type": "code",
        "colab": {}
      },
      "source": [
        "data_fraud = pd.read_excel(\"Fraud Detection Sample data.xlsx\", sheet_name = 'credit_card_fraud_sample', header = 0)"
      ],
      "execution_count": 0,
      "outputs": []
    },
    {
      "cell_type": "markdown",
      "metadata": {
        "id": "MBIshC7TnAB7",
        "colab_type": "text"
      },
      "source": [
        "PRINTING DATASETS"
      ]
    },
    {
      "cell_type": "code",
      "metadata": {
        "id": "jqIBIbQMAfbW",
        "colab_type": "code",
        "outputId": "7fd838ff-3257-4a19-8f55-c85109993421",
        "colab": {
          "base_uri": "https://localhost:8080/",
          "height": 245
        }
      },
      "source": [
        "print(data_fraud)"
      ],
      "execution_count": 0,
      "outputs": [
        {
          "output_type": "stream",
          "text": [
            "          ID        V1        V2        V3  ...       V27       V28  Amount  Class\n",
            "0     221547 -1.191668  0.428409  1.640028  ... -0.319964 -0.017444   27.44      0\n",
            "1     184524  1.966614 -0.450087 -1.228586  ... -0.039155 -0.071314   35.95      0\n",
            "2      91201  1.528452 -1.296191 -0.890677  ...  0.042997  0.025853   28.40      0\n",
            "3      26115 -0.774614  1.100916  0.679080  ...  0.282940  0.123856   43.20      0\n",
            "4     201292 -1.075860  1.361160  1.496972  ...  0.951130  0.158996    0.83      1\n",
            "...      ...       ...       ...       ...  ...       ...       ...     ...    ...\n",
            "7295   96789 -3.593476  0.781442 -1.822448  ... -1.478767  0.722673  101.50      1\n",
            "7296   18809  0.923764  0.344048 -2.880004  ...  0.489035 -0.049729   30.30      1\n",
            "7297  197586 -0.361428  1.133472 -2.971360  ... -0.001250 -0.182751  480.72      1\n",
            "7298  184379 -1.141559  1.927650 -3.905356  ... -0.146102  0.076211   25.00      1\n",
            "7299  145800 -0.419820 -1.155978 -2.092516  ... -0.021363  0.129096  451.27      1\n",
            "\n",
            "[7300 rows x 31 columns]\n"
          ],
          "name": "stdout"
        }
      ]
    },
    {
      "cell_type": "markdown",
      "metadata": {
        "id": "5e2pRZQYv665",
        "colab_type": "text"
      },
      "source": [
        "DISPLAY AMOUNT OF ROWS EACH CLASS HAS, AND IMBALANCE OF DATASETS"
      ]
    },
    {
      "cell_type": "code",
      "metadata": {
        "id": "V9ndFI4WAp6X",
        "colab_type": "code",
        "outputId": "8beac54b-0366-4493-ff8c-62c78845fe3c",
        "colab": {
          "base_uri": "https://localhost:8080/",
          "height": 82
        }
      },
      "source": [
        "print(data_fraud['Class'].value_counts())\n",
        "print(\"Imbalance:\", data_fraud['Class'].value_counts()[0]/sum(data_fraud.Class.value_counts()))"
      ],
      "execution_count": 0,
      "outputs": [
        {
          "output_type": "stream",
          "text": [
            "0    6972\n",
            "1     328\n",
            "Name: Class, dtype: int64\n",
            "Imbalance: 0.955068493150685\n"
          ],
          "name": "stdout"
        }
      ]
    },
    {
      "cell_type": "markdown",
      "metadata": {
        "id": "tI0BQSh10bA4",
        "colab_type": "text"
      },
      "source": [
        "BASE RESULTS"
      ]
    },
    {
      "cell_type": "code",
      "metadata": {
        "id": "sd4A-Z4N0kQO",
        "colab_type": "code",
        "colab": {}
      },
      "source": [
        "#Create decision tree and random forest classifiers\n",
        "tree_clf = tree.DecisionTreeClassifier(random_state=0)\n",
        "rf_clf = RandomForestClassifier(max_depth=2, random_state=0)"
      ],
      "execution_count": 0,
      "outputs": []
    },
    {
      "cell_type": "code",
      "metadata": {
        "id": "RFkpdu_r3mqP",
        "colab_type": "code",
        "colab": {}
      },
      "source": [
        "#Retrieves a classifier, features and labels to perform cross-validation and display results\n",
        "def evaluatePerformance(clf, features, labels):\n",
        "  a = cross_val_score(tree_clf, features, labels, cv=10, scoring='accuracy')\n",
        "  p = cross_val_score(tree_clf, features, labels, cv=10, scoring='precision')\n",
        "  r = cross_val_score(tree_clf, features, labels, cv=10, scoring='recall')\n",
        "  f = cross_val_score(tree_clf, features, labels, cv=10, scoring='f1')\n",
        "\n",
        "  print(\"Accuracy:\", a.mean(), \"+/-\", a.std())\n",
        "  print(\"Precision:\", p.mean(), \"+/-\", p.std())\n",
        "  print(\"Recall:\", r.mean(), \"+/-\", r.std())\n",
        "  print(\"F1-Score:\", f.mean(), \"+/-\", f.std())"
      ],
      "execution_count": 0,
      "outputs": []
    },
    {
      "cell_type": "code",
      "metadata": {
        "id": "lUQZn1Iau9fm",
        "colab_type": "code",
        "outputId": "d468dcbb-9540-4383-b04b-be2ed34a1ee6",
        "colab": {
          "base_uri": "https://localhost:8080/",
          "height": 82
        }
      },
      "source": [
        "#Fraud dataset base scores DT\n",
        "feat_fraud = data_fraud.drop('Class', axis=1)\n",
        "lab_fraud = data_fraud['Class']\n",
        "\n",
        "evaluatePerformance(rf_clf, feat_fraud, lab_fraud)"
      ],
      "execution_count": 0,
      "outputs": [
        {
          "output_type": "stream",
          "text": [
            "Accuracy: 0.9784931506849315 +/- 0.005649750856794877\n",
            "Precision: 0.7837433451305875 +/- 0.08872218614627476\n",
            "Recall: 0.7607007575757576 +/- 0.19600033267626282\n",
            "F1-Score: 0.7430508668262178 +/- 0.1341771381777081\n"
          ],
          "name": "stdout"
        }
      ]
    },
    {
      "cell_type": "code",
      "metadata": {
        "id": "XmKwidfymbGH",
        "colab_type": "code",
        "outputId": "82defca7-da95-43eb-adc6-aa42e90aa59e",
        "colab": {
          "base_uri": "https://localhost:8080/",
          "height": 82
        }
      },
      "source": [
        "#Fraud dataset base scores RF\n",
        "evaluatePerformance(rf_clf, feat_fraud, lab_fraud)"
      ],
      "execution_count": 0,
      "outputs": [
        {
          "output_type": "stream",
          "text": [
            "Accuracy: 0.9784931506849315 +/- 0.005649750856794877\n",
            "Precision: 0.7837433451305875 +/- 0.08872218614627476\n",
            "Recall: 0.7607007575757576 +/- 0.19600033267626282\n",
            "F1-Score: 0.7430508668262178 +/- 0.1341771381777081\n"
          ],
          "name": "stdout"
        }
      ]
    },
    {
      "cell_type": "markdown",
      "metadata": {
        "id": "S-l8E2o2oy7X",
        "colab_type": "text"
      },
      "source": [
        "DOWNSAMPLING THE DATASETS AND RETRIEVING NEW PERFORMANCE RESULTS"
      ]
    },
    {
      "cell_type": "code",
      "metadata": {
        "id": "LxACUmx5ycFh",
        "colab_type": "code",
        "outputId": "ba55a8cf-b3b6-4303-8e13-5bab0b0ad444",
        "colab": {
          "base_uri": "https://localhost:8080/",
          "height": 82
        }
      },
      "source": [
        "#Downsample FRAUD DATASET to get 50%\n",
        "data_fraud_ind_ = data_fraud[data_fraud['Class'] == 0].index\n",
        "f_to_del = data_fraud_ind_[0:int(len(data_fraud_ind_)*0.952)]\n",
        "data_fraud_test = data_fraud.drop(index=f_to_del)\n",
        "\n",
        "print(data_fraud_test['Class'].value_counts())\n",
        "print(\"Imbalance:\", data_fraud_test['Class'].value_counts()[0]/(data_fraud_test['Class'].value_counts()[1]+(data_fraud_test['Class'].value_counts()[0])))"
      ],
      "execution_count": 0,
      "outputs": [
        {
          "output_type": "stream",
          "text": [
            "0    335\n",
            "1    328\n",
            "Name: Class, dtype: int64\n",
            "Imbalance: 0.5052790346907994\n"
          ],
          "name": "stdout"
        }
      ]
    },
    {
      "cell_type": "code",
      "metadata": {
        "id": "2wHvSBxhxEm9",
        "colab_type": "code",
        "outputId": "356b4c3d-0864-4b4a-9f22-b45e3a18be6a",
        "colab": {
          "base_uri": "https://localhost:8080/",
          "height": 82
        }
      },
      "source": [
        "#Fraud dataset downsample scores DT\n",
        "feat_fraud_test = data_fraud_test.drop('Class', axis=1)\n",
        "lab_fraud_test = data_fraud_test['Class']\n",
        "\n",
        "evaluatePerformance(tree_clf, feat_fraud_test, lab_fraud_test)"
      ],
      "execution_count": 0,
      "outputs": [
        {
          "output_type": "stream",
          "text": [
            "Accuracy: 0.8630936227951154 +/- 0.08513958333321879\n",
            "Precision: 0.8746967474541003 +/- 0.04662622126324715\n",
            "Recall: 0.8481060606060605 +/- 0.18909265809335843\n",
            "F1-Score: 0.8452735455304451 +/- 0.13710989687909192\n"
          ],
          "name": "stdout"
        }
      ]
    },
    {
      "cell_type": "code",
      "metadata": {
        "id": "InxoGJ8ryoZ0",
        "colab_type": "code",
        "outputId": "42fcd1af-dfdc-492c-d72c-85f790b58d01",
        "colab": {
          "base_uri": "https://localhost:8080/",
          "height": 82
        }
      },
      "source": [
        "#Fraud dataset downsample scores RF\n",
        "evaluatePerformance(rf_clf, feat_fraud_test, lab_fraud_test)"
      ],
      "execution_count": 0,
      "outputs": [
        {
          "output_type": "stream",
          "text": [
            "Accuracy: 0.8630936227951154 +/- 0.08513958333321879\n",
            "Precision: 0.8746967474541003 +/- 0.04662622126324715\n",
            "Recall: 0.8481060606060605 +/- 0.18909265809335843\n",
            "F1-Score: 0.8452735455304451 +/- 0.13710989687909192\n"
          ],
          "name": "stdout"
        }
      ]
    },
    {
      "cell_type": "markdown",
      "metadata": {
        "id": "rzwIpIXSzLOn",
        "colab_type": "text"
      },
      "source": [
        "OVERSAMPLING AND TEST RESULTS"
      ]
    },
    {
      "cell_type": "code",
      "metadata": {
        "id": "ppLsgmeF1tGk",
        "colab_type": "code",
        "outputId": "01416817-d412-4aef-9eda-3a9a1a68e8e5",
        "colab": {
          "base_uri": "https://localhost:8080/",
          "height": 82
        }
      },
      "source": [
        "#OVERSAMPLING FRAUD DATASET\n",
        "max_ = data_fraud['Class'].value_counts().max()\n",
        "\n",
        "temp = [data_fraud]\n",
        "for class_index, group in data_fraud.groupby('Class'):\n",
        "    temp.append(group.sample(max_-len(group), replace=True))\n",
        "data_fraud_over = pd.concat(temp)\n",
        "\n",
        "print(data_fraud_over['Class'].value_counts())\n",
        "print(\"Imbalance:\", data_fraud_over['Class'].value_counts()[0]/(data_fraud_over['Class'].value_counts()[1]+(data_fraud_over['Class'].value_counts()[0])))"
      ],
      "execution_count": 0,
      "outputs": [
        {
          "output_type": "stream",
          "text": [
            "1    6972\n",
            "0    6972\n",
            "Name: Class, dtype: int64\n",
            "Imbalance: 0.5\n"
          ],
          "name": "stdout"
        }
      ]
    },
    {
      "cell_type": "code",
      "metadata": {
        "id": "AHmXfB084tRT",
        "colab_type": "code",
        "outputId": "82ea96a3-a66b-48ee-bef4-6c2dc04580fe",
        "colab": {
          "base_uri": "https://localhost:8080/",
          "height": 82
        }
      },
      "source": [
        "#Fraud dataset oversampling scores DT\n",
        "feat_fraud_over = data_fraud_over.drop('Class', axis=1)\n",
        "lab_fraud_over = data_fraud_over['Class']\n",
        "evaluatePerformance(tree_clf, feat_fraud_over, lab_fraud_over)"
      ],
      "execution_count": 0,
      "outputs": [
        {
          "output_type": "stream",
          "text": [
            "Accuracy: 0.994979713364496 +/- 0.0017278035291132688\n",
            "Precision: 0.9900716209474073 +/- 0.003386129923013376\n",
            "Recall: 1.0 +/- 0.0\n",
            "F1-Score: 0.9950081349864359 +/- 0.0017098728963469876\n"
          ],
          "name": "stdout"
        }
      ]
    },
    {
      "cell_type": "code",
      "metadata": {
        "id": "2kexo1dd45gp",
        "colab_type": "code",
        "outputId": "87e6a413-4f31-4b7a-d30f-3c178e89ab46",
        "colab": {
          "base_uri": "https://localhost:8080/",
          "height": 82
        }
      },
      "source": [
        "#Fraud dataset oversampling scores RF\n",
        "evaluatePerformance(rf_clf, feat_fraud_over, lab_fraud_over)"
      ],
      "execution_count": 0,
      "outputs": [
        {
          "output_type": "stream",
          "text": [
            "Accuracy: 0.994979713364496 +/- 0.0017278035291132688\n",
            "Precision: 0.9900716209474073 +/- 0.003386129923013376\n",
            "Recall: 1.0 +/- 0.0\n",
            "F1-Score: 0.9950081349864359 +/- 0.0017098728963469876\n"
          ],
          "name": "stdout"
        }
      ]
    },
    {
      "cell_type": "markdown",
      "metadata": {
        "id": "SP7gJda2wDDY",
        "colab_type": "text"
      },
      "source": [
        "CREATE 10 FOLDS OF EACH CLASS"
      ]
    },
    {
      "cell_type": "code",
      "metadata": {
        "id": "DzOkILkOET9c",
        "colab_type": "code",
        "colab": {}
      },
      "source": [
        "from sklearn.cluster import KMeans\n",
        "import matplotlib.pyplot as plt\n",
        "from sklearn.metrics import silhouette_score, accuracy_score, precision_score, recall_score, f1_score\n",
        "import utils\n",
        "from sklearn.metrics.cluster import adjusted_rand_score "
      ],
      "execution_count": 0,
      "outputs": []
    },
    {
      "cell_type": "code",
      "metadata": {
        "id": "7HYU7sthxIkd",
        "colab_type": "code",
        "colab": {}
      },
      "source": [
        "#FRAUD DATASET\n",
        "skf = StratifiedKFold(n_splits=10)\n",
        "feat_fraud = np.array(feat_fraud)\n",
        "lab_fraud = np.array(lab_fraud)"
      ],
      "execution_count": 0,
      "outputs": []
    },
    {
      "cell_type": "code",
      "metadata": {
        "id": "PMhMqTVi2luE",
        "colab_type": "code",
        "colab": {}
      },
      "source": [
        "random_forest_clf = RandomForestClassifier(max_depth=2, random_state=0)\n",
        "rf_classifiers = []\n",
        "accuracy_scores = []\n",
        "precision_scores = []\n",
        "recall_scores = []\n",
        "f1_scores = []"
      ],
      "execution_count": 0,
      "outputs": []
    },
    {
      "cell_type": "code",
      "metadata": {
        "id": "Wj0V-Nr1iuzX",
        "colab_type": "code",
        "outputId": "a173215d-740a-4a8b-8916-1431536fcb8d",
        "colab": {
          "base_uri": "https://localhost:8080/",
          "height": 1000
        }
      },
      "source": [
        "for train, test in skf.split(feat_fraud, lab_fraud):\n",
        "  test_labels = []\n",
        "\n",
        "  #Retrieve the predicted amount of clusters and the best performing KMeans model\n",
        "  n_clusters, final_model = utils.Utils.cluster_and_model(feat_fraud[train], lab_fraud[train])\n",
        "\n",
        "  #Retrieve the clusters containing missclassified data and the indices of these clusters in the training data\n",
        "  missclassified_cluster_data_index, missclassified_clusters = utils.Utils.find_missclassified_clusters(n_clusters, lab_fraud[train], final_model.labels_)\n",
        "  rf_classifiers = [0]*n_clusters\n",
        "  #Go through the clusters with missclassified data and train a random forest classifier for each\n",
        "  for i in missclassified_clusters:\n",
        "    f = feat_fraud[train]\n",
        "    f1 = f[missclassified_cluster_data_index[i], :]\n",
        "    l  = lab_fraud[train]\n",
        "    l1 = np.take(l, missclassified_cluster_data_index[i])\n",
        "    rf_classifiers[i] = random_forest_clf.fit(f1, l1)\n",
        "  \n",
        "  #For each point in test dataset, give it a cluster\n",
        "  for x in feat_fraud[test]:\n",
        "    prediction = final_model.predict(np.array([x]))\n",
        "    if prediction in missclassified_clusters:\n",
        "      test_labels.append(rf_classifiers[prediction[0]].predict(np.array([x])))\n",
        "    else:\n",
        "      test_labels.append(prediction)\n",
        "  accuracy_scores.append(accuracy_score(test_labels, lab_fraud[test]))\n",
        "  precision_scores.append(precision_score(test_labels, lab_fraud[test]))\n",
        "  recall_scores.append(recall_score(test_labels, lab_fraud[test]))\n",
        "  f1_scores.append(f1_score(test_labels, lab_fraud[test]))"
      ],
      "execution_count": 0,
      "outputs": [
        {
          "output_type": "stream",
          "text": [
            "[[ 1.68312000e+05 -2.00783374e+00 -2.39754453e+00 ... -4.38861024e-01\n",
            "  -9.30018837e-03  1.00000000e+03]\n",
            " [ 3.43330000e+04 -1.79351865e+00 -1.73711087e+00 ... -1.30091969e-01\n",
            "   9.80834914e-02  4.57540000e+02]\n",
            " [ 9.33790000e+04  1.42519630e+00 -4.36587933e-01 ...  1.20438924e-02\n",
            "   5.66051788e-03  7.02000000e+00]\n",
            " ...\n",
            " [ 1.97586000e+05 -3.61427839e-01  1.13347192e+00 ... -1.24981707e-03\n",
            "  -1.82750897e-01  4.80720000e+02]\n",
            " [ 1.84379000e+05 -1.14155894e+00  1.92765004e+00 ... -1.46101644e-01\n",
            "   7.62114891e-02  2.50000000e+01]\n",
            " [ 1.45800000e+05 -4.19820174e-01 -1.15597801e+00 ... -2.13631449e-02\n",
            "   1.29096386e-01  4.51270000e+02]]\n",
            "finding clusters\n"
          ],
          "name": "stdout"
        },
        {
          "output_type": "display_data",
          "data": {
            "image/png": "[encoded data removed]",
            "text/plain": [
              "<Figure size 432x288 with 1 Axes>"
            ]
          },
          "metadata": {
            "tags": []
          }
        },
        {
          "output_type": "stream",
          "text": [
            "Silhouette predicted 2 clusters. Please enter elbow results:\n",
            "2\n",
            "K value with best performance: 2\n",
            "[[ 2.21547000e+05 -1.19166848e+00  4.28408570e-01 ... -3.19964326e-01\n",
            "  -1.74444289e-02  2.74400000e+01]\n",
            " [ 1.84524000e+05  1.96661435e+00 -4.50086974e-01 ... -3.91549993e-02\n",
            "  -7.13139301e-02  3.59500000e+01]\n",
            " [ 9.12010000e+04  1.52845161e+00 -1.29619125e+00 ...  4.29974926e-02\n",
            "   2.58531705e-02  2.84000000e+01]\n",
            " ...\n",
            " [ 1.97586000e+05 -3.61427839e-01  1.13347192e+00 ... -1.24981707e-03\n",
            "  -1.82750897e-01  4.80720000e+02]\n",
            " [ 1.84379000e+05 -1.14155894e+00  1.92765004e+00 ... -1.46101644e-01\n",
            "   7.62114891e-02  2.50000000e+01]\n",
            " [ 1.45800000e+05 -4.19820174e-01 -1.15597801e+00 ... -2.13631449e-02\n",
            "   1.29096386e-01  4.51270000e+02]]\n",
            "finding clusters\n"
          ],
          "name": "stdout"
        },
        {
          "output_type": "display_data",
          "data": {
            "image/png": "[encoded data removed]",
            "text/plain": [
              "<Figure size 432x288 with 1 Axes>"
            ]
          },
          "metadata": {
            "tags": []
          }
        },
        {
          "output_type": "stream",
          "text": [
            "Silhouette predicted 2 clusters. Please enter elbow results:\n",
            "2\n",
            "K value with best performance: 2\n",
            "[[ 2.21547000e+05 -1.19166848e+00  4.28408570e-01 ... -3.19964326e-01\n",
            "  -1.74444289e-02  2.74400000e+01]\n",
            " [ 1.84524000e+05  1.96661435e+00 -4.50086974e-01 ... -3.91549993e-02\n",
            "  -7.13139301e-02  3.59500000e+01]\n",
            " [ 9.12010000e+04  1.52845161e+00 -1.29619125e+00 ...  4.29974926e-02\n",
            "   2.58531705e-02  2.84000000e+01]\n",
            " ...\n",
            " [ 1.97586000e+05 -3.61427839e-01  1.13347192e+00 ... -1.24981707e-03\n",
            "  -1.82750897e-01  4.80720000e+02]\n",
            " [ 1.84379000e+05 -1.14155894e+00  1.92765004e+00 ... -1.46101644e-01\n",
            "   7.62114891e-02  2.50000000e+01]\n",
            " [ 1.45800000e+05 -4.19820174e-01 -1.15597801e+00 ... -2.13631449e-02\n",
            "   1.29096386e-01  4.51270000e+02]]\n",
            "finding clusters\n"
          ],
          "name": "stdout"
        },
        {
          "output_type": "display_data",
          "data": {
            "image/png": "[encoded data removed]",
            "text/plain": [
              "<Figure size 432x288 with 1 Axes>"
            ]
          },
          "metadata": {
            "tags": []
          }
        },
        {
          "output_type": "stream",
          "text": [
            "Silhouette predicted 2 clusters. Please enter elbow results:\n",
            "2\n",
            "K value with best performance: 2\n",
            "[[ 2.21547000e+05 -1.19166848e+00  4.28408570e-01 ... -3.19964326e-01\n",
            "  -1.74444289e-02  2.74400000e+01]\n",
            " [ 1.84524000e+05  1.96661435e+00 -4.50086974e-01 ... -3.91549993e-02\n",
            "  -7.13139301e-02  3.59500000e+01]\n",
            " [ 9.12010000e+04  1.52845161e+00 -1.29619125e+00 ...  4.29974926e-02\n",
            "   2.58531705e-02  2.84000000e+01]\n",
            " ...\n",
            " [ 1.97586000e+05 -3.61427839e-01  1.13347192e+00 ... -1.24981707e-03\n",
            "  -1.82750897e-01  4.80720000e+02]\n",
            " [ 1.84379000e+05 -1.14155894e+00  1.92765004e+00 ... -1.46101644e-01\n",
            "   7.62114891e-02  2.50000000e+01]\n",
            " [ 1.45800000e+05 -4.19820174e-01 -1.15597801e+00 ... -2.13631449e-02\n",
            "   1.29096386e-01  4.51270000e+02]]\n",
            "finding clusters\n"
          ],
          "name": "stdout"
        },
        {
          "output_type": "display_data",
          "data": {
            "image/png": "[encoded data removed]",
            "text/plain": [
              "<Figure size 432x288 with 1 Axes>"
            ]
          },
          "metadata": {
            "tags": []
          }
        },
        {
          "output_type": "stream",
          "text": [
            "Silhouette predicted 2 clusters. Please enter elbow results:\n",
            "2\n",
            "K value with best performance: 2\n",
            "[[ 2.21547000e+05 -1.19166848e+00  4.28408570e-01 ... -3.19964326e-01\n",
            "  -1.74444289e-02  2.74400000e+01]\n",
            " [ 1.84524000e+05  1.96661435e+00 -4.50086974e-01 ... -3.91549993e-02\n",
            "  -7.13139301e-02  3.59500000e+01]\n",
            " [ 9.12010000e+04  1.52845161e+00 -1.29619125e+00 ...  4.29974926e-02\n",
            "   2.58531705e-02  2.84000000e+01]\n",
            " ...\n",
            " [ 1.97586000e+05 -3.61427839e-01  1.13347192e+00 ... -1.24981707e-03\n",
            "  -1.82750897e-01  4.80720000e+02]\n",
            " [ 1.84379000e+05 -1.14155894e+00  1.92765004e+00 ... -1.46101644e-01\n",
            "   7.62114891e-02  2.50000000e+01]\n",
            " [ 1.45800000e+05 -4.19820174e-01 -1.15597801e+00 ... -2.13631449e-02\n",
            "   1.29096386e-01  4.51270000e+02]]\n",
            "finding clusters\n"
          ],
          "name": "stdout"
        },
        {
          "output_type": "display_data",
          "data": {
            "image/png": "[encoded data removed]",
            "text/plain": [
              "<Figure size 432x288 with 1 Axes>"
            ]
          },
          "metadata": {
            "tags": []
          }
        },
        {
          "output_type": "stream",
          "text": [
            "Silhouette predicted 2 clusters. Please enter elbow results:\n",
            "2\n",
            "K value with best performance: 2\n",
            "[[ 2.21547000e+05 -1.19166848e+00  4.28408570e-01 ... -3.19964326e-01\n",
            "  -1.74444289e-02  2.74400000e+01]\n",
            " [ 1.84524000e+05  1.96661435e+00 -4.50086974e-01 ... -3.91549993e-02\n",
            "  -7.13139301e-02  3.59500000e+01]\n",
            " [ 9.12010000e+04  1.52845161e+00 -1.29619125e+00 ...  4.29974926e-02\n",
            "   2.58531705e-02  2.84000000e+01]\n",
            " ...\n",
            " [ 1.97586000e+05 -3.61427839e-01  1.13347192e+00 ... -1.24981707e-03\n",
            "  -1.82750897e-01  4.80720000e+02]\n",
            " [ 1.84379000e+05 -1.14155894e+00  1.92765004e+00 ... -1.46101644e-01\n",
            "   7.62114891e-02  2.50000000e+01]\n",
            " [ 1.45800000e+05 -4.19820174e-01 -1.15597801e+00 ... -2.13631449e-02\n",
            "   1.29096386e-01  4.51270000e+02]]\n",
            "finding clusters\n"
          ],
          "name": "stdout"
        },
        {
          "output_type": "display_data",
          "data": {
            "image/png": "[encoded data removed]",
            "text/plain": [
              "<Figure size 432x288 with 1 Axes>"
            ]
          },
          "metadata": {
            "tags": []
          }
        },
        {
          "output_type": "stream",
          "text": [
            "Silhouette predicted 2 clusters. Please enter elbow results:\n",
            "2\n",
            "K value with best performance: 2\n",
            "[[ 2.21547000e+05 -1.19166848e+00  4.28408570e-01 ... -3.19964326e-01\n",
            "  -1.74444289e-02  2.74400000e+01]\n",
            " [ 1.84524000e+05  1.96661435e+00 -4.50086974e-01 ... -3.91549993e-02\n",
            "  -7.13139301e-02  3.59500000e+01]\n",
            " [ 9.12010000e+04  1.52845161e+00 -1.29619125e+00 ...  4.29974926e-02\n",
            "   2.58531705e-02  2.84000000e+01]\n",
            " ...\n",
            " [ 1.97586000e+05 -3.61427839e-01  1.13347192e+00 ... -1.24981707e-03\n",
            "  -1.82750897e-01  4.80720000e+02]\n",
            " [ 1.84379000e+05 -1.14155894e+00  1.92765004e+00 ... -1.46101644e-01\n",
            "   7.62114891e-02  2.50000000e+01]\n",
            " [ 1.45800000e+05 -4.19820174e-01 -1.15597801e+00 ... -2.13631449e-02\n",
            "   1.29096386e-01  4.51270000e+02]]\n",
            "finding clusters\n"
          ],
          "name": "stdout"
        },
        {
          "output_type": "display_data",
          "data": {
            "image/png": "[encoded data removed]",
            "text/plain": [
              "<Figure size 432x288 with 1 Axes>"
            ]
          },
          "metadata": {
            "tags": []
          }
        },
        {
          "output_type": "stream",
          "text": [
            "Silhouette predicted 2 clusters. Please enter elbow results:\n",
            "2\n",
            "K value with best performance: 2\n",
            "[[ 2.21547000e+05 -1.19166848e+00  4.28408570e-01 ... -3.19964326e-01\n",
            "  -1.74444289e-02  2.74400000e+01]\n",
            " [ 1.84524000e+05  1.96661435e+00 -4.50086974e-01 ... -3.91549993e-02\n",
            "  -7.13139301e-02  3.59500000e+01]\n",
            " [ 9.12010000e+04  1.52845161e+00 -1.29619125e+00 ...  4.29974926e-02\n",
            "   2.58531705e-02  2.84000000e+01]\n",
            " ...\n",
            " [ 1.97586000e+05 -3.61427839e-01  1.13347192e+00 ... -1.24981707e-03\n",
            "  -1.82750897e-01  4.80720000e+02]\n",
            " [ 1.84379000e+05 -1.14155894e+00  1.92765004e+00 ... -1.46101644e-01\n",
            "   7.62114891e-02  2.50000000e+01]\n",
            " [ 1.45800000e+05 -4.19820174e-01 -1.15597801e+00 ... -2.13631449e-02\n",
            "   1.29096386e-01  4.51270000e+02]]\n",
            "finding clusters\n"
          ],
          "name": "stdout"
        },
        {
          "output_type": "display_data",
          "data": {
            "image/png": "[encoded data removed]",
            "text/plain": [
              "<Figure size 432x288 with 1 Axes>"
            ]
          },
          "metadata": {
            "tags": []
          }
        },
        {
          "output_type": "stream",
          "text": [
            "Silhouette predicted 2 clusters. Please enter elbow results:\n",
            "2\n",
            "K value with best performance: 2\n",
            "[[ 2.21547000e+05 -1.19166848e+00  4.28408570e-01 ... -3.19964326e-01\n",
            "  -1.74444289e-02  2.74400000e+01]\n",
            " [ 1.84524000e+05  1.96661435e+00 -4.50086974e-01 ... -3.91549993e-02\n",
            "  -7.13139301e-02  3.59500000e+01]\n",
            " [ 9.12010000e+04  1.52845161e+00 -1.29619125e+00 ...  4.29974926e-02\n",
            "   2.58531705e-02  2.84000000e+01]\n",
            " ...\n",
            " [ 1.97586000e+05 -3.61427839e-01  1.13347192e+00 ... -1.24981707e-03\n",
            "  -1.82750897e-01  4.80720000e+02]\n",
            " [ 1.84379000e+05 -1.14155894e+00  1.92765004e+00 ... -1.46101644e-01\n",
            "   7.62114891e-02  2.50000000e+01]\n",
            " [ 1.45800000e+05 -4.19820174e-01 -1.15597801e+00 ... -2.13631449e-02\n",
            "   1.29096386e-01  4.51270000e+02]]\n",
            "finding clusters\n"
          ],
          "name": "stdout"
        },
        {
          "output_type": "display_data",
          "data": {
            "image/png": "[encoded data removed]",
            "text/plain": [
              "<Figure size 432x288 with 1 Axes>"
            ]
          },
          "metadata": {
            "tags": []
          }
        },
        {
          "output_type": "stream",
          "text": [
            "Silhouette predicted 2 clusters. Please enter elbow results:\n",
            "2\n",
            "K value with best performance: 2\n",
            "[[ 2.21547000e+05 -1.19166848e+00  4.28408570e-01 ... -3.19964326e-01\n",
            "  -1.74444289e-02  2.74400000e+01]\n",
            " [ 1.84524000e+05  1.96661435e+00 -4.50086974e-01 ... -3.91549993e-02\n",
            "  -7.13139301e-02  3.59500000e+01]\n",
            " [ 9.12010000e+04  1.52845161e+00 -1.29619125e+00 ...  4.29974926e-02\n",
            "   2.58531705e-02  2.84000000e+01]\n",
            " ...\n",
            " [ 7.01410000e+04 -1.64927882e+00  1.26397356e+00 ...  3.90808553e-01\n",
            "   1.12145531e-01  1.12450000e+02]\n",
            " [ 2.34632000e+05  1.26132424e+00  2.72680029e+00 ...  4.68180887e-01\n",
            "   2.80486471e-01  1.59000000e+00]\n",
            " [ 2.22133000e+05 -3.61385046e+00 -9.22135693e-01 ...  1.05544197e+00\n",
            "   9.99714026e-02  1.44800000e+02]]\n",
            "finding clusters\n"
          ],
          "name": "stdout"
        },
        {
          "output_type": "display_data",
          "data": {
            "image/png": "[encoded data removed]",
            "text/plain": [
              "<Figure size 432x288 with 1 Axes>"
            ]
          },
          "metadata": {
            "tags": []
          }
        },
        {
          "output_type": "stream",
          "text": [
            "Silhouette predicted 2 clusters. Please enter elbow results:\n",
            "2\n",
            "K value with best performance: 2\n"
          ],
          "name": "stdout"
        }
      ]
    },
    {
      "cell_type": "markdown",
      "metadata": {
        "id": "7oyTj19KERPn",
        "colab_type": "text"
      },
      "source": [
        "EVALUATING RESULTS FROM PROPOSED ALGORITHM"
      ]
    },
    {
      "cell_type": "code",
      "metadata": {
        "id": "HE84T6DrzPj-",
        "colab_type": "code",
        "outputId": "9cfc238e-8aba-4d93-b41b-5ddb7e795c72",
        "colab": {
          "base_uri": "https://localhost:8080/",
          "height": 82
        }
      },
      "source": [
        "print(\"Accuracy:\", np.mean(accuracy_scores), \"+/-\", np.std(accuracy_scores))\n",
        "print(\"Precision:\", np.mean(precision_scores), \"+/-\", np.std(precision_scores))\n",
        "print(\"Recall:\", np.mean(recall_scores), \"+/-\", np.std(recall_scores))\n",
        "print(\"F1-Score:\", np.mean(f1_scores), \"+/-\", np.std(f1_scores))"
      ],
      "execution_count": 0,
      "outputs": [
        {
          "output_type": "stream",
          "text": [
            "Accuracy: 0.9863013698630138 +/- 0.00912785273915488\n",
            "Precision: 0.6997159090909091 +/- 0.2092706402883787\n",
            "Recall: 0.9918060200668897 +/- 0.0164263082816201\n",
            "F1-Score: 0.7959989663001226 +/- 0.19946340240378294\n"
          ],
          "name": "stdout"
        }
      ]
    },
    {
      "cell_type": "markdown",
      "metadata": {
        "id": "3H5_N6Q4EM_p",
        "colab_type": "text"
      },
      "source": [
        "APPLYING SMOTE SAMPLING"
      ]
    },
    {
      "cell_type": "code",
      "metadata": {
        "id": "3oej2tSR3pk2",
        "colab_type": "code",
        "outputId": "568f4557-b439-46ad-cb31-ef06103f70d6",
        "colab": {
          "base_uri": "https://localhost:8080/",
          "height": 102
        }
      },
      "source": [
        "from imblearn.over_sampling import SMOTE\n",
        "sm = SMOTE(random_state=0)"
      ],
      "execution_count": 0,
      "outputs": [
        {
          "output_type": "stream",
          "text": [
            "/usr/local/lib/python3.6/dist-packages/sklearn/externals/six.py:31: FutureWarning: The module is deprecated in version 0.21 and will be removed in version 0.23 since we've dropped support for Python 2.7. Please rely on the official version of six (https://pypi.org/project/six/).\n",
            "  \"(https://pypi.org/project/six/).\", FutureWarning)\n",
            "/usr/local/lib/python3.6/dist-packages/sklearn/utils/deprecation.py:144: FutureWarning: The sklearn.neighbors.base module is  deprecated in version 0.22 and will be removed in version 0.24. The corresponding classes / functions should instead be imported from sklearn.neighbors. Anything that cannot be imported from sklearn.neighbors is now part of the private API.\n",
            "  warnings.warn(message, FutureWarning)\n"
          ],
          "name": "stderr"
        }
      ]
    },
    {
      "cell_type": "code",
      "metadata": {
        "id": "ZH2HAhNp3rbi",
        "colab_type": "code",
        "outputId": "387b337b-8f3e-4599-df88-c474daefff07",
        "colab": {
          "base_uri": "https://localhost:8080/",
          "height": 50
        }
      },
      "source": [
        "smote_feat, smote_lab = sm.fit_resample(feat_fraud, lab_fraud)"
      ],
      "execution_count": 0,
      "outputs": [
        {
          "output_type": "stream",
          "text": [
            "/usr/local/lib/python3.6/dist-packages/sklearn/utils/deprecation.py:87: FutureWarning: Function safe_indexing is deprecated; safe_indexing is deprecated in version 0.22 and will be removed in version 0.24.\n",
            "  warnings.warn(msg, category=FutureWarning)\n"
          ],
          "name": "stderr"
        }
      ]
    },
    {
      "cell_type": "markdown",
      "metadata": {
        "id": "2a6mOzy9EJUk",
        "colab_type": "text"
      },
      "source": [
        "EVALUATING RESULTS FROM SMOTE"
      ]
    },
    {
      "cell_type": "code",
      "metadata": {
        "id": "Ls_WrGax3tEh",
        "colab_type": "code",
        "outputId": "294fe64f-6085-49d1-e1da-531312ae967e",
        "colab": {
          "base_uri": "https://localhost:8080/",
          "height": 82
        }
      },
      "source": [
        "#Evaluate using decision tree\n",
        "evaluatePerformance(tree_clf, smote_feat, smote_lab)"
      ],
      "execution_count": 0,
      "outputs": [
        {
          "output_type": "stream",
          "text": [
            "Accuracy: 0.9731069663637812 +/- 0.004896048964116521\n",
            "Precision: 0.9669345489589501 +/- 0.006987978081900309\n",
            "Recall: 0.9797745557094876 +/- 0.007579782979086342\n",
            "F1-Score: 0.9732819379105632 +/- 0.0048960693508108685\n"
          ],
          "name": "stdout"
        }
      ]
    },
    {
      "cell_type": "code",
      "metadata": {
        "id": "S4WGtGKH3ugc",
        "colab_type": "code",
        "outputId": "7d4865bb-dd21-4fd9-bbac-2537422c92cc",
        "colab": {
          "base_uri": "https://localhost:8080/",
          "height": 82
        }
      },
      "source": [
        "#Evaluate using random forest\n",
        "evaluatePerformance(rf_clf, smote_feat, smote_lab)"
      ],
      "execution_count": 0,
      "outputs": [
        {
          "output_type": "stream",
          "text": [
            "Accuracy: 0.9731069663637812 +/- 0.004896048964116521\n",
            "Precision: 0.9669345489589501 +/- 0.006987978081900309\n",
            "Recall: 0.9797745557094876 +/- 0.007579782979086342\n",
            "F1-Score: 0.9732819379105632 +/- 0.0048960693508108685\n"
          ],
          "name": "stdout"
        }
      ]
    },
    {
      "cell_type": "code",
      "metadata": {
        "id": "xvjlDmCz-6ok",
        "colab_type": "code",
        "colab": {}
      },
      "source": [
        ""
      ],
      "execution_count": 0,
      "outputs": []
    }
  ]
}