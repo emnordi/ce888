{
  "nbformat": 4,
  "nbformat_minor": 0,
  "metadata": {
    "colab": {
      "name": "Copy of Project2.ipynb",
      "provenance": [],
      "collapsed_sections": [],
      "authorship_tag": "ABX9TyNH0RG9zeiu+pWvUySsa4pq",
      "include_colab_link": true
    },
    "kernelspec": {
      "name": "python3",
      "display_name": "Python 3"
    }
  },
  "cells": [
    {
      "cell_type": "markdown",
      "metadata": {
        "id": "view-in-github",
        "colab_type": "text"
      },
      "source": [
        "<a href=\"https://colab.research.google.com/github/emnordi/ce888/blob/master/Project2/Project2_Fraud.ipynb\" target=\"_parent\"><img src=\"https://colab.research.google.com/assets/colab-badge.svg\" alt=\"Open In Colab\"/></a>"
      ]
    },
    {
      "cell_type": "code",
      "metadata": {
        "id": "BpVmhVOwDruJ",
        "colab_type": "code",
        "colab": {
          "base_uri": "https://localhost:8080/",
          "height": 131
        },
        "outputId": "34857927-1c26-4b61-ef40-682e59b9b9c5"
      },
      "source": [
        "import pandas as pd\n",
        "import os\n",
        "import io\n",
        "import numpy as np\n",
        "from sklearn.model_selection import StratifiedKFold\n",
        "from sklearn import tree\n",
        "from sklearn.ensemble import RandomForestClassifier\n",
        "from sklearn.model_selection import cross_val_score\n",
        "!git clone https://github.com/emnordi/ce888.git\n",
        "from ce888.Project2.utils import *\n",
        "os.environ['KAGGLE_USERNAME'] = \"emilnordin\" # username from the json file\n",
        "\n",
        "os.environ['KAGGLE_KEY'] = \"fd1ae7405c909d36a1ecffea5cd2749a\" # key from the json file"
      ],
      "execution_count": 1,
      "outputs": [
        {
          "output_type": "stream",
          "text": [
            "Cloning into 'ce888'...\n",
            "remote: Enumerating objects: 74, done.\u001b[K\n",
            "remote: Counting objects: 100% (74/74), done.\u001b[K\n",
            "remote: Compressing objects: 100% (72/72), done.\u001b[K\n",
            "remote: Total 286 (delta 35), reused 0 (delta 0), pack-reused 212\u001b[K\n",
            "Receiving objects: 100% (286/286), 7.82 MiB | 5.81 MiB/s, done.\n",
            "Resolving deltas: 100% (125/125), done.\n"
          ],
          "name": "stdout"
        }
      ]
    },
    {
      "cell_type": "markdown",
      "metadata": {
        "id": "4cTRsaNTmyGq",
        "colab_type": "text"
      },
      "source": [
        "DOWNLOADING AND IMPORTING DATASET"
      ]
    },
    {
      "cell_type": "code",
      "metadata": {
        "id": "Eycbby419_NH",
        "colab_type": "code",
        "outputId": "0d7eaf49-a07a-4062-e31e-a24d3faca756",
        "colab": {
          "base_uri": "https://localhost:8080/",
          "height": 66
        }
      },
      "source": [
        "!kaggle datasets download -d subediaarjun/unbalanced-fraud-detection-dataset"
      ],
      "execution_count": 2,
      "outputs": [
        {
          "output_type": "stream",
          "text": [
            "Downloading unbalanced-fraud-detection-dataset.zip to /content\n",
            "\r  0% 0.00/2.57M [00:00<?, ?B/s]\n",
            "\r100% 2.57M/2.57M [00:00<00:00, 85.4MB/s]\n"
          ],
          "name": "stdout"
        }
      ]
    },
    {
      "cell_type": "code",
      "metadata": {
        "id": "z4qrA3Rl-EsI",
        "colab_type": "code",
        "outputId": "3a085086-d21d-40d5-f1ea-9165a0967384",
        "colab": {
          "base_uri": "https://localhost:8080/",
          "height": 50
        }
      },
      "source": [
        "#This dataset happened to be in excel format requiring some extra steps\n",
        "!unzip unbalanced-fraud-detection-dataset.zip"
      ],
      "execution_count": 3,
      "outputs": [
        {
          "output_type": "stream",
          "text": [
            "Archive:  unbalanced-fraud-detection-dataset.zip\n",
            "  inflating: Fraud Detection Sample data.xlsx  \n"
          ],
          "name": "stdout"
        }
      ]
    },
    {
      "cell_type": "code",
      "metadata": {
        "id": "OFmerDEA_N_V",
        "colab_type": "code",
        "colab": {}
      },
      "source": [
        "data_fraud = pd.read_excel(\"Fraud Detection Sample data.xlsx\", sheet_name = 'credit_card_fraud_sample', header = 0)"
      ],
      "execution_count": 0,
      "outputs": []
    },
    {
      "cell_type": "markdown",
      "metadata": {
        "id": "MBIshC7TnAB7",
        "colab_type": "text"
      },
      "source": [
        "PRINTING DATASETS"
      ]
    },
    {
      "cell_type": "code",
      "metadata": {
        "id": "jqIBIbQMAfbW",
        "colab_type": "code",
        "colab": {
          "base_uri": "https://localhost:8080/",
          "height": 245
        },
        "outputId": "e9780bb0-87c9-4586-8ece-43717468f233"
      },
      "source": [
        "print(data_fraud)"
      ],
      "execution_count": 5,
      "outputs": [
        {
          "output_type": "stream",
          "text": [
            "          ID        V1        V2        V3  ...       V27       V28  Amount  Class\n",
            "0     221547 -1.191668  0.428409  1.640028  ... -0.319964 -0.017444   27.44      0\n",
            "1     184524  1.966614 -0.450087 -1.228586  ... -0.039155 -0.071314   35.95      0\n",
            "2      91201  1.528452 -1.296191 -0.890677  ...  0.042997  0.025853   28.40      0\n",
            "3      26115 -0.774614  1.100916  0.679080  ...  0.282940  0.123856   43.20      0\n",
            "4     201292 -1.075860  1.361160  1.496972  ...  0.951130  0.158996    0.83      1\n",
            "...      ...       ...       ...       ...  ...       ...       ...     ...    ...\n",
            "7295   96789 -3.593476  0.781442 -1.822448  ... -1.478767  0.722673  101.50      1\n",
            "7296   18809  0.923764  0.344048 -2.880004  ...  0.489035 -0.049729   30.30      1\n",
            "7297  197586 -0.361428  1.133472 -2.971360  ... -0.001250 -0.182751  480.72      1\n",
            "7298  184379 -1.141559  1.927650 -3.905356  ... -0.146102  0.076211   25.00      1\n",
            "7299  145800 -0.419820 -1.155978 -2.092516  ... -0.021363  0.129096  451.27      1\n",
            "\n",
            "[7300 rows x 31 columns]\n"
          ],
          "name": "stdout"
        }
      ]
    },
    {
      "cell_type": "markdown",
      "metadata": {
        "id": "5e2pRZQYv665",
        "colab_type": "text"
      },
      "source": [
        "DISPLAY AMOUNT OF ROWS EACH CLASS HAS, AND IMBALANCE OF DATASETS"
      ]
    },
    {
      "cell_type": "code",
      "metadata": {
        "id": "V9ndFI4WAp6X",
        "colab_type": "code",
        "colab": {
          "base_uri": "https://localhost:8080/",
          "height": 82
        },
        "outputId": "346bbb83-12fa-43e3-a6df-620cf2a8a88b"
      },
      "source": [
        "print(data_fraud['Class'].value_counts())\n",
        "print(\"Imbalance:\", data_fraud['Class'].value_counts()[0]/sum(data_fraud.Class.value_counts()))"
      ],
      "execution_count": 6,
      "outputs": [
        {
          "output_type": "stream",
          "text": [
            "0    6972\n",
            "1     328\n",
            "Name: Class, dtype: int64\n",
            "Imbalance: 0.955068493150685\n"
          ],
          "name": "stdout"
        }
      ]
    },
    {
      "cell_type": "markdown",
      "metadata": {
        "id": "tI0BQSh10bA4",
        "colab_type": "text"
      },
      "source": [
        "BASE RESULTS"
      ]
    },
    {
      "cell_type": "code",
      "metadata": {
        "id": "sd4A-Z4N0kQO",
        "colab_type": "code",
        "colab": {}
      },
      "source": [
        "#Create decision tree and random forest classifiers\n",
        "tree_clf = tree.DecisionTreeClassifier(random_state=0)\n",
        "rf_clf = RandomForestClassifier(max_depth=2, random_state=0)"
      ],
      "execution_count": 0,
      "outputs": []
    },
    {
      "cell_type": "code",
      "metadata": {
        "id": "lUQZn1Iau9fm",
        "colab_type": "code",
        "colab": {
          "base_uri": "https://localhost:8080/",
          "height": 82
        },
        "outputId": "7c7542d1-dc10-4e5e-d4d4-983e37f18c35"
      },
      "source": [
        "#Fraud dataset base scores DT\n",
        "feat_fraud = data_fraud.drop('Class', axis=1)\n",
        "lab_fraud = data_fraud['Class']\n",
        "\n",
        "base = Utils.evaluatePerformance(rf_clf, feat_fraud, lab_fraud)"
      ],
      "execution_count": 8,
      "outputs": [
        {
          "output_type": "stream",
          "text": [
            "Accuracy: 0.9864383561643836 +/- 0.00899218818206919\n",
            "Precision: 0.9960000000000001 +/- 0.01200000000000001\n",
            "Recall: 0.6997159090909092 +/- 0.20617618141517483\n",
            "F1-Score: 0.7979241651083359 +/- 0.1987010159165814\n"
          ],
          "name": "stdout"
        }
      ]
    },
    {
      "cell_type": "code",
      "metadata": {
        "id": "XmKwidfymbGH",
        "colab_type": "code",
        "colab": {
          "base_uri": "https://localhost:8080/",
          "height": 82
        },
        "outputId": "0959fd19-f34e-4f2d-9edf-3bb2e41be06e"
      },
      "source": [
        "#Fraud dataset base scores RF\n",
        "Utils.evaluatePerformance(rf_clf, feat_fraud, lab_fraud);"
      ],
      "execution_count": 9,
      "outputs": [
        {
          "output_type": "stream",
          "text": [
            "Accuracy: 0.9864383561643836 +/- 0.00899218818206919\n",
            "Precision: 0.9960000000000001 +/- 0.01200000000000001\n",
            "Recall: 0.6997159090909092 +/- 0.20617618141517483\n",
            "F1-Score: 0.7979241651083359 +/- 0.1987010159165814\n"
          ],
          "name": "stdout"
        }
      ]
    },
    {
      "cell_type": "markdown",
      "metadata": {
        "id": "S-l8E2o2oy7X",
        "colab_type": "text"
      },
      "source": [
        "DOWNSAMPLING THE DATASETS AND RETRIEVING NEW PERFORMANCE RESULTS"
      ]
    },
    {
      "cell_type": "code",
      "metadata": {
        "id": "LxACUmx5ycFh",
        "colab_type": "code",
        "colab": {
          "base_uri": "https://localhost:8080/",
          "height": 82
        },
        "outputId": "79e18efe-50f5-4354-d327-6ed778caa4b6"
      },
      "source": [
        "#Downsample FRAUD DATASET to get 50%\n",
        "data_fraud_ind_ = data_fraud[data_fraud['Class'] == 0].index\n",
        "f_to_del = data_fraud_ind_[0:int(len(data_fraud_ind_)*0.952)]\n",
        "data_fraud_test = data_fraud.drop(index=f_to_del)\n",
        "\n",
        "print(data_fraud_test['Class'].value_counts())\n",
        "print(\"Imbalance:\", data_fraud_test['Class'].value_counts()[0]/(data_fraud_test['Class'].value_counts()[1]+(data_fraud_test['Class'].value_counts()[0])))"
      ],
      "execution_count": 16,
      "outputs": [
        {
          "output_type": "stream",
          "text": [
            "0    335\n",
            "1    328\n",
            "Name: Class, dtype: int64\n",
            "Imbalance: 0.5052790346907994\n"
          ],
          "name": "stdout"
        }
      ]
    },
    {
      "cell_type": "code",
      "metadata": {
        "id": "2wHvSBxhxEm9",
        "colab_type": "code",
        "colab": {
          "base_uri": "https://localhost:8080/",
          "height": 82
        },
        "outputId": "44266d61-bd9e-4b6a-d61c-4a7fd6ba0101"
      },
      "source": [
        "#Fraud dataset downsample scores DT\n",
        "feat_fraud_test = data_fraud_test.drop('Class', axis=1)\n",
        "lab_fraud_test = data_fraud_test['Class']\n",
        "\n",
        "downsampled = Utils.evaluatePerformance(tree_clf, feat_fraud_test, lab_fraud_test)"
      ],
      "execution_count": 17,
      "outputs": [
        {
          "output_type": "stream",
          "text": [
            "Accuracy: 0.8630936227951154 +/- 0.08513958333321879\n",
            "Precision: 0.8746967474541003 +/- 0.04662622126324715\n",
            "Recall: 0.8481060606060605 +/- 0.18909265809335843\n",
            "F1-Score: 0.8452735455304451 +/- 0.13710989687909192\n"
          ],
          "name": "stdout"
        }
      ]
    },
    {
      "cell_type": "code",
      "metadata": {
        "id": "InxoGJ8ryoZ0",
        "colab_type": "code",
        "colab": {
          "base_uri": "https://localhost:8080/",
          "height": 82
        },
        "outputId": "928d32c8-edea-4c0f-dbb3-bb699d18328c"
      },
      "source": [
        "#Fraud dataset downsample scores RF\n",
        "Utils.evaluatePerformance(rf_clf, feat_fraud_test, lab_fraud_test);"
      ],
      "execution_count": 12,
      "outputs": [
        {
          "output_type": "stream",
          "text": [
            "Accuracy: 0.8948213478064224 +/- 0.10413659172701734\n",
            "Precision: 0.990073145245559 +/- 0.015201876451853533\n",
            "Recall: 0.7964962121212121 +/- 0.21536116762600235\n",
            "F1-Score: 0.859661349183995 +/- 0.18753193044380023\n"
          ],
          "name": "stdout"
        }
      ]
    },
    {
      "cell_type": "markdown",
      "metadata": {
        "id": "rzwIpIXSzLOn",
        "colab_type": "text"
      },
      "source": [
        "OVERSAMPLING AND TEST RESULTS"
      ]
    },
    {
      "cell_type": "code",
      "metadata": {
        "id": "ppLsgmeF1tGk",
        "colab_type": "code",
        "colab": {
          "base_uri": "https://localhost:8080/",
          "height": 82
        },
        "outputId": "e4e1d704-2705-4d3f-8656-c09cef804821"
      },
      "source": [
        "#OVERSAMPLING FRAUD DATASET\n",
        "max_ = data_fraud['Class'].value_counts().max()\n",
        "\n",
        "temp = [data_fraud]\n",
        "for class_index, group in data_fraud.groupby('Class'):\n",
        "    temp.append(group.sample(max_-len(group), replace=True))\n",
        "data_fraud_over = pd.concat(temp)\n",
        "\n",
        "print(data_fraud_over['Class'].value_counts())\n",
        "print(\"Imbalance:\", data_fraud_over['Class'].value_counts()[0]/(data_fraud_over['Class'].value_counts()[1]+(data_fraud_over['Class'].value_counts()[0])))"
      ],
      "execution_count": 18,
      "outputs": [
        {
          "output_type": "stream",
          "text": [
            "1    6972\n",
            "0    6972\n",
            "Name: Class, dtype: int64\n",
            "Imbalance: 0.5\n"
          ],
          "name": "stdout"
        }
      ]
    },
    {
      "cell_type": "code",
      "metadata": {
        "id": "AHmXfB084tRT",
        "colab_type": "code",
        "outputId": "80654abd-e6d4-405c-d347-ae08a1f11144",
        "colab": {
          "base_uri": "https://localhost:8080/",
          "height": 82
        }
      },
      "source": [
        "#Fraud dataset oversampling scores DT\n",
        "feat_fraud_over = data_fraud_over.drop('Class', axis=1)\n",
        "lab_fraud_over = data_fraud_over['Class']\n",
        "oversampled = Utils.evaluatePerformance(tree_clf, feat_fraud_over, lab_fraud_over)"
      ],
      "execution_count": 19,
      "outputs": [
        {
          "output_type": "stream",
          "text": [
            "Accuracy: 0.9951952813645784 +/- 0.0018985104117557143\n",
            "Precision: 0.9904955212731779 +/- 0.0037215195019493267\n",
            "Recall: 1.0 +/- 0.0\n",
            "F1-Score: 0.995221554278977 +/- 0.0018799043715298904\n"
          ],
          "name": "stdout"
        }
      ]
    },
    {
      "cell_type": "code",
      "metadata": {
        "id": "2kexo1dd45gp",
        "colab_type": "code",
        "outputId": "3287ac7f-4a6a-4a98-ed6d-616529181ad1",
        "colab": {
          "base_uri": "https://localhost:8080/",
          "height": 82
        }
      },
      "source": [
        "#Fraud dataset oversampling scores RF\n",
        "Utils.evaluatePerformance(rf_clf, feat_fraud_over, lab_fraud_over);"
      ],
      "execution_count": 20,
      "outputs": [
        {
          "output_type": "stream",
          "text": [
            "Accuracy: 0.8930014964286267 +/- 0.005626882790916963\n",
            "Precision: 0.9931814325153583 +/- 0.0025485976115666065\n",
            "Recall: 0.7914533428159161 +/- 0.011954234413895452\n",
            "F1-Score: 0.8808587162491384 +/- 0.007099252323343237\n"
          ],
          "name": "stdout"
        }
      ]
    },
    {
      "cell_type": "markdown",
      "metadata": {
        "id": "SP7gJda2wDDY",
        "colab_type": "text"
      },
      "source": [
        "CREATE 10 FOLDS OF EACH CLASS"
      ]
    },
    {
      "cell_type": "code",
      "metadata": {
        "id": "DzOkILkOET9c",
        "colab_type": "code",
        "colab": {}
      },
      "source": [
        "from sklearn.cluster import KMeans\n",
        "import matplotlib.pyplot as plt\n",
        "from sklearn.metrics import silhouette_score, accuracy_score, precision_score, recall_score, f1_score\n",
        "from sklearn.metrics.cluster import adjusted_rand_score "
      ],
      "execution_count": 0,
      "outputs": []
    },
    {
      "cell_type": "code",
      "metadata": {
        "id": "7HYU7sthxIkd",
        "colab_type": "code",
        "colab": {}
      },
      "source": [
        "#FRAUD DATASET\n",
        "skf = StratifiedKFold(n_splits=10)\n",
        "feat_fraud = np.array(feat_fraud)\n",
        "lab_fraud = np.array(lab_fraud)"
      ],
      "execution_count": 0,
      "outputs": []
    },
    {
      "cell_type": "code",
      "metadata": {
        "id": "PMhMqTVi2luE",
        "colab_type": "code",
        "colab": {}
      },
      "source": [
        "random_forest_clf = RandomForestClassifier(max_depth=2, random_state=0)\n",
        "rf_classifiers = []\n",
        "accuracy_scores = []\n",
        "precision_scores = []\n",
        "recall_scores = []\n",
        "f1_scores = []"
      ],
      "execution_count": 0,
      "outputs": []
    },
    {
      "cell_type": "code",
      "metadata": {
        "id": "Wj0V-Nr1iuzX",
        "colab_type": "code",
        "outputId": "d9502ed3-d745-453e-c833-22560e3d5e85",
        "colab": {
          "base_uri": "https://localhost:8080/",
          "height": 1000
        }
      },
      "source": [
        "for train, test in skf.split(feat_fraud, lab_fraud):\n",
        "  test_labels = []\n",
        "\n",
        "  #Retrieve the predicted amount of clusters and the best performing KMeans model\n",
        "  n_clusters, final_model = Utils.cluster_and_model(feat_fraud[train], lab_fraud[train])\n",
        "\n",
        "  #Retrieve the clusters containing missclassified data and the indices of these clusters in the training data\n",
        "  missclassified_cluster_data_index, missclassified_clusters = Utils.find_missclassified_clusters(n_clusters, lab_fraud[train], final_model.labels_)\n",
        "  rf_classifiers = [0]*n_clusters\n",
        "  #Go through the clusters with missclassified data and train a random forest classifier for each\n",
        "  for i in missclassified_clusters:\n",
        "    f = feat_fraud[train]\n",
        "    f1 = f[missclassified_cluster_data_index[i], :]\n",
        "    l  = lab_fraud[train]\n",
        "    l1 = np.take(l, missclassified_cluster_data_index[i])\n",
        "    rf_classifiers[i] = random_forest_clf.fit(f1, l1)\n",
        "  \n",
        "  #For each point in test dataset, give it a cluster\n",
        "  for x in feat_fraud[test]:\n",
        "    prediction = final_model.predict(np.array([x]))\n",
        "    if prediction in missclassified_clusters:\n",
        "      test_labels.append(rf_classifiers[prediction[0]].predict(np.array([x])))\n",
        "    else:\n",
        "      test_labels.append(prediction)\n",
        "  accuracy_scores.append(accuracy_score(test_labels, lab_fraud[test]))\n",
        "  precision_scores.append(precision_score(test_labels, lab_fraud[test]))\n",
        "  recall_scores.append(recall_score(test_labels, lab_fraud[test]))\n",
        "  f1_scores.append(f1_score(test_labels, lab_fraud[test]))"
      ],
      "execution_count": 24,
      "outputs": [
        {
          "output_type": "stream",
          "text": [
            "finding clusters\n"
          ],
          "name": "stdout"
        },
        {
          "output_type": "display_data",
          "data": {
            "image/png": "[encoded data removed]",
            "text/plain": [
              "<Figure size 432x288 with 1 Axes>"
            ]
          },
          "metadata": {
            "tags": []
          }
        },
        {
          "output_type": "stream",
          "text": [
            "Silhouette predicted 2 clusters. Please enter elbow results:\n",
            "3\n"
          ],
          "name": "stdout"
        },
        {
          "output_type": "stream",
          "text": [
            "/usr/local/lib/python3.6/dist-packages/sklearn/metrics/_classification.py:1272: UndefinedMetricWarning: Precision is ill-defined and being set to 0.0 in labels with no predicted samples. Use `zero_division` parameter to control this behavior.\n",
            "  _warn_prf(average, modifier, msg_start, len(result))\n"
          ],
          "name": "stderr"
        },
        {
          "output_type": "stream",
          "text": [
            "K value with best performance: 2\n",
            "finding clusters\n"
          ],
          "name": "stdout"
        },
        {
          "output_type": "display_data",
          "data": {
            "image/png": "[encoded data removed]",
            "text/plain": [
              "<Figure size 432x288 with 1 Axes>"
            ]
          },
          "metadata": {
            "tags": []
          }
        },
        {
          "output_type": "stream",
          "text": [
            "Silhouette predicted 2 clusters. Please enter elbow results:\n",
            "3\n"
          ],
          "name": "stdout"
        },
        {
          "output_type": "stream",
          "text": [
            "/usr/local/lib/python3.6/dist-packages/sklearn/metrics/_classification.py:1272: UndefinedMetricWarning: Precision is ill-defined and being set to 0.0 in labels with no predicted samples. Use `zero_division` parameter to control this behavior.\n",
            "  _warn_prf(average, modifier, msg_start, len(result))\n"
          ],
          "name": "stderr"
        },
        {
          "output_type": "stream",
          "text": [
            "K value with best performance: 2\n",
            "finding clusters\n"
          ],
          "name": "stdout"
        },
        {
          "output_type": "display_data",
          "data": {
            "image/png": "[encoded data removed]",
            "text/plain": [
              "<Figure size 432x288 with 1 Axes>"
            ]
          },
          "metadata": {
            "tags": []
          }
        },
        {
          "output_type": "stream",
          "text": [
            "Silhouette predicted 2 clusters. Please enter elbow results:\n",
            "3\n"
          ],
          "name": "stdout"
        },
        {
          "output_type": "stream",
          "text": [
            "/usr/local/lib/python3.6/dist-packages/sklearn/metrics/_classification.py:1272: UndefinedMetricWarning: Precision is ill-defined and being set to 0.0 in labels with no predicted samples. Use `zero_division` parameter to control this behavior.\n",
            "  _warn_prf(average, modifier, msg_start, len(result))\n"
          ],
          "name": "stderr"
        },
        {
          "output_type": "stream",
          "text": [
            "K value with best performance: 2\n",
            "finding clusters\n"
          ],
          "name": "stdout"
        },
        {
          "output_type": "display_data",
          "data": {
            "image/png": "[encoded data removed]",
            "text/plain": [
              "<Figure size 432x288 with 1 Axes>"
            ]
          },
          "metadata": {
            "tags": []
          }
        },
        {
          "output_type": "stream",
          "text": [
            "Silhouette predicted 2 clusters. Please enter elbow results:\n",
            "3\n"
          ],
          "name": "stdout"
        },
        {
          "output_type": "stream",
          "text": [
            "/usr/local/lib/python3.6/dist-packages/sklearn/metrics/_classification.py:1272: UndefinedMetricWarning: Precision is ill-defined and being set to 0.0 in labels with no predicted samples. Use `zero_division` parameter to control this behavior.\n",
            "  _warn_prf(average, modifier, msg_start, len(result))\n"
          ],
          "name": "stderr"
        },
        {
          "output_type": "stream",
          "text": [
            "K value with best performance: 2\n",
            "finding clusters\n"
          ],
          "name": "stdout"
        },
        {
          "output_type": "display_data",
          "data": {
            "image/png": "[encoded data removed]",
            "text/plain": [
              "<Figure size 432x288 with 1 Axes>"
            ]
          },
          "metadata": {
            "tags": []
          }
        },
        {
          "output_type": "stream",
          "text": [
            "Silhouette predicted 2 clusters. Please enter elbow results:\n",
            "3\n"
          ],
          "name": "stdout"
        },
        {
          "output_type": "stream",
          "text": [
            "/usr/local/lib/python3.6/dist-packages/sklearn/metrics/_classification.py:1272: UndefinedMetricWarning: Precision is ill-defined and being set to 0.0 in labels with no predicted samples. Use `zero_division` parameter to control this behavior.\n",
            "  _warn_prf(average, modifier, msg_start, len(result))\n"
          ],
          "name": "stderr"
        },
        {
          "output_type": "stream",
          "text": [
            "K value with best performance: 2\n",
            "finding clusters\n"
          ],
          "name": "stdout"
        },
        {
          "output_type": "display_data",
          "data": {
            "image/png": "[encoded data removed]",
            "text/plain": [
              "<Figure size 432x288 with 1 Axes>"
            ]
          },
          "metadata": {
            "tags": []
          }
        },
        {
          "output_type": "stream",
          "text": [
            "Silhouette predicted 2 clusters. Please enter elbow results:\n",
            "3\n"
          ],
          "name": "stdout"
        },
        {
          "output_type": "stream",
          "text": [
            "/usr/local/lib/python3.6/dist-packages/sklearn/metrics/_classification.py:1272: UndefinedMetricWarning: Precision is ill-defined and being set to 0.0 in labels with no predicted samples. Use `zero_division` parameter to control this behavior.\n",
            "  _warn_prf(average, modifier, msg_start, len(result))\n"
          ],
          "name": "stderr"
        },
        {
          "output_type": "stream",
          "text": [
            "K value with best performance: 2\n",
            "finding clusters\n"
          ],
          "name": "stdout"
        },
        {
          "output_type": "display_data",
          "data": {
            "image/png": "[encoded data removed]",
            "text/plain": [
              "<Figure size 432x288 with 1 Axes>"
            ]
          },
          "metadata": {
            "tags": []
          }
        },
        {
          "output_type": "stream",
          "text": [
            "Silhouette predicted 2 clusters. Please enter elbow results:\n",
            "3\n"
          ],
          "name": "stdout"
        },
        {
          "output_type": "stream",
          "text": [
            "/usr/local/lib/python3.6/dist-packages/sklearn/metrics/_classification.py:1272: UndefinedMetricWarning: Precision is ill-defined and being set to 0.0 in labels with no predicted samples. Use `zero_division` parameter to control this behavior.\n",
            "  _warn_prf(average, modifier, msg_start, len(result))\n"
          ],
          "name": "stderr"
        },
        {
          "output_type": "stream",
          "text": [
            "K value with best performance: 2\n",
            "finding clusters\n"
          ],
          "name": "stdout"
        },
        {
          "output_type": "display_data",
          "data": {
            "image/png": "[encoded data removed]",
            "text/plain": [
              "<Figure size 432x288 with 1 Axes>"
            ]
          },
          "metadata": {
            "tags": []
          }
        },
        {
          "output_type": "stream",
          "text": [
            "Silhouette predicted 2 clusters. Please enter elbow results:\n",
            "3\n"
          ],
          "name": "stdout"
        },
        {
          "output_type": "stream",
          "text": [
            "/usr/local/lib/python3.6/dist-packages/sklearn/metrics/_classification.py:1272: UndefinedMetricWarning: Precision is ill-defined and being set to 0.0 in labels with no predicted samples. Use `zero_division` parameter to control this behavior.\n",
            "  _warn_prf(average, modifier, msg_start, len(result))\n"
          ],
          "name": "stderr"
        },
        {
          "output_type": "stream",
          "text": [
            "K value with best performance: 2\n",
            "finding clusters\n"
          ],
          "name": "stdout"
        },
        {
          "output_type": "display_data",
          "data": {
            "image/png": "[encoded data removed]",
            "text/plain": [
              "<Figure size 432x288 with 1 Axes>"
            ]
          },
          "metadata": {
            "tags": []
          }
        },
        {
          "output_type": "stream",
          "text": [
            "Silhouette predicted 2 clusters. Please enter elbow results:\n",
            "3\n"
          ],
          "name": "stdout"
        },
        {
          "output_type": "stream",
          "text": [
            "/usr/local/lib/python3.6/dist-packages/sklearn/metrics/_classification.py:1272: UndefinedMetricWarning: Precision is ill-defined and being set to 0.0 in labels with no predicted samples. Use `zero_division` parameter to control this behavior.\n",
            "  _warn_prf(average, modifier, msg_start, len(result))\n"
          ],
          "name": "stderr"
        },
        {
          "output_type": "stream",
          "text": [
            "K value with best performance: 2\n",
            "finding clusters\n"
          ],
          "name": "stdout"
        },
        {
          "output_type": "display_data",
          "data": {
            "image/png": "[encoded data removed]",
            "text/plain": [
              "<Figure size 432x288 with 1 Axes>"
            ]
          },
          "metadata": {
            "tags": []
          }
        },
        {
          "output_type": "stream",
          "text": [
            "Silhouette predicted 2 clusters. Please enter elbow results:\n",
            "3\n"
          ],
          "name": "stdout"
        },
        {
          "output_type": "stream",
          "text": [
            "/usr/local/lib/python3.6/dist-packages/sklearn/metrics/_classification.py:1272: UndefinedMetricWarning: Precision is ill-defined and being set to 0.0 in labels with no predicted samples. Use `zero_division` parameter to control this behavior.\n",
            "  _warn_prf(average, modifier, msg_start, len(result))\n"
          ],
          "name": "stderr"
        },
        {
          "output_type": "stream",
          "text": [
            "K value with best performance: 2\n"
          ],
          "name": "stdout"
        }
      ]
    },
    {
      "cell_type": "markdown",
      "metadata": {
        "id": "7oyTj19KERPn",
        "colab_type": "text"
      },
      "source": [
        "EVALUATING RESULTS FROM PROPOSED ALGORITHM"
      ]
    },
    {
      "cell_type": "code",
      "metadata": {
        "id": "HE84T6DrzPj-",
        "colab_type": "code",
        "outputId": "b6127ddc-4c4c-44bd-e765-a8c5dd998df6",
        "colab": {
          "base_uri": "https://localhost:8080/",
          "height": 82
        }
      },
      "source": [
        "print(\"Accuracy:\", np.mean(accuracy_scores), \"+/-\", np.std(accuracy_scores))\n",
        "print(\"Precision:\", np.mean(precision_scores), \"+/-\", np.std(precision_scores))\n",
        "print(\"Recall:\", np.mean(recall_scores), \"+/-\", np.std(recall_scores))\n",
        "print(\"F1-Score:\", np.mean(f1_scores), \"+/-\", np.std(f1_scores))"
      ],
      "execution_count": 25,
      "outputs": [
        {
          "output_type": "stream",
          "text": [
            "Accuracy: 0.9867123287671233 +/- 0.009251393975289323\n",
            "Precision: 0.7088068181818181 +/- 0.2126562727185847\n",
            "Recall: 0.992153846153846 +/- 0.015696077978441796\n",
            "F1-Score: 0.8017381752791888 +/- 0.20120125554640636\n"
          ],
          "name": "stdout"
        }
      ]
    },
    {
      "cell_type": "markdown",
      "metadata": {
        "id": "3H5_N6Q4EM_p",
        "colab_type": "text"
      },
      "source": [
        "APPLYING SMOTE SAMPLING"
      ]
    },
    {
      "cell_type": "code",
      "metadata": {
        "id": "3oej2tSR3pk2",
        "colab_type": "code",
        "colab": {}
      },
      "source": [
        "from imblearn.over_sampling import SMOTE\n",
        "sm = SMOTE(random_state=0)"
      ],
      "execution_count": 0,
      "outputs": []
    },
    {
      "cell_type": "code",
      "metadata": {
        "id": "ZH2HAhNp3rbi",
        "colab_type": "code",
        "outputId": "95602c94-f8bb-46a8-9c1a-ef2e9ed3ac8e",
        "colab": {
          "base_uri": "https://localhost:8080/",
          "height": 66
        }
      },
      "source": [
        "smote_feat, smote_lab = sm.fit_resample(feat_fraud, lab_fraud)\n",
        "print(\"Imbalance:\", np.bincount(smote_lab)[0]/(np.bincount(smote_lab)[1]+( np.bincount(smote_lab)[0])))"
      ],
      "execution_count": 28,
      "outputs": [
        {
          "output_type": "stream",
          "text": [
            "Imbalance: 0.5\n"
          ],
          "name": "stdout"
        },
        {
          "output_type": "stream",
          "text": [
            "/usr/local/lib/python3.6/dist-packages/sklearn/utils/deprecation.py:87: FutureWarning: Function safe_indexing is deprecated; safe_indexing is deprecated in version 0.22 and will be removed in version 0.24.\n",
            "  warnings.warn(msg, category=FutureWarning)\n"
          ],
          "name": "stderr"
        }
      ]
    },
    {
      "cell_type": "markdown",
      "metadata": {
        "id": "2a6mOzy9EJUk",
        "colab_type": "text"
      },
      "source": [
        "EVALUATING RESULTS FROM SMOTE"
      ]
    },
    {
      "cell_type": "code",
      "metadata": {
        "id": "Ls_WrGax3tEh",
        "colab_type": "code",
        "outputId": "385b7a4c-5ad4-4ea8-97dd-e5f4d6ba9aaa",
        "colab": {
          "base_uri": "https://localhost:8080/",
          "height": 82
        }
      },
      "source": [
        "#Evaluate using decision tree\n",
        "smote = Utils.evaluatePerformance(tree_clf, smote_feat, smote_lab)"
      ],
      "execution_count": 29,
      "outputs": [
        {
          "output_type": "stream",
          "text": [
            "Accuracy: 0.9731069663637812 +/- 0.004896048964116521\n",
            "Precision: 0.9669345489589501 +/- 0.006987978081900309\n",
            "Recall: 0.9797745557094876 +/- 0.007579782979086342\n",
            "F1-Score: 0.9732819379105632 +/- 0.0048960693508108685\n"
          ],
          "name": "stdout"
        }
      ]
    },
    {
      "cell_type": "code",
      "metadata": {
        "id": "S4WGtGKH3ugc",
        "colab_type": "code",
        "outputId": "9cb0e1e7-6dbe-470a-ca32-57cdc8846a96",
        "colab": {
          "base_uri": "https://localhost:8080/",
          "height": 82
        }
      },
      "source": [
        "#Evaluate using random forest\n",
        "Utils.evaluatePerformance(rf_clf, smote_feat, smote_lab);"
      ],
      "execution_count": 30,
      "outputs": [
        {
          "output_type": "stream",
          "text": [
            "Accuracy: 0.9234808164020919 +/- 0.010074687596964171\n",
            "Precision: 0.9883141006644991 +/- 0.0037021667814150874\n",
            "Recall: 0.8571390691995576 +/- 0.021583576311697453\n",
            "F1-Score: 0.9178938126450564 +/- 0.012094169727335874\n"
          ],
          "name": "stdout"
        }
      ]
    },
    {
      "cell_type": "code",
      "metadata": {
        "id": "xvjlDmCz-6ok",
        "colab_type": "code",
        "outputId": "b72f4fe9-9d92-4199-b8cc-0927ee3209a6",
        "colab": {
          "base_uri": "https://localhost:8080/",
          "height": 338
        }
      },
      "source": [
        "Utils.boxplots(\"Fraud dataset\", base, oversampled, downsampled, f1_scores, smote)"
      ],
      "execution_count": 31,
      "outputs": [
        {
          "output_type": "display_data",
          "data": {
            "image/png": "[encoded data removed]",
            "text/plain": [
              "<Figure size 432x288 with 1 Axes>"
            ]
          },
          "metadata": {
            "tags": []
          }
        }
      ]
    },
    {
      "cell_type": "code",
      "metadata": {
        "id": "XuKSGBIk3BzT",
        "colab_type": "code",
        "colab": {}
      },
      "source": [
        ""
      ],
      "execution_count": 0,
      "outputs": []
    }
  ]
}