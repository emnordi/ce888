{
  "nbformat": 4,
  "nbformat_minor": 0,
  "metadata": {
    "colab": {
      "name": "Copy of Project2.ipynb",
      "provenance": [],
      "collapsed_sections": [],
      "authorship_tag": "ABX9TyO2WZfLI+ZJII3sGTzhBzTI",
      "include_colab_link": true
    },
    "kernelspec": {
      "name": "python3",
      "display_name": "Python 3"
    }
  },
  "cells": [
    {
      "cell_type": "markdown",
      "metadata": {
        "id": "view-in-github",
        "colab_type": "text"
      },
      "source": [
        "<a href=\"https://colab.research.google.com/github/emnordi/ce888/blob/master/Project2/Project2_Risk.ipynb\" target=\"_parent\"><img src=\"https://colab.research.google.com/assets/colab-badge.svg\" alt=\"Open In Colab\"/></a>"
      ]
    },
    {
      "cell_type": "code",
      "metadata": {
        "id": "BpVmhVOwDruJ",
        "colab_type": "code",
        "colab": {}
      },
      "source": [
        "import pandas as pd\n",
        "import os\n",
        "import io\n",
        "import numpy as np\n",
        "from sklearn.model_selection import StratifiedKFold\n",
        "from sklearn import tree\n",
        "from sklearn.ensemble import RandomForestClassifier\n",
        "from sklearn.model_selection import cross_val_score\n",
        "\n",
        "os.environ['KAGGLE_USERNAME'] = \"emilnordin\" # username from the json file\n",
        "\n",
        "os.environ['KAGGLE_KEY'] = \"fd1ae7405c909d36a1ecffea5cd2749a\" # key from the json file"
      ],
      "execution_count": 0,
      "outputs": []
    },
    {
      "cell_type": "markdown",
      "metadata": {
        "id": "4cTRsaNTmyGq",
        "colab_type": "text"
      },
      "source": [
        "DOWNLOADING AND IMPORTING DATASETS"
      ]
    },
    {
      "cell_type": "code",
      "metadata": {
        "id": "FdNjI4voWCI0",
        "colab_type": "code",
        "outputId": "27052caa-87bf-4fcd-9fe3-4bbad07b22de",
        "colab": {
          "base_uri": "https://localhost:8080/",
          "height": 66
        }
      },
      "source": [
        "!kaggle datasets download -d emoneyanalytics/unbalancedrisk"
      ],
      "execution_count": 2,
      "outputs": [
        {
          "output_type": "stream",
          "text": [
            "Downloading unbalancedrisk.zip to /content\n",
            "\r  0% 0.00/115k [00:00<?, ?B/s]\n",
            "\r100% 115k/115k [00:00<00:00, 44.5MB/s]\n"
          ],
          "name": "stdout"
        }
      ]
    },
    {
      "cell_type": "code",
      "metadata": {
        "id": "caP8rhXtJzoO",
        "colab_type": "code",
        "colab": {}
      },
      "source": [
        "data_risk = pd.read_csv('unbalancedrisk.zip', compression='zip', header=0, sep=',', quotechar='\"', encoding = \"utf-8\")"
      ],
      "execution_count": 0,
      "outputs": []
    },
    {
      "cell_type": "markdown",
      "metadata": {
        "id": "MBIshC7TnAB7",
        "colab_type": "text"
      },
      "source": [
        "PRINTING DATASETS"
      ]
    },
    {
      "cell_type": "code",
      "metadata": {
        "id": "lemEmSueVAZq",
        "colab_type": "code",
        "outputId": "4cbd2a7a-97e8-44d4-eb18-dac919e9c7d1",
        "colab": {
          "base_uri": "https://localhost:8080/",
          "height": 245
        }
      },
      "source": [
        "print(data_risk)"
      ],
      "execution_count": 4,
      "outputs": [
        {
          "output_type": "stream",
          "text": [
            "        id  f1        f2  f3   f4  ...   f31         f32    f33      f34  obj1\n",
            "0        1   1   17.2131   1  1.0  ...  13.0   32.766370    NaN      NaN     0\n",
            "1        2  35    0.1747   1  1.0  ...  23.0  210.567669    NaN      NaN     0\n",
            "2        3   1   35.3943   1  NaN  ...  16.0    0.000111    NaN      NaN     1\n",
            "3        4   1    4.4873   1  1.0  ...   7.0    9.380889    NaN      NaN     0\n",
            "4        5   1       NaN   1  NaN  ...  20.0   28.089135    NaN      NaN     0\n",
            "...    ...  ..       ...  ..  ...  ...   ...         ...    ...      ...   ...\n",
            "4523  4524  29    5.7576   1  1.0  ...  32.0  236.170700    NaN  63.0541     0\n",
            "4524  4525   2  107.7430   1  1.0  ...  27.0    2.799800    NaN      NaN     1\n",
            "4525  4526   1    1.9364   1  1.0  ...   NaN  205.806400    NaN  15.9357     1\n",
            "4526  4527   1    7.6795   1  3.0  ...  10.0    1.658700  533.0      NaN     0\n",
            "4527  4528   1   80.0871   1  1.0  ...   NaN    2.980200    NaN      NaN     1\n",
            "\n",
            "[4528 rows x 36 columns]\n"
          ],
          "name": "stdout"
        }
      ]
    },
    {
      "cell_type": "markdown",
      "metadata": {
        "id": "5e2pRZQYv665",
        "colab_type": "text"
      },
      "source": [
        "DISPLAY AMOUNT OF ROWS EACH CLASS HAS, AND IMBALANCE OF DATASETS"
      ]
    },
    {
      "cell_type": "code",
      "metadata": {
        "id": "1P3E33JcWflE",
        "colab_type": "code",
        "outputId": "a89d9582-05c0-4bb1-f8a9-413b046abc36",
        "colab": {
          "base_uri": "https://localhost:8080/",
          "height": 82
        }
      },
      "source": [
        "print(data_risk['obj1'].value_counts())\n",
        "print(\"Imbalance:\", data_risk['obj1'].value_counts()[0]/sum(data_risk.obj1.value_counts()))"
      ],
      "execution_count": 5,
      "outputs": [
        {
          "output_type": "stream",
          "text": [
            "0    3694\n",
            "1     834\n",
            "Name: obj1, dtype: int64\n",
            "Imbalance: 0.8158127208480566\n"
          ],
          "name": "stdout"
        }
      ]
    },
    {
      "cell_type": "markdown",
      "metadata": {
        "id": "tI0BQSh10bA4",
        "colab_type": "text"
      },
      "source": [
        "BASE RESULTS"
      ]
    },
    {
      "cell_type": "code",
      "metadata": {
        "id": "sd4A-Z4N0kQO",
        "colab_type": "code",
        "colab": {}
      },
      "source": [
        "tree_clf = tree.DecisionTreeClassifier(random_state=0)\n",
        "rf_clf = RandomForestClassifier(max_depth=2, random_state=0)"
      ],
      "execution_count": 0,
      "outputs": []
    },
    {
      "cell_type": "code",
      "metadata": {
        "id": "RFkpdu_r3mqP",
        "colab_type": "code",
        "colab": {}
      },
      "source": [
        "def evaluatePerformance(clf, features, labels):\n",
        "  a = cross_val_score(tree_clf, features, labels, cv=10, scoring='accuracy')\n",
        "  p = cross_val_score(tree_clf, features, labels, cv=10, scoring='precision')\n",
        "  r = cross_val_score(tree_clf, features, labels, cv=10, scoring='recall')\n",
        "  f = cross_val_score(tree_clf, features, labels, cv=10, scoring='f1')\n",
        "\n",
        "  print(\"Accuracy:\", a.mean(), \"+/-\", a.std())\n",
        "  print(\"Precision:\", p.mean(), \"+/-\", p.std())\n",
        "  print(\"Recall:\", r.mean(), \"+/-\", r.std())\n",
        "  print(\"F1-Score:\", f.mean(), \"+/-\", f.std())"
      ],
      "execution_count": 0,
      "outputs": []
    },
    {
      "cell_type": "code",
      "metadata": {
        "id": "FUlPK7xVjSEb",
        "colab_type": "code",
        "outputId": "e1b9ed10-fa19-49e9-8a8a-f827644c2ef1",
        "colab": {
          "base_uri": "https://localhost:8080/",
          "height": 82
        }
      },
      "source": [
        "#Risk dataset base scores DT\n",
        "feat_risk = data_risk.drop('obj1', axis=1)\n",
        "for col in feat_risk.columns:\n",
        "  if feat_risk[col].isnull().any():\n",
        "    feat_risk[col] = feat_risk[col].fillna(feat_risk[col].median())\n",
        "feat_risk = np.array(feat_risk)\n",
        "lab_risk = np.array(data_risk['obj1'])\n",
        "evaluatePerformance(tree_clf, feat_risk, lab_risk)"
      ],
      "execution_count": 8,
      "outputs": [
        {
          "output_type": "stream",
          "text": [
            "Accuracy: 0.5392003164742425 +/- 0.18049456780350026\n",
            "Precision: 0.16305450371332567 +/- 0.04869932183168757\n",
            "Recall: 0.32172977624784854 +/- 0.2300489757520311\n",
            "F1-Score: 0.1982397011891827 +/- 0.05041986856758319\n"
          ],
          "name": "stdout"
        }
      ]
    },
    {
      "cell_type": "code",
      "metadata": {
        "id": "jc7Qfkn2kMaB",
        "colab_type": "code",
        "outputId": "f7f0426f-a842-422b-cb2b-e3a4a5299a75",
        "colab": {
          "base_uri": "https://localhost:8080/",
          "height": 82
        }
      },
      "source": [
        "#Risk dataset base scores RF\n",
        "evaluatePerformance(rf_clf, feat_risk, lab_risk)"
      ],
      "execution_count": 9,
      "outputs": [
        {
          "output_type": "stream",
          "text": [
            "Accuracy: 0.5392003164742425 +/- 0.18049456780350026\n",
            "Precision: 0.16305450371332567 +/- 0.04869932183168757\n",
            "Recall: 0.32172977624784854 +/- 0.2300489757520311\n",
            "F1-Score: 0.1982397011891827 +/- 0.05041986856758319\n"
          ],
          "name": "stdout"
        }
      ]
    },
    {
      "cell_type": "markdown",
      "metadata": {
        "id": "S-l8E2o2oy7X",
        "colab_type": "text"
      },
      "source": [
        "DOWNSAMPLING THE DATASETS AND RETRIEVING NEW PERFORMANCE RESULTS"
      ]
    },
    {
      "cell_type": "code",
      "metadata": {
        "id": "Bi1CJ8UqtocS",
        "colab_type": "code",
        "outputId": "f031d8d2-5eac-4165-8af9-b1d6a74ca695",
        "colab": {
          "base_uri": "https://localhost:8080/",
          "height": 82
        }
      },
      "source": [
        "#Downsample RISK DATASET to get 50%\n",
        "data_risk_ind_ = data_risk[data_risk['obj1'] == 0].index\n",
        "r_to_del = data_risk_ind_[0:int(len(data_risk_ind_)*0.774)]\n",
        "data_risk_test = data_risk.drop(index=r_to_del)\n",
        "\n",
        "print(data_risk_test['obj1'].value_counts())\n",
        "print(\"Imbalance:\", data_risk_test['obj1'].value_counts()[0]/(data_risk_test['obj1'].value_counts()[1]+(data_risk_test['obj1'].value_counts()[0])))"
      ],
      "execution_count": 10,
      "outputs": [
        {
          "output_type": "stream",
          "text": [
            "0    835\n",
            "1    834\n",
            "Name: obj1, dtype: int64\n",
            "Imbalance: 0.5002995805871779\n"
          ],
          "name": "stdout"
        }
      ]
    },
    {
      "cell_type": "code",
      "metadata": {
        "id": "QZRIpRayvdo_",
        "colab_type": "code",
        "outputId": "55625f64-20a2-47fe-9195-4396af1ba698",
        "colab": {
          "base_uri": "https://localhost:8080/",
          "height": 115
        }
      },
      "source": [
        "#Risk dataset downsampled scores DT\n",
        "feat_risk_test = data_risk_test.drop('obj1', axis=1)\n",
        "for col in feat_risk_test.columns:\n",
        "  if feat_risk_test[col].isnull().any():\n",
        "    feat_risk_test[col] = feat_risk_test[col].fillna(feat_risk_test[col].median())\n",
        "\n",
        "lab_risk_test = data_risk_test['obj1']\n",
        "evaluatePerformance(tree_clf, feat_risk_test, lab_risk_test)"
      ],
      "execution_count": 11,
      "outputs": [
        {
          "output_type": "stream",
          "text": [
            "/usr/local/lib/python3.6/dist-packages/sklearn/metrics/_classification.py:1272: UndefinedMetricWarning: Precision is ill-defined and being set to 0.0 due to no predicted samples. Use `zero_division` parameter to control this behavior.\n",
            "  _warn_prf(average, modifier, msg_start, len(result))\n"
          ],
          "name": "stderr"
        },
        {
          "output_type": "stream",
          "text": [
            "Accuracy: 0.6110778443113772 +/- 0.25920069686437014\n",
            "Precision: 0.4910334294672273 +/- 0.3035462663641486\n",
            "Recall: 0.7060240963855422 +/- 0.4493249077177913\n",
            "F1-Score: 0.5732171901186317 +/- 0.36217572746245136\n"
          ],
          "name": "stdout"
        }
      ]
    },
    {
      "cell_type": "code",
      "metadata": {
        "id": "O7XEwhRqwd-x",
        "colab_type": "code",
        "outputId": "8e17b278-88d1-493d-d9c4-b3ac61c8af6f",
        "colab": {
          "base_uri": "https://localhost:8080/",
          "height": 115
        }
      },
      "source": [
        "#Risk dataset downsample scores RF\n",
        "evaluatePerformance(rf_clf, feat_risk_test, lab_risk_test)"
      ],
      "execution_count": 12,
      "outputs": [
        {
          "output_type": "stream",
          "text": [
            "/usr/local/lib/python3.6/dist-packages/sklearn/metrics/_classification.py:1272: UndefinedMetricWarning: Precision is ill-defined and being set to 0.0 due to no predicted samples. Use `zero_division` parameter to control this behavior.\n",
            "  _warn_prf(average, modifier, msg_start, len(result))\n"
          ],
          "name": "stderr"
        },
        {
          "output_type": "stream",
          "text": [
            "Accuracy: 0.6110778443113772 +/- 0.25920069686437014\n",
            "Precision: 0.4910334294672273 +/- 0.3035462663641486\n",
            "Recall: 0.7060240963855422 +/- 0.4493249077177913\n",
            "F1-Score: 0.5732171901186317 +/- 0.36217572746245136\n"
          ],
          "name": "stdout"
        }
      ]
    },
    {
      "cell_type": "markdown",
      "metadata": {
        "id": "rzwIpIXSzLOn",
        "colab_type": "text"
      },
      "source": [
        "OVERSAMPLING AND TEST RESULTS"
      ]
    },
    {
      "cell_type": "code",
      "metadata": {
        "id": "015qN7vg1pEx",
        "colab_type": "code",
        "outputId": "9fcc1a96-b860-4000-9b66-f0797586b574",
        "colab": {
          "base_uri": "https://localhost:8080/",
          "height": 82
        }
      },
      "source": [
        "#OVERSAMPLING RISK DATASET\n",
        "max_ = data_risk['obj1'].value_counts().max()\n",
        "\n",
        "temp = [data_risk]\n",
        "for class_index, group in data_risk.groupby('obj1'):\n",
        "    temp.append(group.sample(max_-len(group), replace=True))\n",
        "data_risk_over = pd.concat(temp)\n",
        "\n",
        "print(data_risk_over['obj1'].value_counts())\n",
        "print(\"Imbalance:\", data_risk_over['obj1'].value_counts()[0]/(data_risk_over['obj1'].value_counts()[1]+(data_risk_over['obj1'].value_counts()[0])))"
      ],
      "execution_count": 13,
      "outputs": [
        {
          "output_type": "stream",
          "text": [
            "1    3694\n",
            "0    3694\n",
            "Name: obj1, dtype: int64\n",
            "Imbalance: 0.5\n"
          ],
          "name": "stdout"
        }
      ]
    },
    {
      "cell_type": "code",
      "metadata": {
        "id": "wpwTZfoe34EZ",
        "colab_type": "code",
        "outputId": "6b6abab2-15e1-4ce2-e7af-c1aa8f600372",
        "colab": {
          "base_uri": "https://localhost:8080/",
          "height": 82
        }
      },
      "source": [
        "#Risk dataset oversampled scores DT\n",
        "feat_risk_over = data_risk_over.drop('obj1', axis=1)\n",
        "for col in feat_risk_over.columns:\n",
        "  if feat_risk_over[col].isnull().any():\n",
        "    feat_risk_over[col] = feat_risk_over[col].fillna(feat_risk_over[col].median())\n",
        "\n",
        "lab_risk_over = data_risk_over['obj1']\n",
        "\n",
        "evaluatePerformance(tree_clf, feat_risk_over, lab_risk_over)"
      ],
      "execution_count": 14,
      "outputs": [
        {
          "output_type": "stream",
          "text": [
            "Accuracy: 0.5585937929744655 +/- 0.08275054173287662\n",
            "Precision: 0.5358345917518529 +/- 0.05255319495884621\n",
            "Recall: 0.994579945799458 +/- 0.009309248800714192\n",
            "F1-Score: 0.6950383775575282 +/- 0.04330107502361588\n"
          ],
          "name": "stdout"
        }
      ]
    },
    {
      "cell_type": "code",
      "metadata": {
        "id": "_59zBOnt4JBz",
        "colab_type": "code",
        "outputId": "34aa3c9c-abf2-4d61-f66c-dc68312f2768",
        "colab": {
          "base_uri": "https://localhost:8080/",
          "height": 82
        }
      },
      "source": [
        "#RISK DATASET oversampling scores RF\n",
        "evaluatePerformance(rf_clf, feat_risk_over, lab_risk_over)"
      ],
      "execution_count": 15,
      "outputs": [
        {
          "output_type": "stream",
          "text": [
            "Accuracy: 0.5585937929744655 +/- 0.08275054173287662\n",
            "Precision: 0.5358345917518529 +/- 0.05255319495884621\n",
            "Recall: 0.994579945799458 +/- 0.009309248800714192\n",
            "F1-Score: 0.6950383775575282 +/- 0.04330107502361588\n"
          ],
          "name": "stdout"
        }
      ]
    },
    {
      "cell_type": "markdown",
      "metadata": {
        "id": "SP7gJda2wDDY",
        "colab_type": "text"
      },
      "source": [
        "CREATE 10 FOLDS OF EACH CLASS"
      ]
    },
    {
      "cell_type": "code",
      "metadata": {
        "id": "DzOkILkOET9c",
        "colab_type": "code",
        "colab": {}
      },
      "source": [
        "from sklearn.cluster import KMeans\n",
        "import matplotlib.pyplot as plt\n",
        "from sklearn.metrics import silhouette_score, accuracy_score, precision_score, recall_score, f1_score\n",
        "import utils\n",
        "from sklearn.metrics.cluster import adjusted_rand_score "
      ],
      "execution_count": 0,
      "outputs": []
    },
    {
      "cell_type": "code",
      "metadata": {
        "id": "ALAM6P8Nqe1x",
        "colab_type": "code",
        "outputId": "bd7862ac-ff78-4592-bf28-d7701c1a4d95",
        "colab": {
          "base_uri": "https://localhost:8080/",
          "height": 33
        }
      },
      "source": [
        "#RISK DATASET\n",
        "skf = StratifiedKFold(n_splits=10)\n",
        "print(skf)"
      ],
      "execution_count": 17,
      "outputs": [
        {
          "output_type": "stream",
          "text": [
            "StratifiedKFold(n_splits=10, random_state=None, shuffle=False)\n"
          ],
          "name": "stdout"
        }
      ]
    },
    {
      "cell_type": "code",
      "metadata": {
        "id": "XrGi0IEIgDDp",
        "colab_type": "code",
        "outputId": "74d88940-b372-4192-e9fe-87e8bc7158ca",
        "colab": {
          "base_uri": "https://localhost:8080/",
          "height": 1000
        }
      },
      "source": [
        "random_forest_clf = RandomForestClassifier(max_depth=2, random_state=0)\n",
        "accuracy_scores = []\n",
        "precision_scores = []\n",
        "recall_scores = []\n",
        "f1_scores = []\n",
        "ajd_rand = []\n",
        "\n",
        "for train, test in skf.split(feat_risk, lab_risk):\n",
        "  test_labels = []\n",
        "\n",
        "  #Retrieve the predicted amount of clusters and the best performing KMeans model\n",
        "  n_clusters, final_model = utils.Utils.cluster_and_model(feat_risk[train], lab_risk[train])\n",
        "\n",
        "  #Retrieve the clusters containing missclassified data and the indices of these clusters in the training data\n",
        "  missclassified_cluster_data_index, missclassified_clusters = utils.Utils.find_missclassified_clusters(n_clusters, lab_risk[train], final_model.labels_)\n",
        "  rf_classifiers = [0]*n_clusters\n",
        "  #Go through the clusters with missclassified data and train a random forest classifier for each\n",
        "  for i in missclassified_clusters:\n",
        "    f = feat_risk[train]\n",
        "    f1 = f[missclassified_cluster_data_index[i], :]\n",
        "    l  = lab_risk[train]\n",
        "    l1 = np.take(l, missclassified_cluster_data_index[i])\n",
        "    rf_classifiers[i] = random_forest_clf.fit(f1, l1)\n",
        "  \n",
        "  #For each point in test dataset, give it a cluster\n",
        "  for x in feat_risk[test]:\n",
        "    prediction = final_model.predict(np.array([x]))\n",
        "    if prediction[0] in missclassified_clusters:\n",
        "      test_labels.append(rf_classifiers[prediction[0]].predict(np.array([x])))\n",
        "    else:\n",
        "      test_labels.append(prediction)\n",
        "  accuracy_scores.append(accuracy_score(test_labels, lab_risk[test]))\n",
        "  precision_scores.append(precision_score(test_labels, lab_risk[test]))\n",
        "  recall_scores.append(recall_score(test_labels, lab_risk[test]))\n",
        "  f1_scores.append(f1_score(test_labels, lab_risk[test]))\n",
        "  ajd_rand.append(adjusted_rand_score(np.array(test_labels).flatten(), lab_risk[test]))"
      ],
      "execution_count": 18,
      "outputs": [
        {
          "output_type": "stream",
          "text": [
            "finding clusters\n"
          ],
          "name": "stdout"
        },
        {
          "output_type": "display_data",
          "data": {
            "image/png": "[encoded data removed]",
            "text/plain": [
              "<Figure size 432x288 with 1 Axes>"
            ]
          },
          "metadata": {
            "tags": []
          }
        },
        {
          "output_type": "stream",
          "text": [
            "Silhouette predicted 4 clusters. Please enter elbow results:\n",
            "4\n"
          ],
          "name": "stdout"
        },
        {
          "output_type": "stream",
          "text": [
            "/usr/local/lib/python3.6/dist-packages/sklearn/metrics/_classification.py:1272: UndefinedMetricWarning: Precision is ill-defined and being set to 0.0 in labels with no predicted samples. Use `zero_division` parameter to control this behavior.\n",
            "  _warn_prf(average, modifier, msg_start, len(result))\n"
          ],
          "name": "stderr"
        },
        {
          "output_type": "stream",
          "text": [
            "K value with best performance: 4\n"
          ],
          "name": "stdout"
        },
        {
          "output_type": "stream",
          "text": [
            "/usr/local/lib/python3.6/dist-packages/sklearn/metrics/_classification.py:1272: UndefinedMetricWarning: Recall is ill-defined and being set to 0.0 due to no true samples. Use `zero_division` parameter to control this behavior.\n",
            "  _warn_prf(average, modifier, msg_start, len(result))\n"
          ],
          "name": "stderr"
        },
        {
          "output_type": "stream",
          "text": [
            "finding clusters\n"
          ],
          "name": "stdout"
        },
        {
          "output_type": "display_data",
          "data": {
            "image/png": "[encoded data removed]",
            "text/plain": [
              "<Figure size 432x288 with 1 Axes>"
            ]
          },
          "metadata": {
            "tags": []
          }
        },
        {
          "output_type": "stream",
          "text": [
            "Silhouette predicted 4 clusters. Please enter elbow results:\n",
            "4\n"
          ],
          "name": "stdout"
        },
        {
          "output_type": "stream",
          "text": [
            "/usr/local/lib/python3.6/dist-packages/sklearn/metrics/_classification.py:1272: UndefinedMetricWarning: Precision is ill-defined and being set to 0.0 in labels with no predicted samples. Use `zero_division` parameter to control this behavior.\n",
            "  _warn_prf(average, modifier, msg_start, len(result))\n"
          ],
          "name": "stderr"
        },
        {
          "output_type": "stream",
          "text": [
            "K value with best performance: 4\n"
          ],
          "name": "stdout"
        },
        {
          "output_type": "stream",
          "text": [
            "/usr/local/lib/python3.6/dist-packages/sklearn/metrics/_classification.py:1272: UndefinedMetricWarning: Recall is ill-defined and being set to 0.0 due to no true samples. Use `zero_division` parameter to control this behavior.\n",
            "  _warn_prf(average, modifier, msg_start, len(result))\n"
          ],
          "name": "stderr"
        },
        {
          "output_type": "stream",
          "text": [
            "finding clusters\n"
          ],
          "name": "stdout"
        },
        {
          "output_type": "display_data",
          "data": {
            "image/png": "[encoded data removed]",
            "text/plain": [
              "<Figure size 432x288 with 1 Axes>"
            ]
          },
          "metadata": {
            "tags": []
          }
        },
        {
          "output_type": "stream",
          "text": [
            "Silhouette predicted 5 clusters. Please enter elbow results:\n",
            "4\n"
          ],
          "name": "stdout"
        },
        {
          "output_type": "stream",
          "text": [
            "/usr/local/lib/python3.6/dist-packages/sklearn/metrics/_classification.py:1272: UndefinedMetricWarning: Precision is ill-defined and being set to 0.0 in labels with no predicted samples. Use `zero_division` parameter to control this behavior.\n",
            "  _warn_prf(average, modifier, msg_start, len(result))\n",
            "/usr/local/lib/python3.6/dist-packages/sklearn/metrics/_classification.py:1272: UndefinedMetricWarning: Precision is ill-defined and being set to 0.0 in labels with no predicted samples. Use `zero_division` parameter to control this behavior.\n",
            "  _warn_prf(average, modifier, msg_start, len(result))\n"
          ],
          "name": "stderr"
        },
        {
          "output_type": "stream",
          "text": [
            "K value with best performance: 5\n"
          ],
          "name": "stdout"
        },
        {
          "output_type": "stream",
          "text": [
            "/usr/local/lib/python3.6/dist-packages/sklearn/metrics/_classification.py:1272: UndefinedMetricWarning: Recall is ill-defined and being set to 0.0 due to no true samples. Use `zero_division` parameter to control this behavior.\n",
            "  _warn_prf(average, modifier, msg_start, len(result))\n"
          ],
          "name": "stderr"
        },
        {
          "output_type": "stream",
          "text": [
            "finding clusters\n"
          ],
          "name": "stdout"
        },
        {
          "output_type": "display_data",
          "data": {
            "image/png": "[encoded data removed]",
            "text/plain": [
              "<Figure size 432x288 with 1 Axes>"
            ]
          },
          "metadata": {
            "tags": []
          }
        },
        {
          "output_type": "stream",
          "text": [
            "Silhouette predicted 2 clusters. Please enter elbow results:\n",
            "2\n",
            "K value with best performance: 2\n"
          ],
          "name": "stdout"
        },
        {
          "output_type": "stream",
          "text": [
            "/usr/local/lib/python3.6/dist-packages/sklearn/metrics/_classification.py:1272: UndefinedMetricWarning: Recall is ill-defined and being set to 0.0 due to no true samples. Use `zero_division` parameter to control this behavior.\n",
            "  _warn_prf(average, modifier, msg_start, len(result))\n"
          ],
          "name": "stderr"
        },
        {
          "output_type": "stream",
          "text": [
            "finding clusters\n"
          ],
          "name": "stdout"
        },
        {
          "output_type": "display_data",
          "data": {
            "image/png": "[encoded data removed]",
            "text/plain": [
              "<Figure size 432x288 with 1 Axes>"
            ]
          },
          "metadata": {
            "tags": []
          }
        },
        {
          "output_type": "stream",
          "text": [
            "Silhouette predicted 4 clusters. Please enter elbow results:\n",
            "4\n"
          ],
          "name": "stdout"
        },
        {
          "output_type": "stream",
          "text": [
            "/usr/local/lib/python3.6/dist-packages/sklearn/metrics/_classification.py:1272: UndefinedMetricWarning: Precision is ill-defined and being set to 0.0 in labels with no predicted samples. Use `zero_division` parameter to control this behavior.\n",
            "  _warn_prf(average, modifier, msg_start, len(result))\n"
          ],
          "name": "stderr"
        },
        {
          "output_type": "stream",
          "text": [
            "K value with best performance: 4\n",
            "finding clusters\n"
          ],
          "name": "stdout"
        },
        {
          "output_type": "display_data",
          "data": {
            "image/png": "[encoded data removed]",
            "text/plain": [
              "<Figure size 432x288 with 1 Axes>"
            ]
          },
          "metadata": {
            "tags": []
          }
        },
        {
          "output_type": "stream",
          "text": [
            "Silhouette predicted 4 clusters. Please enter elbow results:\n",
            "4\n"
          ],
          "name": "stdout"
        },
        {
          "output_type": "stream",
          "text": [
            "/usr/local/lib/python3.6/dist-packages/sklearn/metrics/_classification.py:1272: UndefinedMetricWarning: Precision is ill-defined and being set to 0.0 in labels with no predicted samples. Use `zero_division` parameter to control this behavior.\n",
            "  _warn_prf(average, modifier, msg_start, len(result))\n"
          ],
          "name": "stderr"
        },
        {
          "output_type": "stream",
          "text": [
            "K value with best performance: 4\n"
          ],
          "name": "stdout"
        },
        {
          "output_type": "stream",
          "text": [
            "/usr/local/lib/python3.6/dist-packages/sklearn/metrics/_classification.py:1272: UndefinedMetricWarning: Recall is ill-defined and being set to 0.0 due to no true samples. Use `zero_division` parameter to control this behavior.\n",
            "  _warn_prf(average, modifier, msg_start, len(result))\n"
          ],
          "name": "stderr"
        },
        {
          "output_type": "stream",
          "text": [
            "finding clusters\n"
          ],
          "name": "stdout"
        },
        {
          "output_type": "display_data",
          "data": {
            "image/png": "[encoded data removed]",
            "text/plain": [
              "<Figure size 432x288 with 1 Axes>"
            ]
          },
          "metadata": {
            "tags": []
          }
        },
        {
          "output_type": "stream",
          "text": [
            "Silhouette predicted 3 clusters. Please enter elbow results:\n",
            "3\n"
          ],
          "name": "stdout"
        },
        {
          "output_type": "stream",
          "text": [
            "/usr/local/lib/python3.6/dist-packages/sklearn/metrics/_classification.py:1272: UndefinedMetricWarning: Precision is ill-defined and being set to 0.0 in labels with no predicted samples. Use `zero_division` parameter to control this behavior.\n",
            "  _warn_prf(average, modifier, msg_start, len(result))\n"
          ],
          "name": "stderr"
        },
        {
          "output_type": "stream",
          "text": [
            "K value with best performance: 3\n"
          ],
          "name": "stdout"
        },
        {
          "output_type": "stream",
          "text": [
            "/usr/local/lib/python3.6/dist-packages/sklearn/metrics/_classification.py:1272: UndefinedMetricWarning: Recall is ill-defined and being set to 0.0 due to no true samples. Use `zero_division` parameter to control this behavior.\n",
            "  _warn_prf(average, modifier, msg_start, len(result))\n"
          ],
          "name": "stderr"
        },
        {
          "output_type": "stream",
          "text": [
            "finding clusters\n"
          ],
          "name": "stdout"
        },
        {
          "output_type": "display_data",
          "data": {
            "image/png": "[encoded data removed]",
            "text/plain": [
              "<Figure size 432x288 with 1 Axes>"
            ]
          },
          "metadata": {
            "tags": []
          }
        },
        {
          "output_type": "stream",
          "text": [
            "Silhouette predicted 5 clusters. Please enter elbow results:\n",
            "3\n"
          ],
          "name": "stdout"
        },
        {
          "output_type": "stream",
          "text": [
            "/usr/local/lib/python3.6/dist-packages/sklearn/metrics/_classification.py:1272: UndefinedMetricWarning: Precision is ill-defined and being set to 0.0 in labels with no predicted samples. Use `zero_division` parameter to control this behavior.\n",
            "  _warn_prf(average, modifier, msg_start, len(result))\n",
            "/usr/local/lib/python3.6/dist-packages/sklearn/metrics/_classification.py:1272: UndefinedMetricWarning: Precision is ill-defined and being set to 0.0 in labels with no predicted samples. Use `zero_division` parameter to control this behavior.\n",
            "  _warn_prf(average, modifier, msg_start, len(result))\n",
            "/usr/local/lib/python3.6/dist-packages/sklearn/metrics/_classification.py:1272: UndefinedMetricWarning: Precision is ill-defined and being set to 0.0 in labels with no predicted samples. Use `zero_division` parameter to control this behavior.\n",
            "  _warn_prf(average, modifier, msg_start, len(result))\n"
          ],
          "name": "stderr"
        },
        {
          "output_type": "stream",
          "text": [
            "K value with best performance: 3\n"
          ],
          "name": "stdout"
        },
        {
          "output_type": "stream",
          "text": [
            "/usr/local/lib/python3.6/dist-packages/sklearn/metrics/_classification.py:1272: UndefinedMetricWarning: Recall is ill-defined and being set to 0.0 due to no true samples. Use `zero_division` parameter to control this behavior.\n",
            "  _warn_prf(average, modifier, msg_start, len(result))\n"
          ],
          "name": "stderr"
        },
        {
          "output_type": "stream",
          "text": [
            "finding clusters\n"
          ],
          "name": "stdout"
        },
        {
          "output_type": "display_data",
          "data": {
            "image/png": "[encoded data removed]",
            "text/plain": [
              "<Figure size 432x288 with 1 Axes>"
            ]
          },
          "metadata": {
            "tags": []
          }
        },
        {
          "output_type": "stream",
          "text": [
            "Silhouette predicted 3 clusters. Please enter elbow results:\n",
            "3\n"
          ],
          "name": "stdout"
        },
        {
          "output_type": "stream",
          "text": [
            "/usr/local/lib/python3.6/dist-packages/sklearn/metrics/_classification.py:1272: UndefinedMetricWarning: Precision is ill-defined and being set to 0.0 in labels with no predicted samples. Use `zero_division` parameter to control this behavior.\n",
            "  _warn_prf(average, modifier, msg_start, len(result))\n"
          ],
          "name": "stderr"
        },
        {
          "output_type": "stream",
          "text": [
            "K value with best performance: 3\n"
          ],
          "name": "stdout"
        },
        {
          "output_type": "stream",
          "text": [
            "/usr/local/lib/python3.6/dist-packages/sklearn/metrics/_classification.py:1272: UndefinedMetricWarning: Recall is ill-defined and being set to 0.0 due to no true samples. Use `zero_division` parameter to control this behavior.\n",
            "  _warn_prf(average, modifier, msg_start, len(result))\n"
          ],
          "name": "stderr"
        },
        {
          "output_type": "stream",
          "text": [
            "finding clusters\n"
          ],
          "name": "stdout"
        },
        {
          "output_type": "display_data",
          "data": {
            "image/png": "[encoded data removed]",
            "text/plain": [
              "<Figure size 432x288 with 1 Axes>"
            ]
          },
          "metadata": {
            "tags": []
          }
        },
        {
          "output_type": "stream",
          "text": [
            "Silhouette predicted 4 clusters. Please enter elbow results:\n",
            "3\n"
          ],
          "name": "stdout"
        },
        {
          "output_type": "stream",
          "text": [
            "/usr/local/lib/python3.6/dist-packages/sklearn/metrics/_classification.py:1272: UndefinedMetricWarning: Precision is ill-defined and being set to 0.0 in labels with no predicted samples. Use `zero_division` parameter to control this behavior.\n",
            "  _warn_prf(average, modifier, msg_start, len(result))\n",
            "/usr/local/lib/python3.6/dist-packages/sklearn/metrics/_classification.py:1272: UndefinedMetricWarning: Precision is ill-defined and being set to 0.0 in labels with no predicted samples. Use `zero_division` parameter to control this behavior.\n",
            "  _warn_prf(average, modifier, msg_start, len(result))\n"
          ],
          "name": "stderr"
        },
        {
          "output_type": "stream",
          "text": [
            "K value with best performance: 3\n"
          ],
          "name": "stdout"
        },
        {
          "output_type": "stream",
          "text": [
            "/usr/local/lib/python3.6/dist-packages/sklearn/metrics/_classification.py:1272: UndefinedMetricWarning: Recall is ill-defined and being set to 0.0 due to no true samples. Use `zero_division` parameter to control this behavior.\n",
            "  _warn_prf(average, modifier, msg_start, len(result))\n"
          ],
          "name": "stderr"
        }
      ]
    },
    {
      "cell_type": "code",
      "metadata": {
        "id": "MBV0xfW3sX3v",
        "colab_type": "code",
        "outputId": "a706b05e-e24c-4738-ac2f-29a9a128dcfe",
        "colab": {
          "base_uri": "https://localhost:8080/",
          "height": 98
        }
      },
      "source": [
        "print(\"Accuracy:\", np.mean(accuracy_scores), \"+/-\", np.std(accuracy_scores))\n",
        "print(\"Precision:\", np.mean(precision_scores), \"+/-\", np.std(precision_scores))\n",
        "print(\"Recall:\", np.mean(recall_scores), \"+/-\", np.std(recall_scores))\n",
        "print(\"F1-Score:\", np.mean(f1_scores), \"+/-\", np.std(f1_scores))\n",
        "print(\"adjusted rand-Score:\", np.mean(ajd_rand), \"+/-\", np.std(ajd_rand))"
      ],
      "execution_count": 19,
      "outputs": [
        {
          "output_type": "stream",
          "text": [
            "Accuracy: 0.8160337181816406 +/- 0.0009706994397417717\n",
            "Precision: 0.0023809523809523807 +/- 0.007142857142857143\n",
            "Recall: 0.06666666666666667 +/- 0.19999999999999998\n",
            "F1-Score: 0.004597701149425287 +/- 0.013793103448275864\n",
            "adjusted rand-Score: 0.0025962091775707627 +/- 0.0077886275327122894\n"
          ],
          "name": "stdout"
        }
      ]
    },
    {
      "cell_type": "code",
      "metadata": {
        "id": "TTGWN01QQVOw",
        "colab_type": "code",
        "colab": {
          "base_uri": "https://localhost:8080/",
          "height": 102
        },
        "outputId": "3976843d-1fa1-4f93-9d8e-c425a955c3c7"
      },
      "source": [
        "from imblearn.over_sampling import SMOTE\n",
        "sm = SMOTE(random_state=0)"
      ],
      "execution_count": 20,
      "outputs": [
        {
          "output_type": "stream",
          "text": [
            "/usr/local/lib/python3.6/dist-packages/sklearn/externals/six.py:31: FutureWarning: The module is deprecated in version 0.21 and will be removed in version 0.23 since we've dropped support for Python 2.7. Please rely on the official version of six (https://pypi.org/project/six/).\n",
            "  \"(https://pypi.org/project/six/).\", FutureWarning)\n",
            "/usr/local/lib/python3.6/dist-packages/sklearn/utils/deprecation.py:144: FutureWarning: The sklearn.neighbors.base module is  deprecated in version 0.22 and will be removed in version 0.24. The corresponding classes / functions should instead be imported from sklearn.neighbors. Anything that cannot be imported from sklearn.neighbors is now part of the private API.\n",
            "  warnings.warn(message, FutureWarning)\n"
          ],
          "name": "stderr"
        }
      ]
    },
    {
      "cell_type": "code",
      "metadata": {
        "id": "KOE3PQ7Aidsb",
        "colab_type": "code",
        "colab": {
          "base_uri": "https://localhost:8080/",
          "height": 50
        },
        "outputId": "db9195df-c09f-460b-d9f8-61dc32df77e5"
      },
      "source": [
        "smote_feat, smote_lab = sm.fit_resample(feat_risk, lab_risk)"
      ],
      "execution_count": 21,
      "outputs": [
        {
          "output_type": "stream",
          "text": [
            "/usr/local/lib/python3.6/dist-packages/sklearn/utils/deprecation.py:87: FutureWarning: Function safe_indexing is deprecated; safe_indexing is deprecated in version 0.22 and will be removed in version 0.24.\n",
            "  warnings.warn(msg, category=FutureWarning)\n"
          ],
          "name": "stderr"
        }
      ]
    },
    {
      "cell_type": "code",
      "metadata": {
        "id": "81B2-J5lir1m",
        "colab_type": "code",
        "colab": {
          "base_uri": "https://localhost:8080/",
          "height": 82
        },
        "outputId": "68aeb8e7-6911-4f98-bf32-b87c91e9feef"
      },
      "source": [
        "evaluatePerformance(tree_clf, smote_feat, smote_lab)"
      ],
      "execution_count": 22,
      "outputs": [
        {
          "output_type": "stream",
          "text": [
            "Accuracy: 0.635183412727226 +/- 0.19725762469886368\n",
            "Precision: 0.5960466651726961 +/- 0.16879491517924403\n",
            "Recall: 0.8038394492053029 +/- 0.2744646786909406\n",
            "F1-Score: 0.6744842870208287 +/- 0.2080087992180449\n"
          ],
          "name": "stdout"
        }
      ]
    },
    {
      "cell_type": "code",
      "metadata": {
        "id": "NXM6Ggg_i922",
        "colab_type": "code",
        "colab": {
          "base_uri": "https://localhost:8080/",
          "height": 82
        },
        "outputId": "b68d0385-b2e1-43ee-feee-4ae8f0e873fd"
      },
      "source": [
        "evaluatePerformance(rf_clf, smote_feat, smote_lab)"
      ],
      "execution_count": 23,
      "outputs": [
        {
          "output_type": "stream",
          "text": [
            "Accuracy: 0.635183412727226 +/- 0.19725762469886368\n",
            "Precision: 0.5960466651726961 +/- 0.16879491517924403\n",
            "Recall: 0.8038394492053029 +/- 0.2744646786909406\n",
            "F1-Score: 0.6744842870208287 +/- 0.2080087992180449\n"
          ],
          "name": "stdout"
        }
      ]
    }
  ]
}