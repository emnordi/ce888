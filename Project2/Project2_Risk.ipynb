{
  "nbformat": 4,
  "nbformat_minor": 0,
  "metadata": {
    "colab": {
      "name": "Copy of Project2.ipynb",
      "provenance": [],
      "collapsed_sections": [],
      "authorship_tag": "ABX9TyPeEarU9eMcW1ouKGrBjyuS",
      "include_colab_link": true
    },
    "kernelspec": {
      "name": "python3",
      "display_name": "Python 3"
    }
  },
  "cells": [
    {
      "cell_type": "markdown",
      "metadata": {
        "id": "view-in-github",
        "colab_type": "text"
      },
      "source": [
        "<a href=\"https://colab.research.google.com/github/emnordi/ce888/blob/master/Project2/Project2_Risk.ipynb\" target=\"_parent\"><img src=\"https://colab.research.google.com/assets/colab-badge.svg\" alt=\"Open In Colab\"/></a>"
      ]
    },
    {
      "cell_type": "code",
      "metadata": {
        "id": "BpVmhVOwDruJ",
        "colab_type": "code",
        "colab": {}
      },
      "source": [
        "import pandas as pd\n",
        "import os\n",
        "import io\n",
        "import numpy as np\n",
        "from sklearn.model_selection import StratifiedKFold\n",
        "from sklearn import tree\n",
        "from sklearn.ensemble import RandomForestClassifier\n",
        "from sklearn.model_selection import cross_val_score\n",
        "\n",
        "os.environ['KAGGLE_USERNAME'] = \"emilnordin\" # username from the json file\n",
        "\n",
        "os.environ['KAGGLE_KEY'] = \"fd1ae7405c909d36a1ecffea5cd2749a\" # key from the json file"
      ],
      "execution_count": 0,
      "outputs": []
    },
    {
      "cell_type": "markdown",
      "metadata": {
        "id": "4cTRsaNTmyGq",
        "colab_type": "text"
      },
      "source": [
        "DOWNLOADING AND IMPORTING DATASETS"
      ]
    },
    {
      "cell_type": "code",
      "metadata": {
        "id": "FdNjI4voWCI0",
        "colab_type": "code",
        "outputId": "7dd259d3-a24f-4c76-d722-c6c6cc262244",
        "colab": {
          "base_uri": "https://localhost:8080/",
          "height": 66
        }
      },
      "source": [
        "!kaggle datasets download -d emoneyanalytics/unbalancedrisk"
      ],
      "execution_count": 3,
      "outputs": [
        {
          "output_type": "stream",
          "text": [
            "Downloading unbalancedrisk.zip to /content\n",
            "\r  0% 0.00/115k [00:00<?, ?B/s]\n",
            "\r100% 115k/115k [00:00<00:00, 44.2MB/s]\n"
          ],
          "name": "stdout"
        }
      ]
    },
    {
      "cell_type": "code",
      "metadata": {
        "id": "caP8rhXtJzoO",
        "colab_type": "code",
        "colab": {}
      },
      "source": [
        "data_risk = pd.read_csv('unbalancedrisk.zip', compression='zip', header=0, sep=',', quotechar='\"', encoding = \"utf-8\")"
      ],
      "execution_count": 0,
      "outputs": []
    },
    {
      "cell_type": "markdown",
      "metadata": {
        "id": "MBIshC7TnAB7",
        "colab_type": "text"
      },
      "source": [
        "PRINTING DATASETS"
      ]
    },
    {
      "cell_type": "code",
      "metadata": {
        "id": "lemEmSueVAZq",
        "colab_type": "code",
        "outputId": "cbeb707a-7fd7-4241-a4b5-81c23e9d9f19",
        "colab": {
          "base_uri": "https://localhost:8080/",
          "height": 245
        }
      },
      "source": [
        "print(data_risk)"
      ],
      "execution_count": 5,
      "outputs": [
        {
          "output_type": "stream",
          "text": [
            "        id  f1        f2  f3   f4  ...   f31         f32    f33      f34  obj1\n",
            "0        1   1   17.2131   1  1.0  ...  13.0   32.766370    NaN      NaN     0\n",
            "1        2  35    0.1747   1  1.0  ...  23.0  210.567669    NaN      NaN     0\n",
            "2        3   1   35.3943   1  NaN  ...  16.0    0.000111    NaN      NaN     1\n",
            "3        4   1    4.4873   1  1.0  ...   7.0    9.380889    NaN      NaN     0\n",
            "4        5   1       NaN   1  NaN  ...  20.0   28.089135    NaN      NaN     0\n",
            "...    ...  ..       ...  ..  ...  ...   ...         ...    ...      ...   ...\n",
            "4523  4524  29    5.7576   1  1.0  ...  32.0  236.170700    NaN  63.0541     0\n",
            "4524  4525   2  107.7430   1  1.0  ...  27.0    2.799800    NaN      NaN     1\n",
            "4525  4526   1    1.9364   1  1.0  ...   NaN  205.806400    NaN  15.9357     1\n",
            "4526  4527   1    7.6795   1  3.0  ...  10.0    1.658700  533.0      NaN     0\n",
            "4527  4528   1   80.0871   1  1.0  ...   NaN    2.980200    NaN      NaN     1\n",
            "\n",
            "[4528 rows x 36 columns]\n"
          ],
          "name": "stdout"
        }
      ]
    },
    {
      "cell_type": "markdown",
      "metadata": {
        "id": "5e2pRZQYv665",
        "colab_type": "text"
      },
      "source": [
        "DISPLAY AMOUNT OF ROWS EACH CLASS HAS, AND IMBALANCE OF DATASETS"
      ]
    },
    {
      "cell_type": "code",
      "metadata": {
        "id": "1P3E33JcWflE",
        "colab_type": "code",
        "outputId": "d8994dc9-0f22-4b18-e986-28c7ddf5acc6",
        "colab": {
          "base_uri": "https://localhost:8080/",
          "height": 82
        }
      },
      "source": [
        "print(data_risk['obj1'].value_counts())\n",
        "print(\"Imbalance:\", data_risk['obj1'].value_counts()[0]/sum(data_risk.obj1.value_counts()))"
      ],
      "execution_count": 6,
      "outputs": [
        {
          "output_type": "stream",
          "text": [
            "0    3694\n",
            "1     834\n",
            "Name: obj1, dtype: int64\n",
            "Imbalance: 0.8158127208480566\n"
          ],
          "name": "stdout"
        }
      ]
    },
    {
      "cell_type": "markdown",
      "metadata": {
        "id": "tI0BQSh10bA4",
        "colab_type": "text"
      },
      "source": [
        "BASE RESULTS"
      ]
    },
    {
      "cell_type": "code",
      "metadata": {
        "id": "sd4A-Z4N0kQO",
        "colab_type": "code",
        "colab": {}
      },
      "source": [
        "tree_clf = tree.DecisionTreeClassifier(random_state=0)\n",
        "rf_clf = RandomForestClassifier(max_depth=2, random_state=0)"
      ],
      "execution_count": 0,
      "outputs": []
    },
    {
      "cell_type": "code",
      "metadata": {
        "id": "RFkpdu_r3mqP",
        "colab_type": "code",
        "colab": {}
      },
      "source": [
        "def evaluatePerformance(clf, features, labels):\n",
        "  a = cross_val_score(tree_clf, features, labels, cv=10, scoring='accuracy')\n",
        "  p = cross_val_score(tree_clf, features, labels, cv=10, scoring='precision')\n",
        "  r = cross_val_score(tree_clf, features, labels, cv=10, scoring='recall')\n",
        "  f = cross_val_score(tree_clf, features, labels, cv=10, scoring='f1')\n",
        "\n",
        "  print(\"Accuracy:\", a.mean(), \"+/-\", a.std())\n",
        "  print(\"Precision:\", p.mean(), \"+/-\", p.std())\n",
        "  print(\"Recall:\", r.mean(), \"+/-\", r.std())\n",
        "  print(\"F1-Score:\", f.mean(), \"+/-\", f.std())"
      ],
      "execution_count": 0,
      "outputs": []
    },
    {
      "cell_type": "code",
      "metadata": {
        "id": "FUlPK7xVjSEb",
        "colab_type": "code",
        "outputId": "02c80c77-7303-442e-a20b-65d0e2eeb98f",
        "colab": {
          "base_uri": "https://localhost:8080/",
          "height": 82
        }
      },
      "source": [
        "#Risk dataset base scores DT\n",
        "feat_risk = data_risk.drop('obj1', axis=1)\n",
        "for col in feat_risk.columns:\n",
        "  if feat_risk[col].isnull().any():\n",
        "    feat_risk[col] = feat_risk[col].fillna(feat_risk[col].median())\n",
        "feat_risk = np.array(feat_risk)\n",
        "lab_risk = np.array(data_risk['obj1'])\n",
        "evaluatePerformance(tree_clf, feat_risk, lab_risk)"
      ],
      "execution_count": 9,
      "outputs": [
        {
          "output_type": "stream",
          "text": [
            "Accuracy: 0.5392003164742425 +/- 0.18049456780350026\n",
            "Precision: 0.16305450371332567 +/- 0.04869932183168757\n",
            "Recall: 0.32172977624784854 +/- 0.2300489757520311\n",
            "F1-Score: 0.1982397011891827 +/- 0.05041986856758319\n"
          ],
          "name": "stdout"
        }
      ]
    },
    {
      "cell_type": "code",
      "metadata": {
        "id": "jc7Qfkn2kMaB",
        "colab_type": "code",
        "outputId": "50597848-e4ee-4505-c0e4-992351f601ff",
        "colab": {
          "base_uri": "https://localhost:8080/",
          "height": 82
        }
      },
      "source": [
        "#Risk dataset base scores RF\n",
        "evaluatePerformance(rf_clf, feat_risk, lab_risk)"
      ],
      "execution_count": 10,
      "outputs": [
        {
          "output_type": "stream",
          "text": [
            "Accuracy: 0.5392003164742425 +/- 0.18049456780350026\n",
            "Precision: 0.16305450371332567 +/- 0.04869932183168757\n",
            "Recall: 0.32172977624784854 +/- 0.2300489757520311\n",
            "F1-Score: 0.1982397011891827 +/- 0.05041986856758319\n"
          ],
          "name": "stdout"
        }
      ]
    },
    {
      "cell_type": "markdown",
      "metadata": {
        "id": "S-l8E2o2oy7X",
        "colab_type": "text"
      },
      "source": [
        "DOWNSAMPLING THE DATASETS AND RETRIEVING NEW PERFORMANCE RESULTS"
      ]
    },
    {
      "cell_type": "code",
      "metadata": {
        "id": "Bi1CJ8UqtocS",
        "colab_type": "code",
        "outputId": "a1bd5208-4883-495d-8844-cb81b9c23a4c",
        "colab": {
          "base_uri": "https://localhost:8080/",
          "height": 82
        }
      },
      "source": [
        "#Downsample RISK DATASET to get 50%\n",
        "data_risk_ind_ = data_risk[data_risk['obj1'] == 0].index\n",
        "r_to_del = data_risk_ind_[0:int(len(data_risk_ind_)*0.774)]\n",
        "data_risk_test = data_risk.drop(index=r_to_del)\n",
        "\n",
        "print(data_risk_test['obj1'].value_counts())\n",
        "print(\"Imbalance:\", data_risk_test['obj1'].value_counts()[0]/(data_risk_test['obj1'].value_counts()[1]+(data_risk_test['obj1'].value_counts()[0])))"
      ],
      "execution_count": 11,
      "outputs": [
        {
          "output_type": "stream",
          "text": [
            "0    835\n",
            "1    834\n",
            "Name: obj1, dtype: int64\n",
            "Imbalance: 0.5002995805871779\n"
          ],
          "name": "stdout"
        }
      ]
    },
    {
      "cell_type": "code",
      "metadata": {
        "id": "QZRIpRayvdo_",
        "colab_type": "code",
        "outputId": "bbf55029-3be7-44a3-8126-3e813aab60fa",
        "colab": {
          "base_uri": "https://localhost:8080/",
          "height": 115
        }
      },
      "source": [
        "#Risk dataset downsampled scores DT\n",
        "feat_risk_test = data_risk_test.drop('obj1', axis=1)\n",
        "for col in feat_risk_test.columns:\n",
        "  if feat_risk_test[col].isnull().any():\n",
        "    feat_risk_test[col] = feat_risk_test[col].fillna(feat_risk_test[col].median())\n",
        "\n",
        "lab_risk_test = data_risk_test['obj1']\n",
        "evaluatePerformance(tree_clf, feat_risk_test, lab_risk_test)"
      ],
      "execution_count": 12,
      "outputs": [
        {
          "output_type": "stream",
          "text": [
            "/usr/local/lib/python3.6/dist-packages/sklearn/metrics/_classification.py:1272: UndefinedMetricWarning: Precision is ill-defined and being set to 0.0 due to no predicted samples. Use `zero_division` parameter to control this behavior.\n",
            "  _warn_prf(average, modifier, msg_start, len(result))\n"
          ],
          "name": "stderr"
        },
        {
          "output_type": "stream",
          "text": [
            "Accuracy: 0.6110778443113772 +/- 0.25920069686437014\n",
            "Precision: 0.4910334294672273 +/- 0.3035462663641486\n",
            "Recall: 0.7060240963855422 +/- 0.4493249077177913\n",
            "F1-Score: 0.5732171901186317 +/- 0.36217572746245136\n"
          ],
          "name": "stdout"
        }
      ]
    },
    {
      "cell_type": "code",
      "metadata": {
        "id": "O7XEwhRqwd-x",
        "colab_type": "code",
        "outputId": "ad2294dd-cd7d-4c8b-88ed-050952e44136",
        "colab": {
          "base_uri": "https://localhost:8080/",
          "height": 115
        }
      },
      "source": [
        "#Risk dataset downsample scores RF\n",
        "evaluatePerformance(rf_clf, feat_risk_test, lab_risk_test)"
      ],
      "execution_count": 13,
      "outputs": [
        {
          "output_type": "stream",
          "text": [
            "/usr/local/lib/python3.6/dist-packages/sklearn/metrics/_classification.py:1272: UndefinedMetricWarning: Precision is ill-defined and being set to 0.0 due to no predicted samples. Use `zero_division` parameter to control this behavior.\n",
            "  _warn_prf(average, modifier, msg_start, len(result))\n"
          ],
          "name": "stderr"
        },
        {
          "output_type": "stream",
          "text": [
            "Accuracy: 0.6110778443113772 +/- 0.25920069686437014\n",
            "Precision: 0.4910334294672273 +/- 0.3035462663641486\n",
            "Recall: 0.7060240963855422 +/- 0.4493249077177913\n",
            "F1-Score: 0.5732171901186317 +/- 0.36217572746245136\n"
          ],
          "name": "stdout"
        }
      ]
    },
    {
      "cell_type": "markdown",
      "metadata": {
        "id": "rzwIpIXSzLOn",
        "colab_type": "text"
      },
      "source": [
        "OVERSAMPLING AND TEST RESULTS"
      ]
    },
    {
      "cell_type": "code",
      "metadata": {
        "id": "015qN7vg1pEx",
        "colab_type": "code",
        "outputId": "b24e39cb-8cbb-42ec-a4fd-37a4260237f6",
        "colab": {
          "base_uri": "https://localhost:8080/",
          "height": 82
        }
      },
      "source": [
        "#OVERSAMPLING RISK DATASET\n",
        "max_ = data_risk['obj1'].value_counts().max()\n",
        "\n",
        "temp = [data_risk]\n",
        "for class_index, group in data_risk.groupby('obj1'):\n",
        "    temp.append(group.sample(max_-len(group), replace=True))\n",
        "data_risk_over = pd.concat(temp)\n",
        "\n",
        "print(data_risk_over['obj1'].value_counts())\n",
        "print(\"Imbalance:\", data_risk_over['obj1'].value_counts()[0]/(data_risk_over['obj1'].value_counts()[1]+(data_risk_over['obj1'].value_counts()[0])))"
      ],
      "execution_count": 14,
      "outputs": [
        {
          "output_type": "stream",
          "text": [
            "1    3694\n",
            "0    3694\n",
            "Name: obj1, dtype: int64\n",
            "Imbalance: 0.5\n"
          ],
          "name": "stdout"
        }
      ]
    },
    {
      "cell_type": "code",
      "metadata": {
        "id": "wpwTZfoe34EZ",
        "colab_type": "code",
        "outputId": "e7b2e599-0934-4410-ad91-cc967e67be03",
        "colab": {
          "base_uri": "https://localhost:8080/",
          "height": 82
        }
      },
      "source": [
        "#Risk dataset oversampled scores DT\n",
        "feat_risk_over = data_risk_over.drop('obj1', axis=1)\n",
        "for col in feat_risk_over.columns:\n",
        "  if feat_risk_over[col].isnull().any():\n",
        "    feat_risk_over[col] = feat_risk_over[col].fillna(feat_risk_over[col].median())\n",
        "\n",
        "lab_risk_over = data_risk_over['obj1']\n",
        "\n",
        "evaluatePerformance(tree_clf, feat_risk_over, lab_risk_over)"
      ],
      "execution_count": 15,
      "outputs": [
        {
          "output_type": "stream",
          "text": [
            "Accuracy: 0.5581874722671449 +/- 0.07675474571016462\n",
            "Precision: 0.5349182049476011 +/- 0.048501271017531974\n",
            "Recall: 0.9921409214092141 +/- 0.012267176474532541\n",
            "F1-Score: 0.6939210391854954 +/- 0.04055884616565139\n"
          ],
          "name": "stdout"
        }
      ]
    },
    {
      "cell_type": "code",
      "metadata": {
        "id": "_59zBOnt4JBz",
        "colab_type": "code",
        "outputId": "7e1dd247-f5fd-4699-d90b-68aaef4ec5bc",
        "colab": {
          "base_uri": "https://localhost:8080/",
          "height": 82
        }
      },
      "source": [
        "#RISK DATASET oversampling scores RF\n",
        "evaluatePerformance(rf_clf, feat_risk_over, lab_risk_over)"
      ],
      "execution_count": 16,
      "outputs": [
        {
          "output_type": "stream",
          "text": [
            "Accuracy: 0.5581874722671449 +/- 0.07675474571016462\n",
            "Precision: 0.5349182049476011 +/- 0.048501271017531974\n",
            "Recall: 0.9921409214092141 +/- 0.012267176474532541\n",
            "F1-Score: 0.6939210391854954 +/- 0.04055884616565139\n"
          ],
          "name": "stdout"
        }
      ]
    },
    {
      "cell_type": "markdown",
      "metadata": {
        "id": "SP7gJda2wDDY",
        "colab_type": "text"
      },
      "source": [
        "CREATE 10 FOLDS OF EACH CLASS"
      ]
    },
    {
      "cell_type": "code",
      "metadata": {
        "id": "DzOkILkOET9c",
        "colab_type": "code",
        "colab": {}
      },
      "source": [
        "from sklearn.cluster import KMeans\n",
        "import matplotlib.pyplot as plt\n",
        "from sklearn.metrics import silhouette_score, accuracy_score, precision_score, recall_score, f1_score"
      ],
      "execution_count": 0,
      "outputs": []
    },
    {
      "cell_type": "code",
      "metadata": {
        "id": "ALAM6P8Nqe1x",
        "colab_type": "code",
        "outputId": "c5ef2f8d-4ad9-4308-d99a-15c268e34e1f",
        "colab": {
          "base_uri": "https://localhost:8080/",
          "height": 33
        }
      },
      "source": [
        "#RISK DATASET\n",
        "skf = StratifiedKFold(n_splits=10)\n",
        "print(skf)"
      ],
      "execution_count": 27,
      "outputs": [
        {
          "output_type": "stream",
          "text": [
            "StratifiedKFold(n_splits=10, random_state=None, shuffle=False)\n"
          ],
          "name": "stdout"
        }
      ]
    },
    {
      "cell_type": "code",
      "metadata": {
        "id": "BDN7GbA4zpzh",
        "colab_type": "code",
        "colab": {}
      },
      "source": [
        "def cluster_and_model(X):\n",
        "  print(\"finding clusters\")\n",
        "  sse_list = []\n",
        "  max_silhouette = -1\n",
        "  for k in range(2, 15):\n",
        "    mmodel = KMeans(n_clusters=k).fit(X)\n",
        "    sse_list.append(mmodel.inertia_)\n",
        "    s_score = silhouette_score(X, mmodel.labels_, metric='euclidean')\n",
        "    if s_score > max_silhouette:\n",
        "      max_silhouette = s_score\n",
        "      max_silhouette_index = k\n",
        "  plt.plot(list(range(2, 15)), sse_list, '.-')\n",
        "  plt.show()\n",
        "  print('K value for max silhouette:', max_silhouette_index)\n",
        "  final_model = KMeans(n_clusters = max_silhouette_index).fit(X)\n",
        "  return (max_silhouette_index, final_model)"
      ],
      "execution_count": 0,
      "outputs": []
    },
    {
      "cell_type": "code",
      "metadata": {
        "id": "V0DxSXlIzvCA",
        "colab_type": "code",
        "colab": {}
      },
      "source": [
        "def find_missclassified_clusters(clusters, X, pred):\n",
        "  indices = []\n",
        "  missclass_clusters = []\n",
        "  #Go through all clusters\n",
        "  for i in range(clusters):\n",
        "    missclassified = 0\n",
        "    cluster_data = []\n",
        "    iteration = 0\n",
        "    #Loop through all clustered data and actual labels\n",
        "    for actual, predicted in zip(X, pred):\n",
        "      #Only look at points from certain cluster\n",
        "      if predicted == i:\n",
        "        cluster_data.append(iteration)\n",
        "        #see if point in cluster have been missclassified\n",
        "        if actual != predicted:\n",
        "          missclassified = 1\n",
        "      iteration +=1\n",
        "    #Take note of which clusters have missclassified points\n",
        "    if missclassified == 1:\n",
        "      missclass_clusters.append(i)\n",
        "    indices.append(cluster_data)\n",
        "  return (indices, missclass_clusters)"
      ],
      "execution_count": 0,
      "outputs": []
    },
    {
      "cell_type": "code",
      "metadata": {
        "id": "XrGi0IEIgDDp",
        "colab_type": "code",
        "colab": {
          "base_uri": "https://localhost:8080/",
          "height": 1000
        },
        "outputId": "5c74a3b6-09a8-4b82-a814-a61c9db8b8ef"
      },
      "source": [
        "rsse_list = []\n",
        "for train, test in skf1.split(feat_risk, lab_risk):\n",
        "  for k in range(1, 15):\n",
        "    mmodel = KMeans(n_clusters=k).fit(feat_risk[train])\n",
        "    rsse_list.append(mmodel.inertia_)\n",
        "  break\n",
        "  #print(feat_risk.loc[x_ind])\n",
        "  #print(lab_risk.loc[y_ind])\n",
        "\n",
        "\n",
        "random_forest_clf = RandomForestClassifier(max_depth=2, random_state=0)\n",
        "accuracy_scores = []\n",
        "precision_scores = []\n",
        "recall_scores = []\n",
        "f1_scores = []\n",
        "\n",
        "for train, test in skf.split(feat_risk, lab_risk):\n",
        "  test_labels = []\n",
        "\n",
        "  #Retrieve the predicted amount of clusters and the best performing KMeans model\n",
        "  n_clusters, final_model = cluster_and_model(feat_risk[train])\n",
        "\n",
        "  #Retrieve the clusters containing missclassified data and the indices of these clusters in the training data\n",
        "  missclassified_cluster_data_index, missclassified_clusters = find_missclassified_clusters(n_clusters, lab_risk[train], final_model.labels_)\n",
        "  rf_classifiers = [0]*n_clusters\n",
        "  #Go through the clusters with missclassified data and train a random forest classifier for each\n",
        "  for i in missclassified_clusters:\n",
        "    f = feat_risk[train]\n",
        "    f1 = f[missclassified_cluster_data_index[i], :]\n",
        "    l  = lab_risk[train]\n",
        "    l1 = np.take(l, missclassified_cluster_data_index[i])\n",
        "    rf_classifiers[i] = random_forest_clf.fit(f1, l1)\n",
        "  \n",
        "  #For each point in test dataset, give it a cluster\n",
        "  for x in feat_risk[test]:\n",
        "    prediction = final_model.predict(np.array([x]))\n",
        "    if prediction[0] in missclassified_clusters:\n",
        "      test_labels.append(rf_classifiers[prediction[0]].predict(np.array([x])))\n",
        "    else:\n",
        "      test_labels.append(prediction)\n",
        "  accuracy_scores.append(accuracy_score(test_labels, lab_risk[test]))\n",
        "  precision_scores.append(precision_score(test_labels, lab_risk[test]))\n",
        "  recall_scores.append(recall_score(test_labels, lab_risk[test]))\n",
        "  f1_scores.append(f1_score(test_labels, lab_risk[test]))"
      ],
      "execution_count": 30,
      "outputs": [
        {
          "output_type": "stream",
          "text": [
            "finding clusters\n"
          ],
          "name": "stdout"
        },
        {
          "output_type": "display_data",
          "data": {
            "image/png": "[encoded data removed]",
            "text/plain": [
              "<Figure size 432x288 with 1 Axes>"
            ]
          },
          "metadata": {
            "tags": []
          }
        },
        {
          "output_type": "stream",
          "text": [
            "K value for max silhouette: 4\n"
          ],
          "name": "stdout"
        },
        {
          "output_type": "stream",
          "text": [
            "/usr/local/lib/python3.6/dist-packages/sklearn/metrics/_classification.py:1272: UndefinedMetricWarning: Recall is ill-defined and being set to 0.0 due to no true samples. Use `zero_division` parameter to control this behavior.\n",
            "  _warn_prf(average, modifier, msg_start, len(result))\n"
          ],
          "name": "stderr"
        },
        {
          "output_type": "stream",
          "text": [
            "finding clusters\n"
          ],
          "name": "stdout"
        },
        {
          "output_type": "display_data",
          "data": {
            "image/png": "[encoded data removed]",
            "text/plain": [
              "<Figure size 432x288 with 1 Axes>"
            ]
          },
          "metadata": {
            "tags": []
          }
        },
        {
          "output_type": "stream",
          "text": [
            "K value for max silhouette: 4\n"
          ],
          "name": "stdout"
        },
        {
          "output_type": "stream",
          "text": [
            "/usr/local/lib/python3.6/dist-packages/sklearn/metrics/_classification.py:1272: UndefinedMetricWarning: Recall is ill-defined and being set to 0.0 due to no true samples. Use `zero_division` parameter to control this behavior.\n",
            "  _warn_prf(average, modifier, msg_start, len(result))\n"
          ],
          "name": "stderr"
        },
        {
          "output_type": "stream",
          "text": [
            "finding clusters\n"
          ],
          "name": "stdout"
        },
        {
          "output_type": "display_data",
          "data": {
            "image/png": "[encoded data removed]",
            "text/plain": [
              "<Figure size 432x288 with 1 Axes>"
            ]
          },
          "metadata": {
            "tags": []
          }
        },
        {
          "output_type": "stream",
          "text": [
            "K value for max silhouette: 5\n"
          ],
          "name": "stdout"
        },
        {
          "output_type": "stream",
          "text": [
            "/usr/local/lib/python3.6/dist-packages/sklearn/metrics/_classification.py:1272: UndefinedMetricWarning: Recall is ill-defined and being set to 0.0 due to no true samples. Use `zero_division` parameter to control this behavior.\n",
            "  _warn_prf(average, modifier, msg_start, len(result))\n"
          ],
          "name": "stderr"
        },
        {
          "output_type": "stream",
          "text": [
            "finding clusters\n"
          ],
          "name": "stdout"
        },
        {
          "output_type": "display_data",
          "data": {
            "image/png": "[encoded data removed]",
            "text/plain": [
              "<Figure size 432x288 with 1 Axes>"
            ]
          },
          "metadata": {
            "tags": []
          }
        },
        {
          "output_type": "stream",
          "text": [
            "K value for max silhouette: 2\n"
          ],
          "name": "stdout"
        },
        {
          "output_type": "stream",
          "text": [
            "/usr/local/lib/python3.6/dist-packages/sklearn/metrics/_classification.py:1272: UndefinedMetricWarning: Recall is ill-defined and being set to 0.0 due to no true samples. Use `zero_division` parameter to control this behavior.\n",
            "  _warn_prf(average, modifier, msg_start, len(result))\n"
          ],
          "name": "stderr"
        },
        {
          "output_type": "stream",
          "text": [
            "finding clusters\n"
          ],
          "name": "stdout"
        },
        {
          "output_type": "display_data",
          "data": {
            "image/png": "[encoded data removed]",
            "text/plain": [
              "<Figure size 432x288 with 1 Axes>"
            ]
          },
          "metadata": {
            "tags": []
          }
        },
        {
          "output_type": "stream",
          "text": [
            "K value for max silhouette: 4\n"
          ],
          "name": "stdout"
        },
        {
          "output_type": "stream",
          "text": [
            "/usr/local/lib/python3.6/dist-packages/sklearn/metrics/_classification.py:1272: UndefinedMetricWarning: Recall is ill-defined and being set to 0.0 due to no true samples. Use `zero_division` parameter to control this behavior.\n",
            "  _warn_prf(average, modifier, msg_start, len(result))\n"
          ],
          "name": "stderr"
        },
        {
          "output_type": "stream",
          "text": [
            "finding clusters\n"
          ],
          "name": "stdout"
        },
        {
          "output_type": "display_data",
          "data": {
            "image/png": "[encoded data removed]",
            "text/plain": [
              "<Figure size 432x288 with 1 Axes>"
            ]
          },
          "metadata": {
            "tags": []
          }
        },
        {
          "output_type": "stream",
          "text": [
            "K value for max silhouette: 4\n"
          ],
          "name": "stdout"
        },
        {
          "output_type": "stream",
          "text": [
            "/usr/local/lib/python3.6/dist-packages/sklearn/metrics/_classification.py:1272: UndefinedMetricWarning: Recall is ill-defined and being set to 0.0 due to no true samples. Use `zero_division` parameter to control this behavior.\n",
            "  _warn_prf(average, modifier, msg_start, len(result))\n"
          ],
          "name": "stderr"
        },
        {
          "output_type": "stream",
          "text": [
            "finding clusters\n"
          ],
          "name": "stdout"
        },
        {
          "output_type": "display_data",
          "data": {
            "image/png": "[encoded data removed]",
            "text/plain": [
              "<Figure size 432x288 with 1 Axes>"
            ]
          },
          "metadata": {
            "tags": []
          }
        },
        {
          "output_type": "stream",
          "text": [
            "K value for max silhouette: 3\n"
          ],
          "name": "stdout"
        },
        {
          "output_type": "stream",
          "text": [
            "/usr/local/lib/python3.6/dist-packages/sklearn/metrics/_classification.py:1272: UndefinedMetricWarning: Recall is ill-defined and being set to 0.0 due to no true samples. Use `zero_division` parameter to control this behavior.\n",
            "  _warn_prf(average, modifier, msg_start, len(result))\n"
          ],
          "name": "stderr"
        },
        {
          "output_type": "stream",
          "text": [
            "finding clusters\n"
          ],
          "name": "stdout"
        },
        {
          "output_type": "display_data",
          "data": {
            "image/png": "[encoded data removed]",
            "text/plain": [
              "<Figure size 432x288 with 1 Axes>"
            ]
          },
          "metadata": {
            "tags": []
          }
        },
        {
          "output_type": "stream",
          "text": [
            "K value for max silhouette: 5\n"
          ],
          "name": "stdout"
        },
        {
          "output_type": "stream",
          "text": [
            "/usr/local/lib/python3.6/dist-packages/sklearn/metrics/_classification.py:1272: UndefinedMetricWarning: Recall is ill-defined and being set to 0.0 due to no true samples. Use `zero_division` parameter to control this behavior.\n",
            "  _warn_prf(average, modifier, msg_start, len(result))\n"
          ],
          "name": "stderr"
        },
        {
          "output_type": "stream",
          "text": [
            "finding clusters\n"
          ],
          "name": "stdout"
        },
        {
          "output_type": "display_data",
          "data": {
            "image/png": "[encoded data removed]",
            "text/plain": [
              "<Figure size 432x288 with 1 Axes>"
            ]
          },
          "metadata": {
            "tags": []
          }
        },
        {
          "output_type": "stream",
          "text": [
            "K value for max silhouette: 3\n"
          ],
          "name": "stdout"
        },
        {
          "output_type": "stream",
          "text": [
            "/usr/local/lib/python3.6/dist-packages/sklearn/metrics/_classification.py:1272: UndefinedMetricWarning: Recall is ill-defined and being set to 0.0 due to no true samples. Use `zero_division` parameter to control this behavior.\n",
            "  _warn_prf(average, modifier, msg_start, len(result))\n"
          ],
          "name": "stderr"
        },
        {
          "output_type": "stream",
          "text": [
            "finding clusters\n"
          ],
          "name": "stdout"
        },
        {
          "output_type": "display_data",
          "data": {
            "image/png": "[encoded data removed]",
            "text/plain": [
              "<Figure size 432x288 with 1 Axes>"
            ]
          },
          "metadata": {
            "tags": []
          }
        },
        {
          "output_type": "stream",
          "text": [
            "K value for max silhouette: 4\n"
          ],
          "name": "stdout"
        },
        {
          "output_type": "stream",
          "text": [
            "/usr/local/lib/python3.6/dist-packages/sklearn/metrics/_classification.py:1272: UndefinedMetricWarning: Recall is ill-defined and being set to 0.0 due to no true samples. Use `zero_division` parameter to control this behavior.\n",
            "  _warn_prf(average, modifier, msg_start, len(result))\n"
          ],
          "name": "stderr"
        }
      ]
    },
    {
      "cell_type": "code",
      "metadata": {
        "id": "MBV0xfW3sX3v",
        "colab_type": "code",
        "outputId": "93abb16a-da54-473c-fbd6-36191c7b3d27",
        "colab": {
          "base_uri": "https://localhost:8080/",
          "height": 66
        }
      },
      "source": [
        "print(np.mean(accuracy_scores))\n",
        "print(np.std(accuracy_scores))"
      ],
      "execution_count": 31,
      "outputs": [
        {
          "output_type": "stream",
          "text": [
            "[0.8167770419426048, 0.8167770419426048, 0.8167770419426048, 0.8167770419426048, 0.8145695364238411, 0.8145695364238411, 0.8145695364238411, 0.8145695364238411, 0.8163716814159292, 0.8163716814159292]\n",
            "0.8158129676297643\n",
            "0.0010259904467328825\n"
          ],
          "name": "stdout"
        }
      ]
    },
    {
      "cell_type": "code",
      "metadata": {
        "id": "HE84T6DrzPj-",
        "colab_type": "code",
        "colab": {}
      },
      "source": [
        ""
      ],
      "execution_count": 0,
      "outputs": []
    }
  ]
}